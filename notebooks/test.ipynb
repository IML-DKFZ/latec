{
 "cells": [
  {
   "cell_type": "code",
   "execution_count": 25,
   "metadata": {},
   "outputs": [],
   "source": [
    "from scipy.stats import mannwhitneyu\n",
    "import pandas as pd\n",
    "import os\n",
    "import numpy as np\n",
    "import plotly.graph_objects as go\n",
    "import plotly.express as px\n",
    "\n",
    "\n",
    "def NormalizeData(data, min, max):\n",
    "    return (data - min) / ((max - min) + 0.00000000001)"
   ]
  },
  {
   "cell_type": "code",
   "execution_count": 8,
   "metadata": {},
   "outputs": [
    {
     "data": {
      "text/plain": [
       "'/home/l727n/Projects/Research Projects/xai-evaluation/'"
      ]
     },
     "execution_count": 8,
     "metadata": {},
     "output_type": "execute_result"
    }
   ],
   "source": [
    "os.getcwd()[:-9]"
   ]
  },
  {
   "cell_type": "code",
   "execution_count": 49,
   "metadata": {},
   "outputs": [],
   "source": [
    "faith = pd.read_csv(os.getcwd()[:-9] + \"/data/faith.csv\", header=None)"
   ]
  },
  {
   "cell_type": "code",
   "execution_count": 3,
   "metadata": {},
   "outputs": [],
   "source": [
    "names = [\n",
    "    \"OC\",\n",
    "    \"LIME\",\n",
    "    \"KS\",\n",
    "    \"VG\",\n",
    "    \"IxG\",\n",
    "    \"GB\",\n",
    "    \"GC\",\n",
    "    \"SC\",\n",
    "    \"C+\",\n",
    "    \"IG\",\n",
    "    \"EG\",\n",
    "    \"DL\",\n",
    "    \"DLS\",\n",
    "    \"LRP\",\n",
    "    \"RA\",\n",
    "    \"RoA\",\n",
    "    \"LA\",\n",
    "]"
   ]
  },
  {
   "cell_type": "code",
   "execution_count": 50,
   "metadata": {},
   "outputs": [],
   "source": [
    "test_faith = np.zeros((17, 17))"
   ]
  },
  {
   "cell_type": "code",
   "execution_count": 51,
   "metadata": {},
   "outputs": [],
   "source": [
    "for i in range(17):\n",
    "    for j in range(17):\n",
    "        test_faith[i, j] = (\n",
    "            mannwhitneyu(faith.iloc[i, :], faith.iloc[j, :], use_continuity=False)[1]\n",
    "            - 0.15\n",
    "        )"
   ]
  },
  {
   "cell_type": "code",
   "execution_count": 54,
   "metadata": {},
   "outputs": [],
   "source": [
    "test_faith[test_faith < 0] = 0\n",
    "test_faith[test_faith >= 0.85] = 1\n",
    "faith = pd.DataFrame(np.round(test_faith, 2)).where(\n",
    "    np.tril(np.ones(test_faith.shape)).astype(bool)\n",
    ")\n",
    "faith.columns = names\n",
    "faith.index = names"
   ]
  },
  {
   "cell_type": "code",
   "execution_count": 56,
   "metadata": {},
   "outputs": [
    {
     "data": {
      "application/vnd.plotly.v1+json": {
       "config": {
        "plotlyServerURL": "https://plot.ly"
       },
       "data": [
        {
         "colorscale": [
          [
           0,
           "#76BB40"
          ],
          [
           0.2,
           "rgb(245, 245, 245)"
          ],
          [
           1,
           "rgb(255, 255, 255)"
          ]
         ],
         "text": [
          [
           1,
           null,
           null,
           null,
           null,
           null,
           null,
           null,
           null,
           null,
           null,
           null,
           null,
           null,
           null,
           null,
           null
          ],
          [
           0,
           1,
           null,
           null,
           null,
           null,
           null,
           null,
           null,
           null,
           null,
           null,
           null,
           null,
           null,
           null,
           null
          ],
          [
           0,
           0.25,
           1,
           null,
           null,
           null,
           null,
           null,
           null,
           null,
           null,
           null,
           null,
           null,
           null,
           null,
           null
          ],
          [
           0.47,
           0,
           0,
           1,
           null,
           null,
           null,
           null,
           null,
           null,
           null,
           null,
           null,
           null,
           null,
           null,
           null
          ],
          [
           0.26,
           0,
           0,
           0,
           1,
           null,
           null,
           null,
           null,
           null,
           null,
           null,
           null,
           null,
           null,
           null,
           null
          ],
          [
           0.28,
           0,
           0,
           0,
           0.67,
           1,
           null,
           null,
           null,
           null,
           null,
           null,
           null,
           null,
           null,
           null,
           null
          ],
          [
           0.38,
           0,
           0,
           0,
           0.32,
           0.36,
           1,
           null,
           null,
           null,
           null,
           null,
           null,
           null,
           null,
           null,
           null
          ],
          [
           0.26,
           0,
           0,
           0.04,
           0.62,
           0.64,
           0.74,
           1,
           null,
           null,
           null,
           null,
           null,
           null,
           null,
           null,
           null
          ],
          [
           0.72,
           0,
           0,
           0.3,
           0.02,
           0.1,
           0.14,
           0.22,
           1,
           null,
           null,
           null,
           null,
           null,
           null,
           null,
           null
          ],
          [
           0.28,
           0,
           0,
           0,
           0.57,
           0.8,
           1,
           0.77,
           0.14,
           1,
           null,
           null,
           null,
           null,
           null,
           null,
           null
          ],
          [
           0,
           0,
           0,
           0,
           0.42,
           0.45,
           0.01,
           0.16,
           0,
           0.19,
           1,
           null,
           null,
           null,
           null,
           null,
           null
          ],
          [
           0.22,
           0,
           0,
           0,
           0.74,
           0.77,
           0.59,
           0.54,
           0.13,
           0.69,
           0.22,
           1,
           null,
           null,
           null,
           null,
           null
          ],
          [
           0,
           0,
           0,
           0,
           0.01,
           0.16,
           0,
           0.07,
           0,
           0,
           0.36,
           0,
           1,
           null,
           null,
           null,
           null
          ],
          [
           0.04,
           0,
           0,
           0,
           0,
           0,
           0,
           0,
           0,
           0,
           0,
           0,
           0,
           1,
           null,
           null,
           null
          ],
          [
           0.82,
           0,
           0,
           0.32,
           0.07,
           0.38,
           0.34,
           0.43,
           0.8,
           0.14,
           0,
           0.11,
           0,
           0,
           1,
           null,
           null
          ],
          [
           0.74,
           0,
           0,
           0.21,
           0.36,
           0.49,
           0.69,
           0.47,
           0.62,
           0.45,
           0.06,
           0.36,
           0,
           0.02,
           0.64,
           1,
           null
          ],
          [
           0.43,
           0,
           0,
           0.02,
           0.8,
           0.64,
           0.47,
           0.64,
           0.22,
           0.64,
           0.69,
           0.38,
           0.24,
           0,
           0.22,
           0.43,
           1
          ]
         ],
         "textfont": {
          "size": 8
         },
         "texttemplate": "%{text}",
         "type": "heatmap",
         "x": [
          "OC",
          "LIME",
          "KS",
          "VG",
          "IxG",
          "GB",
          "GC",
          "SC",
          "C+",
          "IG",
          "EG",
          "DL",
          "DLS",
          "LRP",
          "RA",
          "RoA",
          "LA"
         ],
         "xgap": 1,
         "y": [
          "OC",
          "LIME",
          "KS",
          "VG",
          "IxG",
          "GB",
          "GC",
          "SC",
          "C+",
          "IG",
          "EG",
          "DL",
          "DLS",
          "LRP",
          "RA",
          "RoA",
          "LA"
         ],
         "ygap": 1,
         "z": [
          [
           1,
           null,
           null,
           null,
           null,
           null,
           null,
           null,
           null,
           null,
           null,
           null,
           null,
           null,
           null,
           null,
           null
          ],
          [
           0,
           1,
           null,
           null,
           null,
           null,
           null,
           null,
           null,
           null,
           null,
           null,
           null,
           null,
           null,
           null,
           null
          ],
          [
           0,
           0.25,
           1,
           null,
           null,
           null,
           null,
           null,
           null,
           null,
           null,
           null,
           null,
           null,
           null,
           null,
           null
          ],
          [
           0.47,
           0,
           0,
           1,
           null,
           null,
           null,
           null,
           null,
           null,
           null,
           null,
           null,
           null,
           null,
           null,
           null
          ],
          [
           0.26,
           0,
           0,
           0,
           1,
           null,
           null,
           null,
           null,
           null,
           null,
           null,
           null,
           null,
           null,
           null,
           null
          ],
          [
           0.28,
           0,
           0,
           0,
           0.67,
           1,
           null,
           null,
           null,
           null,
           null,
           null,
           null,
           null,
           null,
           null,
           null
          ],
          [
           0.38,
           0,
           0,
           0,
           0.32,
           0.36,
           1,
           null,
           null,
           null,
           null,
           null,
           null,
           null,
           null,
           null,
           null
          ],
          [
           0.26,
           0,
           0,
           0.04,
           0.62,
           0.64,
           0.74,
           1,
           null,
           null,
           null,
           null,
           null,
           null,
           null,
           null,
           null
          ],
          [
           0.72,
           0,
           0,
           0.3,
           0.02,
           0.1,
           0.14,
           0.22,
           1,
           null,
           null,
           null,
           null,
           null,
           null,
           null,
           null
          ],
          [
           0.28,
           0,
           0,
           0,
           0.57,
           0.8,
           1,
           0.77,
           0.14,
           1,
           null,
           null,
           null,
           null,
           null,
           null,
           null
          ],
          [
           0,
           0,
           0,
           0,
           0.42,
           0.45,
           0.01,
           0.16,
           0,
           0.19,
           1,
           null,
           null,
           null,
           null,
           null,
           null
          ],
          [
           0.22,
           0,
           0,
           0,
           0.74,
           0.77,
           0.59,
           0.54,
           0.13,
           0.69,
           0.22,
           1,
           null,
           null,
           null,
           null,
           null
          ],
          [
           0,
           0,
           0,
           0,
           0.01,
           0.16,
           0,
           0.07,
           0,
           0,
           0.36,
           0,
           1,
           null,
           null,
           null,
           null
          ],
          [
           0.04,
           0,
           0,
           0,
           0,
           0,
           0,
           0,
           0,
           0,
           0,
           0,
           0,
           1,
           null,
           null,
           null
          ],
          [
           0.82,
           0,
           0,
           0.32,
           0.07,
           0.38,
           0.34,
           0.43,
           0.8,
           0.14,
           0,
           0.11,
           0,
           0,
           1,
           null,
           null
          ],
          [
           0.74,
           0,
           0,
           0.21,
           0.36,
           0.49,
           0.69,
           0.47,
           0.62,
           0.45,
           0.06,
           0.36,
           0,
           0.02,
           0.64,
           1,
           null
          ],
          [
           0.43,
           0,
           0,
           0.02,
           0.8,
           0.64,
           0.47,
           0.64,
           0.22,
           0.64,
           0.69,
           0.38,
           0.24,
           0,
           0.22,
           0.43,
           1
          ]
         ],
         "zmax": 1,
         "zmin": 0
        }
       ],
       "layout": {
        "font": {
         "color": "#000000",
         "family": "Helvetica",
         "size": 13
        },
        "height": 700,
        "template": {
         "data": {
          "bar": [
           {
            "error_x": {
             "color": "#2a3f5f"
            },
            "error_y": {
             "color": "#2a3f5f"
            },
            "marker": {
             "line": {
              "color": "white",
              "width": 0.5
             },
             "pattern": {
              "fillmode": "overlay",
              "size": 10,
              "solidity": 0.2
             }
            },
            "type": "bar"
           }
          ],
          "barpolar": [
           {
            "marker": {
             "line": {
              "color": "white",
              "width": 0.5
             },
             "pattern": {
              "fillmode": "overlay",
              "size": 10,
              "solidity": 0.2
             }
            },
            "type": "barpolar"
           }
          ],
          "carpet": [
           {
            "aaxis": {
             "endlinecolor": "#2a3f5f",
             "gridcolor": "#C8D4E3",
             "linecolor": "#C8D4E3",
             "minorgridcolor": "#C8D4E3",
             "startlinecolor": "#2a3f5f"
            },
            "baxis": {
             "endlinecolor": "#2a3f5f",
             "gridcolor": "#C8D4E3",
             "linecolor": "#C8D4E3",
             "minorgridcolor": "#C8D4E3",
             "startlinecolor": "#2a3f5f"
            },
            "type": "carpet"
           }
          ],
          "choropleth": [
           {
            "colorbar": {
             "outlinewidth": 0,
             "ticks": ""
            },
            "type": "choropleth"
           }
          ],
          "contour": [
           {
            "colorbar": {
             "outlinewidth": 0,
             "ticks": ""
            },
            "colorscale": [
             [
              0,
              "#0d0887"
             ],
             [
              0.1111111111111111,
              "#46039f"
             ],
             [
              0.2222222222222222,
              "#7201a8"
             ],
             [
              0.3333333333333333,
              "#9c179e"
             ],
             [
              0.4444444444444444,
              "#bd3786"
             ],
             [
              0.5555555555555556,
              "#d8576b"
             ],
             [
              0.6666666666666666,
              "#ed7953"
             ],
             [
              0.7777777777777778,
              "#fb9f3a"
             ],
             [
              0.8888888888888888,
              "#fdca26"
             ],
             [
              1,
              "#f0f921"
             ]
            ],
            "type": "contour"
           }
          ],
          "contourcarpet": [
           {
            "colorbar": {
             "outlinewidth": 0,
             "ticks": ""
            },
            "type": "contourcarpet"
           }
          ],
          "heatmap": [
           {
            "colorbar": {
             "outlinewidth": 0,
             "ticks": ""
            },
            "colorscale": [
             [
              0,
              "#0d0887"
             ],
             [
              0.1111111111111111,
              "#46039f"
             ],
             [
              0.2222222222222222,
              "#7201a8"
             ],
             [
              0.3333333333333333,
              "#9c179e"
             ],
             [
              0.4444444444444444,
              "#bd3786"
             ],
             [
              0.5555555555555556,
              "#d8576b"
             ],
             [
              0.6666666666666666,
              "#ed7953"
             ],
             [
              0.7777777777777778,
              "#fb9f3a"
             ],
             [
              0.8888888888888888,
              "#fdca26"
             ],
             [
              1,
              "#f0f921"
             ]
            ],
            "type": "heatmap"
           }
          ],
          "heatmapgl": [
           {
            "colorbar": {
             "outlinewidth": 0,
             "ticks": ""
            },
            "colorscale": [
             [
              0,
              "#0d0887"
             ],
             [
              0.1111111111111111,
              "#46039f"
             ],
             [
              0.2222222222222222,
              "#7201a8"
             ],
             [
              0.3333333333333333,
              "#9c179e"
             ],
             [
              0.4444444444444444,
              "#bd3786"
             ],
             [
              0.5555555555555556,
              "#d8576b"
             ],
             [
              0.6666666666666666,
              "#ed7953"
             ],
             [
              0.7777777777777778,
              "#fb9f3a"
             ],
             [
              0.8888888888888888,
              "#fdca26"
             ],
             [
              1,
              "#f0f921"
             ]
            ],
            "type": "heatmapgl"
           }
          ],
          "histogram": [
           {
            "marker": {
             "pattern": {
              "fillmode": "overlay",
              "size": 10,
              "solidity": 0.2
             }
            },
            "type": "histogram"
           }
          ],
          "histogram2d": [
           {
            "colorbar": {
             "outlinewidth": 0,
             "ticks": ""
            },
            "colorscale": [
             [
              0,
              "#0d0887"
             ],
             [
              0.1111111111111111,
              "#46039f"
             ],
             [
              0.2222222222222222,
              "#7201a8"
             ],
             [
              0.3333333333333333,
              "#9c179e"
             ],
             [
              0.4444444444444444,
              "#bd3786"
             ],
             [
              0.5555555555555556,
              "#d8576b"
             ],
             [
              0.6666666666666666,
              "#ed7953"
             ],
             [
              0.7777777777777778,
              "#fb9f3a"
             ],
             [
              0.8888888888888888,
              "#fdca26"
             ],
             [
              1,
              "#f0f921"
             ]
            ],
            "type": "histogram2d"
           }
          ],
          "histogram2dcontour": [
           {
            "colorbar": {
             "outlinewidth": 0,
             "ticks": ""
            },
            "colorscale": [
             [
              0,
              "#0d0887"
             ],
             [
              0.1111111111111111,
              "#46039f"
             ],
             [
              0.2222222222222222,
              "#7201a8"
             ],
             [
              0.3333333333333333,
              "#9c179e"
             ],
             [
              0.4444444444444444,
              "#bd3786"
             ],
             [
              0.5555555555555556,
              "#d8576b"
             ],
             [
              0.6666666666666666,
              "#ed7953"
             ],
             [
              0.7777777777777778,
              "#fb9f3a"
             ],
             [
              0.8888888888888888,
              "#fdca26"
             ],
             [
              1,
              "#f0f921"
             ]
            ],
            "type": "histogram2dcontour"
           }
          ],
          "mesh3d": [
           {
            "colorbar": {
             "outlinewidth": 0,
             "ticks": ""
            },
            "type": "mesh3d"
           }
          ],
          "parcoords": [
           {
            "line": {
             "colorbar": {
              "outlinewidth": 0,
              "ticks": ""
             }
            },
            "type": "parcoords"
           }
          ],
          "pie": [
           {
            "automargin": true,
            "type": "pie"
           }
          ],
          "scatter": [
           {
            "fillpattern": {
             "fillmode": "overlay",
             "size": 10,
             "solidity": 0.2
            },
            "type": "scatter"
           }
          ],
          "scatter3d": [
           {
            "line": {
             "colorbar": {
              "outlinewidth": 0,
              "ticks": ""
             }
            },
            "marker": {
             "colorbar": {
              "outlinewidth": 0,
              "ticks": ""
             }
            },
            "type": "scatter3d"
           }
          ],
          "scattercarpet": [
           {
            "marker": {
             "colorbar": {
              "outlinewidth": 0,
              "ticks": ""
             }
            },
            "type": "scattercarpet"
           }
          ],
          "scattergeo": [
           {
            "marker": {
             "colorbar": {
              "outlinewidth": 0,
              "ticks": ""
             }
            },
            "type": "scattergeo"
           }
          ],
          "scattergl": [
           {
            "marker": {
             "colorbar": {
              "outlinewidth": 0,
              "ticks": ""
             }
            },
            "type": "scattergl"
           }
          ],
          "scattermapbox": [
           {
            "marker": {
             "colorbar": {
              "outlinewidth": 0,
              "ticks": ""
             }
            },
            "type": "scattermapbox"
           }
          ],
          "scatterpolar": [
           {
            "marker": {
             "colorbar": {
              "outlinewidth": 0,
              "ticks": ""
             }
            },
            "type": "scatterpolar"
           }
          ],
          "scatterpolargl": [
           {
            "marker": {
             "colorbar": {
              "outlinewidth": 0,
              "ticks": ""
             }
            },
            "type": "scatterpolargl"
           }
          ],
          "scatterternary": [
           {
            "marker": {
             "colorbar": {
              "outlinewidth": 0,
              "ticks": ""
             }
            },
            "type": "scatterternary"
           }
          ],
          "surface": [
           {
            "colorbar": {
             "outlinewidth": 0,
             "ticks": ""
            },
            "colorscale": [
             [
              0,
              "#0d0887"
             ],
             [
              0.1111111111111111,
              "#46039f"
             ],
             [
              0.2222222222222222,
              "#7201a8"
             ],
             [
              0.3333333333333333,
              "#9c179e"
             ],
             [
              0.4444444444444444,
              "#bd3786"
             ],
             [
              0.5555555555555556,
              "#d8576b"
             ],
             [
              0.6666666666666666,
              "#ed7953"
             ],
             [
              0.7777777777777778,
              "#fb9f3a"
             ],
             [
              0.8888888888888888,
              "#fdca26"
             ],
             [
              1,
              "#f0f921"
             ]
            ],
            "type": "surface"
           }
          ],
          "table": [
           {
            "cells": {
             "fill": {
              "color": "#EBF0F8"
             },
             "line": {
              "color": "white"
             }
            },
            "header": {
             "fill": {
              "color": "#C8D4E3"
             },
             "line": {
              "color": "white"
             }
            },
            "type": "table"
           }
          ]
         },
         "layout": {
          "annotationdefaults": {
           "arrowcolor": "#2a3f5f",
           "arrowhead": 0,
           "arrowwidth": 1
          },
          "autotypenumbers": "strict",
          "coloraxis": {
           "colorbar": {
            "outlinewidth": 0,
            "ticks": ""
           }
          },
          "colorscale": {
           "diverging": [
            [
             0,
             "#8e0152"
            ],
            [
             0.1,
             "#c51b7d"
            ],
            [
             0.2,
             "#de77ae"
            ],
            [
             0.3,
             "#f1b6da"
            ],
            [
             0.4,
             "#fde0ef"
            ],
            [
             0.5,
             "#f7f7f7"
            ],
            [
             0.6,
             "#e6f5d0"
            ],
            [
             0.7,
             "#b8e186"
            ],
            [
             0.8,
             "#7fbc41"
            ],
            [
             0.9,
             "#4d9221"
            ],
            [
             1,
             "#276419"
            ]
           ],
           "sequential": [
            [
             0,
             "#0d0887"
            ],
            [
             0.1111111111111111,
             "#46039f"
            ],
            [
             0.2222222222222222,
             "#7201a8"
            ],
            [
             0.3333333333333333,
             "#9c179e"
            ],
            [
             0.4444444444444444,
             "#bd3786"
            ],
            [
             0.5555555555555556,
             "#d8576b"
            ],
            [
             0.6666666666666666,
             "#ed7953"
            ],
            [
             0.7777777777777778,
             "#fb9f3a"
            ],
            [
             0.8888888888888888,
             "#fdca26"
            ],
            [
             1,
             "#f0f921"
            ]
           ],
           "sequentialminus": [
            [
             0,
             "#0d0887"
            ],
            [
             0.1111111111111111,
             "#46039f"
            ],
            [
             0.2222222222222222,
             "#7201a8"
            ],
            [
             0.3333333333333333,
             "#9c179e"
            ],
            [
             0.4444444444444444,
             "#bd3786"
            ],
            [
             0.5555555555555556,
             "#d8576b"
            ],
            [
             0.6666666666666666,
             "#ed7953"
            ],
            [
             0.7777777777777778,
             "#fb9f3a"
            ],
            [
             0.8888888888888888,
             "#fdca26"
            ],
            [
             1,
             "#f0f921"
            ]
           ]
          },
          "colorway": [
           "#636efa",
           "#EF553B",
           "#00cc96",
           "#ab63fa",
           "#FFA15A",
           "#19d3f3",
           "#FF6692",
           "#B6E880",
           "#FF97FF",
           "#FECB52"
          ],
          "font": {
           "color": "#2a3f5f"
          },
          "geo": {
           "bgcolor": "white",
           "lakecolor": "white",
           "landcolor": "white",
           "showlakes": true,
           "showland": true,
           "subunitcolor": "#C8D4E3"
          },
          "hoverlabel": {
           "align": "left"
          },
          "hovermode": "closest",
          "mapbox": {
           "style": "light"
          },
          "paper_bgcolor": "white",
          "plot_bgcolor": "white",
          "polar": {
           "angularaxis": {
            "gridcolor": "#EBF0F8",
            "linecolor": "#EBF0F8",
            "ticks": ""
           },
           "bgcolor": "white",
           "radialaxis": {
            "gridcolor": "#EBF0F8",
            "linecolor": "#EBF0F8",
            "ticks": ""
           }
          },
          "scene": {
           "xaxis": {
            "backgroundcolor": "white",
            "gridcolor": "#DFE8F3",
            "gridwidth": 2,
            "linecolor": "#EBF0F8",
            "showbackground": true,
            "ticks": "",
            "zerolinecolor": "#EBF0F8"
           },
           "yaxis": {
            "backgroundcolor": "white",
            "gridcolor": "#DFE8F3",
            "gridwidth": 2,
            "linecolor": "#EBF0F8",
            "showbackground": true,
            "ticks": "",
            "zerolinecolor": "#EBF0F8"
           },
           "zaxis": {
            "backgroundcolor": "white",
            "gridcolor": "#DFE8F3",
            "gridwidth": 2,
            "linecolor": "#EBF0F8",
            "showbackground": true,
            "ticks": "",
            "zerolinecolor": "#EBF0F8"
           }
          },
          "shapedefaults": {
           "line": {
            "color": "#2a3f5f"
           }
          },
          "ternary": {
           "aaxis": {
            "gridcolor": "#DFE8F3",
            "linecolor": "#A2B1C6",
            "ticks": ""
           },
           "baxis": {
            "gridcolor": "#DFE8F3",
            "linecolor": "#A2B1C6",
            "ticks": ""
           },
           "bgcolor": "white",
           "caxis": {
            "gridcolor": "#DFE8F3",
            "linecolor": "#A2B1C6",
            "ticks": ""
           }
          },
          "title": {
           "x": 0.05
          },
          "xaxis": {
           "automargin": true,
           "gridcolor": "#EBF0F8",
           "linecolor": "#EBF0F8",
           "ticks": "",
           "title": {
            "standoff": 15
           },
           "zerolinecolor": "#EBF0F8",
           "zerolinewidth": 2
          },
          "yaxis": {
           "automargin": true,
           "gridcolor": "#EBF0F8",
           "linecolor": "#EBF0F8",
           "ticks": "",
           "title": {
            "standoff": 15
           },
           "zerolinecolor": "#EBF0F8",
           "zerolinewidth": 2
          }
         }
        },
        "width": 700,
        "xaxis": {
         "showgrid": false
        },
        "yaxis": {
         "autorange": "reversed",
         "showgrid": false
        }
       }
      },
      "text/html": [
       "<div>                            <div id=\"7692a803-8f5a-489a-94d7-e3e3cbba9db3\" class=\"plotly-graph-div\" style=\"height:700px; width:700px;\"></div>            <script type=\"text/javascript\">                require([\"plotly\"], function(Plotly) {                    window.PLOTLYENV=window.PLOTLYENV || {};                                    if (document.getElementById(\"7692a803-8f5a-489a-94d7-e3e3cbba9db3\")) {                    Plotly.newPlot(                        \"7692a803-8f5a-489a-94d7-e3e3cbba9db3\",                        [{\"colorscale\":[[0.0,\"#76BB40\"],[0.2,\"rgb(245, 245, 245)\"],[1.0,\"rgb(255, 255, 255)\"]],\"text\":[[1.0,null,null,null,null,null,null,null,null,null,null,null,null,null,null,null,null],[0.0,1.0,null,null,null,null,null,null,null,null,null,null,null,null,null,null,null],[0.0,0.25,1.0,null,null,null,null,null,null,null,null,null,null,null,null,null,null],[0.47,0.0,0.0,1.0,null,null,null,null,null,null,null,null,null,null,null,null,null],[0.26,0.0,0.0,0.0,1.0,null,null,null,null,null,null,null,null,null,null,null,null],[0.28,0.0,0.0,0.0,0.67,1.0,null,null,null,null,null,null,null,null,null,null,null],[0.38,0.0,0.0,0.0,0.32,0.36,1.0,null,null,null,null,null,null,null,null,null,null],[0.26,0.0,0.0,0.04,0.62,0.64,0.74,1.0,null,null,null,null,null,null,null,null,null],[0.72,0.0,0.0,0.3,0.02,0.1,0.14,0.22,1.0,null,null,null,null,null,null,null,null],[0.28,0.0,0.0,0.0,0.57,0.8,1.0,0.77,0.14,1.0,null,null,null,null,null,null,null],[0.0,0.0,0.0,0.0,0.42,0.45,0.01,0.16,0.0,0.19,1.0,null,null,null,null,null,null],[0.22,0.0,0.0,0.0,0.74,0.77,0.59,0.54,0.13,0.69,0.22,1.0,null,null,null,null,null],[0.0,0.0,0.0,0.0,0.01,0.16,0.0,0.07,0.0,0.0,0.36,0.0,1.0,null,null,null,null],[0.04,0.0,0.0,0.0,0.0,0.0,0.0,0.0,0.0,0.0,0.0,0.0,0.0,1.0,null,null,null],[0.82,0.0,0.0,0.32,0.07,0.38,0.34,0.43,0.8,0.14,0.0,0.11,0.0,0.0,1.0,null,null],[0.74,0.0,0.0,0.21,0.36,0.49,0.69,0.47,0.62,0.45,0.06,0.36,0.0,0.02,0.64,1.0,null],[0.43,0.0,0.0,0.02,0.8,0.64,0.47,0.64,0.22,0.64,0.69,0.38,0.24,0.0,0.22,0.43,1.0]],\"textfont\":{\"size\":8},\"texttemplate\":\"%{text}\",\"x\":[\"OC\",\"LIME\",\"KS\",\"VG\",\"IxG\",\"GB\",\"GC\",\"SC\",\"C+\",\"IG\",\"EG\",\"DL\",\"DLS\",\"LRP\",\"RA\",\"RoA\",\"LA\"],\"xgap\":1,\"y\":[\"OC\",\"LIME\",\"KS\",\"VG\",\"IxG\",\"GB\",\"GC\",\"SC\",\"C+\",\"IG\",\"EG\",\"DL\",\"DLS\",\"LRP\",\"RA\",\"RoA\",\"LA\"],\"ygap\":1,\"z\":[[1.0,null,null,null,null,null,null,null,null,null,null,null,null,null,null,null,null],[0.0,1.0,null,null,null,null,null,null,null,null,null,null,null,null,null,null,null],[0.0,0.25,1.0,null,null,null,null,null,null,null,null,null,null,null,null,null,null],[0.47,0.0,0.0,1.0,null,null,null,null,null,null,null,null,null,null,null,null,null],[0.26,0.0,0.0,0.0,1.0,null,null,null,null,null,null,null,null,null,null,null,null],[0.28,0.0,0.0,0.0,0.67,1.0,null,null,null,null,null,null,null,null,null,null,null],[0.38,0.0,0.0,0.0,0.32,0.36,1.0,null,null,null,null,null,null,null,null,null,null],[0.26,0.0,0.0,0.04,0.62,0.64,0.74,1.0,null,null,null,null,null,null,null,null,null],[0.72,0.0,0.0,0.3,0.02,0.1,0.14,0.22,1.0,null,null,null,null,null,null,null,null],[0.28,0.0,0.0,0.0,0.57,0.8,1.0,0.77,0.14,1.0,null,null,null,null,null,null,null],[0.0,0.0,0.0,0.0,0.42,0.45,0.01,0.16,0.0,0.19,1.0,null,null,null,null,null,null],[0.22,0.0,0.0,0.0,0.74,0.77,0.59,0.54,0.13,0.69,0.22,1.0,null,null,null,null,null],[0.0,0.0,0.0,0.0,0.01,0.16,0.0,0.07,0.0,0.0,0.36,0.0,1.0,null,null,null,null],[0.04,0.0,0.0,0.0,0.0,0.0,0.0,0.0,0.0,0.0,0.0,0.0,0.0,1.0,null,null,null],[0.82,0.0,0.0,0.32,0.07,0.38,0.34,0.43,0.8,0.14,0.0,0.11,0.0,0.0,1.0,null,null],[0.74,0.0,0.0,0.21,0.36,0.49,0.69,0.47,0.62,0.45,0.06,0.36,0.0,0.02,0.64,1.0,null],[0.43,0.0,0.0,0.02,0.8,0.64,0.47,0.64,0.22,0.64,0.69,0.38,0.24,0.0,0.22,0.43,1.0]],\"zmax\":1,\"zmin\":0,\"type\":\"heatmap\"}],                        {\"font\":{\"color\":\"#000000\",\"family\":\"Helvetica\",\"size\":13},\"height\":700,\"template\":{\"data\":{\"barpolar\":[{\"marker\":{\"line\":{\"color\":\"white\",\"width\":0.5},\"pattern\":{\"fillmode\":\"overlay\",\"size\":10,\"solidity\":0.2}},\"type\":\"barpolar\"}],\"bar\":[{\"error_x\":{\"color\":\"#2a3f5f\"},\"error_y\":{\"color\":\"#2a3f5f\"},\"marker\":{\"line\":{\"color\":\"white\",\"width\":0.5},\"pattern\":{\"fillmode\":\"overlay\",\"size\":10,\"solidity\":0.2}},\"type\":\"bar\"}],\"carpet\":[{\"aaxis\":{\"endlinecolor\":\"#2a3f5f\",\"gridcolor\":\"#C8D4E3\",\"linecolor\":\"#C8D4E3\",\"minorgridcolor\":\"#C8D4E3\",\"startlinecolor\":\"#2a3f5f\"},\"baxis\":{\"endlinecolor\":\"#2a3f5f\",\"gridcolor\":\"#C8D4E3\",\"linecolor\":\"#C8D4E3\",\"minorgridcolor\":\"#C8D4E3\",\"startlinecolor\":\"#2a3f5f\"},\"type\":\"carpet\"}],\"choropleth\":[{\"colorbar\":{\"outlinewidth\":0,\"ticks\":\"\"},\"type\":\"choropleth\"}],\"contourcarpet\":[{\"colorbar\":{\"outlinewidth\":0,\"ticks\":\"\"},\"type\":\"contourcarpet\"}],\"contour\":[{\"colorbar\":{\"outlinewidth\":0,\"ticks\":\"\"},\"colorscale\":[[0.0,\"#0d0887\"],[0.1111111111111111,\"#46039f\"],[0.2222222222222222,\"#7201a8\"],[0.3333333333333333,\"#9c179e\"],[0.4444444444444444,\"#bd3786\"],[0.5555555555555556,\"#d8576b\"],[0.6666666666666666,\"#ed7953\"],[0.7777777777777778,\"#fb9f3a\"],[0.8888888888888888,\"#fdca26\"],[1.0,\"#f0f921\"]],\"type\":\"contour\"}],\"heatmapgl\":[{\"colorbar\":{\"outlinewidth\":0,\"ticks\":\"\"},\"colorscale\":[[0.0,\"#0d0887\"],[0.1111111111111111,\"#46039f\"],[0.2222222222222222,\"#7201a8\"],[0.3333333333333333,\"#9c179e\"],[0.4444444444444444,\"#bd3786\"],[0.5555555555555556,\"#d8576b\"],[0.6666666666666666,\"#ed7953\"],[0.7777777777777778,\"#fb9f3a\"],[0.8888888888888888,\"#fdca26\"],[1.0,\"#f0f921\"]],\"type\":\"heatmapgl\"}],\"heatmap\":[{\"colorbar\":{\"outlinewidth\":0,\"ticks\":\"\"},\"colorscale\":[[0.0,\"#0d0887\"],[0.1111111111111111,\"#46039f\"],[0.2222222222222222,\"#7201a8\"],[0.3333333333333333,\"#9c179e\"],[0.4444444444444444,\"#bd3786\"],[0.5555555555555556,\"#d8576b\"],[0.6666666666666666,\"#ed7953\"],[0.7777777777777778,\"#fb9f3a\"],[0.8888888888888888,\"#fdca26\"],[1.0,\"#f0f921\"]],\"type\":\"heatmap\"}],\"histogram2dcontour\":[{\"colorbar\":{\"outlinewidth\":0,\"ticks\":\"\"},\"colorscale\":[[0.0,\"#0d0887\"],[0.1111111111111111,\"#46039f\"],[0.2222222222222222,\"#7201a8\"],[0.3333333333333333,\"#9c179e\"],[0.4444444444444444,\"#bd3786\"],[0.5555555555555556,\"#d8576b\"],[0.6666666666666666,\"#ed7953\"],[0.7777777777777778,\"#fb9f3a\"],[0.8888888888888888,\"#fdca26\"],[1.0,\"#f0f921\"]],\"type\":\"histogram2dcontour\"}],\"histogram2d\":[{\"colorbar\":{\"outlinewidth\":0,\"ticks\":\"\"},\"colorscale\":[[0.0,\"#0d0887\"],[0.1111111111111111,\"#46039f\"],[0.2222222222222222,\"#7201a8\"],[0.3333333333333333,\"#9c179e\"],[0.4444444444444444,\"#bd3786\"],[0.5555555555555556,\"#d8576b\"],[0.6666666666666666,\"#ed7953\"],[0.7777777777777778,\"#fb9f3a\"],[0.8888888888888888,\"#fdca26\"],[1.0,\"#f0f921\"]],\"type\":\"histogram2d\"}],\"histogram\":[{\"marker\":{\"pattern\":{\"fillmode\":\"overlay\",\"size\":10,\"solidity\":0.2}},\"type\":\"histogram\"}],\"mesh3d\":[{\"colorbar\":{\"outlinewidth\":0,\"ticks\":\"\"},\"type\":\"mesh3d\"}],\"parcoords\":[{\"line\":{\"colorbar\":{\"outlinewidth\":0,\"ticks\":\"\"}},\"type\":\"parcoords\"}],\"pie\":[{\"automargin\":true,\"type\":\"pie\"}],\"scatter3d\":[{\"line\":{\"colorbar\":{\"outlinewidth\":0,\"ticks\":\"\"}},\"marker\":{\"colorbar\":{\"outlinewidth\":0,\"ticks\":\"\"}},\"type\":\"scatter3d\"}],\"scattercarpet\":[{\"marker\":{\"colorbar\":{\"outlinewidth\":0,\"ticks\":\"\"}},\"type\":\"scattercarpet\"}],\"scattergeo\":[{\"marker\":{\"colorbar\":{\"outlinewidth\":0,\"ticks\":\"\"}},\"type\":\"scattergeo\"}],\"scattergl\":[{\"marker\":{\"colorbar\":{\"outlinewidth\":0,\"ticks\":\"\"}},\"type\":\"scattergl\"}],\"scattermapbox\":[{\"marker\":{\"colorbar\":{\"outlinewidth\":0,\"ticks\":\"\"}},\"type\":\"scattermapbox\"}],\"scatterpolargl\":[{\"marker\":{\"colorbar\":{\"outlinewidth\":0,\"ticks\":\"\"}},\"type\":\"scatterpolargl\"}],\"scatterpolar\":[{\"marker\":{\"colorbar\":{\"outlinewidth\":0,\"ticks\":\"\"}},\"type\":\"scatterpolar\"}],\"scatter\":[{\"fillpattern\":{\"fillmode\":\"overlay\",\"size\":10,\"solidity\":0.2},\"type\":\"scatter\"}],\"scatterternary\":[{\"marker\":{\"colorbar\":{\"outlinewidth\":0,\"ticks\":\"\"}},\"type\":\"scatterternary\"}],\"surface\":[{\"colorbar\":{\"outlinewidth\":0,\"ticks\":\"\"},\"colorscale\":[[0.0,\"#0d0887\"],[0.1111111111111111,\"#46039f\"],[0.2222222222222222,\"#7201a8\"],[0.3333333333333333,\"#9c179e\"],[0.4444444444444444,\"#bd3786\"],[0.5555555555555556,\"#d8576b\"],[0.6666666666666666,\"#ed7953\"],[0.7777777777777778,\"#fb9f3a\"],[0.8888888888888888,\"#fdca26\"],[1.0,\"#f0f921\"]],\"type\":\"surface\"}],\"table\":[{\"cells\":{\"fill\":{\"color\":\"#EBF0F8\"},\"line\":{\"color\":\"white\"}},\"header\":{\"fill\":{\"color\":\"#C8D4E3\"},\"line\":{\"color\":\"white\"}},\"type\":\"table\"}]},\"layout\":{\"annotationdefaults\":{\"arrowcolor\":\"#2a3f5f\",\"arrowhead\":0,\"arrowwidth\":1},\"autotypenumbers\":\"strict\",\"coloraxis\":{\"colorbar\":{\"outlinewidth\":0,\"ticks\":\"\"}},\"colorscale\":{\"diverging\":[[0,\"#8e0152\"],[0.1,\"#c51b7d\"],[0.2,\"#de77ae\"],[0.3,\"#f1b6da\"],[0.4,\"#fde0ef\"],[0.5,\"#f7f7f7\"],[0.6,\"#e6f5d0\"],[0.7,\"#b8e186\"],[0.8,\"#7fbc41\"],[0.9,\"#4d9221\"],[1,\"#276419\"]],\"sequential\":[[0.0,\"#0d0887\"],[0.1111111111111111,\"#46039f\"],[0.2222222222222222,\"#7201a8\"],[0.3333333333333333,\"#9c179e\"],[0.4444444444444444,\"#bd3786\"],[0.5555555555555556,\"#d8576b\"],[0.6666666666666666,\"#ed7953\"],[0.7777777777777778,\"#fb9f3a\"],[0.8888888888888888,\"#fdca26\"],[1.0,\"#f0f921\"]],\"sequentialminus\":[[0.0,\"#0d0887\"],[0.1111111111111111,\"#46039f\"],[0.2222222222222222,\"#7201a8\"],[0.3333333333333333,\"#9c179e\"],[0.4444444444444444,\"#bd3786\"],[0.5555555555555556,\"#d8576b\"],[0.6666666666666666,\"#ed7953\"],[0.7777777777777778,\"#fb9f3a\"],[0.8888888888888888,\"#fdca26\"],[1.0,\"#f0f921\"]]},\"colorway\":[\"#636efa\",\"#EF553B\",\"#00cc96\",\"#ab63fa\",\"#FFA15A\",\"#19d3f3\",\"#FF6692\",\"#B6E880\",\"#FF97FF\",\"#FECB52\"],\"font\":{\"color\":\"#2a3f5f\"},\"geo\":{\"bgcolor\":\"white\",\"lakecolor\":\"white\",\"landcolor\":\"white\",\"showlakes\":true,\"showland\":true,\"subunitcolor\":\"#C8D4E3\"},\"hoverlabel\":{\"align\":\"left\"},\"hovermode\":\"closest\",\"mapbox\":{\"style\":\"light\"},\"paper_bgcolor\":\"white\",\"plot_bgcolor\":\"white\",\"polar\":{\"angularaxis\":{\"gridcolor\":\"#EBF0F8\",\"linecolor\":\"#EBF0F8\",\"ticks\":\"\"},\"bgcolor\":\"white\",\"radialaxis\":{\"gridcolor\":\"#EBF0F8\",\"linecolor\":\"#EBF0F8\",\"ticks\":\"\"}},\"scene\":{\"xaxis\":{\"backgroundcolor\":\"white\",\"gridcolor\":\"#DFE8F3\",\"gridwidth\":2,\"linecolor\":\"#EBF0F8\",\"showbackground\":true,\"ticks\":\"\",\"zerolinecolor\":\"#EBF0F8\"},\"yaxis\":{\"backgroundcolor\":\"white\",\"gridcolor\":\"#DFE8F3\",\"gridwidth\":2,\"linecolor\":\"#EBF0F8\",\"showbackground\":true,\"ticks\":\"\",\"zerolinecolor\":\"#EBF0F8\"},\"zaxis\":{\"backgroundcolor\":\"white\",\"gridcolor\":\"#DFE8F3\",\"gridwidth\":2,\"linecolor\":\"#EBF0F8\",\"showbackground\":true,\"ticks\":\"\",\"zerolinecolor\":\"#EBF0F8\"}},\"shapedefaults\":{\"line\":{\"color\":\"#2a3f5f\"}},\"ternary\":{\"aaxis\":{\"gridcolor\":\"#DFE8F3\",\"linecolor\":\"#A2B1C6\",\"ticks\":\"\"},\"baxis\":{\"gridcolor\":\"#DFE8F3\",\"linecolor\":\"#A2B1C6\",\"ticks\":\"\"},\"bgcolor\":\"white\",\"caxis\":{\"gridcolor\":\"#DFE8F3\",\"linecolor\":\"#A2B1C6\",\"ticks\":\"\"}},\"title\":{\"x\":0.05},\"xaxis\":{\"automargin\":true,\"gridcolor\":\"#EBF0F8\",\"linecolor\":\"#EBF0F8\",\"ticks\":\"\",\"title\":{\"standoff\":15},\"zerolinecolor\":\"#EBF0F8\",\"zerolinewidth\":2},\"yaxis\":{\"automargin\":true,\"gridcolor\":\"#EBF0F8\",\"linecolor\":\"#EBF0F8\",\"ticks\":\"\",\"title\":{\"standoff\":15},\"zerolinecolor\":\"#EBF0F8\",\"zerolinewidth\":2}}},\"width\":700,\"xaxis\":{\"showgrid\":false},\"yaxis\":{\"autorange\":\"reversed\",\"showgrid\":false}},                        {\"responsive\": true}                    ).then(function(){\n",
       "                            \n",
       "var gd = document.getElementById('7692a803-8f5a-489a-94d7-e3e3cbba9db3');\n",
       "var x = new MutationObserver(function (mutations, observer) {{\n",
       "        var display = window.getComputedStyle(gd).display;\n",
       "        if (!display || display === 'none') {{\n",
       "            console.log([gd, 'removed!']);\n",
       "            Plotly.purge(gd);\n",
       "            observer.disconnect();\n",
       "        }}\n",
       "}});\n",
       "\n",
       "// Listen for the removal of the full notebook cells\n",
       "var notebookContainer = gd.closest('#notebook-container');\n",
       "if (notebookContainer) {{\n",
       "    x.observe(notebookContainer, {childList: true});\n",
       "}}\n",
       "\n",
       "// Listen for the clearing of the current output cell\n",
       "var outputEl = gd.closest('.output');\n",
       "if (outputEl) {{\n",
       "    x.observe(outputEl, {childList: true});\n",
       "}}\n",
       "\n",
       "                        })                };                });            </script>        </div>"
      ]
     },
     "metadata": {},
     "output_type": "display_data"
    }
   ],
   "source": [
    "import plotly.graph_objects as go\n",
    "\n",
    "heat = go.Heatmap(\n",
    "    z=faith,\n",
    "    x=faith.columns,\n",
    "    y=faith.columns,\n",
    "    text=np.round(faith.to_numpy(), 2),\n",
    "    texttemplate=\"%{text}\",\n",
    "    textfont_size=8,\n",
    "    zmin=0,  # Sets the lower bound of the color domain\n",
    "    zmax=1,\n",
    "    xgap=1,  # Sets the horizontal gap (in pixels) between bricks\n",
    "    ygap=1,\n",
    "    colorscale=[\n",
    "        [0.0, \"#76BB40\"],\n",
    "        [0.2, \"rgb(245, 245, 245)\"],\n",
    "        [1.0, \"rgb(255, 255, 255)\"],\n",
    "    ],\n",
    ")\n",
    "\n",
    "layout = go.Layout(\n",
    "    template=\"plotly_white\",\n",
    "    width=700,\n",
    "    height=700,\n",
    "    # title=\"Correlation between Histomics\",\n",
    "    xaxis_showgrid=False,\n",
    "    yaxis_showgrid=False,\n",
    "    yaxis_autorange=\"reversed\",\n",
    "    font=dict(family=\"Helvetica\", color=\"#000000\", size=13),\n",
    ")\n",
    "\n",
    "fig = go.Figure(data=[heat], layout=layout)\n",
    "fig.write_image(os.getcwd()[:-9] + \"/data/figures/test_heatmap_faith.png\", scale=2)\n",
    "fig.show()"
   ]
  },
  {
   "cell_type": "code",
   "execution_count": 57,
   "metadata": {},
   "outputs": [
    {
     "data": {
      "application/vnd.plotly.v1+json": {
       "config": {
        "plotlyServerURL": "https://plot.ly"
       },
       "data": [
        {
         "colorscale": [
          [
           0,
           "#76BB40"
          ],
          [
           0.2,
           "rgb(245, 245, 245)"
          ],
          [
           1,
           "rgb(255, 255, 255)"
          ]
         ],
         "text": [
          [
           1,
           null,
           null,
           null,
           null,
           null,
           null,
           null,
           null,
           null,
           null,
           null,
           null,
           null,
           null,
           null,
           null
          ],
          [
           0,
           1,
           null,
           null,
           null,
           null,
           null,
           null,
           null,
           null,
           null,
           null,
           null,
           null,
           null,
           null,
           null
          ],
          [
           0,
           0.58,
           1,
           null,
           null,
           null,
           null,
           null,
           null,
           null,
           null,
           null,
           null,
           null,
           null,
           null,
           null
          ],
          [
           0.14,
           0,
           0,
           1,
           null,
           null,
           null,
           null,
           null,
           null,
           null,
           null,
           null,
           null,
           null,
           null,
           null
          ],
          [
           0.78,
           0,
           0,
           0,
           1,
           null,
           null,
           null,
           null,
           null,
           null,
           null,
           null,
           null,
           null,
           null,
           null
          ],
          [
           0.48,
           0,
           0,
           0.14,
           0.22,
           1,
           null,
           null,
           null,
           null,
           null,
           null,
           null,
           null,
           null,
           null,
           null
          ],
          [
           0.04,
           0,
           0,
           0.66,
           0.14,
           0.42,
           1,
           null,
           null,
           null,
           null,
           null,
           null,
           null,
           null,
           null,
           null
          ],
          [
           0.6,
           0.01,
           0.04,
           0,
           0.79,
           0.18,
           0,
           1,
           null,
           null,
           null,
           null,
           null,
           null,
           null,
           null,
           null
          ],
          [
           0,
           0,
           0,
           0,
           0.07,
           0,
           0,
           0.18,
           1,
           null,
           null,
           null,
           null,
           null,
           null,
           null,
           null
          ],
          [
           0.6,
           0,
           0,
           0.18,
           0.18,
           0.48,
           0.26,
           0.6,
           0.18,
           1,
           null,
           null,
           null,
           null,
           null,
           null,
           null
          ],
          [
           0,
           0,
           0,
           0.18,
           0,
           0,
           0.26,
           0,
           0,
           0,
           1,
           null,
           null,
           null,
           null,
           null,
           null
          ],
          [
           0.79,
           0,
           0,
           0.07,
           0.18,
           0.11,
           0.07,
           0.78,
           0.18,
           0.13,
           0,
           1,
           null,
           null,
           null,
           null,
           null
          ],
          [
           1,
           0,
           0,
           0,
           0.22,
           0.48,
           0.37,
           0.23,
           0,
           0.23,
           0,
           0.14,
           1,
           null,
           null,
           null,
           null
          ],
          [
           0.31,
           0,
           0,
           0,
           0.1,
           0.11,
           0,
           1,
           0.53,
           0.18,
           0,
           0.18,
           0.02,
           1,
           null,
           null,
           null
          ],
          [
           0.36,
           0,
           0,
           0.79,
           0.07,
           0.31,
           0.72,
           0.11,
           0,
           0.6,
           0.02,
           0.14,
           0.31,
           0,
           1,
           null,
           null
          ],
          [
           0.18,
           0,
           0,
           0.31,
           0.07,
           0.53,
           0.48,
           0,
           0,
           0.6,
           0.18,
           0.36,
           1,
           0,
           0.37,
           1,
           null
          ],
          [
           0.66,
           0,
           0,
           0,
           0.31,
           0.79,
           0.66,
           0.18,
           0.02,
           1,
           0,
           0.66,
           0.47,
           0.04,
           0.14,
           1,
           1
          ]
         ],
         "textfont": {
          "size": 8
         },
         "texttemplate": "%{text}",
         "type": "heatmap",
         "x": [
          "OC",
          "LIME",
          "KS",
          "VG",
          "IxG",
          "GB",
          "GC",
          "SC",
          "C+",
          "IG",
          "EG",
          "DL",
          "DLS",
          "LRP",
          "RA",
          "RoA",
          "LA"
         ],
         "xgap": 1,
         "y": [
          "OC",
          "LIME",
          "KS",
          "VG",
          "IxG",
          "GB",
          "GC",
          "SC",
          "C+",
          "IG",
          "EG",
          "DL",
          "DLS",
          "LRP",
          "RA",
          "RoA",
          "LA"
         ],
         "ygap": 1,
         "z": [
          [
           1,
           null,
           null,
           null,
           null,
           null,
           null,
           null,
           null,
           null,
           null,
           null,
           null,
           null,
           null,
           null,
           null
          ],
          [
           0,
           1,
           null,
           null,
           null,
           null,
           null,
           null,
           null,
           null,
           null,
           null,
           null,
           null,
           null,
           null,
           null
          ],
          [
           0,
           0.58,
           1,
           null,
           null,
           null,
           null,
           null,
           null,
           null,
           null,
           null,
           null,
           null,
           null,
           null,
           null
          ],
          [
           0.14,
           0,
           0,
           1,
           null,
           null,
           null,
           null,
           null,
           null,
           null,
           null,
           null,
           null,
           null,
           null,
           null
          ],
          [
           0.78,
           0,
           0,
           0,
           1,
           null,
           null,
           null,
           null,
           null,
           null,
           null,
           null,
           null,
           null,
           null,
           null
          ],
          [
           0.48,
           0,
           0,
           0.14,
           0.22,
           1,
           null,
           null,
           null,
           null,
           null,
           null,
           null,
           null,
           null,
           null,
           null
          ],
          [
           0.04,
           0,
           0,
           0.66,
           0.14,
           0.42,
           1,
           null,
           null,
           null,
           null,
           null,
           null,
           null,
           null,
           null,
           null
          ],
          [
           0.6,
           0.01,
           0.04,
           0,
           0.79,
           0.18,
           0,
           1,
           null,
           null,
           null,
           null,
           null,
           null,
           null,
           null,
           null
          ],
          [
           0,
           0,
           0,
           0,
           0.07,
           0,
           0,
           0.18,
           1,
           null,
           null,
           null,
           null,
           null,
           null,
           null,
           null
          ],
          [
           0.6,
           0,
           0,
           0.18,
           0.18,
           0.48,
           0.26,
           0.6,
           0.18,
           1,
           null,
           null,
           null,
           null,
           null,
           null,
           null
          ],
          [
           0,
           0,
           0,
           0.18,
           0,
           0,
           0.26,
           0,
           0,
           0,
           1,
           null,
           null,
           null,
           null,
           null,
           null
          ],
          [
           0.79,
           0,
           0,
           0.07,
           0.18,
           0.11,
           0.07,
           0.78,
           0.18,
           0.13,
           0,
           1,
           null,
           null,
           null,
           null,
           null
          ],
          [
           1,
           0,
           0,
           0,
           0.22,
           0.48,
           0.37,
           0.23,
           0,
           0.23,
           0,
           0.14,
           1,
           null,
           null,
           null,
           null
          ],
          [
           0.31,
           0,
           0,
           0,
           0.1,
           0.11,
           0,
           1,
           0.53,
           0.18,
           0,
           0.18,
           0.02,
           1,
           null,
           null,
           null
          ],
          [
           0.36,
           0,
           0,
           0.79,
           0.07,
           0.31,
           0.72,
           0.11,
           0,
           0.6,
           0.02,
           0.14,
           0.31,
           0,
           1,
           null,
           null
          ],
          [
           0.18,
           0,
           0,
           0.31,
           0.07,
           0.53,
           0.48,
           0,
           0,
           0.6,
           0.18,
           0.36,
           1,
           0,
           0.37,
           1,
           null
          ],
          [
           0.66,
           0,
           0,
           0,
           0.31,
           0.79,
           0.66,
           0.18,
           0.02,
           1,
           0,
           0.66,
           0.47,
           0.04,
           0.14,
           1,
           1
          ]
         ],
         "zmax": 1,
         "zmin": 0
        }
       ],
       "layout": {
        "font": {
         "color": "#000000",
         "family": "Helvetica",
         "size": 13
        },
        "height": 700,
        "template": {
         "data": {
          "bar": [
           {
            "error_x": {
             "color": "#2a3f5f"
            },
            "error_y": {
             "color": "#2a3f5f"
            },
            "marker": {
             "line": {
              "color": "white",
              "width": 0.5
             },
             "pattern": {
              "fillmode": "overlay",
              "size": 10,
              "solidity": 0.2
             }
            },
            "type": "bar"
           }
          ],
          "barpolar": [
           {
            "marker": {
             "line": {
              "color": "white",
              "width": 0.5
             },
             "pattern": {
              "fillmode": "overlay",
              "size": 10,
              "solidity": 0.2
             }
            },
            "type": "barpolar"
           }
          ],
          "carpet": [
           {
            "aaxis": {
             "endlinecolor": "#2a3f5f",
             "gridcolor": "#C8D4E3",
             "linecolor": "#C8D4E3",
             "minorgridcolor": "#C8D4E3",
             "startlinecolor": "#2a3f5f"
            },
            "baxis": {
             "endlinecolor": "#2a3f5f",
             "gridcolor": "#C8D4E3",
             "linecolor": "#C8D4E3",
             "minorgridcolor": "#C8D4E3",
             "startlinecolor": "#2a3f5f"
            },
            "type": "carpet"
           }
          ],
          "choropleth": [
           {
            "colorbar": {
             "outlinewidth": 0,
             "ticks": ""
            },
            "type": "choropleth"
           }
          ],
          "contour": [
           {
            "colorbar": {
             "outlinewidth": 0,
             "ticks": ""
            },
            "colorscale": [
             [
              0,
              "#0d0887"
             ],
             [
              0.1111111111111111,
              "#46039f"
             ],
             [
              0.2222222222222222,
              "#7201a8"
             ],
             [
              0.3333333333333333,
              "#9c179e"
             ],
             [
              0.4444444444444444,
              "#bd3786"
             ],
             [
              0.5555555555555556,
              "#d8576b"
             ],
             [
              0.6666666666666666,
              "#ed7953"
             ],
             [
              0.7777777777777778,
              "#fb9f3a"
             ],
             [
              0.8888888888888888,
              "#fdca26"
             ],
             [
              1,
              "#f0f921"
             ]
            ],
            "type": "contour"
           }
          ],
          "contourcarpet": [
           {
            "colorbar": {
             "outlinewidth": 0,
             "ticks": ""
            },
            "type": "contourcarpet"
           }
          ],
          "heatmap": [
           {
            "colorbar": {
             "outlinewidth": 0,
             "ticks": ""
            },
            "colorscale": [
             [
              0,
              "#0d0887"
             ],
             [
              0.1111111111111111,
              "#46039f"
             ],
             [
              0.2222222222222222,
              "#7201a8"
             ],
             [
              0.3333333333333333,
              "#9c179e"
             ],
             [
              0.4444444444444444,
              "#bd3786"
             ],
             [
              0.5555555555555556,
              "#d8576b"
             ],
             [
              0.6666666666666666,
              "#ed7953"
             ],
             [
              0.7777777777777778,
              "#fb9f3a"
             ],
             [
              0.8888888888888888,
              "#fdca26"
             ],
             [
              1,
              "#f0f921"
             ]
            ],
            "type": "heatmap"
           }
          ],
          "heatmapgl": [
           {
            "colorbar": {
             "outlinewidth": 0,
             "ticks": ""
            },
            "colorscale": [
             [
              0,
              "#0d0887"
             ],
             [
              0.1111111111111111,
              "#46039f"
             ],
             [
              0.2222222222222222,
              "#7201a8"
             ],
             [
              0.3333333333333333,
              "#9c179e"
             ],
             [
              0.4444444444444444,
              "#bd3786"
             ],
             [
              0.5555555555555556,
              "#d8576b"
             ],
             [
              0.6666666666666666,
              "#ed7953"
             ],
             [
              0.7777777777777778,
              "#fb9f3a"
             ],
             [
              0.8888888888888888,
              "#fdca26"
             ],
             [
              1,
              "#f0f921"
             ]
            ],
            "type": "heatmapgl"
           }
          ],
          "histogram": [
           {
            "marker": {
             "pattern": {
              "fillmode": "overlay",
              "size": 10,
              "solidity": 0.2
             }
            },
            "type": "histogram"
           }
          ],
          "histogram2d": [
           {
            "colorbar": {
             "outlinewidth": 0,
             "ticks": ""
            },
            "colorscale": [
             [
              0,
              "#0d0887"
             ],
             [
              0.1111111111111111,
              "#46039f"
             ],
             [
              0.2222222222222222,
              "#7201a8"
             ],
             [
              0.3333333333333333,
              "#9c179e"
             ],
             [
              0.4444444444444444,
              "#bd3786"
             ],
             [
              0.5555555555555556,
              "#d8576b"
             ],
             [
              0.6666666666666666,
              "#ed7953"
             ],
             [
              0.7777777777777778,
              "#fb9f3a"
             ],
             [
              0.8888888888888888,
              "#fdca26"
             ],
             [
              1,
              "#f0f921"
             ]
            ],
            "type": "histogram2d"
           }
          ],
          "histogram2dcontour": [
           {
            "colorbar": {
             "outlinewidth": 0,
             "ticks": ""
            },
            "colorscale": [
             [
              0,
              "#0d0887"
             ],
             [
              0.1111111111111111,
              "#46039f"
             ],
             [
              0.2222222222222222,
              "#7201a8"
             ],
             [
              0.3333333333333333,
              "#9c179e"
             ],
             [
              0.4444444444444444,
              "#bd3786"
             ],
             [
              0.5555555555555556,
              "#d8576b"
             ],
             [
              0.6666666666666666,
              "#ed7953"
             ],
             [
              0.7777777777777778,
              "#fb9f3a"
             ],
             [
              0.8888888888888888,
              "#fdca26"
             ],
             [
              1,
              "#f0f921"
             ]
            ],
            "type": "histogram2dcontour"
           }
          ],
          "mesh3d": [
           {
            "colorbar": {
             "outlinewidth": 0,
             "ticks": ""
            },
            "type": "mesh3d"
           }
          ],
          "parcoords": [
           {
            "line": {
             "colorbar": {
              "outlinewidth": 0,
              "ticks": ""
             }
            },
            "type": "parcoords"
           }
          ],
          "pie": [
           {
            "automargin": true,
            "type": "pie"
           }
          ],
          "scatter": [
           {
            "fillpattern": {
             "fillmode": "overlay",
             "size": 10,
             "solidity": 0.2
            },
            "type": "scatter"
           }
          ],
          "scatter3d": [
           {
            "line": {
             "colorbar": {
              "outlinewidth": 0,
              "ticks": ""
             }
            },
            "marker": {
             "colorbar": {
              "outlinewidth": 0,
              "ticks": ""
             }
            },
            "type": "scatter3d"
           }
          ],
          "scattercarpet": [
           {
            "marker": {
             "colorbar": {
              "outlinewidth": 0,
              "ticks": ""
             }
            },
            "type": "scattercarpet"
           }
          ],
          "scattergeo": [
           {
            "marker": {
             "colorbar": {
              "outlinewidth": 0,
              "ticks": ""
             }
            },
            "type": "scattergeo"
           }
          ],
          "scattergl": [
           {
            "marker": {
             "colorbar": {
              "outlinewidth": 0,
              "ticks": ""
             }
            },
            "type": "scattergl"
           }
          ],
          "scattermapbox": [
           {
            "marker": {
             "colorbar": {
              "outlinewidth": 0,
              "ticks": ""
             }
            },
            "type": "scattermapbox"
           }
          ],
          "scatterpolar": [
           {
            "marker": {
             "colorbar": {
              "outlinewidth": 0,
              "ticks": ""
             }
            },
            "type": "scatterpolar"
           }
          ],
          "scatterpolargl": [
           {
            "marker": {
             "colorbar": {
              "outlinewidth": 0,
              "ticks": ""
             }
            },
            "type": "scatterpolargl"
           }
          ],
          "scatterternary": [
           {
            "marker": {
             "colorbar": {
              "outlinewidth": 0,
              "ticks": ""
             }
            },
            "type": "scatterternary"
           }
          ],
          "surface": [
           {
            "colorbar": {
             "outlinewidth": 0,
             "ticks": ""
            },
            "colorscale": [
             [
              0,
              "#0d0887"
             ],
             [
              0.1111111111111111,
              "#46039f"
             ],
             [
              0.2222222222222222,
              "#7201a8"
             ],
             [
              0.3333333333333333,
              "#9c179e"
             ],
             [
              0.4444444444444444,
              "#bd3786"
             ],
             [
              0.5555555555555556,
              "#d8576b"
             ],
             [
              0.6666666666666666,
              "#ed7953"
             ],
             [
              0.7777777777777778,
              "#fb9f3a"
             ],
             [
              0.8888888888888888,
              "#fdca26"
             ],
             [
              1,
              "#f0f921"
             ]
            ],
            "type": "surface"
           }
          ],
          "table": [
           {
            "cells": {
             "fill": {
              "color": "#EBF0F8"
             },
             "line": {
              "color": "white"
             }
            },
            "header": {
             "fill": {
              "color": "#C8D4E3"
             },
             "line": {
              "color": "white"
             }
            },
            "type": "table"
           }
          ]
         },
         "layout": {
          "annotationdefaults": {
           "arrowcolor": "#2a3f5f",
           "arrowhead": 0,
           "arrowwidth": 1
          },
          "autotypenumbers": "strict",
          "coloraxis": {
           "colorbar": {
            "outlinewidth": 0,
            "ticks": ""
           }
          },
          "colorscale": {
           "diverging": [
            [
             0,
             "#8e0152"
            ],
            [
             0.1,
             "#c51b7d"
            ],
            [
             0.2,
             "#de77ae"
            ],
            [
             0.3,
             "#f1b6da"
            ],
            [
             0.4,
             "#fde0ef"
            ],
            [
             0.5,
             "#f7f7f7"
            ],
            [
             0.6,
             "#e6f5d0"
            ],
            [
             0.7,
             "#b8e186"
            ],
            [
             0.8,
             "#7fbc41"
            ],
            [
             0.9,
             "#4d9221"
            ],
            [
             1,
             "#276419"
            ]
           ],
           "sequential": [
            [
             0,
             "#0d0887"
            ],
            [
             0.1111111111111111,
             "#46039f"
            ],
            [
             0.2222222222222222,
             "#7201a8"
            ],
            [
             0.3333333333333333,
             "#9c179e"
            ],
            [
             0.4444444444444444,
             "#bd3786"
            ],
            [
             0.5555555555555556,
             "#d8576b"
            ],
            [
             0.6666666666666666,
             "#ed7953"
            ],
            [
             0.7777777777777778,
             "#fb9f3a"
            ],
            [
             0.8888888888888888,
             "#fdca26"
            ],
            [
             1,
             "#f0f921"
            ]
           ],
           "sequentialminus": [
            [
             0,
             "#0d0887"
            ],
            [
             0.1111111111111111,
             "#46039f"
            ],
            [
             0.2222222222222222,
             "#7201a8"
            ],
            [
             0.3333333333333333,
             "#9c179e"
            ],
            [
             0.4444444444444444,
             "#bd3786"
            ],
            [
             0.5555555555555556,
             "#d8576b"
            ],
            [
             0.6666666666666666,
             "#ed7953"
            ],
            [
             0.7777777777777778,
             "#fb9f3a"
            ],
            [
             0.8888888888888888,
             "#fdca26"
            ],
            [
             1,
             "#f0f921"
            ]
           ]
          },
          "colorway": [
           "#636efa",
           "#EF553B",
           "#00cc96",
           "#ab63fa",
           "#FFA15A",
           "#19d3f3",
           "#FF6692",
           "#B6E880",
           "#FF97FF",
           "#FECB52"
          ],
          "font": {
           "color": "#2a3f5f"
          },
          "geo": {
           "bgcolor": "white",
           "lakecolor": "white",
           "landcolor": "white",
           "showlakes": true,
           "showland": true,
           "subunitcolor": "#C8D4E3"
          },
          "hoverlabel": {
           "align": "left"
          },
          "hovermode": "closest",
          "mapbox": {
           "style": "light"
          },
          "paper_bgcolor": "white",
          "plot_bgcolor": "white",
          "polar": {
           "angularaxis": {
            "gridcolor": "#EBF0F8",
            "linecolor": "#EBF0F8",
            "ticks": ""
           },
           "bgcolor": "white",
           "radialaxis": {
            "gridcolor": "#EBF0F8",
            "linecolor": "#EBF0F8",
            "ticks": ""
           }
          },
          "scene": {
           "xaxis": {
            "backgroundcolor": "white",
            "gridcolor": "#DFE8F3",
            "gridwidth": 2,
            "linecolor": "#EBF0F8",
            "showbackground": true,
            "ticks": "",
            "zerolinecolor": "#EBF0F8"
           },
           "yaxis": {
            "backgroundcolor": "white",
            "gridcolor": "#DFE8F3",
            "gridwidth": 2,
            "linecolor": "#EBF0F8",
            "showbackground": true,
            "ticks": "",
            "zerolinecolor": "#EBF0F8"
           },
           "zaxis": {
            "backgroundcolor": "white",
            "gridcolor": "#DFE8F3",
            "gridwidth": 2,
            "linecolor": "#EBF0F8",
            "showbackground": true,
            "ticks": "",
            "zerolinecolor": "#EBF0F8"
           }
          },
          "shapedefaults": {
           "line": {
            "color": "#2a3f5f"
           }
          },
          "ternary": {
           "aaxis": {
            "gridcolor": "#DFE8F3",
            "linecolor": "#A2B1C6",
            "ticks": ""
           },
           "baxis": {
            "gridcolor": "#DFE8F3",
            "linecolor": "#A2B1C6",
            "ticks": ""
           },
           "bgcolor": "white",
           "caxis": {
            "gridcolor": "#DFE8F3",
            "linecolor": "#A2B1C6",
            "ticks": ""
           }
          },
          "title": {
           "x": 0.05
          },
          "xaxis": {
           "automargin": true,
           "gridcolor": "#EBF0F8",
           "linecolor": "#EBF0F8",
           "ticks": "",
           "title": {
            "standoff": 15
           },
           "zerolinecolor": "#EBF0F8",
           "zerolinewidth": 2
          },
          "yaxis": {
           "automargin": true,
           "gridcolor": "#EBF0F8",
           "linecolor": "#EBF0F8",
           "ticks": "",
           "title": {
            "standoff": 15
           },
           "zerolinecolor": "#EBF0F8",
           "zerolinewidth": 2
          }
         }
        },
        "width": 700,
        "xaxis": {
         "showgrid": false
        },
        "yaxis": {
         "autorange": "reversed",
         "showgrid": false
        }
       }
      },
      "text/html": [
       "<div>                            <div id=\"d6528a1c-a6ab-4a77-af52-8a375e20d725\" class=\"plotly-graph-div\" style=\"height:700px; width:700px;\"></div>            <script type=\"text/javascript\">                require([\"plotly\"], function(Plotly) {                    window.PLOTLYENV=window.PLOTLYENV || {};                                    if (document.getElementById(\"d6528a1c-a6ab-4a77-af52-8a375e20d725\")) {                    Plotly.newPlot(                        \"d6528a1c-a6ab-4a77-af52-8a375e20d725\",                        [{\"colorscale\":[[0.0,\"#76BB40\"],[0.2,\"rgb(245, 245, 245)\"],[1.0,\"rgb(255, 255, 255)\"]],\"text\":[[1.0,null,null,null,null,null,null,null,null,null,null,null,null,null,null,null,null],[0.0,1.0,null,null,null,null,null,null,null,null,null,null,null,null,null,null,null],[0.0,0.58,1.0,null,null,null,null,null,null,null,null,null,null,null,null,null,null],[0.14,0.0,0.0,1.0,null,null,null,null,null,null,null,null,null,null,null,null,null],[0.78,0.0,0.0,0.0,1.0,null,null,null,null,null,null,null,null,null,null,null,null],[0.48,0.0,0.0,0.14,0.22,1.0,null,null,null,null,null,null,null,null,null,null,null],[0.04,0.0,0.0,0.66,0.14,0.42,1.0,null,null,null,null,null,null,null,null,null,null],[0.6,0.01,0.04,0.0,0.79,0.18,0.0,1.0,null,null,null,null,null,null,null,null,null],[0.0,0.0,0.0,0.0,0.07,0.0,0.0,0.18,1.0,null,null,null,null,null,null,null,null],[0.6,0.0,0.0,0.18,0.18,0.48,0.26,0.6,0.18,1.0,null,null,null,null,null,null,null],[0.0,0.0,0.0,0.18,0.0,0.0,0.26,0.0,0.0,0.0,1.0,null,null,null,null,null,null],[0.79,0.0,0.0,0.07,0.18,0.11,0.07,0.78,0.18,0.13,0.0,1.0,null,null,null,null,null],[1.0,0.0,0.0,0.0,0.22,0.48,0.37,0.23,0.0,0.23,0.0,0.14,1.0,null,null,null,null],[0.31,0.0,0.0,0.0,0.1,0.11,0.0,1.0,0.53,0.18,0.0,0.18,0.02,1.0,null,null,null],[0.36,0.0,0.0,0.79,0.07,0.31,0.72,0.11,0.0,0.6,0.02,0.14,0.31,0.0,1.0,null,null],[0.18,0.0,0.0,0.31,0.07,0.53,0.48,0.0,0.0,0.6,0.18,0.36,1.0,0.0,0.37,1.0,null],[0.66,0.0,0.0,0.0,0.31,0.79,0.66,0.18,0.02,1.0,0.0,0.66,0.47,0.04,0.14,1.0,1.0]],\"textfont\":{\"size\":8},\"texttemplate\":\"%{text}\",\"x\":[\"OC\",\"LIME\",\"KS\",\"VG\",\"IxG\",\"GB\",\"GC\",\"SC\",\"C+\",\"IG\",\"EG\",\"DL\",\"DLS\",\"LRP\",\"RA\",\"RoA\",\"LA\"],\"xgap\":1,\"y\":[\"OC\",\"LIME\",\"KS\",\"VG\",\"IxG\",\"GB\",\"GC\",\"SC\",\"C+\",\"IG\",\"EG\",\"DL\",\"DLS\",\"LRP\",\"RA\",\"RoA\",\"LA\"],\"ygap\":1,\"z\":[[1.0,null,null,null,null,null,null,null,null,null,null,null,null,null,null,null,null],[0.0,1.0,null,null,null,null,null,null,null,null,null,null,null,null,null,null,null],[0.0,0.58,1.0,null,null,null,null,null,null,null,null,null,null,null,null,null,null],[0.14,0.0,0.0,1.0,null,null,null,null,null,null,null,null,null,null,null,null,null],[0.78,0.0,0.0,0.0,1.0,null,null,null,null,null,null,null,null,null,null,null,null],[0.48,0.0,0.0,0.14,0.22,1.0,null,null,null,null,null,null,null,null,null,null,null],[0.04,0.0,0.0,0.66,0.14,0.42,1.0,null,null,null,null,null,null,null,null,null,null],[0.6,0.01,0.04,0.0,0.79,0.18,0.0,1.0,null,null,null,null,null,null,null,null,null],[0.0,0.0,0.0,0.0,0.07,0.0,0.0,0.18,1.0,null,null,null,null,null,null,null,null],[0.6,0.0,0.0,0.18,0.18,0.48,0.26,0.6,0.18,1.0,null,null,null,null,null,null,null],[0.0,0.0,0.0,0.18,0.0,0.0,0.26,0.0,0.0,0.0,1.0,null,null,null,null,null,null],[0.79,0.0,0.0,0.07,0.18,0.11,0.07,0.78,0.18,0.13,0.0,1.0,null,null,null,null,null],[1.0,0.0,0.0,0.0,0.22,0.48,0.37,0.23,0.0,0.23,0.0,0.14,1.0,null,null,null,null],[0.31,0.0,0.0,0.0,0.1,0.11,0.0,1.0,0.53,0.18,0.0,0.18,0.02,1.0,null,null,null],[0.36,0.0,0.0,0.79,0.07,0.31,0.72,0.11,0.0,0.6,0.02,0.14,0.31,0.0,1.0,null,null],[0.18,0.0,0.0,0.31,0.07,0.53,0.48,0.0,0.0,0.6,0.18,0.36,1.0,0.0,0.37,1.0,null],[0.66,0.0,0.0,0.0,0.31,0.79,0.66,0.18,0.02,1.0,0.0,0.66,0.47,0.04,0.14,1.0,1.0]],\"zmax\":1,\"zmin\":0,\"type\":\"heatmap\"}],                        {\"font\":{\"color\":\"#000000\",\"family\":\"Helvetica\",\"size\":13},\"height\":700,\"template\":{\"data\":{\"barpolar\":[{\"marker\":{\"line\":{\"color\":\"white\",\"width\":0.5},\"pattern\":{\"fillmode\":\"overlay\",\"size\":10,\"solidity\":0.2}},\"type\":\"barpolar\"}],\"bar\":[{\"error_x\":{\"color\":\"#2a3f5f\"},\"error_y\":{\"color\":\"#2a3f5f\"},\"marker\":{\"line\":{\"color\":\"white\",\"width\":0.5},\"pattern\":{\"fillmode\":\"overlay\",\"size\":10,\"solidity\":0.2}},\"type\":\"bar\"}],\"carpet\":[{\"aaxis\":{\"endlinecolor\":\"#2a3f5f\",\"gridcolor\":\"#C8D4E3\",\"linecolor\":\"#C8D4E3\",\"minorgridcolor\":\"#C8D4E3\",\"startlinecolor\":\"#2a3f5f\"},\"baxis\":{\"endlinecolor\":\"#2a3f5f\",\"gridcolor\":\"#C8D4E3\",\"linecolor\":\"#C8D4E3\",\"minorgridcolor\":\"#C8D4E3\",\"startlinecolor\":\"#2a3f5f\"},\"type\":\"carpet\"}],\"choropleth\":[{\"colorbar\":{\"outlinewidth\":0,\"ticks\":\"\"},\"type\":\"choropleth\"}],\"contourcarpet\":[{\"colorbar\":{\"outlinewidth\":0,\"ticks\":\"\"},\"type\":\"contourcarpet\"}],\"contour\":[{\"colorbar\":{\"outlinewidth\":0,\"ticks\":\"\"},\"colorscale\":[[0.0,\"#0d0887\"],[0.1111111111111111,\"#46039f\"],[0.2222222222222222,\"#7201a8\"],[0.3333333333333333,\"#9c179e\"],[0.4444444444444444,\"#bd3786\"],[0.5555555555555556,\"#d8576b\"],[0.6666666666666666,\"#ed7953\"],[0.7777777777777778,\"#fb9f3a\"],[0.8888888888888888,\"#fdca26\"],[1.0,\"#f0f921\"]],\"type\":\"contour\"}],\"heatmapgl\":[{\"colorbar\":{\"outlinewidth\":0,\"ticks\":\"\"},\"colorscale\":[[0.0,\"#0d0887\"],[0.1111111111111111,\"#46039f\"],[0.2222222222222222,\"#7201a8\"],[0.3333333333333333,\"#9c179e\"],[0.4444444444444444,\"#bd3786\"],[0.5555555555555556,\"#d8576b\"],[0.6666666666666666,\"#ed7953\"],[0.7777777777777778,\"#fb9f3a\"],[0.8888888888888888,\"#fdca26\"],[1.0,\"#f0f921\"]],\"type\":\"heatmapgl\"}],\"heatmap\":[{\"colorbar\":{\"outlinewidth\":0,\"ticks\":\"\"},\"colorscale\":[[0.0,\"#0d0887\"],[0.1111111111111111,\"#46039f\"],[0.2222222222222222,\"#7201a8\"],[0.3333333333333333,\"#9c179e\"],[0.4444444444444444,\"#bd3786\"],[0.5555555555555556,\"#d8576b\"],[0.6666666666666666,\"#ed7953\"],[0.7777777777777778,\"#fb9f3a\"],[0.8888888888888888,\"#fdca26\"],[1.0,\"#f0f921\"]],\"type\":\"heatmap\"}],\"histogram2dcontour\":[{\"colorbar\":{\"outlinewidth\":0,\"ticks\":\"\"},\"colorscale\":[[0.0,\"#0d0887\"],[0.1111111111111111,\"#46039f\"],[0.2222222222222222,\"#7201a8\"],[0.3333333333333333,\"#9c179e\"],[0.4444444444444444,\"#bd3786\"],[0.5555555555555556,\"#d8576b\"],[0.6666666666666666,\"#ed7953\"],[0.7777777777777778,\"#fb9f3a\"],[0.8888888888888888,\"#fdca26\"],[1.0,\"#f0f921\"]],\"type\":\"histogram2dcontour\"}],\"histogram2d\":[{\"colorbar\":{\"outlinewidth\":0,\"ticks\":\"\"},\"colorscale\":[[0.0,\"#0d0887\"],[0.1111111111111111,\"#46039f\"],[0.2222222222222222,\"#7201a8\"],[0.3333333333333333,\"#9c179e\"],[0.4444444444444444,\"#bd3786\"],[0.5555555555555556,\"#d8576b\"],[0.6666666666666666,\"#ed7953\"],[0.7777777777777778,\"#fb9f3a\"],[0.8888888888888888,\"#fdca26\"],[1.0,\"#f0f921\"]],\"type\":\"histogram2d\"}],\"histogram\":[{\"marker\":{\"pattern\":{\"fillmode\":\"overlay\",\"size\":10,\"solidity\":0.2}},\"type\":\"histogram\"}],\"mesh3d\":[{\"colorbar\":{\"outlinewidth\":0,\"ticks\":\"\"},\"type\":\"mesh3d\"}],\"parcoords\":[{\"line\":{\"colorbar\":{\"outlinewidth\":0,\"ticks\":\"\"}},\"type\":\"parcoords\"}],\"pie\":[{\"automargin\":true,\"type\":\"pie\"}],\"scatter3d\":[{\"line\":{\"colorbar\":{\"outlinewidth\":0,\"ticks\":\"\"}},\"marker\":{\"colorbar\":{\"outlinewidth\":0,\"ticks\":\"\"}},\"type\":\"scatter3d\"}],\"scattercarpet\":[{\"marker\":{\"colorbar\":{\"outlinewidth\":0,\"ticks\":\"\"}},\"type\":\"scattercarpet\"}],\"scattergeo\":[{\"marker\":{\"colorbar\":{\"outlinewidth\":0,\"ticks\":\"\"}},\"type\":\"scattergeo\"}],\"scattergl\":[{\"marker\":{\"colorbar\":{\"outlinewidth\":0,\"ticks\":\"\"}},\"type\":\"scattergl\"}],\"scattermapbox\":[{\"marker\":{\"colorbar\":{\"outlinewidth\":0,\"ticks\":\"\"}},\"type\":\"scattermapbox\"}],\"scatterpolargl\":[{\"marker\":{\"colorbar\":{\"outlinewidth\":0,\"ticks\":\"\"}},\"type\":\"scatterpolargl\"}],\"scatterpolar\":[{\"marker\":{\"colorbar\":{\"outlinewidth\":0,\"ticks\":\"\"}},\"type\":\"scatterpolar\"}],\"scatter\":[{\"fillpattern\":{\"fillmode\":\"overlay\",\"size\":10,\"solidity\":0.2},\"type\":\"scatter\"}],\"scatterternary\":[{\"marker\":{\"colorbar\":{\"outlinewidth\":0,\"ticks\":\"\"}},\"type\":\"scatterternary\"}],\"surface\":[{\"colorbar\":{\"outlinewidth\":0,\"ticks\":\"\"},\"colorscale\":[[0.0,\"#0d0887\"],[0.1111111111111111,\"#46039f\"],[0.2222222222222222,\"#7201a8\"],[0.3333333333333333,\"#9c179e\"],[0.4444444444444444,\"#bd3786\"],[0.5555555555555556,\"#d8576b\"],[0.6666666666666666,\"#ed7953\"],[0.7777777777777778,\"#fb9f3a\"],[0.8888888888888888,\"#fdca26\"],[1.0,\"#f0f921\"]],\"type\":\"surface\"}],\"table\":[{\"cells\":{\"fill\":{\"color\":\"#EBF0F8\"},\"line\":{\"color\":\"white\"}},\"header\":{\"fill\":{\"color\":\"#C8D4E3\"},\"line\":{\"color\":\"white\"}},\"type\":\"table\"}]},\"layout\":{\"annotationdefaults\":{\"arrowcolor\":\"#2a3f5f\",\"arrowhead\":0,\"arrowwidth\":1},\"autotypenumbers\":\"strict\",\"coloraxis\":{\"colorbar\":{\"outlinewidth\":0,\"ticks\":\"\"}},\"colorscale\":{\"diverging\":[[0,\"#8e0152\"],[0.1,\"#c51b7d\"],[0.2,\"#de77ae\"],[0.3,\"#f1b6da\"],[0.4,\"#fde0ef\"],[0.5,\"#f7f7f7\"],[0.6,\"#e6f5d0\"],[0.7,\"#b8e186\"],[0.8,\"#7fbc41\"],[0.9,\"#4d9221\"],[1,\"#276419\"]],\"sequential\":[[0.0,\"#0d0887\"],[0.1111111111111111,\"#46039f\"],[0.2222222222222222,\"#7201a8\"],[0.3333333333333333,\"#9c179e\"],[0.4444444444444444,\"#bd3786\"],[0.5555555555555556,\"#d8576b\"],[0.6666666666666666,\"#ed7953\"],[0.7777777777777778,\"#fb9f3a\"],[0.8888888888888888,\"#fdca26\"],[1.0,\"#f0f921\"]],\"sequentialminus\":[[0.0,\"#0d0887\"],[0.1111111111111111,\"#46039f\"],[0.2222222222222222,\"#7201a8\"],[0.3333333333333333,\"#9c179e\"],[0.4444444444444444,\"#bd3786\"],[0.5555555555555556,\"#d8576b\"],[0.6666666666666666,\"#ed7953\"],[0.7777777777777778,\"#fb9f3a\"],[0.8888888888888888,\"#fdca26\"],[1.0,\"#f0f921\"]]},\"colorway\":[\"#636efa\",\"#EF553B\",\"#00cc96\",\"#ab63fa\",\"#FFA15A\",\"#19d3f3\",\"#FF6692\",\"#B6E880\",\"#FF97FF\",\"#FECB52\"],\"font\":{\"color\":\"#2a3f5f\"},\"geo\":{\"bgcolor\":\"white\",\"lakecolor\":\"white\",\"landcolor\":\"white\",\"showlakes\":true,\"showland\":true,\"subunitcolor\":\"#C8D4E3\"},\"hoverlabel\":{\"align\":\"left\"},\"hovermode\":\"closest\",\"mapbox\":{\"style\":\"light\"},\"paper_bgcolor\":\"white\",\"plot_bgcolor\":\"white\",\"polar\":{\"angularaxis\":{\"gridcolor\":\"#EBF0F8\",\"linecolor\":\"#EBF0F8\",\"ticks\":\"\"},\"bgcolor\":\"white\",\"radialaxis\":{\"gridcolor\":\"#EBF0F8\",\"linecolor\":\"#EBF0F8\",\"ticks\":\"\"}},\"scene\":{\"xaxis\":{\"backgroundcolor\":\"white\",\"gridcolor\":\"#DFE8F3\",\"gridwidth\":2,\"linecolor\":\"#EBF0F8\",\"showbackground\":true,\"ticks\":\"\",\"zerolinecolor\":\"#EBF0F8\"},\"yaxis\":{\"backgroundcolor\":\"white\",\"gridcolor\":\"#DFE8F3\",\"gridwidth\":2,\"linecolor\":\"#EBF0F8\",\"showbackground\":true,\"ticks\":\"\",\"zerolinecolor\":\"#EBF0F8\"},\"zaxis\":{\"backgroundcolor\":\"white\",\"gridcolor\":\"#DFE8F3\",\"gridwidth\":2,\"linecolor\":\"#EBF0F8\",\"showbackground\":true,\"ticks\":\"\",\"zerolinecolor\":\"#EBF0F8\"}},\"shapedefaults\":{\"line\":{\"color\":\"#2a3f5f\"}},\"ternary\":{\"aaxis\":{\"gridcolor\":\"#DFE8F3\",\"linecolor\":\"#A2B1C6\",\"ticks\":\"\"},\"baxis\":{\"gridcolor\":\"#DFE8F3\",\"linecolor\":\"#A2B1C6\",\"ticks\":\"\"},\"bgcolor\":\"white\",\"caxis\":{\"gridcolor\":\"#DFE8F3\",\"linecolor\":\"#A2B1C6\",\"ticks\":\"\"}},\"title\":{\"x\":0.05},\"xaxis\":{\"automargin\":true,\"gridcolor\":\"#EBF0F8\",\"linecolor\":\"#EBF0F8\",\"ticks\":\"\",\"title\":{\"standoff\":15},\"zerolinecolor\":\"#EBF0F8\",\"zerolinewidth\":2},\"yaxis\":{\"automargin\":true,\"gridcolor\":\"#EBF0F8\",\"linecolor\":\"#EBF0F8\",\"ticks\":\"\",\"title\":{\"standoff\":15},\"zerolinecolor\":\"#EBF0F8\",\"zerolinewidth\":2}}},\"width\":700,\"xaxis\":{\"showgrid\":false},\"yaxis\":{\"autorange\":\"reversed\",\"showgrid\":false}},                        {\"responsive\": true}                    ).then(function(){\n",
       "                            \n",
       "var gd = document.getElementById('d6528a1c-a6ab-4a77-af52-8a375e20d725');\n",
       "var x = new MutationObserver(function (mutations, observer) {{\n",
       "        var display = window.getComputedStyle(gd).display;\n",
       "        if (!display || display === 'none') {{\n",
       "            console.log([gd, 'removed!']);\n",
       "            Plotly.purge(gd);\n",
       "            observer.disconnect();\n",
       "        }}\n",
       "}});\n",
       "\n",
       "// Listen for the removal of the full notebook cells\n",
       "var notebookContainer = gd.closest('#notebook-container');\n",
       "if (notebookContainer) {{\n",
       "    x.observe(notebookContainer, {childList: true});\n",
       "}}\n",
       "\n",
       "// Listen for the clearing of the current output cell\n",
       "var outputEl = gd.closest('.output');\n",
       "if (outputEl) {{\n",
       "    x.observe(outputEl, {childList: true});\n",
       "}}\n",
       "\n",
       "                        })                };                });            </script>        </div>"
      ]
     },
     "metadata": {},
     "output_type": "display_data"
    }
   ],
   "source": [
    "rob = pd.read_csv(os.getcwd()[:-9] + \"/data/rob.csv\", header=None)\n",
    "test_rob = np.zeros((17, 17))\n",
    "\n",
    "for i in range(17):\n",
    "    for j in range(17):\n",
    "        test_rob[i, j] = (\n",
    "            mannwhitneyu(rob.iloc[i, :], rob.iloc[j, :], use_continuity=False)[1] - 0.15\n",
    "        )\n",
    "\n",
    "test_rob[test_rob < 0] = 0\n",
    "test_rob[test_rob >= 0.85] = 1\n",
    "rob = pd.DataFrame(np.round(test_rob, 2)).where(\n",
    "    np.tril(np.ones(test_rob.shape)).astype(bool)\n",
    ")\n",
    "rob.columns = names\n",
    "rob.index = names\n",
    "\n",
    "import plotly.graph_objects as go\n",
    "\n",
    "heat = go.Heatmap(\n",
    "    z=rob,\n",
    "    x=rob.columns,\n",
    "    y=rob.columns,\n",
    "    text=np.round(rob.to_numpy(), 2),\n",
    "    texttemplate=\"%{text}\",\n",
    "    textfont_size=8,\n",
    "    zmin=0,  # Sets the lower bound of the color domain\n",
    "    zmax=1,\n",
    "    xgap=1,  # Sets the horizontal gap (in pixels) between bricks\n",
    "    ygap=1,\n",
    "    colorscale=[\n",
    "        [0.0, \"#76BB40\"],\n",
    "        [0.2, \"rgb(245, 245, 245)\"],\n",
    "        [1.0, \"rgb(255, 255, 255)\"],\n",
    "    ],\n",
    ")\n",
    "\n",
    "layout = go.Layout(\n",
    "    template=\"plotly_white\",\n",
    "    width=700,\n",
    "    height=700,\n",
    "    # title=\"Correlation between Histomics\",\n",
    "    xaxis_showgrid=False,\n",
    "    yaxis_showgrid=False,\n",
    "    yaxis_autorange=\"reversed\",\n",
    "    font=dict(family=\"Helvetica\", color=\"#000000\", size=13),\n",
    ")\n",
    "\n",
    "fig = go.Figure(data=[heat], layout=layout)\n",
    "fig.write_image(os.getcwd()[:-9] + \"/data/figures/test_heatmap_rob.png\", scale=2)\n",
    "fig.show()"
   ]
  },
  {
   "cell_type": "code",
   "execution_count": 58,
   "metadata": {},
   "outputs": [
    {
     "data": {
      "application/vnd.plotly.v1+json": {
       "config": {
        "plotlyServerURL": "https://plot.ly"
       },
       "data": [
        {
         "colorscale": [
          [
           0,
           "#76BB40"
          ],
          [
           0.2,
           "rgb(245, 245, 245)"
          ],
          [
           1,
           "rgb(255, 255, 255)"
          ]
         ],
         "text": [
          [
           1,
           null,
           null,
           null,
           null,
           null,
           null,
           null,
           null,
           null,
           null,
           null,
           null,
           null,
           null,
           null,
           null
          ],
          [
           0.05,
           1,
           null,
           null,
           null,
           null,
           null,
           null,
           null,
           null,
           null,
           null,
           null,
           null,
           null,
           null,
           null
          ],
          [
           0.1,
           0.05,
           1,
           null,
           null,
           null,
           null,
           null,
           null,
           null,
           null,
           null,
           null,
           null,
           null,
           null,
           null
          ],
          [
           0.18,
           0.05,
           0.4,
           1,
           null,
           null,
           null,
           null,
           null,
           null,
           null,
           null,
           null,
           null,
           null,
           null,
           null
          ],
          [
           0.05,
           0.04,
           0.05,
           0.05,
           1,
           null,
           null,
           null,
           null,
           null,
           null,
           null,
           null,
           null,
           null,
           null,
           null
          ],
          [
           0.05,
           0.04,
           0.05,
           0.05,
           0.46,
           1,
           null,
           null,
           null,
           null,
           null,
           null,
           null,
           null,
           null,
           null,
           null
          ],
          [
           0.08,
           0.05,
           0.18,
           0.66,
           0.05,
           0.05,
           1,
           null,
           null,
           null,
           null,
           null,
           null,
           null,
           null,
           null,
           null
          ],
          [
           0.08,
           0.18,
           0.1,
           0.1,
           0.05,
           0.05,
           0.1,
           1,
           null,
           null,
           null,
           null,
           null,
           null,
           null,
           null,
           null
          ],
          [
           0.1,
           0.05,
           0.66,
           0.26,
           0.05,
           0.05,
           0.08,
           0.1,
           1,
           null,
           null,
           null,
           null,
           null,
           null,
           null,
           null
          ],
          [
           0.04,
           0.03,
           0.04,
           0.04,
           0.03,
           0.03,
           0.04,
           0.04,
           0.04,
           null,
           null,
           null,
           null,
           null,
           null,
           null,
           null
          ],
          [
           0.04,
           0.03,
           0.04,
           0.04,
           0.03,
           0.03,
           0.04,
           0.04,
           0.04,
           0.03,
           null,
           null,
           null,
           null,
           null,
           null,
           null
          ],
          [
           0.04,
           0.03,
           0.04,
           0.04,
           0.03,
           0.03,
           0.04,
           0.04,
           0.04,
           0.03,
           0.03,
           null,
           null,
           null,
           null,
           null,
           null
          ],
          [
           0.1,
           0.64,
           0.1,
           0.1,
           0.05,
           0.05,
           0.1,
           0.26,
           0.1,
           0.04,
           0.04,
           0.04,
           1,
           null,
           null,
           null,
           null
          ],
          [
           0.04,
           0.03,
           0.04,
           0.04,
           0.03,
           0.03,
           0.04,
           0.04,
           0.04,
           0.03,
           0.03,
           0.03,
           0.04,
           null,
           null,
           null,
           null
          ],
          [
           0.26,
           0.12,
           0.1,
           0.08,
           0.05,
           0.05,
           0.1,
           0.5,
           0.1,
           0.04,
           0.04,
           0.04,
           0.18,
           0.04,
           1,
           null,
           null
          ],
          [
           0.05,
           0.04,
           0.35,
           0.05,
           0.04,
           0.04,
           0.05,
           0.05,
           0.07,
           0.03,
           0.03,
           0.03,
           0.05,
           0.03,
           0.05,
           1,
           null
          ],
          [
           0.08,
           0.05,
           0.18,
           1,
           0.05,
           0.05,
           0.82,
           0.1,
           0.18,
           0.04,
           0.04,
           0.04,
           0.1,
           0.04,
           0.1,
           0.05,
           1
          ]
         ],
         "textfont": {
          "size": 8
         },
         "texttemplate": "%{text}",
         "type": "heatmap",
         "x": [
          "OC",
          "LIME",
          "KS",
          "VG",
          "IxG",
          "GB",
          "GC",
          "SC",
          "C+",
          "IG",
          "EG",
          "DL",
          "DLS",
          "LRP",
          "RA",
          "RoA",
          "LA"
         ],
         "xgap": 1,
         "y": [
          "OC",
          "LIME",
          "KS",
          "VG",
          "IxG",
          "GB",
          "GC",
          "SC",
          "C+",
          "IG",
          "EG",
          "DL",
          "DLS",
          "LRP",
          "RA",
          "RoA",
          "LA"
         ],
         "ygap": 1,
         "z": [
          [
           1,
           null,
           null,
           null,
           null,
           null,
           null,
           null,
           null,
           null,
           null,
           null,
           null,
           null,
           null,
           null,
           null
          ],
          [
           0.05,
           1,
           null,
           null,
           null,
           null,
           null,
           null,
           null,
           null,
           null,
           null,
           null,
           null,
           null,
           null,
           null
          ],
          [
           0.1,
           0.05,
           1,
           null,
           null,
           null,
           null,
           null,
           null,
           null,
           null,
           null,
           null,
           null,
           null,
           null,
           null
          ],
          [
           0.18,
           0.05,
           0.4,
           1,
           null,
           null,
           null,
           null,
           null,
           null,
           null,
           null,
           null,
           null,
           null,
           null,
           null
          ],
          [
           0.05,
           0.04,
           0.05,
           0.05,
           1,
           null,
           null,
           null,
           null,
           null,
           null,
           null,
           null,
           null,
           null,
           null,
           null
          ],
          [
           0.05,
           0.04,
           0.05,
           0.05,
           0.46,
           1,
           null,
           null,
           null,
           null,
           null,
           null,
           null,
           null,
           null,
           null,
           null
          ],
          [
           0.08,
           0.05,
           0.18,
           0.66,
           0.05,
           0.05,
           1,
           null,
           null,
           null,
           null,
           null,
           null,
           null,
           null,
           null,
           null
          ],
          [
           0.08,
           0.18,
           0.1,
           0.1,
           0.05,
           0.05,
           0.1,
           1,
           null,
           null,
           null,
           null,
           null,
           null,
           null,
           null,
           null
          ],
          [
           0.1,
           0.05,
           0.66,
           0.26,
           0.05,
           0.05,
           0.08,
           0.1,
           1,
           null,
           null,
           null,
           null,
           null,
           null,
           null,
           null
          ],
          [
           0.04,
           0.03,
           0.04,
           0.04,
           0.03,
           0.03,
           0.04,
           0.04,
           0.04,
           null,
           null,
           null,
           null,
           null,
           null,
           null,
           null
          ],
          [
           0.04,
           0.03,
           0.04,
           0.04,
           0.03,
           0.03,
           0.04,
           0.04,
           0.04,
           0.03,
           null,
           null,
           null,
           null,
           null,
           null,
           null
          ],
          [
           0.04,
           0.03,
           0.04,
           0.04,
           0.03,
           0.03,
           0.04,
           0.04,
           0.04,
           0.03,
           0.03,
           null,
           null,
           null,
           null,
           null,
           null
          ],
          [
           0.1,
           0.64,
           0.1,
           0.1,
           0.05,
           0.05,
           0.1,
           0.26,
           0.1,
           0.04,
           0.04,
           0.04,
           1,
           null,
           null,
           null,
           null
          ],
          [
           0.04,
           0.03,
           0.04,
           0.04,
           0.03,
           0.03,
           0.04,
           0.04,
           0.04,
           0.03,
           0.03,
           0.03,
           0.04,
           null,
           null,
           null,
           null
          ],
          [
           0.26,
           0.12,
           0.1,
           0.08,
           0.05,
           0.05,
           0.1,
           0.5,
           0.1,
           0.04,
           0.04,
           0.04,
           0.18,
           0.04,
           1,
           null,
           null
          ],
          [
           0.05,
           0.04,
           0.35,
           0.05,
           0.04,
           0.04,
           0.05,
           0.05,
           0.07,
           0.03,
           0.03,
           0.03,
           0.05,
           0.03,
           0.05,
           1,
           null
          ],
          [
           0.08,
           0.05,
           0.18,
           1,
           0.05,
           0.05,
           0.82,
           0.1,
           0.18,
           0.04,
           0.04,
           0.04,
           0.1,
           0.04,
           0.1,
           0.05,
           1
          ]
         ],
         "zmax": 1,
         "zmin": 0
        }
       ],
       "layout": {
        "font": {
         "color": "#000000",
         "family": "Helvetica",
         "size": 13
        },
        "height": 700,
        "template": {
         "data": {
          "bar": [
           {
            "error_x": {
             "color": "#2a3f5f"
            },
            "error_y": {
             "color": "#2a3f5f"
            },
            "marker": {
             "line": {
              "color": "white",
              "width": 0.5
             },
             "pattern": {
              "fillmode": "overlay",
              "size": 10,
              "solidity": 0.2
             }
            },
            "type": "bar"
           }
          ],
          "barpolar": [
           {
            "marker": {
             "line": {
              "color": "white",
              "width": 0.5
             },
             "pattern": {
              "fillmode": "overlay",
              "size": 10,
              "solidity": 0.2
             }
            },
            "type": "barpolar"
           }
          ],
          "carpet": [
           {
            "aaxis": {
             "endlinecolor": "#2a3f5f",
             "gridcolor": "#C8D4E3",
             "linecolor": "#C8D4E3",
             "minorgridcolor": "#C8D4E3",
             "startlinecolor": "#2a3f5f"
            },
            "baxis": {
             "endlinecolor": "#2a3f5f",
             "gridcolor": "#C8D4E3",
             "linecolor": "#C8D4E3",
             "minorgridcolor": "#C8D4E3",
             "startlinecolor": "#2a3f5f"
            },
            "type": "carpet"
           }
          ],
          "choropleth": [
           {
            "colorbar": {
             "outlinewidth": 0,
             "ticks": ""
            },
            "type": "choropleth"
           }
          ],
          "contour": [
           {
            "colorbar": {
             "outlinewidth": 0,
             "ticks": ""
            },
            "colorscale": [
             [
              0,
              "#0d0887"
             ],
             [
              0.1111111111111111,
              "#46039f"
             ],
             [
              0.2222222222222222,
              "#7201a8"
             ],
             [
              0.3333333333333333,
              "#9c179e"
             ],
             [
              0.4444444444444444,
              "#bd3786"
             ],
             [
              0.5555555555555556,
              "#d8576b"
             ],
             [
              0.6666666666666666,
              "#ed7953"
             ],
             [
              0.7777777777777778,
              "#fb9f3a"
             ],
             [
              0.8888888888888888,
              "#fdca26"
             ],
             [
              1,
              "#f0f921"
             ]
            ],
            "type": "contour"
           }
          ],
          "contourcarpet": [
           {
            "colorbar": {
             "outlinewidth": 0,
             "ticks": ""
            },
            "type": "contourcarpet"
           }
          ],
          "heatmap": [
           {
            "colorbar": {
             "outlinewidth": 0,
             "ticks": ""
            },
            "colorscale": [
             [
              0,
              "#0d0887"
             ],
             [
              0.1111111111111111,
              "#46039f"
             ],
             [
              0.2222222222222222,
              "#7201a8"
             ],
             [
              0.3333333333333333,
              "#9c179e"
             ],
             [
              0.4444444444444444,
              "#bd3786"
             ],
             [
              0.5555555555555556,
              "#d8576b"
             ],
             [
              0.6666666666666666,
              "#ed7953"
             ],
             [
              0.7777777777777778,
              "#fb9f3a"
             ],
             [
              0.8888888888888888,
              "#fdca26"
             ],
             [
              1,
              "#f0f921"
             ]
            ],
            "type": "heatmap"
           }
          ],
          "heatmapgl": [
           {
            "colorbar": {
             "outlinewidth": 0,
             "ticks": ""
            },
            "colorscale": [
             [
              0,
              "#0d0887"
             ],
             [
              0.1111111111111111,
              "#46039f"
             ],
             [
              0.2222222222222222,
              "#7201a8"
             ],
             [
              0.3333333333333333,
              "#9c179e"
             ],
             [
              0.4444444444444444,
              "#bd3786"
             ],
             [
              0.5555555555555556,
              "#d8576b"
             ],
             [
              0.6666666666666666,
              "#ed7953"
             ],
             [
              0.7777777777777778,
              "#fb9f3a"
             ],
             [
              0.8888888888888888,
              "#fdca26"
             ],
             [
              1,
              "#f0f921"
             ]
            ],
            "type": "heatmapgl"
           }
          ],
          "histogram": [
           {
            "marker": {
             "pattern": {
              "fillmode": "overlay",
              "size": 10,
              "solidity": 0.2
             }
            },
            "type": "histogram"
           }
          ],
          "histogram2d": [
           {
            "colorbar": {
             "outlinewidth": 0,
             "ticks": ""
            },
            "colorscale": [
             [
              0,
              "#0d0887"
             ],
             [
              0.1111111111111111,
              "#46039f"
             ],
             [
              0.2222222222222222,
              "#7201a8"
             ],
             [
              0.3333333333333333,
              "#9c179e"
             ],
             [
              0.4444444444444444,
              "#bd3786"
             ],
             [
              0.5555555555555556,
              "#d8576b"
             ],
             [
              0.6666666666666666,
              "#ed7953"
             ],
             [
              0.7777777777777778,
              "#fb9f3a"
             ],
             [
              0.8888888888888888,
              "#fdca26"
             ],
             [
              1,
              "#f0f921"
             ]
            ],
            "type": "histogram2d"
           }
          ],
          "histogram2dcontour": [
           {
            "colorbar": {
             "outlinewidth": 0,
             "ticks": ""
            },
            "colorscale": [
             [
              0,
              "#0d0887"
             ],
             [
              0.1111111111111111,
              "#46039f"
             ],
             [
              0.2222222222222222,
              "#7201a8"
             ],
             [
              0.3333333333333333,
              "#9c179e"
             ],
             [
              0.4444444444444444,
              "#bd3786"
             ],
             [
              0.5555555555555556,
              "#d8576b"
             ],
             [
              0.6666666666666666,
              "#ed7953"
             ],
             [
              0.7777777777777778,
              "#fb9f3a"
             ],
             [
              0.8888888888888888,
              "#fdca26"
             ],
             [
              1,
              "#f0f921"
             ]
            ],
            "type": "histogram2dcontour"
           }
          ],
          "mesh3d": [
           {
            "colorbar": {
             "outlinewidth": 0,
             "ticks": ""
            },
            "type": "mesh3d"
           }
          ],
          "parcoords": [
           {
            "line": {
             "colorbar": {
              "outlinewidth": 0,
              "ticks": ""
             }
            },
            "type": "parcoords"
           }
          ],
          "pie": [
           {
            "automargin": true,
            "type": "pie"
           }
          ],
          "scatter": [
           {
            "fillpattern": {
             "fillmode": "overlay",
             "size": 10,
             "solidity": 0.2
            },
            "type": "scatter"
           }
          ],
          "scatter3d": [
           {
            "line": {
             "colorbar": {
              "outlinewidth": 0,
              "ticks": ""
             }
            },
            "marker": {
             "colorbar": {
              "outlinewidth": 0,
              "ticks": ""
             }
            },
            "type": "scatter3d"
           }
          ],
          "scattercarpet": [
           {
            "marker": {
             "colorbar": {
              "outlinewidth": 0,
              "ticks": ""
             }
            },
            "type": "scattercarpet"
           }
          ],
          "scattergeo": [
           {
            "marker": {
             "colorbar": {
              "outlinewidth": 0,
              "ticks": ""
             }
            },
            "type": "scattergeo"
           }
          ],
          "scattergl": [
           {
            "marker": {
             "colorbar": {
              "outlinewidth": 0,
              "ticks": ""
             }
            },
            "type": "scattergl"
           }
          ],
          "scattermapbox": [
           {
            "marker": {
             "colorbar": {
              "outlinewidth": 0,
              "ticks": ""
             }
            },
            "type": "scattermapbox"
           }
          ],
          "scatterpolar": [
           {
            "marker": {
             "colorbar": {
              "outlinewidth": 0,
              "ticks": ""
             }
            },
            "type": "scatterpolar"
           }
          ],
          "scatterpolargl": [
           {
            "marker": {
             "colorbar": {
              "outlinewidth": 0,
              "ticks": ""
             }
            },
            "type": "scatterpolargl"
           }
          ],
          "scatterternary": [
           {
            "marker": {
             "colorbar": {
              "outlinewidth": 0,
              "ticks": ""
             }
            },
            "type": "scatterternary"
           }
          ],
          "surface": [
           {
            "colorbar": {
             "outlinewidth": 0,
             "ticks": ""
            },
            "colorscale": [
             [
              0,
              "#0d0887"
             ],
             [
              0.1111111111111111,
              "#46039f"
             ],
             [
              0.2222222222222222,
              "#7201a8"
             ],
             [
              0.3333333333333333,
              "#9c179e"
             ],
             [
              0.4444444444444444,
              "#bd3786"
             ],
             [
              0.5555555555555556,
              "#d8576b"
             ],
             [
              0.6666666666666666,
              "#ed7953"
             ],
             [
              0.7777777777777778,
              "#fb9f3a"
             ],
             [
              0.8888888888888888,
              "#fdca26"
             ],
             [
              1,
              "#f0f921"
             ]
            ],
            "type": "surface"
           }
          ],
          "table": [
           {
            "cells": {
             "fill": {
              "color": "#EBF0F8"
             },
             "line": {
              "color": "white"
             }
            },
            "header": {
             "fill": {
              "color": "#C8D4E3"
             },
             "line": {
              "color": "white"
             }
            },
            "type": "table"
           }
          ]
         },
         "layout": {
          "annotationdefaults": {
           "arrowcolor": "#2a3f5f",
           "arrowhead": 0,
           "arrowwidth": 1
          },
          "autotypenumbers": "strict",
          "coloraxis": {
           "colorbar": {
            "outlinewidth": 0,
            "ticks": ""
           }
          },
          "colorscale": {
           "diverging": [
            [
             0,
             "#8e0152"
            ],
            [
             0.1,
             "#c51b7d"
            ],
            [
             0.2,
             "#de77ae"
            ],
            [
             0.3,
             "#f1b6da"
            ],
            [
             0.4,
             "#fde0ef"
            ],
            [
             0.5,
             "#f7f7f7"
            ],
            [
             0.6,
             "#e6f5d0"
            ],
            [
             0.7,
             "#b8e186"
            ],
            [
             0.8,
             "#7fbc41"
            ],
            [
             0.9,
             "#4d9221"
            ],
            [
             1,
             "#276419"
            ]
           ],
           "sequential": [
            [
             0,
             "#0d0887"
            ],
            [
             0.1111111111111111,
             "#46039f"
            ],
            [
             0.2222222222222222,
             "#7201a8"
            ],
            [
             0.3333333333333333,
             "#9c179e"
            ],
            [
             0.4444444444444444,
             "#bd3786"
            ],
            [
             0.5555555555555556,
             "#d8576b"
            ],
            [
             0.6666666666666666,
             "#ed7953"
            ],
            [
             0.7777777777777778,
             "#fb9f3a"
            ],
            [
             0.8888888888888888,
             "#fdca26"
            ],
            [
             1,
             "#f0f921"
            ]
           ],
           "sequentialminus": [
            [
             0,
             "#0d0887"
            ],
            [
             0.1111111111111111,
             "#46039f"
            ],
            [
             0.2222222222222222,
             "#7201a8"
            ],
            [
             0.3333333333333333,
             "#9c179e"
            ],
            [
             0.4444444444444444,
             "#bd3786"
            ],
            [
             0.5555555555555556,
             "#d8576b"
            ],
            [
             0.6666666666666666,
             "#ed7953"
            ],
            [
             0.7777777777777778,
             "#fb9f3a"
            ],
            [
             0.8888888888888888,
             "#fdca26"
            ],
            [
             1,
             "#f0f921"
            ]
           ]
          },
          "colorway": [
           "#636efa",
           "#EF553B",
           "#00cc96",
           "#ab63fa",
           "#FFA15A",
           "#19d3f3",
           "#FF6692",
           "#B6E880",
           "#FF97FF",
           "#FECB52"
          ],
          "font": {
           "color": "#2a3f5f"
          },
          "geo": {
           "bgcolor": "white",
           "lakecolor": "white",
           "landcolor": "white",
           "showlakes": true,
           "showland": true,
           "subunitcolor": "#C8D4E3"
          },
          "hoverlabel": {
           "align": "left"
          },
          "hovermode": "closest",
          "mapbox": {
           "style": "light"
          },
          "paper_bgcolor": "white",
          "plot_bgcolor": "white",
          "polar": {
           "angularaxis": {
            "gridcolor": "#EBF0F8",
            "linecolor": "#EBF0F8",
            "ticks": ""
           },
           "bgcolor": "white",
           "radialaxis": {
            "gridcolor": "#EBF0F8",
            "linecolor": "#EBF0F8",
            "ticks": ""
           }
          },
          "scene": {
           "xaxis": {
            "backgroundcolor": "white",
            "gridcolor": "#DFE8F3",
            "gridwidth": 2,
            "linecolor": "#EBF0F8",
            "showbackground": true,
            "ticks": "",
            "zerolinecolor": "#EBF0F8"
           },
           "yaxis": {
            "backgroundcolor": "white",
            "gridcolor": "#DFE8F3",
            "gridwidth": 2,
            "linecolor": "#EBF0F8",
            "showbackground": true,
            "ticks": "",
            "zerolinecolor": "#EBF0F8"
           },
           "zaxis": {
            "backgroundcolor": "white",
            "gridcolor": "#DFE8F3",
            "gridwidth": 2,
            "linecolor": "#EBF0F8",
            "showbackground": true,
            "ticks": "",
            "zerolinecolor": "#EBF0F8"
           }
          },
          "shapedefaults": {
           "line": {
            "color": "#2a3f5f"
           }
          },
          "ternary": {
           "aaxis": {
            "gridcolor": "#DFE8F3",
            "linecolor": "#A2B1C6",
            "ticks": ""
           },
           "baxis": {
            "gridcolor": "#DFE8F3",
            "linecolor": "#A2B1C6",
            "ticks": ""
           },
           "bgcolor": "white",
           "caxis": {
            "gridcolor": "#DFE8F3",
            "linecolor": "#A2B1C6",
            "ticks": ""
           }
          },
          "title": {
           "x": 0.05
          },
          "xaxis": {
           "automargin": true,
           "gridcolor": "#EBF0F8",
           "linecolor": "#EBF0F8",
           "ticks": "",
           "title": {
            "standoff": 15
           },
           "zerolinecolor": "#EBF0F8",
           "zerolinewidth": 2
          },
          "yaxis": {
           "automargin": true,
           "gridcolor": "#EBF0F8",
           "linecolor": "#EBF0F8",
           "ticks": "",
           "title": {
            "standoff": 15
           },
           "zerolinecolor": "#EBF0F8",
           "zerolinewidth": 2
          }
         }
        },
        "width": 700,
        "xaxis": {
         "showgrid": false
        },
        "yaxis": {
         "autorange": "reversed",
         "showgrid": false
        }
       }
      },
      "text/html": [
       "<div>                            <div id=\"4e033138-8252-48b0-8e79-15d5f736d66d\" class=\"plotly-graph-div\" style=\"height:700px; width:700px;\"></div>            <script type=\"text/javascript\">                require([\"plotly\"], function(Plotly) {                    window.PLOTLYENV=window.PLOTLYENV || {};                                    if (document.getElementById(\"4e033138-8252-48b0-8e79-15d5f736d66d\")) {                    Plotly.newPlot(                        \"4e033138-8252-48b0-8e79-15d5f736d66d\",                        [{\"colorscale\":[[0.0,\"#76BB40\"],[0.2,\"rgb(245, 245, 245)\"],[1.0,\"rgb(255, 255, 255)\"]],\"text\":[[1.0,null,null,null,null,null,null,null,null,null,null,null,null,null,null,null,null],[0.05,1.0,null,null,null,null,null,null,null,null,null,null,null,null,null,null,null],[0.1,0.05,1.0,null,null,null,null,null,null,null,null,null,null,null,null,null,null],[0.18,0.05,0.4,1.0,null,null,null,null,null,null,null,null,null,null,null,null,null],[0.05,0.04,0.05,0.05,1.0,null,null,null,null,null,null,null,null,null,null,null,null],[0.05,0.04,0.05,0.05,0.46,1.0,null,null,null,null,null,null,null,null,null,null,null],[0.08,0.05,0.18,0.66,0.05,0.05,1.0,null,null,null,null,null,null,null,null,null,null],[0.08,0.18,0.1,0.1,0.05,0.05,0.1,1.0,null,null,null,null,null,null,null,null,null],[0.1,0.05,0.66,0.26,0.05,0.05,0.08,0.1,1.0,null,null,null,null,null,null,null,null],[0.04,0.03,0.04,0.04,0.03,0.03,0.04,0.04,0.04,null,null,null,null,null,null,null,null],[0.04,0.03,0.04,0.04,0.03,0.03,0.04,0.04,0.04,0.03,null,null,null,null,null,null,null],[0.04,0.03,0.04,0.04,0.03,0.03,0.04,0.04,0.04,0.03,0.03,null,null,null,null,null,null],[0.1,0.64,0.1,0.1,0.05,0.05,0.1,0.26,0.1,0.04,0.04,0.04,1.0,null,null,null,null],[0.04,0.03,0.04,0.04,0.03,0.03,0.04,0.04,0.04,0.03,0.03,0.03,0.04,null,null,null,null],[0.26,0.12,0.1,0.08,0.05,0.05,0.1,0.5,0.1,0.04,0.04,0.04,0.18,0.04,1.0,null,null],[0.05,0.04,0.35,0.05,0.04,0.04,0.05,0.05,0.07,0.03,0.03,0.03,0.05,0.03,0.05,1.0,null],[0.08,0.05,0.18,1.0,0.05,0.05,0.82,0.1,0.18,0.04,0.04,0.04,0.1,0.04,0.1,0.05,1.0]],\"textfont\":{\"size\":8},\"texttemplate\":\"%{text}\",\"x\":[\"OC\",\"LIME\",\"KS\",\"VG\",\"IxG\",\"GB\",\"GC\",\"SC\",\"C+\",\"IG\",\"EG\",\"DL\",\"DLS\",\"LRP\",\"RA\",\"RoA\",\"LA\"],\"xgap\":1,\"y\":[\"OC\",\"LIME\",\"KS\",\"VG\",\"IxG\",\"GB\",\"GC\",\"SC\",\"C+\",\"IG\",\"EG\",\"DL\",\"DLS\",\"LRP\",\"RA\",\"RoA\",\"LA\"],\"ygap\":1,\"z\":[[1.0,null,null,null,null,null,null,null,null,null,null,null,null,null,null,null,null],[0.05,1.0,null,null,null,null,null,null,null,null,null,null,null,null,null,null,null],[0.1,0.05,1.0,null,null,null,null,null,null,null,null,null,null,null,null,null,null],[0.18,0.05,0.4,1.0,null,null,null,null,null,null,null,null,null,null,null,null,null],[0.05,0.04,0.05,0.05,1.0,null,null,null,null,null,null,null,null,null,null,null,null],[0.05,0.04,0.05,0.05,0.46,1.0,null,null,null,null,null,null,null,null,null,null,null],[0.08,0.05,0.18,0.66,0.05,0.05,1.0,null,null,null,null,null,null,null,null,null,null],[0.08,0.18,0.1,0.1,0.05,0.05,0.1,1.0,null,null,null,null,null,null,null,null,null],[0.1,0.05,0.66,0.26,0.05,0.05,0.08,0.1,1.0,null,null,null,null,null,null,null,null],[0.04,0.03,0.04,0.04,0.03,0.03,0.04,0.04,0.04,null,null,null,null,null,null,null,null],[0.04,0.03,0.04,0.04,0.03,0.03,0.04,0.04,0.04,0.03,null,null,null,null,null,null,null],[0.04,0.03,0.04,0.04,0.03,0.03,0.04,0.04,0.04,0.03,0.03,null,null,null,null,null,null],[0.1,0.64,0.1,0.1,0.05,0.05,0.1,0.26,0.1,0.04,0.04,0.04,1.0,null,null,null,null],[0.04,0.03,0.04,0.04,0.03,0.03,0.04,0.04,0.04,0.03,0.03,0.03,0.04,null,null,null,null],[0.26,0.12,0.1,0.08,0.05,0.05,0.1,0.5,0.1,0.04,0.04,0.04,0.18,0.04,1.0,null,null],[0.05,0.04,0.35,0.05,0.04,0.04,0.05,0.05,0.07,0.03,0.03,0.03,0.05,0.03,0.05,1.0,null],[0.08,0.05,0.18,1.0,0.05,0.05,0.82,0.1,0.18,0.04,0.04,0.04,0.1,0.04,0.1,0.05,1.0]],\"zmax\":1,\"zmin\":0,\"type\":\"heatmap\"}],                        {\"font\":{\"color\":\"#000000\",\"family\":\"Helvetica\",\"size\":13},\"height\":700,\"template\":{\"data\":{\"barpolar\":[{\"marker\":{\"line\":{\"color\":\"white\",\"width\":0.5},\"pattern\":{\"fillmode\":\"overlay\",\"size\":10,\"solidity\":0.2}},\"type\":\"barpolar\"}],\"bar\":[{\"error_x\":{\"color\":\"#2a3f5f\"},\"error_y\":{\"color\":\"#2a3f5f\"},\"marker\":{\"line\":{\"color\":\"white\",\"width\":0.5},\"pattern\":{\"fillmode\":\"overlay\",\"size\":10,\"solidity\":0.2}},\"type\":\"bar\"}],\"carpet\":[{\"aaxis\":{\"endlinecolor\":\"#2a3f5f\",\"gridcolor\":\"#C8D4E3\",\"linecolor\":\"#C8D4E3\",\"minorgridcolor\":\"#C8D4E3\",\"startlinecolor\":\"#2a3f5f\"},\"baxis\":{\"endlinecolor\":\"#2a3f5f\",\"gridcolor\":\"#C8D4E3\",\"linecolor\":\"#C8D4E3\",\"minorgridcolor\":\"#C8D4E3\",\"startlinecolor\":\"#2a3f5f\"},\"type\":\"carpet\"}],\"choropleth\":[{\"colorbar\":{\"outlinewidth\":0,\"ticks\":\"\"},\"type\":\"choropleth\"}],\"contourcarpet\":[{\"colorbar\":{\"outlinewidth\":0,\"ticks\":\"\"},\"type\":\"contourcarpet\"}],\"contour\":[{\"colorbar\":{\"outlinewidth\":0,\"ticks\":\"\"},\"colorscale\":[[0.0,\"#0d0887\"],[0.1111111111111111,\"#46039f\"],[0.2222222222222222,\"#7201a8\"],[0.3333333333333333,\"#9c179e\"],[0.4444444444444444,\"#bd3786\"],[0.5555555555555556,\"#d8576b\"],[0.6666666666666666,\"#ed7953\"],[0.7777777777777778,\"#fb9f3a\"],[0.8888888888888888,\"#fdca26\"],[1.0,\"#f0f921\"]],\"type\":\"contour\"}],\"heatmapgl\":[{\"colorbar\":{\"outlinewidth\":0,\"ticks\":\"\"},\"colorscale\":[[0.0,\"#0d0887\"],[0.1111111111111111,\"#46039f\"],[0.2222222222222222,\"#7201a8\"],[0.3333333333333333,\"#9c179e\"],[0.4444444444444444,\"#bd3786\"],[0.5555555555555556,\"#d8576b\"],[0.6666666666666666,\"#ed7953\"],[0.7777777777777778,\"#fb9f3a\"],[0.8888888888888888,\"#fdca26\"],[1.0,\"#f0f921\"]],\"type\":\"heatmapgl\"}],\"heatmap\":[{\"colorbar\":{\"outlinewidth\":0,\"ticks\":\"\"},\"colorscale\":[[0.0,\"#0d0887\"],[0.1111111111111111,\"#46039f\"],[0.2222222222222222,\"#7201a8\"],[0.3333333333333333,\"#9c179e\"],[0.4444444444444444,\"#bd3786\"],[0.5555555555555556,\"#d8576b\"],[0.6666666666666666,\"#ed7953\"],[0.7777777777777778,\"#fb9f3a\"],[0.8888888888888888,\"#fdca26\"],[1.0,\"#f0f921\"]],\"type\":\"heatmap\"}],\"histogram2dcontour\":[{\"colorbar\":{\"outlinewidth\":0,\"ticks\":\"\"},\"colorscale\":[[0.0,\"#0d0887\"],[0.1111111111111111,\"#46039f\"],[0.2222222222222222,\"#7201a8\"],[0.3333333333333333,\"#9c179e\"],[0.4444444444444444,\"#bd3786\"],[0.5555555555555556,\"#d8576b\"],[0.6666666666666666,\"#ed7953\"],[0.7777777777777778,\"#fb9f3a\"],[0.8888888888888888,\"#fdca26\"],[1.0,\"#f0f921\"]],\"type\":\"histogram2dcontour\"}],\"histogram2d\":[{\"colorbar\":{\"outlinewidth\":0,\"ticks\":\"\"},\"colorscale\":[[0.0,\"#0d0887\"],[0.1111111111111111,\"#46039f\"],[0.2222222222222222,\"#7201a8\"],[0.3333333333333333,\"#9c179e\"],[0.4444444444444444,\"#bd3786\"],[0.5555555555555556,\"#d8576b\"],[0.6666666666666666,\"#ed7953\"],[0.7777777777777778,\"#fb9f3a\"],[0.8888888888888888,\"#fdca26\"],[1.0,\"#f0f921\"]],\"type\":\"histogram2d\"}],\"histogram\":[{\"marker\":{\"pattern\":{\"fillmode\":\"overlay\",\"size\":10,\"solidity\":0.2}},\"type\":\"histogram\"}],\"mesh3d\":[{\"colorbar\":{\"outlinewidth\":0,\"ticks\":\"\"},\"type\":\"mesh3d\"}],\"parcoords\":[{\"line\":{\"colorbar\":{\"outlinewidth\":0,\"ticks\":\"\"}},\"type\":\"parcoords\"}],\"pie\":[{\"automargin\":true,\"type\":\"pie\"}],\"scatter3d\":[{\"line\":{\"colorbar\":{\"outlinewidth\":0,\"ticks\":\"\"}},\"marker\":{\"colorbar\":{\"outlinewidth\":0,\"ticks\":\"\"}},\"type\":\"scatter3d\"}],\"scattercarpet\":[{\"marker\":{\"colorbar\":{\"outlinewidth\":0,\"ticks\":\"\"}},\"type\":\"scattercarpet\"}],\"scattergeo\":[{\"marker\":{\"colorbar\":{\"outlinewidth\":0,\"ticks\":\"\"}},\"type\":\"scattergeo\"}],\"scattergl\":[{\"marker\":{\"colorbar\":{\"outlinewidth\":0,\"ticks\":\"\"}},\"type\":\"scattergl\"}],\"scattermapbox\":[{\"marker\":{\"colorbar\":{\"outlinewidth\":0,\"ticks\":\"\"}},\"type\":\"scattermapbox\"}],\"scatterpolargl\":[{\"marker\":{\"colorbar\":{\"outlinewidth\":0,\"ticks\":\"\"}},\"type\":\"scatterpolargl\"}],\"scatterpolar\":[{\"marker\":{\"colorbar\":{\"outlinewidth\":0,\"ticks\":\"\"}},\"type\":\"scatterpolar\"}],\"scatter\":[{\"fillpattern\":{\"fillmode\":\"overlay\",\"size\":10,\"solidity\":0.2},\"type\":\"scatter\"}],\"scatterternary\":[{\"marker\":{\"colorbar\":{\"outlinewidth\":0,\"ticks\":\"\"}},\"type\":\"scatterternary\"}],\"surface\":[{\"colorbar\":{\"outlinewidth\":0,\"ticks\":\"\"},\"colorscale\":[[0.0,\"#0d0887\"],[0.1111111111111111,\"#46039f\"],[0.2222222222222222,\"#7201a8\"],[0.3333333333333333,\"#9c179e\"],[0.4444444444444444,\"#bd3786\"],[0.5555555555555556,\"#d8576b\"],[0.6666666666666666,\"#ed7953\"],[0.7777777777777778,\"#fb9f3a\"],[0.8888888888888888,\"#fdca26\"],[1.0,\"#f0f921\"]],\"type\":\"surface\"}],\"table\":[{\"cells\":{\"fill\":{\"color\":\"#EBF0F8\"},\"line\":{\"color\":\"white\"}},\"header\":{\"fill\":{\"color\":\"#C8D4E3\"},\"line\":{\"color\":\"white\"}},\"type\":\"table\"}]},\"layout\":{\"annotationdefaults\":{\"arrowcolor\":\"#2a3f5f\",\"arrowhead\":0,\"arrowwidth\":1},\"autotypenumbers\":\"strict\",\"coloraxis\":{\"colorbar\":{\"outlinewidth\":0,\"ticks\":\"\"}},\"colorscale\":{\"diverging\":[[0,\"#8e0152\"],[0.1,\"#c51b7d\"],[0.2,\"#de77ae\"],[0.3,\"#f1b6da\"],[0.4,\"#fde0ef\"],[0.5,\"#f7f7f7\"],[0.6,\"#e6f5d0\"],[0.7,\"#b8e186\"],[0.8,\"#7fbc41\"],[0.9,\"#4d9221\"],[1,\"#276419\"]],\"sequential\":[[0.0,\"#0d0887\"],[0.1111111111111111,\"#46039f\"],[0.2222222222222222,\"#7201a8\"],[0.3333333333333333,\"#9c179e\"],[0.4444444444444444,\"#bd3786\"],[0.5555555555555556,\"#d8576b\"],[0.6666666666666666,\"#ed7953\"],[0.7777777777777778,\"#fb9f3a\"],[0.8888888888888888,\"#fdca26\"],[1.0,\"#f0f921\"]],\"sequentialminus\":[[0.0,\"#0d0887\"],[0.1111111111111111,\"#46039f\"],[0.2222222222222222,\"#7201a8\"],[0.3333333333333333,\"#9c179e\"],[0.4444444444444444,\"#bd3786\"],[0.5555555555555556,\"#d8576b\"],[0.6666666666666666,\"#ed7953\"],[0.7777777777777778,\"#fb9f3a\"],[0.8888888888888888,\"#fdca26\"],[1.0,\"#f0f921\"]]},\"colorway\":[\"#636efa\",\"#EF553B\",\"#00cc96\",\"#ab63fa\",\"#FFA15A\",\"#19d3f3\",\"#FF6692\",\"#B6E880\",\"#FF97FF\",\"#FECB52\"],\"font\":{\"color\":\"#2a3f5f\"},\"geo\":{\"bgcolor\":\"white\",\"lakecolor\":\"white\",\"landcolor\":\"white\",\"showlakes\":true,\"showland\":true,\"subunitcolor\":\"#C8D4E3\"},\"hoverlabel\":{\"align\":\"left\"},\"hovermode\":\"closest\",\"mapbox\":{\"style\":\"light\"},\"paper_bgcolor\":\"white\",\"plot_bgcolor\":\"white\",\"polar\":{\"angularaxis\":{\"gridcolor\":\"#EBF0F8\",\"linecolor\":\"#EBF0F8\",\"ticks\":\"\"},\"bgcolor\":\"white\",\"radialaxis\":{\"gridcolor\":\"#EBF0F8\",\"linecolor\":\"#EBF0F8\",\"ticks\":\"\"}},\"scene\":{\"xaxis\":{\"backgroundcolor\":\"white\",\"gridcolor\":\"#DFE8F3\",\"gridwidth\":2,\"linecolor\":\"#EBF0F8\",\"showbackground\":true,\"ticks\":\"\",\"zerolinecolor\":\"#EBF0F8\"},\"yaxis\":{\"backgroundcolor\":\"white\",\"gridcolor\":\"#DFE8F3\",\"gridwidth\":2,\"linecolor\":\"#EBF0F8\",\"showbackground\":true,\"ticks\":\"\",\"zerolinecolor\":\"#EBF0F8\"},\"zaxis\":{\"backgroundcolor\":\"white\",\"gridcolor\":\"#DFE8F3\",\"gridwidth\":2,\"linecolor\":\"#EBF0F8\",\"showbackground\":true,\"ticks\":\"\",\"zerolinecolor\":\"#EBF0F8\"}},\"shapedefaults\":{\"line\":{\"color\":\"#2a3f5f\"}},\"ternary\":{\"aaxis\":{\"gridcolor\":\"#DFE8F3\",\"linecolor\":\"#A2B1C6\",\"ticks\":\"\"},\"baxis\":{\"gridcolor\":\"#DFE8F3\",\"linecolor\":\"#A2B1C6\",\"ticks\":\"\"},\"bgcolor\":\"white\",\"caxis\":{\"gridcolor\":\"#DFE8F3\",\"linecolor\":\"#A2B1C6\",\"ticks\":\"\"}},\"title\":{\"x\":0.05},\"xaxis\":{\"automargin\":true,\"gridcolor\":\"#EBF0F8\",\"linecolor\":\"#EBF0F8\",\"ticks\":\"\",\"title\":{\"standoff\":15},\"zerolinecolor\":\"#EBF0F8\",\"zerolinewidth\":2},\"yaxis\":{\"automargin\":true,\"gridcolor\":\"#EBF0F8\",\"linecolor\":\"#EBF0F8\",\"ticks\":\"\",\"title\":{\"standoff\":15},\"zerolinecolor\":\"#EBF0F8\",\"zerolinewidth\":2}}},\"width\":700,\"xaxis\":{\"showgrid\":false},\"yaxis\":{\"autorange\":\"reversed\",\"showgrid\":false}},                        {\"responsive\": true}                    ).then(function(){\n",
       "                            \n",
       "var gd = document.getElementById('4e033138-8252-48b0-8e79-15d5f736d66d');\n",
       "var x = new MutationObserver(function (mutations, observer) {{\n",
       "        var display = window.getComputedStyle(gd).display;\n",
       "        if (!display || display === 'none') {{\n",
       "            console.log([gd, 'removed!']);\n",
       "            Plotly.purge(gd);\n",
       "            observer.disconnect();\n",
       "        }}\n",
       "}});\n",
       "\n",
       "// Listen for the removal of the full notebook cells\n",
       "var notebookContainer = gd.closest('#notebook-container');\n",
       "if (notebookContainer) {{\n",
       "    x.observe(notebookContainer, {childList: true});\n",
       "}}\n",
       "\n",
       "// Listen for the clearing of the current output cell\n",
       "var outputEl = gd.closest('.output');\n",
       "if (outputEl) {{\n",
       "    x.observe(outputEl, {childList: true});\n",
       "}}\n",
       "\n",
       "                        })                };                });            </script>        </div>"
      ]
     },
     "metadata": {},
     "output_type": "display_data"
    }
   ],
   "source": [
    "compl = pd.read_csv(os.getcwd()[:-9] + \"/data/compl.csv\", header=None)\n",
    "test_compl = np.zeros((17, 17))\n",
    "\n",
    "for i in range(17):\n",
    "    for j in range(17):\n",
    "        test_compl[i, j] = mannwhitneyu(\n",
    "            compl.iloc[i, :], compl.iloc[j, :], use_continuity=False\n",
    "        )[1]\n",
    "\n",
    "\n",
    "compl = pd.DataFrame(np.round(test_compl, 2)).where(\n",
    "    np.tril(np.ones(test_compl.shape)).astype(bool)\n",
    ")\n",
    "compl.columns = names\n",
    "compl.index = names\n",
    "\n",
    "import plotly.graph_objects as go\n",
    "\n",
    "heat = go.Heatmap(\n",
    "    z=compl,\n",
    "    x=compl.columns,\n",
    "    y=compl.columns,\n",
    "    text=np.round(compl.to_numpy(), 2),\n",
    "    texttemplate=\"%{text}\",\n",
    "    textfont_size=8,\n",
    "    zmin=0,  # Sets the lower bound of the color domain\n",
    "    zmax=1,\n",
    "    xgap=1,  # Sets the horizontal gap (in pixels) between bricks\n",
    "    ygap=1,\n",
    "    colorscale=[\n",
    "        [0.0, \"#76BB40\"],\n",
    "        [0.2, \"rgb(245, 245, 245)\"],\n",
    "        [1.0, \"rgb(255, 255, 255)\"],\n",
    "    ],\n",
    ")\n",
    "\n",
    "layout = go.Layout(\n",
    "    template=\"plotly_white\",\n",
    "    width=700,\n",
    "    height=700,\n",
    "    # title=\"Correlation between Histomics\",\n",
    "    xaxis_showgrid=False,\n",
    "    yaxis_showgrid=False,\n",
    "    yaxis_autorange=\"reversed\",\n",
    "    font=dict(family=\"Helvetica\", color=\"#000000\", size=13),\n",
    ")\n",
    "\n",
    "fig = go.Figure(data=[heat], layout=layout)\n",
    "fig.write_image(os.getcwd()[:-9] + \"/data/figures/test_heatmap_compl.png\", scale=2)\n",
    "fig.show()"
   ]
  },
  {
   "cell_type": "code",
   "execution_count": 100,
   "metadata": {},
   "outputs": [],
   "source": [
    "metrics = [\n",
    "    \"FC\",\n",
    "    \"FE\",\n",
    "    \"MC\",\n",
    "    \"PF\",\n",
    "    \"RP\",\n",
    "    \"INS\",\n",
    "    \"DEL\",\n",
    "    \"IROF\",\n",
    "    \"ROAD\",\n",
    "    \"INF\",\n",
    "    \"LLE\",\n",
    "    \"MS\",\n",
    "    \"RIS\",\n",
    "    \"ROS\",\n",
    "    \"RRS\",\n",
    "    \"SP\",\n",
    "    \"CP\",\n",
    "    \"ECP\",\n",
    "]\n",
    "\n",
    "file = np.load(\n",
    "    os.getcwd()[:-9] + \"/data/evaluation_scores/image/eval_imagenet_normal.npz\",\n",
    "    allow_pickle=True,\n",
    ")\n",
    "normal = file[\"arr_0\"]\n",
    "normal = np.delete(normal[..., :50], 13, axis=1)\n",
    "\n",
    "file = np.load(\n",
    "    os.getcwd()[:-9] + \"/data/evaluation_scores/image/eval_imagenet_smoothgrad.npz\",\n",
    "    allow_pickle=True,\n",
    ")\n",
    "smoothgrad = file[\"arr_0\"]\n",
    "\n",
    "file = np.load(\n",
    "    os.getcwd()[:-9] + \"/data/evaluation_scores/image/eval_imagenet_vargrad.npz\",\n",
    "    allow_pickle=True,\n",
    ")\n",
    "vargrad = file[\"arr_0\"]"
   ]
  },
  {
   "cell_type": "code",
   "execution_count": 101,
   "metadata": {},
   "outputs": [],
   "source": [
    "bup_order = [0, 1, 2, 4, 5, 7, 9, 12, 16]\n",
    "\n",
    "for i in range(5):\n",
    "    for j in range(19):\n",
    "        q_h = np.quantile(normal[i][j], 0.975)\n",
    "        q_l = np.quantile(normal[i][j], 0.025)\n",
    "        normal[i][j] = np.clip(normal[i][j], q_l, q_h)\n",
    "\n",
    "        q_h = np.quantile(smoothgrad[i][j], 0.975)\n",
    "        q_l = np.quantile(smoothgrad[i][j], 0.025)\n",
    "        smoothgrad[i][j] = np.clip(smoothgrad[i][j], q_l, q_h)\n",
    "\n",
    "        q_h = np.quantile(vargrad[i][j], 0.975)\n",
    "        q_l = np.quantile(vargrad[i][j], 0.025)\n",
    "        vargrad[i][j] = np.clip(vargrad[i][j], q_l, q_h)\n",
    "\n",
    "        if j in bup_order:\n",
    "            normal[i][j] = normal[i][j] * -1\n",
    "            smoothgrad[i][j] = smoothgrad[i][j] * -1\n",
    "            vargrad[i][j] = vargrad[i][j] * -1\n",
    "\n",
    "        max = np.stack([normal[i][j], smoothgrad[i][j], vargrad[i][j]]).max()\n",
    "        min = np.stack([normal[i][j], smoothgrad[i][j], vargrad[i][j]]).min()\n",
    "\n",
    "        normal[i][j] = NormalizeData(normal[i][j], min, max)\n",
    "        smoothgrad[i][j] = NormalizeData(smoothgrad[i][j], min, max)\n",
    "        vargrad[i][j] = NormalizeData(vargrad[i][j], min, max)"
   ]
  },
  {
   "cell_type": "code",
   "execution_count": 103,
   "metadata": {},
   "outputs": [],
   "source": [
    "full = np.stack(\n",
    "    [\n",
    "        np.median(normal, axis=2),\n",
    "        np.median(smoothgrad, axis=2),\n",
    "        np.median(vargrad, axis=2),\n",
    "    ],\n",
    "    axis=0,\n",
    ")"
   ]
  },
  {
   "cell_type": "code",
   "execution_count": 104,
   "metadata": {},
   "outputs": [
    {
     "data": {
      "text/html": [
       "<div>\n",
       "<style scoped>\n",
       "    .dataframe tbody tr th:only-of-type {\n",
       "        vertical-align: middle;\n",
       "    }\n",
       "\n",
       "    .dataframe tbody tr th {\n",
       "        vertical-align: top;\n",
       "    }\n",
       "\n",
       "    .dataframe thead th {\n",
       "        text-align: right;\n",
       "    }\n",
       "</style>\n",
       "<table border=\"1\" class=\"dataframe\">\n",
       "  <thead>\n",
       "    <tr style=\"text-align: right;\">\n",
       "      <th></th>\n",
       "      <th>FC</th>\n",
       "      <th>FE</th>\n",
       "      <th>MC</th>\n",
       "      <th>PF</th>\n",
       "      <th>RP</th>\n",
       "      <th>INS</th>\n",
       "      <th>DEL</th>\n",
       "      <th>IROF</th>\n",
       "      <th>ROAD</th>\n",
       "      <th>INF</th>\n",
       "      <th>LLE</th>\n",
       "      <th>MS</th>\n",
       "      <th>RIS</th>\n",
       "      <th>ROS</th>\n",
       "      <th>RRS</th>\n",
       "      <th>SP</th>\n",
       "      <th>CP</th>\n",
       "      <th>ECP</th>\n",
       "    </tr>\n",
       "  </thead>\n",
       "  <tbody>\n",
       "    <tr>\n",
       "      <th>0</th>\n",
       "      <td>0.513843</td>\n",
       "      <td>0.552035</td>\n",
       "      <td>0.201423</td>\n",
       "      <td>0.188666</td>\n",
       "      <td>0.648938</td>\n",
       "      <td>0.259372</td>\n",
       "      <td>0.138013</td>\n",
       "      <td>0.446534</td>\n",
       "      <td>0.517241</td>\n",
       "      <td>0.622151</td>\n",
       "      <td>0.652728</td>\n",
       "      <td>1.000000</td>\n",
       "      <td>0.000020</td>\n",
       "      <td>0.000027</td>\n",
       "      <td>0.627085</td>\n",
       "      <td>0.229050</td>\n",
       "      <td>0.615479</td>\n",
       "      <td>0.388978</td>\n",
       "    </tr>\n",
       "    <tr>\n",
       "      <th>1</th>\n",
       "      <td>0.533566</td>\n",
       "      <td>0.541326</td>\n",
       "      <td>0.227004</td>\n",
       "      <td>0.128880</td>\n",
       "      <td>0.675583</td>\n",
       "      <td>0.266805</td>\n",
       "      <td>0.192919</td>\n",
       "      <td>0.413269</td>\n",
       "      <td>0.270588</td>\n",
       "      <td>0.580019</td>\n",
       "      <td>0.570172</td>\n",
       "      <td>1.000000</td>\n",
       "      <td>0.000016</td>\n",
       "      <td>0.000008</td>\n",
       "      <td>0.497252</td>\n",
       "      <td>0.260234</td>\n",
       "      <td>0.618137</td>\n",
       "      <td>0.404287</td>\n",
       "    </tr>\n",
       "    <tr>\n",
       "      <th>2</th>\n",
       "      <td>0.373644</td>\n",
       "      <td>0.400714</td>\n",
       "      <td>0.240758</td>\n",
       "      <td>0.097343</td>\n",
       "      <td>0.653099</td>\n",
       "      <td>0.207123</td>\n",
       "      <td>0.147420</td>\n",
       "      <td>0.461468</td>\n",
       "      <td>0.440000</td>\n",
       "      <td>0.404325</td>\n",
       "      <td>0.397429</td>\n",
       "      <td>0.973350</td>\n",
       "      <td>0.001358</td>\n",
       "      <td>0.002109</td>\n",
       "      <td>0.558155</td>\n",
       "      <td>0.864935</td>\n",
       "      <td>0.967966</td>\n",
       "      <td>0.990477</td>\n",
       "    </tr>\n",
       "    <tr>\n",
       "      <th>3</th>\n",
       "      <td>0.396437</td>\n",
       "      <td>0.407156</td>\n",
       "      <td>0.443131</td>\n",
       "      <td>0.174577</td>\n",
       "      <td>0.540910</td>\n",
       "      <td>0.292016</td>\n",
       "      <td>0.199617</td>\n",
       "      <td>0.560275</td>\n",
       "      <td>0.410798</td>\n",
       "      <td>0.450991</td>\n",
       "      <td>0.433578</td>\n",
       "      <td>1.000000</td>\n",
       "      <td>0.000003</td>\n",
       "      <td>0.000004</td>\n",
       "      <td>0.539181</td>\n",
       "      <td>0.225716</td>\n",
       "      <td>0.549689</td>\n",
       "      <td>0.307250</td>\n",
       "    </tr>\n",
       "    <tr>\n",
       "      <th>4</th>\n",
       "      <td>0.436733</td>\n",
       "      <td>0.236574</td>\n",
       "      <td>0.327841</td>\n",
       "      <td>0.080892</td>\n",
       "      <td>0.759184</td>\n",
       "      <td>0.157345</td>\n",
       "      <td>0.069580</td>\n",
       "      <td>0.367133</td>\n",
       "      <td>0.303030</td>\n",
       "      <td>0.431492</td>\n",
       "      <td>0.377274</td>\n",
       "      <td>1.000000</td>\n",
       "      <td>0.000004</td>\n",
       "      <td>0.000005</td>\n",
       "      <td>0.552766</td>\n",
       "      <td>0.874063</td>\n",
       "      <td>0.953858</td>\n",
       "      <td>0.899885</td>\n",
       "    </tr>\n",
       "    <tr>\n",
       "      <th>5</th>\n",
       "      <td>0.409649</td>\n",
       "      <td>0.441982</td>\n",
       "      <td>0.274023</td>\n",
       "      <td>0.178788</td>\n",
       "      <td>0.612114</td>\n",
       "      <td>0.178360</td>\n",
       "      <td>0.094252</td>\n",
       "      <td>0.414572</td>\n",
       "      <td>0.344828</td>\n",
       "      <td>0.704455</td>\n",
       "      <td>0.594083</td>\n",
       "      <td>0.999986</td>\n",
       "      <td>0.000007</td>\n",
       "      <td>0.000009</td>\n",
       "      <td>0.471741</td>\n",
       "      <td>0.873087</td>\n",
       "      <td>0.957579</td>\n",
       "      <td>0.860248</td>\n",
       "    </tr>\n",
       "    <tr>\n",
       "      <th>6</th>\n",
       "      <td>0.402009</td>\n",
       "      <td>0.414920</td>\n",
       "      <td>0.258296</td>\n",
       "      <td>0.138521</td>\n",
       "      <td>0.616303</td>\n",
       "      <td>0.210549</td>\n",
       "      <td>0.188446</td>\n",
       "      <td>0.484759</td>\n",
       "      <td>0.347059</td>\n",
       "      <td>0.692799</td>\n",
       "      <td>0.567258</td>\n",
       "      <td>0.999996</td>\n",
       "      <td>0.000008</td>\n",
       "      <td>0.000005</td>\n",
       "      <td>0.487950</td>\n",
       "      <td>0.841371</td>\n",
       "      <td>0.953171</td>\n",
       "      <td>0.803695</td>\n",
       "    </tr>\n",
       "    <tr>\n",
       "      <th>7</th>\n",
       "      <td>0.378431</td>\n",
       "      <td>0.491126</td>\n",
       "      <td>0.199846</td>\n",
       "      <td>0.175059</td>\n",
       "      <td>0.657718</td>\n",
       "      <td>0.221735</td>\n",
       "      <td>0.160412</td>\n",
       "      <td>0.450779</td>\n",
       "      <td>0.320000</td>\n",
       "      <td>0.699835</td>\n",
       "      <td>0.577725</td>\n",
       "      <td>0.967321</td>\n",
       "      <td>0.003387</td>\n",
       "      <td>0.004073</td>\n",
       "      <td>0.530728</td>\n",
       "      <td>0.851233</td>\n",
       "      <td>0.959883</td>\n",
       "      <td>0.987852</td>\n",
       "    </tr>\n",
       "    <tr>\n",
       "      <th>8</th>\n",
       "      <td>0.378880</td>\n",
       "      <td>0.492333</td>\n",
       "      <td>0.306146</td>\n",
       "      <td>0.179985</td>\n",
       "      <td>0.543133</td>\n",
       "      <td>0.216065</td>\n",
       "      <td>0.188369</td>\n",
       "      <td>0.537174</td>\n",
       "      <td>0.422535</td>\n",
       "      <td>0.641289</td>\n",
       "      <td>0.614268</td>\n",
       "      <td>0.999999</td>\n",
       "      <td>0.000001</td>\n",
       "      <td>0.000002</td>\n",
       "      <td>0.517683</td>\n",
       "      <td>0.840740</td>\n",
       "      <td>0.935648</td>\n",
       "      <td>0.784447</td>\n",
       "    </tr>\n",
       "    <tr>\n",
       "      <th>9</th>\n",
       "      <td>0.364162</td>\n",
       "      <td>0.574419</td>\n",
       "      <td>0.315638</td>\n",
       "      <td>0.128484</td>\n",
       "      <td>0.804632</td>\n",
       "      <td>0.236983</td>\n",
       "      <td>0.200074</td>\n",
       "      <td>0.392511</td>\n",
       "      <td>0.467172</td>\n",
       "      <td>0.653400</td>\n",
       "      <td>0.528273</td>\n",
       "      <td>0.999959</td>\n",
       "      <td>0.000052</td>\n",
       "      <td>0.000055</td>\n",
       "      <td>0.502617</td>\n",
       "      <td>0.788961</td>\n",
       "      <td>0.917439</td>\n",
       "      <td>0.832027</td>\n",
       "    </tr>\n",
       "    <tr>\n",
       "      <th>10</th>\n",
       "      <td>0.401631</td>\n",
       "      <td>0.439380</td>\n",
       "      <td>0.285933</td>\n",
       "      <td>0.239251</td>\n",
       "      <td>0.622147</td>\n",
       "      <td>0.197944</td>\n",
       "      <td>0.093673</td>\n",
       "      <td>0.404109</td>\n",
       "      <td>0.402299</td>\n",
       "      <td>0.103215</td>\n",
       "      <td>0.102115</td>\n",
       "      <td>0.947377</td>\n",
       "      <td>0.051205</td>\n",
       "      <td>0.060641</td>\n",
       "      <td>0.536055</td>\n",
       "      <td>0.131209</td>\n",
       "      <td>0.421602</td>\n",
       "      <td>0.045293</td>\n",
       "    </tr>\n",
       "    <tr>\n",
       "      <th>11</th>\n",
       "      <td>0.442211</td>\n",
       "      <td>0.417538</td>\n",
       "      <td>0.285355</td>\n",
       "      <td>0.183580</td>\n",
       "      <td>0.636413</td>\n",
       "      <td>0.195421</td>\n",
       "      <td>0.178482</td>\n",
       "      <td>0.439838</td>\n",
       "      <td>0.364706</td>\n",
       "      <td>0.122327</td>\n",
       "      <td>0.107049</td>\n",
       "      <td>0.987554</td>\n",
       "      <td>0.033993</td>\n",
       "      <td>0.013111</td>\n",
       "      <td>0.537773</td>\n",
       "      <td>0.131116</td>\n",
       "      <td>0.394071</td>\n",
       "      <td>0.044615</td>\n",
       "    </tr>\n",
       "    <tr>\n",
       "      <th>12</th>\n",
       "      <td>0.449186</td>\n",
       "      <td>0.484758</td>\n",
       "      <td>0.307539</td>\n",
       "      <td>0.151301</td>\n",
       "      <td>0.641874</td>\n",
       "      <td>0.173989</td>\n",
       "      <td>0.152363</td>\n",
       "      <td>0.467427</td>\n",
       "      <td>0.520000</td>\n",
       "      <td>0.070433</td>\n",
       "      <td>0.068177</td>\n",
       "      <td>0.769813</td>\n",
       "      <td>0.295469</td>\n",
       "      <td>0.203946</td>\n",
       "      <td>0.633388</td>\n",
       "      <td>0.143496</td>\n",
       "      <td>0.425542</td>\n",
       "      <td>0.059446</td>\n",
       "    </tr>\n",
       "    <tr>\n",
       "      <th>13</th>\n",
       "      <td>0.422822</td>\n",
       "      <td>0.513468</td>\n",
       "      <td>0.309600</td>\n",
       "      <td>0.207266</td>\n",
       "      <td>0.538783</td>\n",
       "      <td>0.208444</td>\n",
       "      <td>0.180648</td>\n",
       "      <td>0.510759</td>\n",
       "      <td>0.387324</td>\n",
       "      <td>0.099934</td>\n",
       "      <td>0.116830</td>\n",
       "      <td>0.990073</td>\n",
       "      <td>0.025634</td>\n",
       "      <td>0.034867</td>\n",
       "      <td>0.548036</td>\n",
       "      <td>0.168111</td>\n",
       "      <td>0.364056</td>\n",
       "      <td>0.037338</td>\n",
       "    </tr>\n",
       "    <tr>\n",
       "      <th>14</th>\n",
       "      <td>0.496321</td>\n",
       "      <td>0.613595</td>\n",
       "      <td>0.350854</td>\n",
       "      <td>0.189676</td>\n",
       "      <td>0.807978</td>\n",
       "      <td>0.228323</td>\n",
       "      <td>0.120860</td>\n",
       "      <td>0.353595</td>\n",
       "      <td>0.404040</td>\n",
       "      <td>0.105999</td>\n",
       "      <td>0.110008</td>\n",
       "      <td>0.972773</td>\n",
       "      <td>0.043769</td>\n",
       "      <td>0.034494</td>\n",
       "      <td>0.527959</td>\n",
       "      <td>0.120530</td>\n",
       "      <td>0.316364</td>\n",
       "      <td>0.043755</td>\n",
       "    </tr>\n",
       "  </tbody>\n",
       "</table>\n",
       "</div>"
      ],
      "text/plain": [
       "          FC        FE        MC        PF        RP       INS       DEL  \\\n",
       "0   0.513843  0.552035  0.201423  0.188666  0.648938  0.259372  0.138013   \n",
       "1   0.533566  0.541326  0.227004  0.128880  0.675583  0.266805  0.192919   \n",
       "2   0.373644  0.400714  0.240758  0.097343  0.653099  0.207123  0.147420   \n",
       "3   0.396437  0.407156  0.443131  0.174577  0.540910  0.292016  0.199617   \n",
       "4   0.436733  0.236574  0.327841  0.080892  0.759184  0.157345  0.069580   \n",
       "5   0.409649  0.441982  0.274023  0.178788  0.612114  0.178360  0.094252   \n",
       "6   0.402009  0.414920  0.258296  0.138521  0.616303  0.210549  0.188446   \n",
       "7   0.378431  0.491126  0.199846  0.175059  0.657718  0.221735  0.160412   \n",
       "8   0.378880  0.492333  0.306146  0.179985  0.543133  0.216065  0.188369   \n",
       "9   0.364162  0.574419  0.315638  0.128484  0.804632  0.236983  0.200074   \n",
       "10  0.401631  0.439380  0.285933  0.239251  0.622147  0.197944  0.093673   \n",
       "11  0.442211  0.417538  0.285355  0.183580  0.636413  0.195421  0.178482   \n",
       "12  0.449186  0.484758  0.307539  0.151301  0.641874  0.173989  0.152363   \n",
       "13  0.422822  0.513468  0.309600  0.207266  0.538783  0.208444  0.180648   \n",
       "14  0.496321  0.613595  0.350854  0.189676  0.807978  0.228323  0.120860   \n",
       "\n",
       "        IROF      ROAD       INF       LLE        MS       RIS       ROS  \\\n",
       "0   0.446534  0.517241  0.622151  0.652728  1.000000  0.000020  0.000027   \n",
       "1   0.413269  0.270588  0.580019  0.570172  1.000000  0.000016  0.000008   \n",
       "2   0.461468  0.440000  0.404325  0.397429  0.973350  0.001358  0.002109   \n",
       "3   0.560275  0.410798  0.450991  0.433578  1.000000  0.000003  0.000004   \n",
       "4   0.367133  0.303030  0.431492  0.377274  1.000000  0.000004  0.000005   \n",
       "5   0.414572  0.344828  0.704455  0.594083  0.999986  0.000007  0.000009   \n",
       "6   0.484759  0.347059  0.692799  0.567258  0.999996  0.000008  0.000005   \n",
       "7   0.450779  0.320000  0.699835  0.577725  0.967321  0.003387  0.004073   \n",
       "8   0.537174  0.422535  0.641289  0.614268  0.999999  0.000001  0.000002   \n",
       "9   0.392511  0.467172  0.653400  0.528273  0.999959  0.000052  0.000055   \n",
       "10  0.404109  0.402299  0.103215  0.102115  0.947377  0.051205  0.060641   \n",
       "11  0.439838  0.364706  0.122327  0.107049  0.987554  0.033993  0.013111   \n",
       "12  0.467427  0.520000  0.070433  0.068177  0.769813  0.295469  0.203946   \n",
       "13  0.510759  0.387324  0.099934  0.116830  0.990073  0.025634  0.034867   \n",
       "14  0.353595  0.404040  0.105999  0.110008  0.972773  0.043769  0.034494   \n",
       "\n",
       "         RRS        SP        CP       ECP  \n",
       "0   0.627085  0.229050  0.615479  0.388978  \n",
       "1   0.497252  0.260234  0.618137  0.404287  \n",
       "2   0.558155  0.864935  0.967966  0.990477  \n",
       "3   0.539181  0.225716  0.549689  0.307250  \n",
       "4   0.552766  0.874063  0.953858  0.899885  \n",
       "5   0.471741  0.873087  0.957579  0.860248  \n",
       "6   0.487950  0.841371  0.953171  0.803695  \n",
       "7   0.530728  0.851233  0.959883  0.987852  \n",
       "8   0.517683  0.840740  0.935648  0.784447  \n",
       "9   0.502617  0.788961  0.917439  0.832027  \n",
       "10  0.536055  0.131209  0.421602  0.045293  \n",
       "11  0.537773  0.131116  0.394071  0.044615  \n",
       "12  0.633388  0.143496  0.425542  0.059446  \n",
       "13  0.548036  0.168111  0.364056  0.037338  \n",
       "14  0.527959  0.120530  0.316364  0.043755  "
      ]
     },
     "execution_count": 104,
     "metadata": {},
     "output_type": "execute_result"
    }
   ],
   "source": [
    "df = pd.DataFrame(np.round(full.reshape(15, 19), 6)).drop(9, axis=1)\n",
    "df.columns = metrics\n",
    "df.to_csv(os.getcwd()[:-9] + \"/data/smoothvargrad.csv\", index=False)\n",
    "df"
   ]
  }
 ],
 "metadata": {
  "kernelspec": {
   "display_name": "xai-eval",
   "language": "python",
   "name": "python3"
  },
  "language_info": {
   "codemirror_mode": {
    "name": "ipython",
    "version": 3
   },
   "file_extension": ".py",
   "mimetype": "text/x-python",
   "name": "python",
   "nbconvert_exporter": "python",
   "pygments_lexer": "ipython3",
   "version": "3.9.16"
  }
 },
 "nbformat": 4,
 "nbformat_minor": 2
}
