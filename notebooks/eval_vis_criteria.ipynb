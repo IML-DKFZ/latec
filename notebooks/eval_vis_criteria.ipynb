{
 "cells": [
  {
   "cell_type": "code",
   "execution_count": 2,
   "metadata": {},
   "outputs": [
    {
     "name": "stderr",
     "output_type": "stream",
     "text": [
      "/home/l727n/anaconda3/envs/xai-eval/lib/python3.9/site-packages/tqdm/auto.py:21: TqdmWarning: IProgress not found. Please update jupyter and ipywidgets. See https://ipywidgets.readthedocs.io/en/stable/user_install.html\n",
      "  from .autonotebook import tqdm as notebook_tqdm\n"
     ]
    }
   ],
   "source": [
    "import os\n",
    "import sys\n",
    "from pathlib import Path\n",
    "\n",
    "os.chdir(Path(os.getcwd()).parents[0])\n",
    "sys.path.append(os.getcwd())\n",
    "\n",
    "import glob\n",
    "import numpy as np\n",
    "import torch\n",
    "import pandas as pd\n",
    "\n",
    "from scipy.stats import pearsonr\n",
    "from scipy.stats import sem\n",
    "\n",
    "from src.utils.plot_utils import *\n",
    "\n",
    "\n",
    "def NormalizeData(data, min, max):\n",
    "    return (data - min) / ((max - min) + 0.00000000001)"
   ]
  },
  {
   "cell_type": "markdown",
   "metadata": {},
   "source": [
    "### Import Evaluation Scores"
   ]
  },
  {
   "cell_type": "code",
   "execution_count": 3,
   "metadata": {},
   "outputs": [],
   "source": [
    "# File loading per dataset\n",
    "file_image_inet = \"/image/eval_scores_imagenet.npz\"\n",
    "file_image_oct = \"/image/eval_scores_oct.npz\"\n",
    "file_image_r45 = \"/image/eval_scores_resisc45.npz\"\n",
    "\n",
    "file_volume_adr = \"/volume/eval_scores_adrenalmnist3d.npz\"\n",
    "file_volume_org = \"/volume/eval_scores_organmnist3d.npz\"\n",
    "file_volume_ves = \"/volume/eval_scores_vesselmnist3d.npz\"\n",
    "\n",
    "file_pc_coma = \"/point_cloud/eval_scores_coma.npz\"\n",
    "file_pc_m40 = \"/point_cloud/eval_scores_modelnet40.npz\"\n",
    "file_pc_shpn = \"/point_cloud/eval_scores_shapenet.npz\"\n",
    "\n",
    "file_loc = os.getcwd() + \"/data/evaluation_scores\"\n",
    "\n",
    "file = np.load(file_loc + file_image_inet, allow_pickle=True)\n",
    "arr_image_inet = [file[\"arr_0\"], file[\"arr_1\"], file[\"arr_2\"]]\n",
    "file = np.load(file_loc + file_image_oct, allow_pickle=True)\n",
    "arr_image_oct = [file[\"arr_0\"], file[\"arr_1\"], file[\"arr_2\"]]\n",
    "file = np.load(file_loc + file_image_r45, allow_pickle=True)\n",
    "arr_image_r45 = [file[\"arr_0\"], file[\"arr_1\"], file[\"arr_2\"]]\n",
    "\n",
    "file = np.load(file_loc + file_volume_adr, allow_pickle=True)\n",
    "arr_volume_adr = [file[\"arr_0\"], file[\"arr_1\"], file[\"arr_2\"]]\n",
    "file = np.load(file_loc + file_volume_org, allow_pickle=True)\n",
    "arr_volume_org = [file[\"arr_0\"], file[\"arr_1\"], file[\"arr_2\"]]\n",
    "file = np.load(file_loc + file_volume_ves, allow_pickle=True)\n",
    "arr_volume_ves = [file[\"arr_0\"], file[\"arr_1\"], file[\"arr_2\"]]\n",
    "\n",
    "file = np.load(file_loc + file_pc_coma, allow_pickle=True)\n",
    "arr_pc_coma = [file[\"arr_0\"], file[\"arr_1\"], file[\"arr_2\"]]\n",
    "file = np.load(file_loc + file_pc_m40, allow_pickle=True)\n",
    "arr_pc_m40 = [file[\"arr_0\"], file[\"arr_1\"], file[\"arr_2\"]]\n",
    "file = np.load(file_loc + file_pc_shpn, allow_pickle=True)\n",
    "arr_pc_shpn = [file[\"arr_0\"], file[\"arr_1\"], file[\"arr_2\"]]"
   ]
  },
  {
   "cell_type": "markdown",
   "metadata": {},
   "source": [
    "### Ranking Computation"
   ]
  },
  {
   "cell_type": "code",
   "execution_count": 12,
   "metadata": {},
   "outputs": [],
   "source": [
    "# Full Ranking\n",
    "arr_image = [arr_image_inet, arr_image_oct, arr_image_r45]\n",
    "arr_volume = [arr_volume_adr, arr_volume_org, arr_volume_ves]\n",
    "arr_pc = [arr_pc_coma, arr_pc_m40, arr_pc_shpn]\n",
    "arr_modalities = [arr_image, arr_volume, arr_pc]\n",
    "\n",
    "arr_ranking = np.empty([3, 3, 14, 20], dtype=float)  # , dataset, model, xai, eval\n",
    "arr_ranking[:] = np.nan\n",
    "\n",
    "bup_order = [0, 1, 2, 4, 5, 7, 9, 12, 17]\n",
    "\n",
    "\n",
    "for dataset in range(3):\n",
    "    for model in range(3):\n",
    "        for xai in range(14):\n",
    "            for eval in range(20):\n",
    "                ranking = np.median(\n",
    "                    arr_modalities[0][dataset][model][:14, eval, :], -1\n",
    "                ).argsort()  # compute ranking based on median obs score\n",
    "                if eval in bup_order:\n",
    "                    ranking = ranking[\n",
    "                        ::-1\n",
    "                    ]  # reverse ranking to bottom up if larger is better\n",
    "\n",
    "                pos = (\n",
    "                    ranking.argsort()[xai] + 1\n",
    "                )  # get rankin position of xai method (+1 so ranking starts at 1 and not 0)\n",
    "                arr_ranking[dataset, model, xai, eval] = pos"
   ]
  },
  {
   "attachments": {},
   "cell_type": "markdown",
   "metadata": {},
   "source": [
    "### Variance test versus random "
   ]
  },
  {
   "cell_type": "code",
   "execution_count": null,
   "metadata": {},
   "outputs": [],
   "source": [
    "from scipy.stats import randint, levene\n",
    "import scipy\n",
    "\n",
    "alpha = 0.1\n",
    "\n",
    "arr_sign_test = np.empty(\n",
    "    [3, 3, 14, 3], dtype=int  # dataset, model, xai methods, eval_criteria\n",
    ")\n",
    "random_sample = randint.rvs(0, 15, size=999999)\n",
    "\n",
    "\n",
    "for crit in range(3):\n",
    "    for modality in range(2):\n",
    "        for method in range(14):\n",
    "            for model in range(3):\n",
    "                for dataset in range(3):\n",
    "                    metric_sample = [\n",
    "                        arr_ranking[dataset, model, method, :10],\n",
    "                        arr_ranking[dataset, model, method, 10:17],\n",
    "                        arr_ranking[dataset, model, method, 17:20],\n",
    "                    ][crit]\n",
    "\n",
    "                    if metric_sample.var() > 16.25:\n",
    "                        arr_sign_test[dataset, model, method, crit] = 0\n",
    "                    else:\n",
    "                        test_pvalue = levene(\n",
    "                            random_sample, metric_sample, center=\"median\"\n",
    "                        ).pvalue\n",
    "                        arr_sign_test[dataset, model, method, crit] = (\n",
    "                            1 if test_pvalue < alpha else 0\n",
    "                        )"
   ]
  },
  {
   "cell_type": "code",
   "execution_count": null,
   "metadata": {},
   "outputs": [],
   "source": [
    "table_sign_test = np.empty([14, 3], dtype=float)  # xai methods, eval_criteria\n",
    "\n",
    "for method in range(14):\n",
    "    for crit in range(3):\n",
    "        table_sign_test[method, crit] = np.round(\n",
    "            arr_sign_test[:, :, method, crit].mean(), 2\n",
    "        )\n",
    "\n",
    "table_sign_test = pd.DataFrame(table_sign_test).transpose()\n",
    "\n",
    "table_sign_test = table_sign_test.append(\n",
    "    pd.DataFrame(\n",
    "        np.round(\n",
    "            np.average(table_sign_test, axis=0, weights=[0.5, 0.35, 0.15]), 2\n",
    "        ).reshape(1, -1)\n",
    "    ),\n",
    "    ignore_index=True,\n",
    ")\n",
    "table_sign_test[\"mean\"] = np.round(table_sign_test.mean(axis=1), 2)\n",
    "\n",
    "table_sign_test.columns = [\n",
    "    \"OC\",\n",
    "    \"LI\",\n",
    "    \"KS\",\n",
    "    \"VG\",\n",
    "    \"IxG\",\n",
    "    \"GB\",\n",
    "    \"GC\",\n",
    "    \"SC\",\n",
    "    \"C+\",\n",
    "    \"IG\",\n",
    "    \"EG\",\n",
    "    \"DL\",\n",
    "    \"DLS\",\n",
    "    \"LRP\",\n",
    "    \"Average\",\n",
    "]\n",
    "\n",
    "table_sign_test.index = [\"Faithfulness\", \"Robustness\", \"Complexity\", \"Weighted Average\"]\n",
    "table_sign_test.to_csv(\n",
    "    os.getcwd().split(\"src\")[0] + \"data/figures/variance_sign_test.csv\"\n",
    ")\n",
    "table_sign_test"
   ]
  },
  {
   "cell_type": "markdown",
   "metadata": {},
   "source": [
    "### Metric differences Figure"
   ]
  },
  {
   "cell_type": "code",
   "execution_count": null,
   "metadata": {},
   "outputs": [],
   "source": [
    "import plotly.graph_objects as go\n",
    "import plotly.express as px\n",
    "from plotly.subplots import make_subplots\n",
    "\n",
    "colors = list(map(px.colors.qualitative.G10.__getitem__, [0, 2, 3, 4]))\n",
    "metrics_faith = [\n",
    "    \"FC\",\n",
    "    \"FE\",\n",
    "    \"MC\",\n",
    "    \"PF\",\n",
    "    \"RP\",\n",
    "    \"INS\",\n",
    "    \"DEL\",\n",
    "    \"IROF\",\n",
    "    \"ROAD\",\n",
    "    \"SUF\",\n",
    "    \"INF\",\n",
    "]\n",
    "metrics_robust = [\n",
    "    \"LLE\",\n",
    "    \"MS\",\n",
    "    \"CON\",\n",
    "    \"RIS\",\n",
    "    \"ROS\",\n",
    "    \"RRS\",\n",
    "]\n",
    "metrics_complex = [\"SP\", \"CP\", \"ECP\"]\n",
    "\n",
    "methods = [1, 6, 9, 12]\n",
    "\n",
    "fig = make_subplots(\n",
    "    rows=1,\n",
    "    cols=3,\n",
    "    subplot_titles=[\"Faithfulness Metrics\", \"Robustness Metrics\", \"Complexity Metrics\"],\n",
    "    column_widths=[0.5, 0.35, 0.15],\n",
    "    shared_yaxes=True,\n",
    ")\n",
    "\n",
    "df_table = pd.DataFrame(arr_ranking[0, 0, :, [0, 1, 2, 3, 4, 5, 6, 7, 8, 9, 16]].T)\n",
    "df_table.index = [\n",
    "    \"OC\",\n",
    "    \"LIME\",\n",
    "    \"KS\",\n",
    "    \"VG\",\n",
    "    \"IxG\",\n",
    "    \"GB\",\n",
    "    \"GC\",\n",
    "    \"SC\",\n",
    "    \"C+\",\n",
    "    \"IG\",\n",
    "    \"EG\",\n",
    "    \"DL\",\n",
    "    \"DLS\",\n",
    "    \"LRP\",\n",
    "]\n",
    "\n",
    "faith = df_table.iloc[methods, :].transpose()\n",
    "faith.iloc[10, 0] = 12\n",
    "faith.iloc[10, 3] = 4\n",
    "\n",
    "df_table = pd.DataFrame(arr_ranking[0, 0, :, 10:16])\n",
    "robust = df_table.iloc[methods, :].transpose()\n",
    "\n",
    "df_table = pd.DataFrame(arr_ranking[0, 0, :, 17:20])\n",
    "complex = df_table.iloc[methods, :].transpose()\n",
    "\n",
    "\n",
    "for i in range(len(faith.columns)):\n",
    "    fig.add_trace(\n",
    "        go.Scatter(\n",
    "            x=metrics_faith,\n",
    "            y=faith.iloc[:, i],\n",
    "            mode=\"lines+markers\",\n",
    "            name=faith.columns[i],\n",
    "            marker=dict(color=colors[i], size=8),\n",
    "        ),\n",
    "        col=1,\n",
    "        row=1,\n",
    "    )\n",
    "\n",
    "    fig.add_trace(\n",
    "        go.Scatter(\n",
    "            x=[\"Average\"],\n",
    "            y=[np.mean(faith.iloc[:, i])],\n",
    "            mode=\"markers+text\",\n",
    "            text=[str(np.mean(faith.iloc[:, i]).round(2))],\n",
    "            textposition=\"middle left\",\n",
    "            showlegend=False,\n",
    "            marker=dict(color=colors[i], size=8, symbol=\"square\"),\n",
    "        ),\n",
    "        col=1,\n",
    "        row=1,\n",
    "    )\n",
    "\n",
    "for i in range(len(robust.columns)):\n",
    "    fig.add_trace(\n",
    "        go.Scatter(\n",
    "            x=metrics_robust,\n",
    "            y=robust.iloc[:, i],\n",
    "            mode=\"lines+markers\",\n",
    "            showlegend=False,\n",
    "            marker=dict(color=colors[i], size=8),\n",
    "        ),\n",
    "        col=2,\n",
    "        row=1,\n",
    "    )\n",
    "\n",
    "    fig.add_trace(\n",
    "        go.Scatter(\n",
    "            x=[\"Average\"],\n",
    "            y=[np.mean(robust.iloc[:, i]), 1],\n",
    "            mode=\"markers+text\",\n",
    "            text=[str(np.round(np.mean(robust.iloc[:, i]), 1))],\n",
    "            textposition=\"middle left\",\n",
    "            showlegend=False,\n",
    "            marker=dict(color=colors[i], size=8, symbol=\"square\"),\n",
    "        ),\n",
    "        col=2,\n",
    "        row=1,\n",
    "    )\n",
    "\n",
    "for i in range(len(complex.columns)):\n",
    "    fig.add_trace(\n",
    "        go.Scatter(\n",
    "            x=metrics_complex,\n",
    "            y=complex.iloc[:, i],\n",
    "            mode=\"lines+markers\",\n",
    "            showlegend=False,\n",
    "            marker=dict(color=colors[i], size=8),\n",
    "        ),\n",
    "        col=3,\n",
    "        row=1,\n",
    "    )\n",
    "\n",
    "    fig.add_trace(\n",
    "        go.Scatter(\n",
    "            x=[\"Average\"],\n",
    "            y=[np.mean(complex.iloc[:, i])],\n",
    "            mode=\"markers+text\",\n",
    "            text=[str(np.round(np.mean(complex.iloc[:, i])))],\n",
    "            textposition=\"middle left\",\n",
    "            showlegend=False,\n",
    "            marker=dict(color=colors[i], size=8, symbol=\"square\"),\n",
    "        ),\n",
    "        col=3,\n",
    "        row=1,\n",
    "    )\n",
    "\n",
    "fig.update_yaxes(\n",
    "    autorange=\"reversed\",\n",
    "    range=[1, 14],\n",
    "    tickvals=[1, 5, 10, 14],\n",
    "    zeroline=False,\n",
    "    showticklabels=True,\n",
    ")\n",
    "\n",
    "fig.update_yaxes(title=\"Rank\", col=1, row=1)\n",
    "\n",
    "fig.update_xaxes(tickangle=35)\n",
    "\n",
    "fig.update_layout(\n",
    "    height=400,\n",
    "    width=1500,\n",
    "    legend_title_text=\"XAI Method\",\n",
    "    template=\"plotly_white\",\n",
    "    font=dict(\n",
    "        family=\"Helvetica\",\n",
    "        color=\"#000000\",\n",
    "        size=12,\n",
    "    ),\n",
    "    title_font=dict(family=\"Helvetica\", color=\"#000000\", size=12),\n",
    ")\n",
    "\n",
    "fig = left_align_facet_plot_titles(fig)\n",
    "fig.write_image(\n",
    "    os.getcwd().split(\"src\")[0] + \"data/figures/meta_eval_example.png\", scale=2\n",
    ")\n",
    "fig.show()"
   ]
  },
  {
   "cell_type": "code",
   "execution_count": 8,
   "metadata": {},
   "outputs": [],
   "source": [
    "arr_ranking = np.empty([3, 3, 17, 20], dtype=float)  # modality, dataset, xai, eval\n",
    "arr_ranking[:] = np.nan\n",
    "\n",
    "bup_order = [0, 1, 2, 4, 5, 7, 9, 12, 17]\n",
    "\n",
    "for modality in range(3):\n",
    "    for dataset in range(3):\n",
    "        for eval in range(20):\n",
    "            arr_models = []\n",
    "            for i in range(3):\n",
    "                d = arr_modalities[modality][dataset][i][:, eval, :]\n",
    "                q_h = np.quantile(d, 0.975)\n",
    "                q_l = np.quantile(d, 0.025)\n",
    "\n",
    "                d = np.clip(d, q_l, q_h)\n",
    "                d_max = d.max()\n",
    "                d_min = d.min()\n",
    "                arr_models.append(NormalizeData(d, d_min, d_max))\n",
    "\n",
    "            ranking = np.concatenate(\n",
    "                [\n",
    "                    np.median(\n",
    "                        np.hstack([arr_models[0], arr_models[1], arr_models[2][:-3]]),\n",
    "                        -1,\n",
    "                    ),\n",
    "                    np.median(arr_models[2][-3:], -1),\n",
    "                ]\n",
    "            ).argsort()\n",
    "            # compute ranking based on median obs score\n",
    "            if eval in bup_order:\n",
    "                ranking = ranking[\n",
    "                    ::-1\n",
    "                ]  # reverse ranking to bottom up if larger is better\n",
    "\n",
    "            for xai in range(ranking.shape[0]):\n",
    "                pos = (\n",
    "                    ranking.argsort()[xai] + 1\n",
    "                )  # get rankin position of xai method (+1 so ranking starts at 1 and not 0)\n",
    "                arr_ranking[modality, dataset, xai, eval] = pos\n",
    "\n",
    "arr_ranking = np.concatenate(\n",
    "    (\n",
    "        arr_ranking[:, :, :, :10],\n",
    "        arr_ranking[:, :, :, 17][..., np.newaxis],\n",
    "        arr_ranking[:, :, :, 10:17],\n",
    "        arr_ranking[:, :, :, 18:20],\n",
    "    ),\n",
    "    axis=-1,\n",
    ")"
   ]
  },
  {
   "cell_type": "code",
   "execution_count": null,
   "metadata": {},
   "outputs": [],
   "source": [
    "import plotly.graph_objects as go\n",
    "import plotly.express as px\n",
    "from plotly.subplots import make_subplots\n",
    "\n",
    "colors = [px.colors.qualitative.G10[i] for i in [0, 2, 3, 4]]\n",
    "methods = [0, 7, 14, 16]\n",
    "\n",
    "metrics_faith = [\n",
    "    \"FC\",\n",
    "    \"FE\",\n",
    "    \"MC\",\n",
    "    \"PF\",\n",
    "    \"RP\",\n",
    "    \"INS\",\n",
    "    \"DEL\",\n",
    "    \"IROF\",\n",
    "    \"ROAD\",\n",
    "    \"SUF\",\n",
    "    \"INF\",\n",
    "]\n",
    "\n",
    "metrics_robust = [\n",
    "    \"LLE\",\n",
    "    \"MS\",\n",
    "    \"CON\",\n",
    "    \"RIS\",\n",
    "    \"ROS\",\n",
    "    \"RRS\",\n",
    "]\n",
    "metrics_complex = [\"SP\", \"CP\", \"ECP\"]\n",
    "\n",
    "metrics = [metrics_faith, metrics_robust, metrics_complex]\n",
    "\n",
    "results = arr_ranking[0, :, :, :]  # modality, datasets, xai, eval\n",
    "\n",
    "\n",
    "fig = make_subplots(\n",
    "    rows=2,\n",
    "    cols=4,\n",
    "    horizontal_spacing=0.02,\n",
    "    vertical_spacing=0.12,\n",
    "    subplot_titles=[\"OC\", \"SC\", \"RA\", \"LA\"],\n",
    "    shared_yaxes=True,\n",
    "    specs=[\n",
    "        [\n",
    "            {\"type\": \"scatterpolar\"},\n",
    "            {\"type\": \"scatterpolar\"},\n",
    "            {\"type\": \"scatterpolar\"},\n",
    "            {\"type\": \"scatterpolar\"},\n",
    "        ],\n",
    "        [\n",
    "            {\"type\": \"scatterpolar\"},\n",
    "            {\"type\": \"scatterpolar\"},\n",
    "            {\"type\": \"scatterpolar\"},\n",
    "            {\"type\": \"scatterpolar\"},\n",
    "        ],\n",
    "    ],\n",
    ")\n",
    "\n",
    "for eval_idx, eval in enumerate([(0, 11), (11, 17)]):\n",
    "    theta = metrics[eval_idx]\n",
    "    theta.append(theta[0])\n",
    "    for idx, xai in enumerate(methods):\n",
    "        r = results[0, xai, eval[0] : eval[1]].tolist()\n",
    "        r.append(r[0])\n",
    "        color = (\n",
    "            [\"#3366CC\", \"#5F93FA\", \"#7685A5\"]\n",
    "            if xai < 14\n",
    "            else [\"#FF9900\", \"#FABC5F\", \"#A59276\"]\n",
    "        )\n",
    "\n",
    "        fig.add_trace(\n",
    "            go.Scatterpolar(\n",
    "                r=[np.mean(r)] * 12,\n",
    "                theta=theta,\n",
    "                fill=\"none\",\n",
    "                mode=\"lines\",\n",
    "                line=dict(color=\"black\", width=1.5),\n",
    "                showlegend=False,\n",
    "            ),\n",
    "            col=idx + 1,\n",
    "            row=eval_idx + 1,\n",
    "        )\n",
    "\n",
    "        fig.add_trace(\n",
    "            go.Scatterpolar(\n",
    "                r=r,\n",
    "                theta=theta,\n",
    "                fill=\"toself\",\n",
    "                marker=dict(color=color[0], size=8),\n",
    "                showlegend=False,\n",
    "            ),\n",
    "            col=idx + 1,\n",
    "            row=eval_idx + 1,\n",
    "        )\n",
    "\n",
    "\n",
    "fig.update_polars(  # radialaxis_angle=90,\n",
    "    radialaxis=dict(tickangle=0, nticks=5, range=[1, 17], showline=False),\n",
    "    angularaxis=dict(\n",
    "        linewidth=1,\n",
    "        showline=True,\n",
    "        linecolor=\"grey\",\n",
    "    ),\n",
    ")\n",
    "\n",
    "fig.update_polars(angularaxis=dict(rotation=90), row=2)\n",
    "\n",
    "for i in range(4):\n",
    "    fig.layout.annotations[i].update(y=1.05)\n",
    "\n",
    "fig.update_layout(\n",
    "    template=\"plotly_white\",\n",
    "    width=1650,\n",
    "    height=600,\n",
    "    polar=dict(\n",
    "        radialaxis=dict(visible=True),\n",
    "    ),\n",
    "    font=dict(family=\"Helvetica\", color=\"#000000\", size=14),\n",
    ")\n",
    "\n",
    "fig.write_image(os.getcwd().split(\"src\")[0] + \"data/figures/meta_radar.png\", scale=3)\n",
    "fig.show()"
   ]
  },
  {
   "attachments": {},
   "cell_type": "markdown",
   "metadata": {},
   "source": [
    "### Average ranking disagreement"
   ]
  },
  {
   "cell_type": "code",
   "execution_count": 25,
   "metadata": {},
   "outputs": [
    {
     "data": {
      "text/plain": [
       "(11,)"
      ]
     },
     "execution_count": 25,
     "metadata": {},
     "output_type": "execute_result"
    }
   ],
   "source": [
    "arr_ranking[0, 0, 0, :11].shape"
   ]
  },
  {
   "cell_type": "code",
   "execution_count": 30,
   "metadata": {},
   "outputs": [
    {
     "data": {
      "text/plain": [
       "array([[ 1.        ,  0.81098901, -0.06373626, -0.11648352,  0.70989011,\n",
       "         0.49450549, -0.06373626,  0.2043956 ,  0.42857143, -0.01098901,\n",
       "        -0.12527473],\n",
       "       [ 0.81098901,  1.        , -0.13406593, -0.12527473,  0.80659341,\n",
       "         0.63076923, -0.02857143,  0.18241758,  0.61318681, -0.03296703,\n",
       "        -0.18681319],\n",
       "       [-0.06373626, -0.13406593,  1.        , -0.09010989, -0.07252747,\n",
       "         0.52087912,  0.26153846, -0.08131868,  0.20879121,  0.53406593,\n",
       "         0.30549451],\n",
       "       [-0.11648352, -0.12527473, -0.09010989,  1.        ,  0.17362637,\n",
       "         0.06373626,  0.75824176, -0.27472527, -0.56483516,  0.44615385,\n",
       "         0.63956044],\n",
       "       [ 0.70989011,  0.80659341, -0.07252747,  0.17362637,  1.        ,\n",
       "         0.52967033,  0.16923077,  0.27472527,  0.22637363,  0.15164835,\n",
       "         0.24395604],\n",
       "       [ 0.49450549,  0.63076923,  0.52087912,  0.06373626,  0.52967033,\n",
       "         1.        ,  0.45054945, -0.05934066,  0.63076923,  0.45934066,\n",
       "         0.2       ],\n",
       "       [-0.06373626, -0.02857143,  0.26153846,  0.75824176,  0.16923077,\n",
       "         0.45054945,  1.        , -0.38021978, -0.25714286,  0.59120879,\n",
       "         0.67472527],\n",
       "       [ 0.2043956 ,  0.18241758, -0.08131868, -0.27472527,  0.27472527,\n",
       "        -0.05934066, -0.38021978,  1.        ,  0.33186813, -0.16483516,\n",
       "         0.16043956],\n",
       "       [ 0.42857143,  0.61318681,  0.20879121, -0.56483516,  0.22637363,\n",
       "         0.63076923, -0.25714286,  0.33186813,  1.        ,  0.01538462,\n",
       "        -0.34505495],\n",
       "       [-0.01098901, -0.03296703,  0.53406593,  0.44615385,  0.15164835,\n",
       "         0.45934066,  0.59120879, -0.16483516,  0.01538462,  1.        ,\n",
       "         0.63956044],\n",
       "       [-0.12527473, -0.18681319,  0.30549451,  0.63956044,  0.24395604,\n",
       "         0.2       ,  0.67472527,  0.16043956, -0.34505495,  0.63956044,\n",
       "         1.        ]])"
      ]
     },
     "execution_count": 30,
     "metadata": {},
     "output_type": "execute_result"
    }
   ],
   "source": [
    "np.corrcoef(arr_ranking[0, 0, :, :11].T)"
   ]
  },
  {
   "cell_type": "code",
   "execution_count": 20,
   "metadata": {},
   "outputs": [
    {
     "data": {
      "text/plain": [
       "(42, 11, 11)"
      ]
     },
     "execution_count": 20,
     "metadata": {},
     "output_type": "execute_result"
    }
   ],
   "source": [
    "np.array(list[:42]).shape"
   ]
  },
  {
   "cell_type": "code",
   "execution_count": 15,
   "metadata": {},
   "outputs": [],
   "source": [
    "from scipy.spatial import distance_matrix\n",
    "from scipy.stats import pearsonr\n",
    "\n",
    "list = []\n",
    "\n",
    "for model in range(3):\n",
    "    for dataset in range(3):\n",
    "        for method in range(14):\n",
    "            list.append(\n",
    "                # np.corrcoef(arr_ranking[dataset, model, :, :11].T)\n",
    "                distance_matrix(\n",
    "                    np.expand_dims(arr_ranking[dataset, model, method, :11], 0).T,\n",
    "                    np.expand_dims(arr_ranking[dataset, model, method, :11], 0).T,\n",
    "                )\n",
    "            )\n",
    "\n",
    "dist_matrix = np.round(np.mean(np.array(list[:42]), 0), 2)\n",
    "dist_matrix = pd.DataFrame(dist_matrix)\n",
    "dist_faith_resnet50 = dist_matrix.where(\n",
    "    np.tril(np.ones(dist_matrix.shape)).astype(bool)\n",
    ")\n",
    "\n",
    "dist_matrix = np.round(np.mean(np.array(list[42:84]), 0), 2)\n",
    "dist_matrix = pd.DataFrame(dist_matrix)\n",
    "dist_faith_effnetb0 = dist_matrix.where(\n",
    "    np.tril(np.ones(dist_matrix.shape)).astype(bool)\n",
    ")\n",
    "\n",
    "dist_matrix = np.round(np.mean(np.array(list[84:]), 0), 2)\n",
    "dist_matrix = pd.DataFrame(dist_matrix)\n",
    "dist_faith_vit = dist_matrix.where(np.tril(np.ones(dist_matrix.shape)).astype(bool))\n",
    "\n",
    "list = []\n",
    "\n",
    "for model in range(3):\n",
    "    for dataset in range(3):\n",
    "        for method in range(14):\n",
    "            list.append(\n",
    "                # np.corrcoef(arr_ranking[dataset, model, :, 11:17].T)\n",
    "                distance_matrix(\n",
    "                    np.expand_dims(arr_ranking[dataset, model, method, 11:17], 0).T,\n",
    "                    np.expand_dims(arr_ranking[dataset, model, method, 11:17], 0).T,\n",
    "                )\n",
    "            )\n",
    "\n",
    "dist_matrix = np.round(np.mean(np.array(list[:42]), 0), 2)\n",
    "dist_matrix = pd.DataFrame(dist_matrix)\n",
    "dist_robust_resnet50 = dist_matrix.where(\n",
    "    np.tril(np.ones(dist_matrix.shape)).astype(bool)\n",
    ")\n",
    "\n",
    "dist_matrix = np.round(np.mean(np.array(list[42:84]), 0), 2)\n",
    "dist_matrix = pd.DataFrame(dist_matrix)\n",
    "dist_robust_effnetb0 = dist_matrix.where(\n",
    "    np.tril(np.ones(dist_matrix.shape)).astype(bool)\n",
    ")\n",
    "\n",
    "dist_matrix = np.round(np.mean(np.array(list[84:]), 0), 2)\n",
    "dist_matrix = pd.DataFrame(dist_matrix)\n",
    "dist_robust_vit = dist_matrix.where(np.tril(np.ones(dist_matrix.shape)).astype(bool))"
   ]
  },
  {
   "cell_type": "code",
   "execution_count": 14,
   "metadata": {},
   "outputs": [
    {
     "data": {
      "application/vnd.plotly.v1+json": {
       "config": {
        "plotlyServerURL": "https://plot.ly"
       },
       "data": [
        {
         "colorbar": {
          "thickness": 10,
          "ticks": "outside"
         },
         "colorscale": [
          [
           0,
           "rgb(0,104,55)"
          ],
          [
           0.1,
           "rgb(26,152,80)"
          ],
          [
           0.2,
           "rgb(102,189,99)"
          ],
          [
           0.3,
           "rgb(166,217,106)"
          ],
          [
           0.4,
           "rgb(217,239,139)"
          ],
          [
           0.5,
           "rgb(255,255,191)"
          ],
          [
           0.6,
           "rgb(254,224,139)"
          ],
          [
           0.7,
           "rgb(253,174,97)"
          ],
          [
           0.8,
           "rgb(244,109,67)"
          ],
          [
           0.9,
           "rgb(215,48,39)"
          ],
          [
           1,
           "rgb(165,0,38)"
          ]
         ],
         "reversescale": true,
         "texttemplate": "%{z}",
         "type": "heatmap",
         "x": [
          "FC",
          "FE",
          "MC",
          "PF",
          "RP",
          "INS",
          "DEL",
          "IROF",
          "ROAD",
          "SUF",
          "INF"
         ],
         "xaxis": "x",
         "y": [
          "FC",
          "FE",
          "MC",
          "PF",
          "RP",
          "INS",
          "DEL",
          "IROF",
          "ROAD",
          "SUF",
          "INF"
         ],
         "yaxis": "y",
         "z": [
          [
           1,
           null,
           null,
           null,
           null,
           null,
           null,
           null,
           null,
           null,
           null
          ],
          [
           0.75,
           1,
           null,
           null,
           null,
           null,
           null,
           null,
           null,
           null,
           null
          ],
          [
           -0.23,
           -0.08,
           1,
           null,
           null,
           null,
           null,
           null,
           null,
           null,
           null
          ],
          [
           -0.12,
           -0.06,
           0.24,
           1,
           null,
           null,
           null,
           null,
           null,
           null,
           null
          ],
          [
           0.22,
           0.44,
           0.2,
           0.18,
           1,
           null,
           null,
           null,
           null,
           null,
           null
          ],
          [
           0.13,
           0.25,
           0.58,
           0.4,
           0.64,
           1,
           null,
           null,
           null,
           null,
           null
          ],
          [
           0.03,
           0.06,
           0.28,
           0.69,
           0.17,
           0.5,
           1,
           null,
           null,
           null,
           null
          ],
          [
           0.09,
           0.25,
           0.07,
           -0.17,
           0.47,
           0.15,
           -0.1,
           1,
           null,
           null,
           null
          ],
          [
           0.11,
           0.26,
           0.23,
           -0.25,
           0.34,
           0.27,
           -0.4,
           0.35,
           1,
           null,
           null
          ],
          [
           0.03,
           0.01,
           0.43,
           0.27,
           0.15,
           0.42,
           0.52,
           0.07,
           -0.15,
           1,
           null
          ],
          [
           -0.19,
           0.02,
           0.42,
           0.43,
           0.48,
           0.49,
           0.53,
           0.24,
           -0.19,
           0.33,
           1
          ]
         ],
         "zmax": 1,
         "zmin": -1
        },
        {
         "colorbar": {
          "thickness": 10,
          "ticks": "outside"
         },
         "colorscale": [
          [
           0,
           "rgb(0,104,55)"
          ],
          [
           0.1,
           "rgb(26,152,80)"
          ],
          [
           0.2,
           "rgb(102,189,99)"
          ],
          [
           0.3,
           "rgb(166,217,106)"
          ],
          [
           0.4,
           "rgb(217,239,139)"
          ],
          [
           0.5,
           "rgb(255,255,191)"
          ],
          [
           0.6,
           "rgb(254,224,139)"
          ],
          [
           0.7,
           "rgb(253,174,97)"
          ],
          [
           0.8,
           "rgb(244,109,67)"
          ],
          [
           0.9,
           "rgb(215,48,39)"
          ],
          [
           1,
           "rgb(165,0,38)"
          ]
         ],
         "reversescale": true,
         "texttemplate": "%{z}",
         "type": "heatmap",
         "x": [
          "FC",
          "FE",
          "MC",
          "PF",
          "RP",
          "INS",
          "DEL",
          "IROF",
          "ROAD",
          "SUF",
          "INF"
         ],
         "xaxis": "x2",
         "y": [
          "FC",
          "FE",
          "MC",
          "PF",
          "RP",
          "INS",
          "DEL",
          "IROF",
          "ROAD",
          "SUF",
          "INF"
         ],
         "yaxis": "y2",
         "z": [
          [
           1,
           null,
           null,
           null,
           null,
           null,
           null,
           null,
           null,
           null,
           null
          ],
          [
           0.69,
           1,
           null,
           null,
           null,
           null,
           null,
           null,
           null,
           null,
           null
          ],
          [
           -0.44,
           -0.31,
           1,
           null,
           null,
           null,
           null,
           null,
           null,
           null,
           null
          ],
          [
           0.02,
           0.3,
           0.12,
           1,
           null,
           null,
           null,
           null,
           null,
           null,
           null
          ],
          [
           0.42,
           0.5,
           0.06,
           -0.07,
           1,
           null,
           null,
           null,
           null,
           null,
           null
          ],
          [
           -0.19,
           -0.03,
           0.49,
           0.21,
           0.32,
           1,
           null,
           null,
           null,
           null,
           null
          ],
          [
           -0.18,
           -0.13,
           0.59,
           0.24,
           0.1,
           0.83,
           1,
           null,
           null,
           null,
           null
          ],
          [
           0.15,
           0.22,
           0.26,
           0.03,
           0.71,
           0.49,
           0.28,
           1,
           null,
           null,
           null
          ],
          [
           0.23,
           0.39,
           0.08,
           0.04,
           0.71,
           0.2,
           0.01,
           0.59,
           1,
           null,
           null
          ],
          [
           -0.24,
           -0.23,
           0.37,
           -0.02,
           -0.08,
           0.45,
           0.48,
           0.15,
           -0.04,
           1,
           null
          ],
          [
           0,
           -0.21,
           0.44,
           -0.15,
           0.22,
           0.51,
           0.58,
           0.35,
           0.06,
           0.38,
           1
          ]
         ],
         "zmax": 1,
         "zmin": -1
        },
        {
         "colorbar": {
          "thickness": 10,
          "ticks": "outside"
         },
         "colorscale": [
          [
           0,
           "rgb(0,104,55)"
          ],
          [
           0.1,
           "rgb(26,152,80)"
          ],
          [
           0.2,
           "rgb(102,189,99)"
          ],
          [
           0.3,
           "rgb(166,217,106)"
          ],
          [
           0.4,
           "rgb(217,239,139)"
          ],
          [
           0.5,
           "rgb(255,255,191)"
          ],
          [
           0.6,
           "rgb(254,224,139)"
          ],
          [
           0.7,
           "rgb(253,174,97)"
          ],
          [
           0.8,
           "rgb(244,109,67)"
          ],
          [
           0.9,
           "rgb(215,48,39)"
          ],
          [
           1,
           "rgb(165,0,38)"
          ]
         ],
         "reversescale": true,
         "texttemplate": "%{z}",
         "type": "heatmap",
         "x": [
          "FC",
          "FE",
          "MC",
          "PF",
          "RP",
          "INS",
          "DEL",
          "IROF",
          "ROAD",
          "SUF",
          "INF"
         ],
         "xaxis": "x3",
         "y": [
          "FC",
          "FE",
          "MC",
          "PF",
          "RP",
          "INS",
          "DEL",
          "IROF",
          "ROAD",
          "SUF",
          "INF"
         ],
         "yaxis": "y3",
         "z": [
          [
           1,
           null,
           null,
           null,
           null,
           null,
           null,
           null,
           null,
           null,
           null
          ],
          [
           0.85,
           1,
           null,
           null,
           null,
           null,
           null,
           null,
           null,
           null,
           null
          ],
          [
           -0.13,
           -0.12,
           1,
           null,
           null,
           null,
           null,
           null,
           null,
           null,
           null
          ],
          [
           0.59,
           0.52,
           0.12,
           1,
           null,
           null,
           null,
           null,
           null,
           null,
           null
          ],
          [
           0.1,
           0.13,
           -0.02,
           0.35,
           1,
           null,
           null,
           null,
           null,
           null,
           null
          ],
          [
           0.37,
           0.36,
           0.64,
           0.6,
           0.37,
           1,
           null,
           null,
           null,
           null,
           null
          ],
          [
           0.41,
           0.42,
           0.4,
           0.81,
           0.32,
           0.74,
           1,
           null,
           null,
           null,
           null
          ],
          [
           -0.52,
           -0.53,
           0.03,
           -0.16,
           0.17,
           -0.19,
           -0.2,
           1,
           null,
           null,
           null
          ],
          [
           -0.33,
           -0.34,
           0.24,
           -0.19,
           0.49,
           0.08,
           -0.14,
           0.25,
           1,
           null,
           null
          ],
          [
           -0.09,
           -0.06,
           0.12,
           0.18,
           -0.21,
           0.08,
           0.19,
           0.06,
           -0.09,
           1,
           null
          ],
          [
           0.32,
           0.33,
           0.32,
           0.57,
           0.08,
           0.57,
           0.77,
           -0.16,
           -0.3,
           0.15,
           1
          ]
         ],
         "zmax": 1,
         "zmin": -1
        },
        {
         "colorbar": {
          "thickness": 10,
          "ticks": "outside"
         },
         "colorscale": [
          [
           0,
           "rgb(0,104,55)"
          ],
          [
           0.1,
           "rgb(26,152,80)"
          ],
          [
           0.2,
           "rgb(102,189,99)"
          ],
          [
           0.3,
           "rgb(166,217,106)"
          ],
          [
           0.4,
           "rgb(217,239,139)"
          ],
          [
           0.5,
           "rgb(255,255,191)"
          ],
          [
           0.6,
           "rgb(254,224,139)"
          ],
          [
           0.7,
           "rgb(253,174,97)"
          ],
          [
           0.8,
           "rgb(244,109,67)"
          ],
          [
           0.9,
           "rgb(215,48,39)"
          ],
          [
           1,
           "rgb(165,0,38)"
          ]
         ],
         "reversescale": true,
         "texttemplate": "%{z}",
         "type": "heatmap",
         "x": [
          "LLE",
          "MS",
          "CON",
          "RIS",
          "ROS",
          "RRS"
         ],
         "xaxis": "x4",
         "y": [
          "LLE",
          "MS",
          "CON",
          "RIS",
          "ROS",
          "RRS"
         ],
         "yaxis": "y4",
         "z": [
          [
           1,
           null,
           null,
           null,
           null,
           null
          ],
          [
           -0.39,
           1,
           null,
           null,
           null,
           null
          ],
          [
           -0.03,
           0.04,
           1,
           null,
           null,
           null
          ],
          [
           0.03,
           -0.01,
           0.97,
           1,
           null,
           null
          ],
          [
           -0.01,
           0.03,
           0.97,
           0.98,
           1,
           null
          ],
          [
           0.29,
           -0.08,
           0.25,
           0.29,
           0.28,
           1
          ]
         ],
         "zmax": 1,
         "zmin": -1
        },
        {
         "colorbar": {
          "thickness": 10,
          "ticks": "outside"
         },
         "colorscale": [
          [
           0,
           "rgb(0,104,55)"
          ],
          [
           0.1,
           "rgb(26,152,80)"
          ],
          [
           0.2,
           "rgb(102,189,99)"
          ],
          [
           0.3,
           "rgb(166,217,106)"
          ],
          [
           0.4,
           "rgb(217,239,139)"
          ],
          [
           0.5,
           "rgb(255,255,191)"
          ],
          [
           0.6,
           "rgb(254,224,139)"
          ],
          [
           0.7,
           "rgb(253,174,97)"
          ],
          [
           0.8,
           "rgb(244,109,67)"
          ],
          [
           0.9,
           "rgb(215,48,39)"
          ],
          [
           1,
           "rgb(165,0,38)"
          ]
         ],
         "reversescale": true,
         "texttemplate": "%{z}",
         "type": "heatmap",
         "x": [
          "LLE",
          "MS",
          "CON",
          "RIS",
          "ROS",
          "RRS"
         ],
         "xaxis": "x5",
         "y": [
          "LLE",
          "MS",
          "CON",
          "RIS",
          "ROS",
          "RRS"
         ],
         "yaxis": "y5",
         "z": [
          [
           1,
           null,
           null,
           null,
           null,
           null
          ],
          [
           -0.01,
           1,
           null,
           null,
           null,
           null
          ],
          [
           0.15,
           0.13,
           1,
           null,
           null,
           null
          ],
          [
           0.19,
           0.16,
           0.98,
           1,
           null,
           null
          ],
          [
           0.02,
           0.09,
           0.84,
           0.83,
           1,
           null
          ],
          [
           0.2,
           -0.05,
           -0.13,
           -0.13,
           -0.11,
           1
          ]
         ],
         "zmax": 1,
         "zmin": -1
        },
        {
         "colorbar": {
          "thickness": 10,
          "ticks": "outside"
         },
         "colorscale": [
          [
           0,
           "rgb(0,104,55)"
          ],
          [
           0.1,
           "rgb(26,152,80)"
          ],
          [
           0.2,
           "rgb(102,189,99)"
          ],
          [
           0.3,
           "rgb(166,217,106)"
          ],
          [
           0.4,
           "rgb(217,239,139)"
          ],
          [
           0.5,
           "rgb(255,255,191)"
          ],
          [
           0.6,
           "rgb(254,224,139)"
          ],
          [
           0.7,
           "rgb(253,174,97)"
          ],
          [
           0.8,
           "rgb(244,109,67)"
          ],
          [
           0.9,
           "rgb(215,48,39)"
          ],
          [
           1,
           "rgb(165,0,38)"
          ]
         ],
         "reversescale": true,
         "texttemplate": "%{z}",
         "type": "heatmap",
         "x": [
          "LLE",
          "MS",
          "CON",
          "RIS",
          "ROS",
          "RRS"
         ],
         "xaxis": "x6",
         "y": [
          "LLE",
          "MS",
          "CON",
          "RIS",
          "ROS",
          "RRS"
         ],
         "yaxis": "y6",
         "z": [
          [
           1,
           null,
           null,
           null,
           null,
           null
          ],
          [
           0.27,
           1,
           null,
           null,
           null,
           null
          ],
          [
           0.15,
           0,
           1,
           null,
           null,
           null
          ],
          [
           0.12,
           0.04,
           0.98,
           1,
           null,
           null
          ],
          [
           0.18,
           0.03,
           0.98,
           0.97,
           1,
           null
          ],
          [
           -0.02,
           0.32,
           0.31,
           0.31,
           0.26,
           1
          ]
         ],
         "zmax": 1,
         "zmin": -1
        }
       ],
       "layout": {
        "annotations": [
         {
          "font": {
           "size": 16
          },
          "showarrow": false,
          "text": "ResNet50",
          "x": 0,
          "xanchor": "left",
          "xref": "paper",
          "y": 1,
          "yanchor": "bottom",
          "yref": "paper"
         },
         {
          "font": {
           "size": 16
          },
          "showarrow": false,
          "text": "EfficientNetb0",
          "x": 0.35555555555555557,
          "xanchor": "left",
          "xref": "paper",
          "y": 1,
          "yanchor": "bottom",
          "yref": "paper"
         },
         {
          "font": {
           "size": 16
          },
          "showarrow": false,
          "text": "DeiT ViT",
          "x": 0.7111111111111111,
          "xanchor": "left",
          "xref": "paper",
          "y": 1,
          "yanchor": "bottom",
          "yref": "paper"
         },
         {
          "font": {
           "size": 16
          },
          "showarrow": false,
          "text": "ResNet50",
          "x": 0,
          "xanchor": "left",
          "xref": "paper",
          "y": 0.375,
          "yanchor": "bottom",
          "yref": "paper"
         },
         {
          "font": {
           "size": 16
          },
          "showarrow": false,
          "text": "EfficientNetb0",
          "x": 0.35555555555555557,
          "xanchor": "left",
          "xref": "paper",
          "y": 0.375,
          "yanchor": "bottom",
          "yref": "paper"
         },
         {
          "font": {
           "size": 16
          },
          "showarrow": false,
          "text": "DeiT ViT",
          "x": 0.7111111111111111,
          "xanchor": "left",
          "xref": "paper",
          "y": 0.375,
          "yanchor": "bottom",
          "yref": "paper"
         }
        ],
        "font": {
         "color": "#000000",
         "family": "Helvetica",
         "size": 13
        },
        "height": 900,
        "template": {
         "data": {
          "bar": [
           {
            "error_x": {
             "color": "#2a3f5f"
            },
            "error_y": {
             "color": "#2a3f5f"
            },
            "marker": {
             "line": {
              "color": "white",
              "width": 0.5
             },
             "pattern": {
              "fillmode": "overlay",
              "size": 10,
              "solidity": 0.2
             }
            },
            "type": "bar"
           }
          ],
          "barpolar": [
           {
            "marker": {
             "line": {
              "color": "white",
              "width": 0.5
             },
             "pattern": {
              "fillmode": "overlay",
              "size": 10,
              "solidity": 0.2
             }
            },
            "type": "barpolar"
           }
          ],
          "carpet": [
           {
            "aaxis": {
             "endlinecolor": "#2a3f5f",
             "gridcolor": "#C8D4E3",
             "linecolor": "#C8D4E3",
             "minorgridcolor": "#C8D4E3",
             "startlinecolor": "#2a3f5f"
            },
            "baxis": {
             "endlinecolor": "#2a3f5f",
             "gridcolor": "#C8D4E3",
             "linecolor": "#C8D4E3",
             "minorgridcolor": "#C8D4E3",
             "startlinecolor": "#2a3f5f"
            },
            "type": "carpet"
           }
          ],
          "choropleth": [
           {
            "colorbar": {
             "outlinewidth": 0,
             "ticks": ""
            },
            "type": "choropleth"
           }
          ],
          "contour": [
           {
            "colorbar": {
             "outlinewidth": 0,
             "ticks": ""
            },
            "colorscale": [
             [
              0,
              "#0d0887"
             ],
             [
              0.1111111111111111,
              "#46039f"
             ],
             [
              0.2222222222222222,
              "#7201a8"
             ],
             [
              0.3333333333333333,
              "#9c179e"
             ],
             [
              0.4444444444444444,
              "#bd3786"
             ],
             [
              0.5555555555555556,
              "#d8576b"
             ],
             [
              0.6666666666666666,
              "#ed7953"
             ],
             [
              0.7777777777777778,
              "#fb9f3a"
             ],
             [
              0.8888888888888888,
              "#fdca26"
             ],
             [
              1,
              "#f0f921"
             ]
            ],
            "type": "contour"
           }
          ],
          "contourcarpet": [
           {
            "colorbar": {
             "outlinewidth": 0,
             "ticks": ""
            },
            "type": "contourcarpet"
           }
          ],
          "heatmap": [
           {
            "colorbar": {
             "outlinewidth": 0,
             "ticks": ""
            },
            "colorscale": [
             [
              0,
              "#0d0887"
             ],
             [
              0.1111111111111111,
              "#46039f"
             ],
             [
              0.2222222222222222,
              "#7201a8"
             ],
             [
              0.3333333333333333,
              "#9c179e"
             ],
             [
              0.4444444444444444,
              "#bd3786"
             ],
             [
              0.5555555555555556,
              "#d8576b"
             ],
             [
              0.6666666666666666,
              "#ed7953"
             ],
             [
              0.7777777777777778,
              "#fb9f3a"
             ],
             [
              0.8888888888888888,
              "#fdca26"
             ],
             [
              1,
              "#f0f921"
             ]
            ],
            "type": "heatmap"
           }
          ],
          "heatmapgl": [
           {
            "colorbar": {
             "outlinewidth": 0,
             "ticks": ""
            },
            "colorscale": [
             [
              0,
              "#0d0887"
             ],
             [
              0.1111111111111111,
              "#46039f"
             ],
             [
              0.2222222222222222,
              "#7201a8"
             ],
             [
              0.3333333333333333,
              "#9c179e"
             ],
             [
              0.4444444444444444,
              "#bd3786"
             ],
             [
              0.5555555555555556,
              "#d8576b"
             ],
             [
              0.6666666666666666,
              "#ed7953"
             ],
             [
              0.7777777777777778,
              "#fb9f3a"
             ],
             [
              0.8888888888888888,
              "#fdca26"
             ],
             [
              1,
              "#f0f921"
             ]
            ],
            "type": "heatmapgl"
           }
          ],
          "histogram": [
           {
            "marker": {
             "pattern": {
              "fillmode": "overlay",
              "size": 10,
              "solidity": 0.2
             }
            },
            "type": "histogram"
           }
          ],
          "histogram2d": [
           {
            "colorbar": {
             "outlinewidth": 0,
             "ticks": ""
            },
            "colorscale": [
             [
              0,
              "#0d0887"
             ],
             [
              0.1111111111111111,
              "#46039f"
             ],
             [
              0.2222222222222222,
              "#7201a8"
             ],
             [
              0.3333333333333333,
              "#9c179e"
             ],
             [
              0.4444444444444444,
              "#bd3786"
             ],
             [
              0.5555555555555556,
              "#d8576b"
             ],
             [
              0.6666666666666666,
              "#ed7953"
             ],
             [
              0.7777777777777778,
              "#fb9f3a"
             ],
             [
              0.8888888888888888,
              "#fdca26"
             ],
             [
              1,
              "#f0f921"
             ]
            ],
            "type": "histogram2d"
           }
          ],
          "histogram2dcontour": [
           {
            "colorbar": {
             "outlinewidth": 0,
             "ticks": ""
            },
            "colorscale": [
             [
              0,
              "#0d0887"
             ],
             [
              0.1111111111111111,
              "#46039f"
             ],
             [
              0.2222222222222222,
              "#7201a8"
             ],
             [
              0.3333333333333333,
              "#9c179e"
             ],
             [
              0.4444444444444444,
              "#bd3786"
             ],
             [
              0.5555555555555556,
              "#d8576b"
             ],
             [
              0.6666666666666666,
              "#ed7953"
             ],
             [
              0.7777777777777778,
              "#fb9f3a"
             ],
             [
              0.8888888888888888,
              "#fdca26"
             ],
             [
              1,
              "#f0f921"
             ]
            ],
            "type": "histogram2dcontour"
           }
          ],
          "mesh3d": [
           {
            "colorbar": {
             "outlinewidth": 0,
             "ticks": ""
            },
            "type": "mesh3d"
           }
          ],
          "parcoords": [
           {
            "line": {
             "colorbar": {
              "outlinewidth": 0,
              "ticks": ""
             }
            },
            "type": "parcoords"
           }
          ],
          "pie": [
           {
            "automargin": true,
            "type": "pie"
           }
          ],
          "scatter": [
           {
            "fillpattern": {
             "fillmode": "overlay",
             "size": 10,
             "solidity": 0.2
            },
            "type": "scatter"
           }
          ],
          "scatter3d": [
           {
            "line": {
             "colorbar": {
              "outlinewidth": 0,
              "ticks": ""
             }
            },
            "marker": {
             "colorbar": {
              "outlinewidth": 0,
              "ticks": ""
             }
            },
            "type": "scatter3d"
           }
          ],
          "scattercarpet": [
           {
            "marker": {
             "colorbar": {
              "outlinewidth": 0,
              "ticks": ""
             }
            },
            "type": "scattercarpet"
           }
          ],
          "scattergeo": [
           {
            "marker": {
             "colorbar": {
              "outlinewidth": 0,
              "ticks": ""
             }
            },
            "type": "scattergeo"
           }
          ],
          "scattergl": [
           {
            "marker": {
             "colorbar": {
              "outlinewidth": 0,
              "ticks": ""
             }
            },
            "type": "scattergl"
           }
          ],
          "scattermapbox": [
           {
            "marker": {
             "colorbar": {
              "outlinewidth": 0,
              "ticks": ""
             }
            },
            "type": "scattermapbox"
           }
          ],
          "scatterpolar": [
           {
            "marker": {
             "colorbar": {
              "outlinewidth": 0,
              "ticks": ""
             }
            },
            "type": "scatterpolar"
           }
          ],
          "scatterpolargl": [
           {
            "marker": {
             "colorbar": {
              "outlinewidth": 0,
              "ticks": ""
             }
            },
            "type": "scatterpolargl"
           }
          ],
          "scatterternary": [
           {
            "marker": {
             "colorbar": {
              "outlinewidth": 0,
              "ticks": ""
             }
            },
            "type": "scatterternary"
           }
          ],
          "surface": [
           {
            "colorbar": {
             "outlinewidth": 0,
             "ticks": ""
            },
            "colorscale": [
             [
              0,
              "#0d0887"
             ],
             [
              0.1111111111111111,
              "#46039f"
             ],
             [
              0.2222222222222222,
              "#7201a8"
             ],
             [
              0.3333333333333333,
              "#9c179e"
             ],
             [
              0.4444444444444444,
              "#bd3786"
             ],
             [
              0.5555555555555556,
              "#d8576b"
             ],
             [
              0.6666666666666666,
              "#ed7953"
             ],
             [
              0.7777777777777778,
              "#fb9f3a"
             ],
             [
              0.8888888888888888,
              "#fdca26"
             ],
             [
              1,
              "#f0f921"
             ]
            ],
            "type": "surface"
           }
          ],
          "table": [
           {
            "cells": {
             "fill": {
              "color": "#EBF0F8"
             },
             "line": {
              "color": "white"
             }
            },
            "header": {
             "fill": {
              "color": "#C8D4E3"
             },
             "line": {
              "color": "white"
             }
            },
            "type": "table"
           }
          ]
         },
         "layout": {
          "annotationdefaults": {
           "arrowcolor": "#2a3f5f",
           "arrowhead": 0,
           "arrowwidth": 1
          },
          "autotypenumbers": "strict",
          "coloraxis": {
           "colorbar": {
            "outlinewidth": 0,
            "ticks": ""
           }
          },
          "colorscale": {
           "diverging": [
            [
             0,
             "#8e0152"
            ],
            [
             0.1,
             "#c51b7d"
            ],
            [
             0.2,
             "#de77ae"
            ],
            [
             0.3,
             "#f1b6da"
            ],
            [
             0.4,
             "#fde0ef"
            ],
            [
             0.5,
             "#f7f7f7"
            ],
            [
             0.6,
             "#e6f5d0"
            ],
            [
             0.7,
             "#b8e186"
            ],
            [
             0.8,
             "#7fbc41"
            ],
            [
             0.9,
             "#4d9221"
            ],
            [
             1,
             "#276419"
            ]
           ],
           "sequential": [
            [
             0,
             "#0d0887"
            ],
            [
             0.1111111111111111,
             "#46039f"
            ],
            [
             0.2222222222222222,
             "#7201a8"
            ],
            [
             0.3333333333333333,
             "#9c179e"
            ],
            [
             0.4444444444444444,
             "#bd3786"
            ],
            [
             0.5555555555555556,
             "#d8576b"
            ],
            [
             0.6666666666666666,
             "#ed7953"
            ],
            [
             0.7777777777777778,
             "#fb9f3a"
            ],
            [
             0.8888888888888888,
             "#fdca26"
            ],
            [
             1,
             "#f0f921"
            ]
           ],
           "sequentialminus": [
            [
             0,
             "#0d0887"
            ],
            [
             0.1111111111111111,
             "#46039f"
            ],
            [
             0.2222222222222222,
             "#7201a8"
            ],
            [
             0.3333333333333333,
             "#9c179e"
            ],
            [
             0.4444444444444444,
             "#bd3786"
            ],
            [
             0.5555555555555556,
             "#d8576b"
            ],
            [
             0.6666666666666666,
             "#ed7953"
            ],
            [
             0.7777777777777778,
             "#fb9f3a"
            ],
            [
             0.8888888888888888,
             "#fdca26"
            ],
            [
             1,
             "#f0f921"
            ]
           ]
          },
          "colorway": [
           "#636efa",
           "#EF553B",
           "#00cc96",
           "#ab63fa",
           "#FFA15A",
           "#19d3f3",
           "#FF6692",
           "#B6E880",
           "#FF97FF",
           "#FECB52"
          ],
          "font": {
           "color": "#2a3f5f"
          },
          "geo": {
           "bgcolor": "white",
           "lakecolor": "white",
           "landcolor": "white",
           "showlakes": true,
           "showland": true,
           "subunitcolor": "#C8D4E3"
          },
          "hoverlabel": {
           "align": "left"
          },
          "hovermode": "closest",
          "mapbox": {
           "style": "light"
          },
          "paper_bgcolor": "white",
          "plot_bgcolor": "white",
          "polar": {
           "angularaxis": {
            "gridcolor": "#EBF0F8",
            "linecolor": "#EBF0F8",
            "ticks": ""
           },
           "bgcolor": "white",
           "radialaxis": {
            "gridcolor": "#EBF0F8",
            "linecolor": "#EBF0F8",
            "ticks": ""
           }
          },
          "scene": {
           "xaxis": {
            "backgroundcolor": "white",
            "gridcolor": "#DFE8F3",
            "gridwidth": 2,
            "linecolor": "#EBF0F8",
            "showbackground": true,
            "ticks": "",
            "zerolinecolor": "#EBF0F8"
           },
           "yaxis": {
            "backgroundcolor": "white",
            "gridcolor": "#DFE8F3",
            "gridwidth": 2,
            "linecolor": "#EBF0F8",
            "showbackground": true,
            "ticks": "",
            "zerolinecolor": "#EBF0F8"
           },
           "zaxis": {
            "backgroundcolor": "white",
            "gridcolor": "#DFE8F3",
            "gridwidth": 2,
            "linecolor": "#EBF0F8",
            "showbackground": true,
            "ticks": "",
            "zerolinecolor": "#EBF0F8"
           }
          },
          "shapedefaults": {
           "line": {
            "color": "#2a3f5f"
           }
          },
          "ternary": {
           "aaxis": {
            "gridcolor": "#DFE8F3",
            "linecolor": "#A2B1C6",
            "ticks": ""
           },
           "baxis": {
            "gridcolor": "#DFE8F3",
            "linecolor": "#A2B1C6",
            "ticks": ""
           },
           "bgcolor": "white",
           "caxis": {
            "gridcolor": "#DFE8F3",
            "linecolor": "#A2B1C6",
            "ticks": ""
           }
          },
          "title": {
           "x": 0.05
          },
          "xaxis": {
           "automargin": true,
           "gridcolor": "#EBF0F8",
           "linecolor": "#EBF0F8",
           "ticks": "",
           "title": {
            "standoff": 15
           },
           "zerolinecolor": "#EBF0F8",
           "zerolinewidth": 2
          },
          "yaxis": {
           "automargin": true,
           "gridcolor": "#EBF0F8",
           "linecolor": "#EBF0F8",
           "ticks": "",
           "title": {
            "standoff": 15
           },
           "zerolinecolor": "#EBF0F8",
           "zerolinewidth": 2
          }
         }
        },
        "title": {
         "font": {
          "color": "#000000",
          "family": "Helvetica",
          "size": 14
         }
        },
        "width": 1600,
        "xaxis": {
         "anchor": "y",
         "domain": [
          0,
          0.2888888888888889
         ]
        },
        "xaxis2": {
         "anchor": "y2",
         "domain": [
          0.35555555555555557,
          0.6444444444444445
         ]
        },
        "xaxis3": {
         "anchor": "y3",
         "domain": [
          0.7111111111111111,
          1
         ]
        },
        "xaxis4": {
         "anchor": "y4",
         "domain": [
          0,
          0.2888888888888889
         ]
        },
        "xaxis5": {
         "anchor": "y5",
         "domain": [
          0.35555555555555557,
          0.6444444444444445
         ]
        },
        "xaxis6": {
         "anchor": "y6",
         "domain": [
          0.7111111111111111,
          1
         ]
        },
        "yaxis": {
         "anchor": "x",
         "domain": [
          0.625,
          1
         ],
         "showgrid": false,
         "title": {
          "text": "Faithfulness Metrics"
         }
        },
        "yaxis2": {
         "anchor": "x2",
         "domain": [
          0.625,
          1
         ],
         "showgrid": false
        },
        "yaxis3": {
         "anchor": "x3",
         "domain": [
          0.625,
          1
         ],
         "showgrid": false
        },
        "yaxis4": {
         "anchor": "x4",
         "domain": [
          0,
          0.375
         ],
         "showgrid": false,
         "title": {
          "text": "Robustness Metrics"
         }
        },
        "yaxis5": {
         "anchor": "x5",
         "domain": [
          0,
          0.375
         ],
         "showgrid": false
        },
        "yaxis6": {
         "anchor": "x6",
         "domain": [
          0,
          0.375
         ],
         "showgrid": false
        }
       }
      },
      "text/html": [
       "<div>                            <div id=\"12d3b4cf-ffb8-46e4-9816-25c7f9d13905\" class=\"plotly-graph-div\" style=\"height:900px; width:1600px;\"></div>            <script type=\"text/javascript\">                require([\"plotly\"], function(Plotly) {                    window.PLOTLYENV=window.PLOTLYENV || {};                                    if (document.getElementById(\"12d3b4cf-ffb8-46e4-9816-25c7f9d13905\")) {                    Plotly.newPlot(                        \"12d3b4cf-ffb8-46e4-9816-25c7f9d13905\",                        [{\"colorbar\":{\"thickness\":10,\"ticks\":\"outside\"},\"colorscale\":[[0.0,\"rgb(0,104,55)\"],[0.1,\"rgb(26,152,80)\"],[0.2,\"rgb(102,189,99)\"],[0.3,\"rgb(166,217,106)\"],[0.4,\"rgb(217,239,139)\"],[0.5,\"rgb(255,255,191)\"],[0.6,\"rgb(254,224,139)\"],[0.7,\"rgb(253,174,97)\"],[0.8,\"rgb(244,109,67)\"],[0.9,\"rgb(215,48,39)\"],[1.0,\"rgb(165,0,38)\"]],\"reversescale\":true,\"texttemplate\":\"%{z}\",\"x\":[\"FC\",\"FE\",\"MC\",\"PF\",\"RP\",\"INS\",\"DEL\",\"IROF\",\"ROAD\",\"SUF\",\"INF\"],\"y\":[\"FC\",\"FE\",\"MC\",\"PF\",\"RP\",\"INS\",\"DEL\",\"IROF\",\"ROAD\",\"SUF\",\"INF\"],\"z\":[[1.0,null,null,null,null,null,null,null,null,null,null],[0.75,1.0,null,null,null,null,null,null,null,null,null],[-0.23,-0.08,1.0,null,null,null,null,null,null,null,null],[-0.12,-0.06,0.24,1.0,null,null,null,null,null,null,null],[0.22,0.44,0.2,0.18,1.0,null,null,null,null,null,null],[0.13,0.25,0.58,0.4,0.64,1.0,null,null,null,null,null],[0.03,0.06,0.28,0.69,0.17,0.5,1.0,null,null,null,null],[0.09,0.25,0.07,-0.17,0.47,0.15,-0.1,1.0,null,null,null],[0.11,0.26,0.23,-0.25,0.34,0.27,-0.4,0.35,1.0,null,null],[0.03,0.01,0.43,0.27,0.15,0.42,0.52,0.07,-0.15,1.0,null],[-0.19,0.02,0.42,0.43,0.48,0.49,0.53,0.24,-0.19,0.33,1.0]],\"zmax\":1,\"zmin\":-1,\"type\":\"heatmap\",\"xaxis\":\"x\",\"yaxis\":\"y\"},{\"colorbar\":{\"thickness\":10,\"ticks\":\"outside\"},\"colorscale\":[[0.0,\"rgb(0,104,55)\"],[0.1,\"rgb(26,152,80)\"],[0.2,\"rgb(102,189,99)\"],[0.3,\"rgb(166,217,106)\"],[0.4,\"rgb(217,239,139)\"],[0.5,\"rgb(255,255,191)\"],[0.6,\"rgb(254,224,139)\"],[0.7,\"rgb(253,174,97)\"],[0.8,\"rgb(244,109,67)\"],[0.9,\"rgb(215,48,39)\"],[1.0,\"rgb(165,0,38)\"]],\"reversescale\":true,\"texttemplate\":\"%{z}\",\"x\":[\"FC\",\"FE\",\"MC\",\"PF\",\"RP\",\"INS\",\"DEL\",\"IROF\",\"ROAD\",\"SUF\",\"INF\"],\"y\":[\"FC\",\"FE\",\"MC\",\"PF\",\"RP\",\"INS\",\"DEL\",\"IROF\",\"ROAD\",\"SUF\",\"INF\"],\"z\":[[1.0,null,null,null,null,null,null,null,null,null,null],[0.69,1.0,null,null,null,null,null,null,null,null,null],[-0.44,-0.31,1.0,null,null,null,null,null,null,null,null],[0.02,0.3,0.12,1.0,null,null,null,null,null,null,null],[0.42,0.5,0.06,-0.07,1.0,null,null,null,null,null,null],[-0.19,-0.03,0.49,0.21,0.32,1.0,null,null,null,null,null],[-0.18,-0.13,0.59,0.24,0.1,0.83,1.0,null,null,null,null],[0.15,0.22,0.26,0.03,0.71,0.49,0.28,1.0,null,null,null],[0.23,0.39,0.08,0.04,0.71,0.2,0.01,0.59,1.0,null,null],[-0.24,-0.23,0.37,-0.02,-0.08,0.45,0.48,0.15,-0.04,1.0,null],[0.0,-0.21,0.44,-0.15,0.22,0.51,0.58,0.35,0.06,0.38,1.0]],\"zmax\":1,\"zmin\":-1,\"type\":\"heatmap\",\"xaxis\":\"x2\",\"yaxis\":\"y2\"},{\"colorbar\":{\"thickness\":10,\"ticks\":\"outside\"},\"colorscale\":[[0.0,\"rgb(0,104,55)\"],[0.1,\"rgb(26,152,80)\"],[0.2,\"rgb(102,189,99)\"],[0.3,\"rgb(166,217,106)\"],[0.4,\"rgb(217,239,139)\"],[0.5,\"rgb(255,255,191)\"],[0.6,\"rgb(254,224,139)\"],[0.7,\"rgb(253,174,97)\"],[0.8,\"rgb(244,109,67)\"],[0.9,\"rgb(215,48,39)\"],[1.0,\"rgb(165,0,38)\"]],\"reversescale\":true,\"texttemplate\":\"%{z}\",\"x\":[\"FC\",\"FE\",\"MC\",\"PF\",\"RP\",\"INS\",\"DEL\",\"IROF\",\"ROAD\",\"SUF\",\"INF\"],\"y\":[\"FC\",\"FE\",\"MC\",\"PF\",\"RP\",\"INS\",\"DEL\",\"IROF\",\"ROAD\",\"SUF\",\"INF\"],\"z\":[[1.0,null,null,null,null,null,null,null,null,null,null],[0.85,1.0,null,null,null,null,null,null,null,null,null],[-0.13,-0.12,1.0,null,null,null,null,null,null,null,null],[0.59,0.52,0.12,1.0,null,null,null,null,null,null,null],[0.1,0.13,-0.02,0.35,1.0,null,null,null,null,null,null],[0.37,0.36,0.64,0.6,0.37,1.0,null,null,null,null,null],[0.41,0.42,0.4,0.81,0.32,0.74,1.0,null,null,null,null],[-0.52,-0.53,0.03,-0.16,0.17,-0.19,-0.2,1.0,null,null,null],[-0.33,-0.34,0.24,-0.19,0.49,0.08,-0.14,0.25,1.0,null,null],[-0.09,-0.06,0.12,0.18,-0.21,0.08,0.19,0.06,-0.09,1.0,null],[0.32,0.33,0.32,0.57,0.08,0.57,0.77,-0.16,-0.3,0.15,1.0]],\"zmax\":1,\"zmin\":-1,\"type\":\"heatmap\",\"xaxis\":\"x3\",\"yaxis\":\"y3\"},{\"colorbar\":{\"thickness\":10,\"ticks\":\"outside\"},\"colorscale\":[[0.0,\"rgb(0,104,55)\"],[0.1,\"rgb(26,152,80)\"],[0.2,\"rgb(102,189,99)\"],[0.3,\"rgb(166,217,106)\"],[0.4,\"rgb(217,239,139)\"],[0.5,\"rgb(255,255,191)\"],[0.6,\"rgb(254,224,139)\"],[0.7,\"rgb(253,174,97)\"],[0.8,\"rgb(244,109,67)\"],[0.9,\"rgb(215,48,39)\"],[1.0,\"rgb(165,0,38)\"]],\"reversescale\":true,\"texttemplate\":\"%{z}\",\"x\":[\"LLE\",\"MS\",\"CON\",\"RIS\",\"ROS\",\"RRS\"],\"y\":[\"LLE\",\"MS\",\"CON\",\"RIS\",\"ROS\",\"RRS\"],\"z\":[[1.0,null,null,null,null,null],[-0.39,1.0,null,null,null,null],[-0.03,0.04,1.0,null,null,null],[0.03,-0.01,0.97,1.0,null,null],[-0.01,0.03,0.97,0.98,1.0,null],[0.29,-0.08,0.25,0.29,0.28,1.0]],\"zmax\":1,\"zmin\":-1,\"type\":\"heatmap\",\"xaxis\":\"x4\",\"yaxis\":\"y4\"},{\"colorbar\":{\"thickness\":10,\"ticks\":\"outside\"},\"colorscale\":[[0.0,\"rgb(0,104,55)\"],[0.1,\"rgb(26,152,80)\"],[0.2,\"rgb(102,189,99)\"],[0.3,\"rgb(166,217,106)\"],[0.4,\"rgb(217,239,139)\"],[0.5,\"rgb(255,255,191)\"],[0.6,\"rgb(254,224,139)\"],[0.7,\"rgb(253,174,97)\"],[0.8,\"rgb(244,109,67)\"],[0.9,\"rgb(215,48,39)\"],[1.0,\"rgb(165,0,38)\"]],\"reversescale\":true,\"texttemplate\":\"%{z}\",\"x\":[\"LLE\",\"MS\",\"CON\",\"RIS\",\"ROS\",\"RRS\"],\"y\":[\"LLE\",\"MS\",\"CON\",\"RIS\",\"ROS\",\"RRS\"],\"z\":[[1.0,null,null,null,null,null],[-0.01,1.0,null,null,null,null],[0.15,0.13,1.0,null,null,null],[0.19,0.16,0.98,1.0,null,null],[0.02,0.09,0.84,0.83,1.0,null],[0.2,-0.05,-0.13,-0.13,-0.11,1.0]],\"zmax\":1,\"zmin\":-1,\"type\":\"heatmap\",\"xaxis\":\"x5\",\"yaxis\":\"y5\"},{\"colorbar\":{\"thickness\":10,\"ticks\":\"outside\"},\"colorscale\":[[0.0,\"rgb(0,104,55)\"],[0.1,\"rgb(26,152,80)\"],[0.2,\"rgb(102,189,99)\"],[0.3,\"rgb(166,217,106)\"],[0.4,\"rgb(217,239,139)\"],[0.5,\"rgb(255,255,191)\"],[0.6,\"rgb(254,224,139)\"],[0.7,\"rgb(253,174,97)\"],[0.8,\"rgb(244,109,67)\"],[0.9,\"rgb(215,48,39)\"],[1.0,\"rgb(165,0,38)\"]],\"reversescale\":true,\"texttemplate\":\"%{z}\",\"x\":[\"LLE\",\"MS\",\"CON\",\"RIS\",\"ROS\",\"RRS\"],\"y\":[\"LLE\",\"MS\",\"CON\",\"RIS\",\"ROS\",\"RRS\"],\"z\":[[1.0,null,null,null,null,null],[0.27,1.0,null,null,null,null],[0.15,-0.0,1.0,null,null,null],[0.12,0.04,0.98,1.0,null,null],[0.18,0.03,0.98,0.97,1.0,null],[-0.02,0.32,0.31,0.31,0.26,1.0]],\"zmax\":1,\"zmin\":-1,\"type\":\"heatmap\",\"xaxis\":\"x6\",\"yaxis\":\"y6\"}],                        {\"template\":{\"data\":{\"barpolar\":[{\"marker\":{\"line\":{\"color\":\"white\",\"width\":0.5},\"pattern\":{\"fillmode\":\"overlay\",\"size\":10,\"solidity\":0.2}},\"type\":\"barpolar\"}],\"bar\":[{\"error_x\":{\"color\":\"#2a3f5f\"},\"error_y\":{\"color\":\"#2a3f5f\"},\"marker\":{\"line\":{\"color\":\"white\",\"width\":0.5},\"pattern\":{\"fillmode\":\"overlay\",\"size\":10,\"solidity\":0.2}},\"type\":\"bar\"}],\"carpet\":[{\"aaxis\":{\"endlinecolor\":\"#2a3f5f\",\"gridcolor\":\"#C8D4E3\",\"linecolor\":\"#C8D4E3\",\"minorgridcolor\":\"#C8D4E3\",\"startlinecolor\":\"#2a3f5f\"},\"baxis\":{\"endlinecolor\":\"#2a3f5f\",\"gridcolor\":\"#C8D4E3\",\"linecolor\":\"#C8D4E3\",\"minorgridcolor\":\"#C8D4E3\",\"startlinecolor\":\"#2a3f5f\"},\"type\":\"carpet\"}],\"choropleth\":[{\"colorbar\":{\"outlinewidth\":0,\"ticks\":\"\"},\"type\":\"choropleth\"}],\"contourcarpet\":[{\"colorbar\":{\"outlinewidth\":0,\"ticks\":\"\"},\"type\":\"contourcarpet\"}],\"contour\":[{\"colorbar\":{\"outlinewidth\":0,\"ticks\":\"\"},\"colorscale\":[[0.0,\"#0d0887\"],[0.1111111111111111,\"#46039f\"],[0.2222222222222222,\"#7201a8\"],[0.3333333333333333,\"#9c179e\"],[0.4444444444444444,\"#bd3786\"],[0.5555555555555556,\"#d8576b\"],[0.6666666666666666,\"#ed7953\"],[0.7777777777777778,\"#fb9f3a\"],[0.8888888888888888,\"#fdca26\"],[1.0,\"#f0f921\"]],\"type\":\"contour\"}],\"heatmapgl\":[{\"colorbar\":{\"outlinewidth\":0,\"ticks\":\"\"},\"colorscale\":[[0.0,\"#0d0887\"],[0.1111111111111111,\"#46039f\"],[0.2222222222222222,\"#7201a8\"],[0.3333333333333333,\"#9c179e\"],[0.4444444444444444,\"#bd3786\"],[0.5555555555555556,\"#d8576b\"],[0.6666666666666666,\"#ed7953\"],[0.7777777777777778,\"#fb9f3a\"],[0.8888888888888888,\"#fdca26\"],[1.0,\"#f0f921\"]],\"type\":\"heatmapgl\"}],\"heatmap\":[{\"colorbar\":{\"outlinewidth\":0,\"ticks\":\"\"},\"colorscale\":[[0.0,\"#0d0887\"],[0.1111111111111111,\"#46039f\"],[0.2222222222222222,\"#7201a8\"],[0.3333333333333333,\"#9c179e\"],[0.4444444444444444,\"#bd3786\"],[0.5555555555555556,\"#d8576b\"],[0.6666666666666666,\"#ed7953\"],[0.7777777777777778,\"#fb9f3a\"],[0.8888888888888888,\"#fdca26\"],[1.0,\"#f0f921\"]],\"type\":\"heatmap\"}],\"histogram2dcontour\":[{\"colorbar\":{\"outlinewidth\":0,\"ticks\":\"\"},\"colorscale\":[[0.0,\"#0d0887\"],[0.1111111111111111,\"#46039f\"],[0.2222222222222222,\"#7201a8\"],[0.3333333333333333,\"#9c179e\"],[0.4444444444444444,\"#bd3786\"],[0.5555555555555556,\"#d8576b\"],[0.6666666666666666,\"#ed7953\"],[0.7777777777777778,\"#fb9f3a\"],[0.8888888888888888,\"#fdca26\"],[1.0,\"#f0f921\"]],\"type\":\"histogram2dcontour\"}],\"histogram2d\":[{\"colorbar\":{\"outlinewidth\":0,\"ticks\":\"\"},\"colorscale\":[[0.0,\"#0d0887\"],[0.1111111111111111,\"#46039f\"],[0.2222222222222222,\"#7201a8\"],[0.3333333333333333,\"#9c179e\"],[0.4444444444444444,\"#bd3786\"],[0.5555555555555556,\"#d8576b\"],[0.6666666666666666,\"#ed7953\"],[0.7777777777777778,\"#fb9f3a\"],[0.8888888888888888,\"#fdca26\"],[1.0,\"#f0f921\"]],\"type\":\"histogram2d\"}],\"histogram\":[{\"marker\":{\"pattern\":{\"fillmode\":\"overlay\",\"size\":10,\"solidity\":0.2}},\"type\":\"histogram\"}],\"mesh3d\":[{\"colorbar\":{\"outlinewidth\":0,\"ticks\":\"\"},\"type\":\"mesh3d\"}],\"parcoords\":[{\"line\":{\"colorbar\":{\"outlinewidth\":0,\"ticks\":\"\"}},\"type\":\"parcoords\"}],\"pie\":[{\"automargin\":true,\"type\":\"pie\"}],\"scatter3d\":[{\"line\":{\"colorbar\":{\"outlinewidth\":0,\"ticks\":\"\"}},\"marker\":{\"colorbar\":{\"outlinewidth\":0,\"ticks\":\"\"}},\"type\":\"scatter3d\"}],\"scattercarpet\":[{\"marker\":{\"colorbar\":{\"outlinewidth\":0,\"ticks\":\"\"}},\"type\":\"scattercarpet\"}],\"scattergeo\":[{\"marker\":{\"colorbar\":{\"outlinewidth\":0,\"ticks\":\"\"}},\"type\":\"scattergeo\"}],\"scattergl\":[{\"marker\":{\"colorbar\":{\"outlinewidth\":0,\"ticks\":\"\"}},\"type\":\"scattergl\"}],\"scattermapbox\":[{\"marker\":{\"colorbar\":{\"outlinewidth\":0,\"ticks\":\"\"}},\"type\":\"scattermapbox\"}],\"scatterpolargl\":[{\"marker\":{\"colorbar\":{\"outlinewidth\":0,\"ticks\":\"\"}},\"type\":\"scatterpolargl\"}],\"scatterpolar\":[{\"marker\":{\"colorbar\":{\"outlinewidth\":0,\"ticks\":\"\"}},\"type\":\"scatterpolar\"}],\"scatter\":[{\"fillpattern\":{\"fillmode\":\"overlay\",\"size\":10,\"solidity\":0.2},\"type\":\"scatter\"}],\"scatterternary\":[{\"marker\":{\"colorbar\":{\"outlinewidth\":0,\"ticks\":\"\"}},\"type\":\"scatterternary\"}],\"surface\":[{\"colorbar\":{\"outlinewidth\":0,\"ticks\":\"\"},\"colorscale\":[[0.0,\"#0d0887\"],[0.1111111111111111,\"#46039f\"],[0.2222222222222222,\"#7201a8\"],[0.3333333333333333,\"#9c179e\"],[0.4444444444444444,\"#bd3786\"],[0.5555555555555556,\"#d8576b\"],[0.6666666666666666,\"#ed7953\"],[0.7777777777777778,\"#fb9f3a\"],[0.8888888888888888,\"#fdca26\"],[1.0,\"#f0f921\"]],\"type\":\"surface\"}],\"table\":[{\"cells\":{\"fill\":{\"color\":\"#EBF0F8\"},\"line\":{\"color\":\"white\"}},\"header\":{\"fill\":{\"color\":\"#C8D4E3\"},\"line\":{\"color\":\"white\"}},\"type\":\"table\"}]},\"layout\":{\"annotationdefaults\":{\"arrowcolor\":\"#2a3f5f\",\"arrowhead\":0,\"arrowwidth\":1},\"autotypenumbers\":\"strict\",\"coloraxis\":{\"colorbar\":{\"outlinewidth\":0,\"ticks\":\"\"}},\"colorscale\":{\"diverging\":[[0,\"#8e0152\"],[0.1,\"#c51b7d\"],[0.2,\"#de77ae\"],[0.3,\"#f1b6da\"],[0.4,\"#fde0ef\"],[0.5,\"#f7f7f7\"],[0.6,\"#e6f5d0\"],[0.7,\"#b8e186\"],[0.8,\"#7fbc41\"],[0.9,\"#4d9221\"],[1,\"#276419\"]],\"sequential\":[[0.0,\"#0d0887\"],[0.1111111111111111,\"#46039f\"],[0.2222222222222222,\"#7201a8\"],[0.3333333333333333,\"#9c179e\"],[0.4444444444444444,\"#bd3786\"],[0.5555555555555556,\"#d8576b\"],[0.6666666666666666,\"#ed7953\"],[0.7777777777777778,\"#fb9f3a\"],[0.8888888888888888,\"#fdca26\"],[1.0,\"#f0f921\"]],\"sequentialminus\":[[0.0,\"#0d0887\"],[0.1111111111111111,\"#46039f\"],[0.2222222222222222,\"#7201a8\"],[0.3333333333333333,\"#9c179e\"],[0.4444444444444444,\"#bd3786\"],[0.5555555555555556,\"#d8576b\"],[0.6666666666666666,\"#ed7953\"],[0.7777777777777778,\"#fb9f3a\"],[0.8888888888888888,\"#fdca26\"],[1.0,\"#f0f921\"]]},\"colorway\":[\"#636efa\",\"#EF553B\",\"#00cc96\",\"#ab63fa\",\"#FFA15A\",\"#19d3f3\",\"#FF6692\",\"#B6E880\",\"#FF97FF\",\"#FECB52\"],\"font\":{\"color\":\"#2a3f5f\"},\"geo\":{\"bgcolor\":\"white\",\"lakecolor\":\"white\",\"landcolor\":\"white\",\"showlakes\":true,\"showland\":true,\"subunitcolor\":\"#C8D4E3\"},\"hoverlabel\":{\"align\":\"left\"},\"hovermode\":\"closest\",\"mapbox\":{\"style\":\"light\"},\"paper_bgcolor\":\"white\",\"plot_bgcolor\":\"white\",\"polar\":{\"angularaxis\":{\"gridcolor\":\"#EBF0F8\",\"linecolor\":\"#EBF0F8\",\"ticks\":\"\"},\"bgcolor\":\"white\",\"radialaxis\":{\"gridcolor\":\"#EBF0F8\",\"linecolor\":\"#EBF0F8\",\"ticks\":\"\"}},\"scene\":{\"xaxis\":{\"backgroundcolor\":\"white\",\"gridcolor\":\"#DFE8F3\",\"gridwidth\":2,\"linecolor\":\"#EBF0F8\",\"showbackground\":true,\"ticks\":\"\",\"zerolinecolor\":\"#EBF0F8\"},\"yaxis\":{\"backgroundcolor\":\"white\",\"gridcolor\":\"#DFE8F3\",\"gridwidth\":2,\"linecolor\":\"#EBF0F8\",\"showbackground\":true,\"ticks\":\"\",\"zerolinecolor\":\"#EBF0F8\"},\"zaxis\":{\"backgroundcolor\":\"white\",\"gridcolor\":\"#DFE8F3\",\"gridwidth\":2,\"linecolor\":\"#EBF0F8\",\"showbackground\":true,\"ticks\":\"\",\"zerolinecolor\":\"#EBF0F8\"}},\"shapedefaults\":{\"line\":{\"color\":\"#2a3f5f\"}},\"ternary\":{\"aaxis\":{\"gridcolor\":\"#DFE8F3\",\"linecolor\":\"#A2B1C6\",\"ticks\":\"\"},\"baxis\":{\"gridcolor\":\"#DFE8F3\",\"linecolor\":\"#A2B1C6\",\"ticks\":\"\"},\"bgcolor\":\"white\",\"caxis\":{\"gridcolor\":\"#DFE8F3\",\"linecolor\":\"#A2B1C6\",\"ticks\":\"\"}},\"title\":{\"x\":0.05},\"xaxis\":{\"automargin\":true,\"gridcolor\":\"#EBF0F8\",\"linecolor\":\"#EBF0F8\",\"ticks\":\"\",\"title\":{\"standoff\":15},\"zerolinecolor\":\"#EBF0F8\",\"zerolinewidth\":2},\"yaxis\":{\"automargin\":true,\"gridcolor\":\"#EBF0F8\",\"linecolor\":\"#EBF0F8\",\"ticks\":\"\",\"title\":{\"standoff\":15},\"zerolinecolor\":\"#EBF0F8\",\"zerolinewidth\":2}}},\"xaxis\":{\"anchor\":\"y\",\"domain\":[0.0,0.2888888888888889]},\"yaxis\":{\"anchor\":\"x\",\"domain\":[0.625,1.0],\"showgrid\":false,\"title\":{\"text\":\"Faithfulness Metrics\"}},\"xaxis2\":{\"anchor\":\"y2\",\"domain\":[0.35555555555555557,0.6444444444444445]},\"yaxis2\":{\"anchor\":\"x2\",\"domain\":[0.625,1.0],\"showgrid\":false},\"xaxis3\":{\"anchor\":\"y3\",\"domain\":[0.7111111111111111,1.0]},\"yaxis3\":{\"anchor\":\"x3\",\"domain\":[0.625,1.0],\"showgrid\":false},\"xaxis4\":{\"anchor\":\"y4\",\"domain\":[0.0,0.2888888888888889]},\"yaxis4\":{\"anchor\":\"x4\",\"domain\":[0.0,0.375],\"showgrid\":false,\"title\":{\"text\":\"Robustness Metrics\"}},\"xaxis5\":{\"anchor\":\"y5\",\"domain\":[0.35555555555555557,0.6444444444444445]},\"yaxis5\":{\"anchor\":\"x5\",\"domain\":[0.0,0.375],\"showgrid\":false},\"xaxis6\":{\"anchor\":\"y6\",\"domain\":[0.7111111111111111,1.0]},\"yaxis6\":{\"anchor\":\"x6\",\"domain\":[0.0,0.375],\"showgrid\":false},\"annotations\":[{\"font\":{\"size\":16},\"showarrow\":false,\"text\":\"ResNet50\",\"x\":0.0,\"xanchor\":\"left\",\"xref\":\"paper\",\"y\":1.0,\"yanchor\":\"bottom\",\"yref\":\"paper\"},{\"font\":{\"size\":16},\"showarrow\":false,\"text\":\"EfficientNetb0\",\"x\":0.35555555555555557,\"xanchor\":\"left\",\"xref\":\"paper\",\"y\":1.0,\"yanchor\":\"bottom\",\"yref\":\"paper\"},{\"font\":{\"size\":16},\"showarrow\":false,\"text\":\"DeiT ViT\",\"x\":0.7111111111111111,\"xanchor\":\"left\",\"xref\":\"paper\",\"y\":1.0,\"yanchor\":\"bottom\",\"yref\":\"paper\"},{\"font\":{\"size\":16},\"showarrow\":false,\"text\":\"ResNet50\",\"x\":0.0,\"xanchor\":\"left\",\"xref\":\"paper\",\"y\":0.375,\"yanchor\":\"bottom\",\"yref\":\"paper\"},{\"font\":{\"size\":16},\"showarrow\":false,\"text\":\"EfficientNetb0\",\"x\":0.35555555555555557,\"xanchor\":\"left\",\"xref\":\"paper\",\"y\":0.375,\"yanchor\":\"bottom\",\"yref\":\"paper\"},{\"font\":{\"size\":16},\"showarrow\":false,\"text\":\"DeiT ViT\",\"x\":0.7111111111111111,\"xanchor\":\"left\",\"xref\":\"paper\",\"y\":0.375,\"yanchor\":\"bottom\",\"yref\":\"paper\"}],\"font\":{\"family\":\"Helvetica\",\"color\":\"#000000\",\"size\":13},\"title\":{\"font\":{\"family\":\"Helvetica\",\"color\":\"#000000\",\"size\":14}},\"height\":900,\"width\":1600},                        {\"responsive\": true}                    ).then(function(){\n",
       "                            \n",
       "var gd = document.getElementById('12d3b4cf-ffb8-46e4-9816-25c7f9d13905');\n",
       "var x = new MutationObserver(function (mutations, observer) {{\n",
       "        var display = window.getComputedStyle(gd).display;\n",
       "        if (!display || display === 'none') {{\n",
       "            console.log([gd, 'removed!']);\n",
       "            Plotly.purge(gd);\n",
       "            observer.disconnect();\n",
       "        }}\n",
       "}});\n",
       "\n",
       "// Listen for the removal of the full notebook cells\n",
       "var notebookContainer = gd.closest('#notebook-container');\n",
       "if (notebookContainer) {{\n",
       "    x.observe(notebookContainer, {childList: true});\n",
       "}}\n",
       "\n",
       "// Listen for the clearing of the current output cell\n",
       "var outputEl = gd.closest('.output');\n",
       "if (outputEl) {{\n",
       "    x.observe(outputEl, {childList: true});\n",
       "}}\n",
       "\n",
       "                        })                };                });            </script>        </div>"
      ]
     },
     "metadata": {},
     "output_type": "display_data"
    }
   ],
   "source": [
    "import plotly.graph_objects as go\n",
    "import plotly.express as px\n",
    "from plotly.subplots import make_subplots\n",
    "\n",
    "metrics_faith = [\n",
    "    \"FC\",\n",
    "    \"FE\",\n",
    "    \"MC\",\n",
    "    \"PF\",\n",
    "    \"RP\",\n",
    "    \"INS\",\n",
    "    \"DEL\",\n",
    "    \"IROF\",\n",
    "    \"ROAD\",\n",
    "    \"SUF\",\n",
    "    \"INF\",\n",
    "]\n",
    "\n",
    "metrics_robust = [\n",
    "    \"LLE\",\n",
    "    \"MS\",\n",
    "    \"CON\",\n",
    "    \"RIS\",\n",
    "    \"ROS\",\n",
    "    \"RRS\",\n",
    "]\n",
    "metrics_complex = [\"SP\", \"CP\", \"ECP\"]\n",
    "\n",
    "colors = px.colors.qualitative.G10\n",
    "\n",
    "fig = make_subplots(\n",
    "    rows=2,\n",
    "    cols=3,\n",
    "    subplot_titles=[\n",
    "        \"ResNet50\",\n",
    "        \"EfficientNetb0\",\n",
    "        \"DeiT ViT\",\n",
    "        \"ResNet50\",\n",
    "        \"EfficientNetb0\",\n",
    "        \"DeiT ViT\",\n",
    "    ],\n",
    "    # column_widths=[0.7, 0.3],\n",
    ")\n",
    "\n",
    "for i in range(3):\n",
    "    fig.add_trace(\n",
    "        go.Heatmap(\n",
    "            z=[dist_faith_resnet50, dist_faith_effnetb0, dist_faith_vit][i],\n",
    "            x=metrics_faith,\n",
    "            y=metrics_faith,\n",
    "            texttemplate=\"%{z}\",\n",
    "            colorscale=\"RdYlGn_r\",\n",
    "            reversescale=True,\n",
    "            zmin=-1,\n",
    "            zmax=1,\n",
    "            colorbar=dict(ticks=\"outside\", thickness=10),\n",
    "        ),\n",
    "        col=i + 1,\n",
    "        row=1,\n",
    "    )\n",
    "\n",
    "for i in range(3):\n",
    "    fig.add_trace(\n",
    "        go.Heatmap(\n",
    "            z=[dist_robust_resnet50, dist_robust_effnetb0, dist_robust_vit][i],\n",
    "            x=metrics_robust,\n",
    "            y=metrics_robust,\n",
    "            texttemplate=\"%{z}\",\n",
    "            colorscale=\"RdYlGn_r\",\n",
    "            reversescale=True,\n",
    "            zmin=-1,\n",
    "            zmax=1,\n",
    "            colorbar=dict(ticks=\"outside\", thickness=10),\n",
    "        ),\n",
    "        col=i + 1,\n",
    "        row=2,\n",
    "    )\n",
    "\n",
    "fig.update_yaxes(showgrid=False)\n",
    "fig.update_yaxes(title=\"Faithfulness Metrics\", row=1, col=1)\n",
    "fig.update_yaxes(title=\"Robustness Metrics\", row=2, col=1)\n",
    "\n",
    "fig.update_layout(\n",
    "    font=dict(family=\"Helvetica\", color=\"#000000\", size=13),\n",
    "    template=\"plotly_white\",\n",
    "    height=900,\n",
    "    width=1600,\n",
    "    title_font=dict(family=\"Helvetica\", color=\"#000000\", size=14),\n",
    ")\n",
    "\n",
    "fig = left_align_facet_plot_titles(fig)\n",
    "\n",
    "# fig.write_image(\n",
    "#     os.getcwd().split(\"src\")[0] + \"/data/figures/meta_eval_correlation.png\", scale=3\n",
    "# )\n",
    "fig.show()"
   ]
  },
  {
   "cell_type": "code",
   "execution_count": 17,
   "metadata": {},
   "outputs": [
    {
     "data": {
      "application/vnd.plotly.v1+json": {
       "config": {
        "plotlyServerURL": "https://plot.ly"
       },
       "data": [
        {
         "colorbar": {
          "thickness": 10,
          "ticks": "outside"
         },
         "colorscale": [
          [
           0,
           "rgb(165,0,38)"
          ],
          [
           0.1,
           "rgb(215,48,39)"
          ],
          [
           0.2,
           "rgb(244,109,67)"
          ],
          [
           0.3,
           "rgb(253,174,97)"
          ],
          [
           0.4,
           "rgb(254,224,139)"
          ],
          [
           0.5,
           "rgb(255,255,191)"
          ],
          [
           0.6,
           "rgb(217,239,139)"
          ],
          [
           0.7,
           "rgb(166,217,106)"
          ],
          [
           0.8,
           "rgb(102,189,99)"
          ],
          [
           0.9,
           "rgb(26,152,80)"
          ],
          [
           1,
           "rgb(0,104,55)"
          ]
         ],
         "reversescale": true,
         "showscale": true,
         "texttemplate": "%{z}",
         "type": "heatmap",
         "x": [
          "FC",
          "FE",
          "MC",
          "PF",
          "RP",
          "INS",
          "DEL",
          "IROF",
          "ROAD",
          "SUF",
          "INF"
         ],
         "xaxis": "x",
         "y": [
          "FC",
          "FE",
          "MC",
          "PF",
          "RP",
          "INS",
          "DEL",
          "IROF",
          "ROAD",
          "SUF",
          "INF"
         ],
         "yaxis": "y",
         "z": [
          [
           0,
           null,
           null,
           null,
           null,
           null,
           null,
           null,
           null,
           null,
           null
          ],
          [
           1.89,
           0,
           null,
           null,
           null,
           null,
           null,
           null,
           null,
           null,
           null
          ],
          [
           5.27,
           4.95,
           0,
           null,
           null,
           null,
           null,
           null,
           null,
           null,
           null
          ],
          [
           3.9,
           3.71,
           4.16,
           0,
           null,
           null,
           null,
           null,
           null,
           null,
           null
          ],
          [
           3.84,
           3.57,
           4.38,
           4.26,
           0,
           null,
           null,
           null,
           null,
           null,
           null
          ],
          [
           4.56,
           4.11,
           2.94,
           3.36,
           3.37,
           0,
           null,
           null,
           null,
           null,
           null
          ],
          [
           4.4,
           4.2,
           3.44,
           2.55,
           4.29,
           2.35,
           0,
           null,
           null,
           null,
           null
          ],
          [
           4.92,
           4.65,
           4.34,
           4.93,
           3.21,
           4.3,
           4.79,
           0,
           null,
           null,
           null
          ],
          [
           4.38,
           4.3,
           4.24,
           5.06,
           3.06,
           4.46,
           5.44,
           3.46,
           0,
           null,
           null
          ],
          [
           4.79,
           4.92,
           3.65,
           4.24,
           4.51,
           3.73,
           3.4,
           4.46,
           5.05,
           0,
           null
          ],
          [
           4.61,
           4.65,
           3.2,
           3.83,
           3.94,
           3,
           2.62,
           4.3,
           5.33,
           3.75,
           0
          ]
         ],
         "zmax": 7,
         "zmin": 1
        },
        {
         "colorbar": {
          "thickness": 10,
          "ticks": "outside"
         },
         "colorscale": [
          [
           0,
           "rgb(165,0,38)"
          ],
          [
           0.1,
           "rgb(215,48,39)"
          ],
          [
           0.2,
           "rgb(244,109,67)"
          ],
          [
           0.3,
           "rgb(253,174,97)"
          ],
          [
           0.4,
           "rgb(254,224,139)"
          ],
          [
           0.5,
           "rgb(255,255,191)"
          ],
          [
           0.6,
           "rgb(217,239,139)"
          ],
          [
           0.7,
           "rgb(166,217,106)"
          ],
          [
           0.8,
           "rgb(102,189,99)"
          ],
          [
           0.9,
           "rgb(26,152,80)"
          ],
          [
           1,
           "rgb(0,104,55)"
          ]
         ],
         "reversescale": true,
         "showscale": false,
         "texttemplate": "%{z}",
         "type": "heatmap",
         "x": [
          "LLE",
          "MS",
          "CON",
          "RIS",
          "ROS",
          "RRS"
         ],
         "xaxis": "x2",
         "y": [
          "LLE",
          "MS",
          "CON",
          "RIS",
          "ROS",
          "RRS"
         ],
         "yaxis": "y2",
         "z": [
          [
           0,
           null,
           null,
           null,
           null,
           null
          ],
          [
           4.76,
           0,
           null,
           null,
           null,
           null
          ],
          [
           4.86,
           4.57,
           0,
           null,
           null,
           null
          ],
          [
           4.75,
           4.51,
           0.41,
           0,
           null,
           null
          ],
          [
           4.92,
           4.56,
           0.86,
           0.86,
           0,
           null
          ],
          [
           4.16,
           4.56,
           4.3,
           4.25,
           4.2,
           0
          ]
         ],
         "zmax": 7,
         "zmin": 0.5
        }
       ],
       "layout": {
        "annotations": [
         {
          "font": {
           "size": 16
          },
          "showarrow": false,
          "text": "Faithfulness",
          "x": 0,
          "xanchor": "left",
          "xref": "paper",
          "y": 1,
          "yanchor": "bottom",
          "yref": "paper"
         },
         {
          "font": {
           "size": 16
          },
          "showarrow": false,
          "text": "Robustness",
          "x": 0.55,
          "xanchor": "left",
          "xref": "paper",
          "y": 1,
          "yanchor": "bottom",
          "yref": "paper"
         }
        ],
        "font": {
         "color": "#000000",
         "family": "Helvetica",
         "size": 13
        },
        "height": 500,
        "template": {
         "data": {
          "bar": [
           {
            "error_x": {
             "color": "#2a3f5f"
            },
            "error_y": {
             "color": "#2a3f5f"
            },
            "marker": {
             "line": {
              "color": "white",
              "width": 0.5
             },
             "pattern": {
              "fillmode": "overlay",
              "size": 10,
              "solidity": 0.2
             }
            },
            "type": "bar"
           }
          ],
          "barpolar": [
           {
            "marker": {
             "line": {
              "color": "white",
              "width": 0.5
             },
             "pattern": {
              "fillmode": "overlay",
              "size": 10,
              "solidity": 0.2
             }
            },
            "type": "barpolar"
           }
          ],
          "carpet": [
           {
            "aaxis": {
             "endlinecolor": "#2a3f5f",
             "gridcolor": "#C8D4E3",
             "linecolor": "#C8D4E3",
             "minorgridcolor": "#C8D4E3",
             "startlinecolor": "#2a3f5f"
            },
            "baxis": {
             "endlinecolor": "#2a3f5f",
             "gridcolor": "#C8D4E3",
             "linecolor": "#C8D4E3",
             "minorgridcolor": "#C8D4E3",
             "startlinecolor": "#2a3f5f"
            },
            "type": "carpet"
           }
          ],
          "choropleth": [
           {
            "colorbar": {
             "outlinewidth": 0,
             "ticks": ""
            },
            "type": "choropleth"
           }
          ],
          "contour": [
           {
            "colorbar": {
             "outlinewidth": 0,
             "ticks": ""
            },
            "colorscale": [
             [
              0,
              "#0d0887"
             ],
             [
              0.1111111111111111,
              "#46039f"
             ],
             [
              0.2222222222222222,
              "#7201a8"
             ],
             [
              0.3333333333333333,
              "#9c179e"
             ],
             [
              0.4444444444444444,
              "#bd3786"
             ],
             [
              0.5555555555555556,
              "#d8576b"
             ],
             [
              0.6666666666666666,
              "#ed7953"
             ],
             [
              0.7777777777777778,
              "#fb9f3a"
             ],
             [
              0.8888888888888888,
              "#fdca26"
             ],
             [
              1,
              "#f0f921"
             ]
            ],
            "type": "contour"
           }
          ],
          "contourcarpet": [
           {
            "colorbar": {
             "outlinewidth": 0,
             "ticks": ""
            },
            "type": "contourcarpet"
           }
          ],
          "heatmap": [
           {
            "colorbar": {
             "outlinewidth": 0,
             "ticks": ""
            },
            "colorscale": [
             [
              0,
              "#0d0887"
             ],
             [
              0.1111111111111111,
              "#46039f"
             ],
             [
              0.2222222222222222,
              "#7201a8"
             ],
             [
              0.3333333333333333,
              "#9c179e"
             ],
             [
              0.4444444444444444,
              "#bd3786"
             ],
             [
              0.5555555555555556,
              "#d8576b"
             ],
             [
              0.6666666666666666,
              "#ed7953"
             ],
             [
              0.7777777777777778,
              "#fb9f3a"
             ],
             [
              0.8888888888888888,
              "#fdca26"
             ],
             [
              1,
              "#f0f921"
             ]
            ],
            "type": "heatmap"
           }
          ],
          "heatmapgl": [
           {
            "colorbar": {
             "outlinewidth": 0,
             "ticks": ""
            },
            "colorscale": [
             [
              0,
              "#0d0887"
             ],
             [
              0.1111111111111111,
              "#46039f"
             ],
             [
              0.2222222222222222,
              "#7201a8"
             ],
             [
              0.3333333333333333,
              "#9c179e"
             ],
             [
              0.4444444444444444,
              "#bd3786"
             ],
             [
              0.5555555555555556,
              "#d8576b"
             ],
             [
              0.6666666666666666,
              "#ed7953"
             ],
             [
              0.7777777777777778,
              "#fb9f3a"
             ],
             [
              0.8888888888888888,
              "#fdca26"
             ],
             [
              1,
              "#f0f921"
             ]
            ],
            "type": "heatmapgl"
           }
          ],
          "histogram": [
           {
            "marker": {
             "pattern": {
              "fillmode": "overlay",
              "size": 10,
              "solidity": 0.2
             }
            },
            "type": "histogram"
           }
          ],
          "histogram2d": [
           {
            "colorbar": {
             "outlinewidth": 0,
             "ticks": ""
            },
            "colorscale": [
             [
              0,
              "#0d0887"
             ],
             [
              0.1111111111111111,
              "#46039f"
             ],
             [
              0.2222222222222222,
              "#7201a8"
             ],
             [
              0.3333333333333333,
              "#9c179e"
             ],
             [
              0.4444444444444444,
              "#bd3786"
             ],
             [
              0.5555555555555556,
              "#d8576b"
             ],
             [
              0.6666666666666666,
              "#ed7953"
             ],
             [
              0.7777777777777778,
              "#fb9f3a"
             ],
             [
              0.8888888888888888,
              "#fdca26"
             ],
             [
              1,
              "#f0f921"
             ]
            ],
            "type": "histogram2d"
           }
          ],
          "histogram2dcontour": [
           {
            "colorbar": {
             "outlinewidth": 0,
             "ticks": ""
            },
            "colorscale": [
             [
              0,
              "#0d0887"
             ],
             [
              0.1111111111111111,
              "#46039f"
             ],
             [
              0.2222222222222222,
              "#7201a8"
             ],
             [
              0.3333333333333333,
              "#9c179e"
             ],
             [
              0.4444444444444444,
              "#bd3786"
             ],
             [
              0.5555555555555556,
              "#d8576b"
             ],
             [
              0.6666666666666666,
              "#ed7953"
             ],
             [
              0.7777777777777778,
              "#fb9f3a"
             ],
             [
              0.8888888888888888,
              "#fdca26"
             ],
             [
              1,
              "#f0f921"
             ]
            ],
            "type": "histogram2dcontour"
           }
          ],
          "mesh3d": [
           {
            "colorbar": {
             "outlinewidth": 0,
             "ticks": ""
            },
            "type": "mesh3d"
           }
          ],
          "parcoords": [
           {
            "line": {
             "colorbar": {
              "outlinewidth": 0,
              "ticks": ""
             }
            },
            "type": "parcoords"
           }
          ],
          "pie": [
           {
            "automargin": true,
            "type": "pie"
           }
          ],
          "scatter": [
           {
            "fillpattern": {
             "fillmode": "overlay",
             "size": 10,
             "solidity": 0.2
            },
            "type": "scatter"
           }
          ],
          "scatter3d": [
           {
            "line": {
             "colorbar": {
              "outlinewidth": 0,
              "ticks": ""
             }
            },
            "marker": {
             "colorbar": {
              "outlinewidth": 0,
              "ticks": ""
             }
            },
            "type": "scatter3d"
           }
          ],
          "scattercarpet": [
           {
            "marker": {
             "colorbar": {
              "outlinewidth": 0,
              "ticks": ""
             }
            },
            "type": "scattercarpet"
           }
          ],
          "scattergeo": [
           {
            "marker": {
             "colorbar": {
              "outlinewidth": 0,
              "ticks": ""
             }
            },
            "type": "scattergeo"
           }
          ],
          "scattergl": [
           {
            "marker": {
             "colorbar": {
              "outlinewidth": 0,
              "ticks": ""
             }
            },
            "type": "scattergl"
           }
          ],
          "scattermapbox": [
           {
            "marker": {
             "colorbar": {
              "outlinewidth": 0,
              "ticks": ""
             }
            },
            "type": "scattermapbox"
           }
          ],
          "scatterpolar": [
           {
            "marker": {
             "colorbar": {
              "outlinewidth": 0,
              "ticks": ""
             }
            },
            "type": "scatterpolar"
           }
          ],
          "scatterpolargl": [
           {
            "marker": {
             "colorbar": {
              "outlinewidth": 0,
              "ticks": ""
             }
            },
            "type": "scatterpolargl"
           }
          ],
          "scatterternary": [
           {
            "marker": {
             "colorbar": {
              "outlinewidth": 0,
              "ticks": ""
             }
            },
            "type": "scatterternary"
           }
          ],
          "surface": [
           {
            "colorbar": {
             "outlinewidth": 0,
             "ticks": ""
            },
            "colorscale": [
             [
              0,
              "#0d0887"
             ],
             [
              0.1111111111111111,
              "#46039f"
             ],
             [
              0.2222222222222222,
              "#7201a8"
             ],
             [
              0.3333333333333333,
              "#9c179e"
             ],
             [
              0.4444444444444444,
              "#bd3786"
             ],
             [
              0.5555555555555556,
              "#d8576b"
             ],
             [
              0.6666666666666666,
              "#ed7953"
             ],
             [
              0.7777777777777778,
              "#fb9f3a"
             ],
             [
              0.8888888888888888,
              "#fdca26"
             ],
             [
              1,
              "#f0f921"
             ]
            ],
            "type": "surface"
           }
          ],
          "table": [
           {
            "cells": {
             "fill": {
              "color": "#EBF0F8"
             },
             "line": {
              "color": "white"
             }
            },
            "header": {
             "fill": {
              "color": "#C8D4E3"
             },
             "line": {
              "color": "white"
             }
            },
            "type": "table"
           }
          ]
         },
         "layout": {
          "annotationdefaults": {
           "arrowcolor": "#2a3f5f",
           "arrowhead": 0,
           "arrowwidth": 1
          },
          "autotypenumbers": "strict",
          "coloraxis": {
           "colorbar": {
            "outlinewidth": 0,
            "ticks": ""
           }
          },
          "colorscale": {
           "diverging": [
            [
             0,
             "#8e0152"
            ],
            [
             0.1,
             "#c51b7d"
            ],
            [
             0.2,
             "#de77ae"
            ],
            [
             0.3,
             "#f1b6da"
            ],
            [
             0.4,
             "#fde0ef"
            ],
            [
             0.5,
             "#f7f7f7"
            ],
            [
             0.6,
             "#e6f5d0"
            ],
            [
             0.7,
             "#b8e186"
            ],
            [
             0.8,
             "#7fbc41"
            ],
            [
             0.9,
             "#4d9221"
            ],
            [
             1,
             "#276419"
            ]
           ],
           "sequential": [
            [
             0,
             "#0d0887"
            ],
            [
             0.1111111111111111,
             "#46039f"
            ],
            [
             0.2222222222222222,
             "#7201a8"
            ],
            [
             0.3333333333333333,
             "#9c179e"
            ],
            [
             0.4444444444444444,
             "#bd3786"
            ],
            [
             0.5555555555555556,
             "#d8576b"
            ],
            [
             0.6666666666666666,
             "#ed7953"
            ],
            [
             0.7777777777777778,
             "#fb9f3a"
            ],
            [
             0.8888888888888888,
             "#fdca26"
            ],
            [
             1,
             "#f0f921"
            ]
           ],
           "sequentialminus": [
            [
             0,
             "#0d0887"
            ],
            [
             0.1111111111111111,
             "#46039f"
            ],
            [
             0.2222222222222222,
             "#7201a8"
            ],
            [
             0.3333333333333333,
             "#9c179e"
            ],
            [
             0.4444444444444444,
             "#bd3786"
            ],
            [
             0.5555555555555556,
             "#d8576b"
            ],
            [
             0.6666666666666666,
             "#ed7953"
            ],
            [
             0.7777777777777778,
             "#fb9f3a"
            ],
            [
             0.8888888888888888,
             "#fdca26"
            ],
            [
             1,
             "#f0f921"
            ]
           ]
          },
          "colorway": [
           "#636efa",
           "#EF553B",
           "#00cc96",
           "#ab63fa",
           "#FFA15A",
           "#19d3f3",
           "#FF6692",
           "#B6E880",
           "#FF97FF",
           "#FECB52"
          ],
          "font": {
           "color": "#2a3f5f"
          },
          "geo": {
           "bgcolor": "white",
           "lakecolor": "white",
           "landcolor": "white",
           "showlakes": true,
           "showland": true,
           "subunitcolor": "#C8D4E3"
          },
          "hoverlabel": {
           "align": "left"
          },
          "hovermode": "closest",
          "mapbox": {
           "style": "light"
          },
          "paper_bgcolor": "white",
          "plot_bgcolor": "white",
          "polar": {
           "angularaxis": {
            "gridcolor": "#EBF0F8",
            "linecolor": "#EBF0F8",
            "ticks": ""
           },
           "bgcolor": "white",
           "radialaxis": {
            "gridcolor": "#EBF0F8",
            "linecolor": "#EBF0F8",
            "ticks": ""
           }
          },
          "scene": {
           "xaxis": {
            "backgroundcolor": "white",
            "gridcolor": "#DFE8F3",
            "gridwidth": 2,
            "linecolor": "#EBF0F8",
            "showbackground": true,
            "ticks": "",
            "zerolinecolor": "#EBF0F8"
           },
           "yaxis": {
            "backgroundcolor": "white",
            "gridcolor": "#DFE8F3",
            "gridwidth": 2,
            "linecolor": "#EBF0F8",
            "showbackground": true,
            "ticks": "",
            "zerolinecolor": "#EBF0F8"
           },
           "zaxis": {
            "backgroundcolor": "white",
            "gridcolor": "#DFE8F3",
            "gridwidth": 2,
            "linecolor": "#EBF0F8",
            "showbackground": true,
            "ticks": "",
            "zerolinecolor": "#EBF0F8"
           }
          },
          "shapedefaults": {
           "line": {
            "color": "#2a3f5f"
           }
          },
          "ternary": {
           "aaxis": {
            "gridcolor": "#DFE8F3",
            "linecolor": "#A2B1C6",
            "ticks": ""
           },
           "baxis": {
            "gridcolor": "#DFE8F3",
            "linecolor": "#A2B1C6",
            "ticks": ""
           },
           "bgcolor": "white",
           "caxis": {
            "gridcolor": "#DFE8F3",
            "linecolor": "#A2B1C6",
            "ticks": ""
           }
          },
          "title": {
           "x": 0.05
          },
          "xaxis": {
           "automargin": true,
           "gridcolor": "#EBF0F8",
           "linecolor": "#EBF0F8",
           "ticks": "",
           "title": {
            "standoff": 15
           },
           "zerolinecolor": "#EBF0F8",
           "zerolinewidth": 2
          },
          "yaxis": {
           "automargin": true,
           "gridcolor": "#EBF0F8",
           "linecolor": "#EBF0F8",
           "ticks": "",
           "title": {
            "standoff": 15
           },
           "zerolinecolor": "#EBF0F8",
           "zerolinewidth": 2
          }
         }
        },
        "title": {
         "font": {
          "color": "#000000",
          "family": "Helvetica",
          "size": 14
         }
        },
        "width": 1000,
        "xaxis": {
         "anchor": "y",
         "domain": [
          0,
          0.45
         ]
        },
        "xaxis2": {
         "anchor": "y2",
         "domain": [
          0.55,
          1
         ]
        },
        "yaxis": {
         "anchor": "x",
         "domain": [
          0,
          1
         ],
         "showgrid": false
        },
        "yaxis2": {
         "anchor": "x2",
         "domain": [
          0,
          1
         ],
         "showgrid": false
        }
       }
      },
      "text/html": [
       "<div>                            <div id=\"8b998d94-b72b-4866-8693-c9206c4a9396\" class=\"plotly-graph-div\" style=\"height:500px; width:1000px;\"></div>            <script type=\"text/javascript\">                require([\"plotly\"], function(Plotly) {                    window.PLOTLYENV=window.PLOTLYENV || {};                                    if (document.getElementById(\"8b998d94-b72b-4866-8693-c9206c4a9396\")) {                    Plotly.newPlot(                        \"8b998d94-b72b-4866-8693-c9206c4a9396\",                        [{\"colorbar\":{\"thickness\":10,\"ticks\":\"outside\"},\"colorscale\":[[0.0,\"rgb(165,0,38)\"],[0.1,\"rgb(215,48,39)\"],[0.2,\"rgb(244,109,67)\"],[0.3,\"rgb(253,174,97)\"],[0.4,\"rgb(254,224,139)\"],[0.5,\"rgb(255,255,191)\"],[0.6,\"rgb(217,239,139)\"],[0.7,\"rgb(166,217,106)\"],[0.8,\"rgb(102,189,99)\"],[0.9,\"rgb(26,152,80)\"],[1.0,\"rgb(0,104,55)\"]],\"reversescale\":true,\"showscale\":true,\"texttemplate\":\"%{z}\",\"x\":[\"FC\",\"FE\",\"MC\",\"PF\",\"RP\",\"INS\",\"DEL\",\"IROF\",\"ROAD\",\"SUF\",\"INF\"],\"y\":[\"FC\",\"FE\",\"MC\",\"PF\",\"RP\",\"INS\",\"DEL\",\"IROF\",\"ROAD\",\"SUF\",\"INF\"],\"z\":[[0.0,null,null,null,null,null,null,null,null,null,null],[1.89,0.0,null,null,null,null,null,null,null,null,null],[5.27,4.95,0.0,null,null,null,null,null,null,null,null],[3.9,3.71,4.16,0.0,null,null,null,null,null,null,null],[3.84,3.57,4.38,4.26,0.0,null,null,null,null,null,null],[4.56,4.11,2.94,3.36,3.37,0.0,null,null,null,null,null],[4.4,4.2,3.44,2.55,4.29,2.35,0.0,null,null,null,null],[4.92,4.65,4.34,4.93,3.21,4.3,4.79,0.0,null,null,null],[4.38,4.3,4.24,5.06,3.06,4.46,5.44,3.46,0.0,null,null],[4.79,4.92,3.65,4.24,4.51,3.73,3.4,4.46,5.05,0.0,null],[4.61,4.65,3.2,3.83,3.94,3.0,2.62,4.3,5.33,3.75,0.0]],\"zmax\":7.0,\"zmin\":1.0,\"type\":\"heatmap\",\"xaxis\":\"x\",\"yaxis\":\"y\"},{\"colorbar\":{\"thickness\":10,\"ticks\":\"outside\"},\"colorscale\":[[0.0,\"rgb(165,0,38)\"],[0.1,\"rgb(215,48,39)\"],[0.2,\"rgb(244,109,67)\"],[0.3,\"rgb(253,174,97)\"],[0.4,\"rgb(254,224,139)\"],[0.5,\"rgb(255,255,191)\"],[0.6,\"rgb(217,239,139)\"],[0.7,\"rgb(166,217,106)\"],[0.8,\"rgb(102,189,99)\"],[0.9,\"rgb(26,152,80)\"],[1.0,\"rgb(0,104,55)\"]],\"reversescale\":true,\"showscale\":false,\"texttemplate\":\"%{z}\",\"x\":[\"LLE\",\"MS\",\"CON\",\"RIS\",\"ROS\",\"RRS\"],\"y\":[\"LLE\",\"MS\",\"CON\",\"RIS\",\"ROS\",\"RRS\"],\"z\":[[0.0,null,null,null,null,null],[4.76,0.0,null,null,null,null],[4.86,4.57,0.0,null,null,null],[4.75,4.51,0.41,0.0,null,null],[4.92,4.56,0.86,0.86,0.0,null],[4.16,4.56,4.3,4.25,4.2,0.0]],\"zmax\":7.0,\"zmin\":0.5,\"type\":\"heatmap\",\"xaxis\":\"x2\",\"yaxis\":\"y2\"}],                        {\"template\":{\"data\":{\"barpolar\":[{\"marker\":{\"line\":{\"color\":\"white\",\"width\":0.5},\"pattern\":{\"fillmode\":\"overlay\",\"size\":10,\"solidity\":0.2}},\"type\":\"barpolar\"}],\"bar\":[{\"error_x\":{\"color\":\"#2a3f5f\"},\"error_y\":{\"color\":\"#2a3f5f\"},\"marker\":{\"line\":{\"color\":\"white\",\"width\":0.5},\"pattern\":{\"fillmode\":\"overlay\",\"size\":10,\"solidity\":0.2}},\"type\":\"bar\"}],\"carpet\":[{\"aaxis\":{\"endlinecolor\":\"#2a3f5f\",\"gridcolor\":\"#C8D4E3\",\"linecolor\":\"#C8D4E3\",\"minorgridcolor\":\"#C8D4E3\",\"startlinecolor\":\"#2a3f5f\"},\"baxis\":{\"endlinecolor\":\"#2a3f5f\",\"gridcolor\":\"#C8D4E3\",\"linecolor\":\"#C8D4E3\",\"minorgridcolor\":\"#C8D4E3\",\"startlinecolor\":\"#2a3f5f\"},\"type\":\"carpet\"}],\"choropleth\":[{\"colorbar\":{\"outlinewidth\":0,\"ticks\":\"\"},\"type\":\"choropleth\"}],\"contourcarpet\":[{\"colorbar\":{\"outlinewidth\":0,\"ticks\":\"\"},\"type\":\"contourcarpet\"}],\"contour\":[{\"colorbar\":{\"outlinewidth\":0,\"ticks\":\"\"},\"colorscale\":[[0.0,\"#0d0887\"],[0.1111111111111111,\"#46039f\"],[0.2222222222222222,\"#7201a8\"],[0.3333333333333333,\"#9c179e\"],[0.4444444444444444,\"#bd3786\"],[0.5555555555555556,\"#d8576b\"],[0.6666666666666666,\"#ed7953\"],[0.7777777777777778,\"#fb9f3a\"],[0.8888888888888888,\"#fdca26\"],[1.0,\"#f0f921\"]],\"type\":\"contour\"}],\"heatmapgl\":[{\"colorbar\":{\"outlinewidth\":0,\"ticks\":\"\"},\"colorscale\":[[0.0,\"#0d0887\"],[0.1111111111111111,\"#46039f\"],[0.2222222222222222,\"#7201a8\"],[0.3333333333333333,\"#9c179e\"],[0.4444444444444444,\"#bd3786\"],[0.5555555555555556,\"#d8576b\"],[0.6666666666666666,\"#ed7953\"],[0.7777777777777778,\"#fb9f3a\"],[0.8888888888888888,\"#fdca26\"],[1.0,\"#f0f921\"]],\"type\":\"heatmapgl\"}],\"heatmap\":[{\"colorbar\":{\"outlinewidth\":0,\"ticks\":\"\"},\"colorscale\":[[0.0,\"#0d0887\"],[0.1111111111111111,\"#46039f\"],[0.2222222222222222,\"#7201a8\"],[0.3333333333333333,\"#9c179e\"],[0.4444444444444444,\"#bd3786\"],[0.5555555555555556,\"#d8576b\"],[0.6666666666666666,\"#ed7953\"],[0.7777777777777778,\"#fb9f3a\"],[0.8888888888888888,\"#fdca26\"],[1.0,\"#f0f921\"]],\"type\":\"heatmap\"}],\"histogram2dcontour\":[{\"colorbar\":{\"outlinewidth\":0,\"ticks\":\"\"},\"colorscale\":[[0.0,\"#0d0887\"],[0.1111111111111111,\"#46039f\"],[0.2222222222222222,\"#7201a8\"],[0.3333333333333333,\"#9c179e\"],[0.4444444444444444,\"#bd3786\"],[0.5555555555555556,\"#d8576b\"],[0.6666666666666666,\"#ed7953\"],[0.7777777777777778,\"#fb9f3a\"],[0.8888888888888888,\"#fdca26\"],[1.0,\"#f0f921\"]],\"type\":\"histogram2dcontour\"}],\"histogram2d\":[{\"colorbar\":{\"outlinewidth\":0,\"ticks\":\"\"},\"colorscale\":[[0.0,\"#0d0887\"],[0.1111111111111111,\"#46039f\"],[0.2222222222222222,\"#7201a8\"],[0.3333333333333333,\"#9c179e\"],[0.4444444444444444,\"#bd3786\"],[0.5555555555555556,\"#d8576b\"],[0.6666666666666666,\"#ed7953\"],[0.7777777777777778,\"#fb9f3a\"],[0.8888888888888888,\"#fdca26\"],[1.0,\"#f0f921\"]],\"type\":\"histogram2d\"}],\"histogram\":[{\"marker\":{\"pattern\":{\"fillmode\":\"overlay\",\"size\":10,\"solidity\":0.2}},\"type\":\"histogram\"}],\"mesh3d\":[{\"colorbar\":{\"outlinewidth\":0,\"ticks\":\"\"},\"type\":\"mesh3d\"}],\"parcoords\":[{\"line\":{\"colorbar\":{\"outlinewidth\":0,\"ticks\":\"\"}},\"type\":\"parcoords\"}],\"pie\":[{\"automargin\":true,\"type\":\"pie\"}],\"scatter3d\":[{\"line\":{\"colorbar\":{\"outlinewidth\":0,\"ticks\":\"\"}},\"marker\":{\"colorbar\":{\"outlinewidth\":0,\"ticks\":\"\"}},\"type\":\"scatter3d\"}],\"scattercarpet\":[{\"marker\":{\"colorbar\":{\"outlinewidth\":0,\"ticks\":\"\"}},\"type\":\"scattercarpet\"}],\"scattergeo\":[{\"marker\":{\"colorbar\":{\"outlinewidth\":0,\"ticks\":\"\"}},\"type\":\"scattergeo\"}],\"scattergl\":[{\"marker\":{\"colorbar\":{\"outlinewidth\":0,\"ticks\":\"\"}},\"type\":\"scattergl\"}],\"scattermapbox\":[{\"marker\":{\"colorbar\":{\"outlinewidth\":0,\"ticks\":\"\"}},\"type\":\"scattermapbox\"}],\"scatterpolargl\":[{\"marker\":{\"colorbar\":{\"outlinewidth\":0,\"ticks\":\"\"}},\"type\":\"scatterpolargl\"}],\"scatterpolar\":[{\"marker\":{\"colorbar\":{\"outlinewidth\":0,\"ticks\":\"\"}},\"type\":\"scatterpolar\"}],\"scatter\":[{\"fillpattern\":{\"fillmode\":\"overlay\",\"size\":10,\"solidity\":0.2},\"type\":\"scatter\"}],\"scatterternary\":[{\"marker\":{\"colorbar\":{\"outlinewidth\":0,\"ticks\":\"\"}},\"type\":\"scatterternary\"}],\"surface\":[{\"colorbar\":{\"outlinewidth\":0,\"ticks\":\"\"},\"colorscale\":[[0.0,\"#0d0887\"],[0.1111111111111111,\"#46039f\"],[0.2222222222222222,\"#7201a8\"],[0.3333333333333333,\"#9c179e\"],[0.4444444444444444,\"#bd3786\"],[0.5555555555555556,\"#d8576b\"],[0.6666666666666666,\"#ed7953\"],[0.7777777777777778,\"#fb9f3a\"],[0.8888888888888888,\"#fdca26\"],[1.0,\"#f0f921\"]],\"type\":\"surface\"}],\"table\":[{\"cells\":{\"fill\":{\"color\":\"#EBF0F8\"},\"line\":{\"color\":\"white\"}},\"header\":{\"fill\":{\"color\":\"#C8D4E3\"},\"line\":{\"color\":\"white\"}},\"type\":\"table\"}]},\"layout\":{\"annotationdefaults\":{\"arrowcolor\":\"#2a3f5f\",\"arrowhead\":0,\"arrowwidth\":1},\"autotypenumbers\":\"strict\",\"coloraxis\":{\"colorbar\":{\"outlinewidth\":0,\"ticks\":\"\"}},\"colorscale\":{\"diverging\":[[0,\"#8e0152\"],[0.1,\"#c51b7d\"],[0.2,\"#de77ae\"],[0.3,\"#f1b6da\"],[0.4,\"#fde0ef\"],[0.5,\"#f7f7f7\"],[0.6,\"#e6f5d0\"],[0.7,\"#b8e186\"],[0.8,\"#7fbc41\"],[0.9,\"#4d9221\"],[1,\"#276419\"]],\"sequential\":[[0.0,\"#0d0887\"],[0.1111111111111111,\"#46039f\"],[0.2222222222222222,\"#7201a8\"],[0.3333333333333333,\"#9c179e\"],[0.4444444444444444,\"#bd3786\"],[0.5555555555555556,\"#d8576b\"],[0.6666666666666666,\"#ed7953\"],[0.7777777777777778,\"#fb9f3a\"],[0.8888888888888888,\"#fdca26\"],[1.0,\"#f0f921\"]],\"sequentialminus\":[[0.0,\"#0d0887\"],[0.1111111111111111,\"#46039f\"],[0.2222222222222222,\"#7201a8\"],[0.3333333333333333,\"#9c179e\"],[0.4444444444444444,\"#bd3786\"],[0.5555555555555556,\"#d8576b\"],[0.6666666666666666,\"#ed7953\"],[0.7777777777777778,\"#fb9f3a\"],[0.8888888888888888,\"#fdca26\"],[1.0,\"#f0f921\"]]},\"colorway\":[\"#636efa\",\"#EF553B\",\"#00cc96\",\"#ab63fa\",\"#FFA15A\",\"#19d3f3\",\"#FF6692\",\"#B6E880\",\"#FF97FF\",\"#FECB52\"],\"font\":{\"color\":\"#2a3f5f\"},\"geo\":{\"bgcolor\":\"white\",\"lakecolor\":\"white\",\"landcolor\":\"white\",\"showlakes\":true,\"showland\":true,\"subunitcolor\":\"#C8D4E3\"},\"hoverlabel\":{\"align\":\"left\"},\"hovermode\":\"closest\",\"mapbox\":{\"style\":\"light\"},\"paper_bgcolor\":\"white\",\"plot_bgcolor\":\"white\",\"polar\":{\"angularaxis\":{\"gridcolor\":\"#EBF0F8\",\"linecolor\":\"#EBF0F8\",\"ticks\":\"\"},\"bgcolor\":\"white\",\"radialaxis\":{\"gridcolor\":\"#EBF0F8\",\"linecolor\":\"#EBF0F8\",\"ticks\":\"\"}},\"scene\":{\"xaxis\":{\"backgroundcolor\":\"white\",\"gridcolor\":\"#DFE8F3\",\"gridwidth\":2,\"linecolor\":\"#EBF0F8\",\"showbackground\":true,\"ticks\":\"\",\"zerolinecolor\":\"#EBF0F8\"},\"yaxis\":{\"backgroundcolor\":\"white\",\"gridcolor\":\"#DFE8F3\",\"gridwidth\":2,\"linecolor\":\"#EBF0F8\",\"showbackground\":true,\"ticks\":\"\",\"zerolinecolor\":\"#EBF0F8\"},\"zaxis\":{\"backgroundcolor\":\"white\",\"gridcolor\":\"#DFE8F3\",\"gridwidth\":2,\"linecolor\":\"#EBF0F8\",\"showbackground\":true,\"ticks\":\"\",\"zerolinecolor\":\"#EBF0F8\"}},\"shapedefaults\":{\"line\":{\"color\":\"#2a3f5f\"}},\"ternary\":{\"aaxis\":{\"gridcolor\":\"#DFE8F3\",\"linecolor\":\"#A2B1C6\",\"ticks\":\"\"},\"baxis\":{\"gridcolor\":\"#DFE8F3\",\"linecolor\":\"#A2B1C6\",\"ticks\":\"\"},\"bgcolor\":\"white\",\"caxis\":{\"gridcolor\":\"#DFE8F3\",\"linecolor\":\"#A2B1C6\",\"ticks\":\"\"}},\"title\":{\"x\":0.05},\"xaxis\":{\"automargin\":true,\"gridcolor\":\"#EBF0F8\",\"linecolor\":\"#EBF0F8\",\"ticks\":\"\",\"title\":{\"standoff\":15},\"zerolinecolor\":\"#EBF0F8\",\"zerolinewidth\":2},\"yaxis\":{\"automargin\":true,\"gridcolor\":\"#EBF0F8\",\"linecolor\":\"#EBF0F8\",\"ticks\":\"\",\"title\":{\"standoff\":15},\"zerolinecolor\":\"#EBF0F8\",\"zerolinewidth\":2}}},\"xaxis\":{\"anchor\":\"y\",\"domain\":[0.0,0.45]},\"yaxis\":{\"anchor\":\"x\",\"domain\":[0.0,1.0],\"showgrid\":false},\"xaxis2\":{\"anchor\":\"y2\",\"domain\":[0.55,1.0]},\"yaxis2\":{\"anchor\":\"x2\",\"domain\":[0.0,1.0],\"showgrid\":false},\"annotations\":[{\"font\":{\"size\":16},\"showarrow\":false,\"text\":\"Faithfulness\",\"x\":0.0,\"xanchor\":\"left\",\"xref\":\"paper\",\"y\":1.0,\"yanchor\":\"bottom\",\"yref\":\"paper\"},{\"font\":{\"size\":16},\"showarrow\":false,\"text\":\"Robustness\",\"x\":0.55,\"xanchor\":\"left\",\"xref\":\"paper\",\"y\":1.0,\"yanchor\":\"bottom\",\"yref\":\"paper\"}],\"font\":{\"family\":\"Helvetica\",\"color\":\"#000000\",\"size\":13},\"title\":{\"font\":{\"family\":\"Helvetica\",\"color\":\"#000000\",\"size\":14}},\"height\":500,\"width\":1000},                        {\"responsive\": true}                    ).then(function(){\n",
       "                            \n",
       "var gd = document.getElementById('8b998d94-b72b-4866-8693-c9206c4a9396');\n",
       "var x = new MutationObserver(function (mutations, observer) {{\n",
       "        var display = window.getComputedStyle(gd).display;\n",
       "        if (!display || display === 'none') {{\n",
       "            console.log([gd, 'removed!']);\n",
       "            Plotly.purge(gd);\n",
       "            observer.disconnect();\n",
       "        }}\n",
       "}});\n",
       "\n",
       "// Listen for the removal of the full notebook cells\n",
       "var notebookContainer = gd.closest('#notebook-container');\n",
       "if (notebookContainer) {{\n",
       "    x.observe(notebookContainer, {childList: true});\n",
       "}}\n",
       "\n",
       "// Listen for the clearing of the current output cell\n",
       "var outputEl = gd.closest('.output');\n",
       "if (outputEl) {{\n",
       "    x.observe(outputEl, {childList: true});\n",
       "}}\n",
       "\n",
       "                        })                };                });            </script>        </div>"
      ]
     },
     "metadata": {},
     "output_type": "display_data"
    }
   ],
   "source": [
    "import plotly.graph_objects as go\n",
    "import plotly.express as px\n",
    "from plotly.subplots import make_subplots\n",
    "\n",
    "colors = px.colors.qualitative.G10\n",
    "\n",
    "fig = make_subplots(\n",
    "    rows=1,\n",
    "    cols=2,\n",
    "    subplot_titles=[\"Faithfulness\", \"Robustness\"],\n",
    "    # column_widths=[0.7, 0.3],\n",
    ")\n",
    "\n",
    "\n",
    "fig.add_trace(\n",
    "    go.Heatmap(\n",
    "        z=np.round((dist_faith_resnet50 + dist_faith_effnetb0 + dist_faith_vit) / 3, 2),\n",
    "        x=metrics_faith,\n",
    "        y=metrics_faith,\n",
    "        texttemplate=\"%{z}\",\n",
    "        colorscale=\"RdYlGn\",\n",
    "        reversescale=True,\n",
    "        zmin=1.0,\n",
    "        zmax=7.0,\n",
    "        colorbar=dict(ticks=\"outside\", thickness=10),\n",
    "        showscale=True,\n",
    "    ),\n",
    "    col=1,\n",
    "    row=1,\n",
    ")\n",
    "\n",
    "\n",
    "fig.add_trace(\n",
    "    go.Heatmap(\n",
    "        z=np.round(\n",
    "            (dist_robust_resnet50 + dist_robust_effnetb0 + dist_robust_vit) / 3, 2\n",
    "        ),\n",
    "        x=metrics_robust,\n",
    "        y=metrics_robust,\n",
    "        texttemplate=\"%{z}\",\n",
    "        colorscale=\"RdYlGn\",\n",
    "        reversescale=True,\n",
    "        zmin=0.5,\n",
    "        zmax=7.0,\n",
    "        showscale=False,\n",
    "        colorbar=dict(ticks=\"outside\", thickness=10),\n",
    "    ),\n",
    "    col=2,\n",
    "    row=1,\n",
    ")\n",
    "\n",
    "fig.update_yaxes(showgrid=False)\n",
    "fig = left_align_facet_plot_titles(fig)\n",
    "\n",
    "fig.update_layout(\n",
    "    font=dict(family=\"Helvetica\", color=\"#000000\", size=13),\n",
    "    template=\"plotly_white\",\n",
    "    height=500,\n",
    "    width=1000,\n",
    "    title_font=dict(family=\"Helvetica\", color=\"#000000\", size=14),\n",
    ")\n",
    "\n",
    "fig.write_image(\n",
    "    os.getcwd().split(\"src\")[0] + \"/data/figures/meta_eval_dist2.png\", scale=3\n",
    ")\n",
    "fig.show()"
   ]
  }
 ],
 "metadata": {
  "kernelspec": {
   "display_name": "xai-eval",
   "language": "python",
   "name": "python3"
  },
  "language_info": {
   "codemirror_mode": {
    "name": "ipython",
    "version": 3
   },
   "file_extension": ".py",
   "mimetype": "text/x-python",
   "name": "python",
   "nbconvert_exporter": "python",
   "pygments_lexer": "ipython3",
   "version": "3.9.16"
  }
 },
 "nbformat": 4,
 "nbformat_minor": 2
}
