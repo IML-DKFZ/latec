{
 "cells": [
  {
   "cell_type": "code",
   "execution_count": 1,
   "metadata": {},
   "outputs": [
    {
     "name": "stderr",
     "output_type": "stream",
     "text": [
      "/home/l727n/anaconda3/envs/xai-eval/lib/python3.9/site-packages/tqdm/auto.py:21: TqdmWarning: IProgress not found. Please update jupyter and ipywidgets. See https://ipywidgets.readthedocs.io/en/stable/user_install.html\n",
      "  from .autonotebook import tqdm as notebook_tqdm\n"
     ]
    }
   ],
   "source": [
    "import os\n",
    "import sys\n",
    "from pathlib import Path\n",
    "\n",
    "os.chdir(Path(os.getcwd()).parents[0] / \"src\")\n",
    "sys.path.append(os.getcwd())\n",
    "\n",
    "import glob\n",
    "import numpy as np\n",
    "import torch\n",
    "import pandas as pd\n",
    "\n",
    "from scipy.stats import pearsonr\n",
    "from scipy.stats import sem\n",
    "\n",
    "from utils.plot_utils import *\n",
    "\n",
    "\n",
    "def NormalizeData(data, min, max):\n",
    "    return (data - min) / ((max - min) + 0.00000000001)"
   ]
  },
  {
   "cell_type": "markdown",
   "metadata": {},
   "source": [
    "### Import Evaluation Scores"
   ]
  },
  {
   "cell_type": "code",
   "execution_count": 2,
   "metadata": {},
   "outputs": [],
   "source": [
    "# File loading per dataset\n",
    "\n",
    "file_image_inet = \"/Image/eval_imagenet_dataset.npz\"\n",
    "file_image_oct = \"/Image/eval_oct_dataset.npz\"\n",
    "file_image_r45 = \"/Image/eval_resisc45_dataset.npz\"\n",
    "\n",
    "file_volume_adr = \"/Volume/eval_AdrenalMNIST3D_dataset.npz\"\n",
    "file_volume_org = \"/Volume/eval_OrganMNIST3D_dataset.npz\"\n",
    "file_volume_ves = \"/Volume/eval_VesselMNIST3D_dataset.npz\"\n",
    "\n",
    "file_pc_coma = \"/Point_Cloud/eval_coma_dataset.npz\"\n",
    "file_pc_m40 = \"/Point_Cloud/eval_modelnet40_dataset.npz\"\n",
    "file_pc_shpn = \"/Point_Cloud/eval_shapenet_dataset.npz\"\n",
    "\n",
    "file_loc = str(Path(os.getcwd()).parents[0]) + \"/data/evaluation\"\n",
    "\n",
    "file = np.load(file_loc + file_image_inet, allow_pickle=True)\n",
    "arr_image_inet = [file[\"arr_0\"], file[\"arr_1\"], file[\"arr_2\"]]\n",
    "file = np.load(file_loc + file_image_oct, allow_pickle=True)\n",
    "arr_image_oct = [file[\"arr_0\"], file[\"arr_1\"], file[\"arr_2\"]]\n",
    "file = np.load(file_loc + file_image_r45, allow_pickle=True)\n",
    "arr_image_r45 = [file[\"arr_0\"], file[\"arr_1\"], file[\"arr_2\"]]\n",
    "\n",
    "file = np.load(file_loc + file_volume_adr, allow_pickle=True)\n",
    "arr_volume_adr = [file[\"arr_0\"], file[\"arr_1\"], file[\"arr_2\"]]\n",
    "file = np.load(file_loc + file_volume_org, allow_pickle=True)\n",
    "arr_volume_org = [file[\"arr_0\"], file[\"arr_1\"], file[\"arr_2\"]]\n",
    "file = np.load(file_loc + file_volume_ves, allow_pickle=True)\n",
    "arr_volume_ves = [file[\"arr_0\"], file[\"arr_1\"], file[\"arr_2\"]]\n",
    "\n",
    "file = np.load(file_loc + file_pc_coma, allow_pickle=True)\n",
    "arr_pc_coma = [file[\"arr_0\"], file[\"arr_1\"], file[\"arr_2\"]]\n",
    "file = np.load(file_loc + file_pc_m40, allow_pickle=True)\n",
    "arr_pc_m40 = [file[\"arr_0\"], file[\"arr_1\"], file[\"arr_2\"]]\n",
    "file = np.load(file_loc + file_pc_shpn, allow_pickle=True)\n",
    "arr_pc_shpn = [file[\"arr_0\"], file[\"arr_1\"], file[\"arr_2\"]]"
   ]
  },
  {
   "cell_type": "markdown",
   "metadata": {},
   "source": [
    "### Ranking Computation"
   ]
  },
  {
   "cell_type": "code",
   "execution_count": 48,
   "metadata": {},
   "outputs": [],
   "source": [
    "# Full Ranking\n",
    "arr_image = [arr_image_inet, arr_image_oct, arr_image_r45]\n",
    "arr_volume = [arr_volume_adr, arr_volume_org, arr_volume_ves]\n",
    "arr_pc = [arr_pc_coma, arr_pc_m40, arr_pc_shpn]\n",
    "arr_modalities = [arr_image, arr_volume, arr_pc]\n",
    "\n",
    "arr_ranking = np.empty(\n",
    "    [3, 3, 14, 20], dtype=float\n",
    ")  # , dataset, model, xai, eval\n",
    "arr_ranking[:] = np.nan\n",
    "\n",
    "bup_order = [0, 1, 2, 4, 5, 7, 9, 12, 17]\n",
    "\n",
    "\n",
    "for dataset in range(3):\n",
    "    for model in range(3):\n",
    "        for xai in range(14):\n",
    "            for eval in range(20):\n",
    "                ranking = np.median(\n",
    "                    arr_modalities[0][dataset][model][:14, eval, :], -1\n",
    "                ).argsort()  # compute ranking based on median obs score\n",
    "                if eval in bup_order:\n",
    "                    ranking = ranking[\n",
    "                        ::-1\n",
    "                    ]  # reverse ranking to bottom up if larger is better\n",
    "\n",
    "                pos = (\n",
    "                    ranking.argsort()[xai] + 1\n",
    "                )  # get rankin position of xai method (+1 so ranking starts at 1 and not 0)\n",
    "                arr_ranking[dataset, model, xai, eval] = pos"
   ]
  },
  {
   "cell_type": "code",
   "execution_count": 66,
   "metadata": {},
   "outputs": [
    {
     "data": {
      "text/plain": [
       "0.29"
      ]
     },
     "execution_count": 66,
     "metadata": {},
     "output_type": "execute_result"
    }
   ],
   "source": [
    "l = []\n",
    "for i in range(3):\n",
    "    for j in range(14):\n",
    "        l.append(np.std(arr_ranking[0,i,j,17:])) # datasets , models\n",
    "\n",
    "np.round(np.mean(l),2)"
   ]
  },
  {
   "cell_type": "code",
   "execution_count": 72,
   "metadata": {},
   "outputs": [
    {
     "data": {
      "text/plain": [
       "2.49"
      ]
     },
     "execution_count": 72,
     "metadata": {},
     "output_type": "execute_result"
    }
   ],
   "source": [
    "F = 3.1\n",
    "R = 2.48\n",
    "C = 0.51\n",
    "\n",
    "np.round(0.5 * F + (7/20) * R + (3/20) * C,2)"
   ]
  },
  {
   "attachments": {},
   "cell_type": "markdown",
   "metadata": {},
   "source": [
    "### Variance test versus random "
   ]
  },
  {
   "cell_type": "code",
   "execution_count": 40,
   "metadata": {},
   "outputs": [
    {
     "ename": "KeyboardInterrupt",
     "evalue": "",
     "output_type": "error",
     "traceback": [
      "\u001b[0;31m---------------------------------------------------------------------------\u001b[0m",
      "\u001b[0;31mKeyboardInterrupt\u001b[0m                         Traceback (most recent call last)",
      "\u001b[1;32m/home/l727n/Projects/Research Projects/xai-evaluation/notebooks/eval_vis_criteria.ipynb Cell 9\u001b[0m line \u001b[0;36m2\n\u001b[1;32m     <a href='vscode-notebook-cell://ssh-remote%2B193.174.50.140/home/l727n/Projects/Research%20Projects/xai-evaluation/notebooks/eval_vis_criteria.ipynb#W6sdnNjb2RlLXJlbW90ZQ%3D%3D?line=18'>19</a>\u001b[0m     arr_sign_test[dataset, model, method, crit] \u001b[39m=\u001b[39m \u001b[39m0\u001b[39m\n\u001b[1;32m     <a href='vscode-notebook-cell://ssh-remote%2B193.174.50.140/home/l727n/Projects/Research%20Projects/xai-evaluation/notebooks/eval_vis_criteria.ipynb#W6sdnNjb2RlLXJlbW90ZQ%3D%3D?line=19'>20</a>\u001b[0m \u001b[39melse\u001b[39;00m:\n\u001b[0;32m---> <a href='vscode-notebook-cell://ssh-remote%2B193.174.50.140/home/l727n/Projects/Research%20Projects/xai-evaluation/notebooks/eval_vis_criteria.ipynb#W6sdnNjb2RlLXJlbW90ZQ%3D%3D?line=20'>21</a>\u001b[0m     test_pvalue \u001b[39m=\u001b[39m levene(random_sample, metric_sample, center \u001b[39m=\u001b[39;49m \u001b[39m\"\u001b[39;49m\u001b[39mmedian\u001b[39;49m\u001b[39m\"\u001b[39;49m)\u001b[39m.\u001b[39mpvalue\n\u001b[1;32m     <a href='vscode-notebook-cell://ssh-remote%2B193.174.50.140/home/l727n/Projects/Research%20Projects/xai-evaluation/notebooks/eval_vis_criteria.ipynb#W6sdnNjb2RlLXJlbW90ZQ%3D%3D?line=21'>22</a>\u001b[0m     arr_sign_test[dataset, model, method, crit] \u001b[39m=\u001b[39m \u001b[39m1\u001b[39m \u001b[39mif\u001b[39;00m test_pvalue \u001b[39m<\u001b[39m alpha \u001b[39melse\u001b[39;00m \u001b[39m0\u001b[39m\n",
      "File \u001b[0;32m~/anaconda3/envs/xai-eval/lib/python3.9/site-packages/scipy/stats/_morestats.py:2618\u001b[0m, in \u001b[0;36mlevene\u001b[0;34m(center, proportiontocut, *samples)\u001b[0m\n\u001b[1;32m   2616\u001b[0m \u001b[39mfor\u001b[39;00m j \u001b[39min\u001b[39;00m \u001b[39mrange\u001b[39m(k):\n\u001b[1;32m   2617\u001b[0m     Ni[j] \u001b[39m=\u001b[39m \u001b[39mlen\u001b[39m(samples[j])\n\u001b[0;32m-> 2618\u001b[0m     Yci[j] \u001b[39m=\u001b[39m func(samples[j])\n\u001b[1;32m   2619\u001b[0m Ntot \u001b[39m=\u001b[39m np\u001b[39m.\u001b[39msum(Ni, axis\u001b[39m=\u001b[39m\u001b[39m0\u001b[39m)\n\u001b[1;32m   2621\u001b[0m \u001b[39m# compute Zij's\u001b[39;00m\n",
      "File \u001b[0;32m~/anaconda3/envs/xai-eval/lib/python3.9/site-packages/scipy/stats/_morestats.py:2608\u001b[0m, in \u001b[0;36mlevene.<locals>.<lambda>\u001b[0;34m(x)\u001b[0m\n\u001b[1;32m   2605\u001b[0m Yci \u001b[39m=\u001b[39m np\u001b[39m.\u001b[39mempty(k, \u001b[39m'\u001b[39m\u001b[39md\u001b[39m\u001b[39m'\u001b[39m)\n\u001b[1;32m   2607\u001b[0m \u001b[39mif\u001b[39;00m center \u001b[39m==\u001b[39m \u001b[39m'\u001b[39m\u001b[39mmedian\u001b[39m\u001b[39m'\u001b[39m:\n\u001b[0;32m-> 2608\u001b[0m     func \u001b[39m=\u001b[39m \u001b[39mlambda\u001b[39;00m x: np\u001b[39m.\u001b[39;49mmedian(x, axis\u001b[39m=\u001b[39;49m\u001b[39m0\u001b[39;49m)\n\u001b[1;32m   2609\u001b[0m \u001b[39melif\u001b[39;00m center \u001b[39m==\u001b[39m \u001b[39m'\u001b[39m\u001b[39mmean\u001b[39m\u001b[39m'\u001b[39m:\n\u001b[1;32m   2610\u001b[0m     func \u001b[39m=\u001b[39m \u001b[39mlambda\u001b[39;00m x: np\u001b[39m.\u001b[39mmean(x, axis\u001b[39m=\u001b[39m\u001b[39m0\u001b[39m)\n",
      "File \u001b[0;32m<__array_function__ internals>:180\u001b[0m, in \u001b[0;36mmedian\u001b[0;34m(*args, **kwargs)\u001b[0m\n",
      "File \u001b[0;32m~/anaconda3/envs/xai-eval/lib/python3.9/site-packages/numpy/lib/function_base.py:3816\u001b[0m, in \u001b[0;36mmedian\u001b[0;34m(a, axis, out, overwrite_input, keepdims)\u001b[0m\n\u001b[1;32m   3734\u001b[0m \u001b[39m@array_function_dispatch\u001b[39m(_median_dispatcher)\n\u001b[1;32m   3735\u001b[0m \u001b[39mdef\u001b[39;00m \u001b[39mmedian\u001b[39m(a, axis\u001b[39m=\u001b[39m\u001b[39mNone\u001b[39;00m, out\u001b[39m=\u001b[39m\u001b[39mNone\u001b[39;00m, overwrite_input\u001b[39m=\u001b[39m\u001b[39mFalse\u001b[39;00m, keepdims\u001b[39m=\u001b[39m\u001b[39mFalse\u001b[39;00m):\n\u001b[1;32m   3736\u001b[0m \u001b[39m    \u001b[39m\u001b[39m\"\"\"\u001b[39;00m\n\u001b[1;32m   3737\u001b[0m \u001b[39m    Compute the median along the specified axis.\u001b[39;00m\n\u001b[1;32m   3738\u001b[0m \n\u001b[0;32m   (...)\u001b[0m\n\u001b[1;32m   3814\u001b[0m \n\u001b[1;32m   3815\u001b[0m \u001b[39m    \"\"\"\u001b[39;00m\n\u001b[0;32m-> 3816\u001b[0m     r, k \u001b[39m=\u001b[39m _ureduce(a, func\u001b[39m=\u001b[39;49m_median, axis\u001b[39m=\u001b[39;49maxis, out\u001b[39m=\u001b[39;49mout,\n\u001b[1;32m   3817\u001b[0m                     overwrite_input\u001b[39m=\u001b[39;49moverwrite_input)\n\u001b[1;32m   3818\u001b[0m     \u001b[39mif\u001b[39;00m keepdims:\n\u001b[1;32m   3819\u001b[0m         \u001b[39mreturn\u001b[39;00m r\u001b[39m.\u001b[39mreshape(k)\n",
      "File \u001b[0;32m~/anaconda3/envs/xai-eval/lib/python3.9/site-packages/numpy/lib/function_base.py:3725\u001b[0m, in \u001b[0;36m_ureduce\u001b[0;34m(a, func, **kwargs)\u001b[0m\n\u001b[1;32m   3722\u001b[0m \u001b[39melse\u001b[39;00m:\n\u001b[1;32m   3723\u001b[0m     keepdim \u001b[39m=\u001b[39m (\u001b[39m1\u001b[39m,) \u001b[39m*\u001b[39m a\u001b[39m.\u001b[39mndim\n\u001b[0;32m-> 3725\u001b[0m r \u001b[39m=\u001b[39m func(a, \u001b[39m*\u001b[39;49m\u001b[39m*\u001b[39;49mkwargs)\n\u001b[1;32m   3726\u001b[0m \u001b[39mreturn\u001b[39;00m r, keepdim\n",
      "File \u001b[0;32m~/anaconda3/envs/xai-eval/lib/python3.9/site-packages/numpy/lib/function_base.py:3851\u001b[0m, in \u001b[0;36m_median\u001b[0;34m(a, axis, out, overwrite_input)\u001b[0m\n\u001b[1;32m   3849\u001b[0m         part \u001b[39m=\u001b[39m a\n\u001b[1;32m   3850\u001b[0m \u001b[39melse\u001b[39;00m:\n\u001b[0;32m-> 3851\u001b[0m     part \u001b[39m=\u001b[39m partition(a, kth, axis\u001b[39m=\u001b[39;49maxis)\n\u001b[1;32m   3853\u001b[0m \u001b[39mif\u001b[39;00m part\u001b[39m.\u001b[39mshape \u001b[39m==\u001b[39m ():\n\u001b[1;32m   3854\u001b[0m     \u001b[39m# make 0-D arrays work\u001b[39;00m\n\u001b[1;32m   3855\u001b[0m     \u001b[39mreturn\u001b[39;00m part\u001b[39m.\u001b[39mitem()\n",
      "File \u001b[0;32m<__array_function__ internals>:180\u001b[0m, in \u001b[0;36mpartition\u001b[0;34m(*args, **kwargs)\u001b[0m\n",
      "File \u001b[0;32m~/anaconda3/envs/xai-eval/lib/python3.9/site-packages/numpy/core/fromnumeric.py:758\u001b[0m, in \u001b[0;36mpartition\u001b[0;34m(a, kth, axis, kind, order)\u001b[0m\n\u001b[1;32m    756\u001b[0m \u001b[39melse\u001b[39;00m:\n\u001b[1;32m    757\u001b[0m     a \u001b[39m=\u001b[39m asanyarray(a)\u001b[39m.\u001b[39mcopy(order\u001b[39m=\u001b[39m\u001b[39m\"\u001b[39m\u001b[39mK\u001b[39m\u001b[39m\"\u001b[39m)\n\u001b[0;32m--> 758\u001b[0m a\u001b[39m.\u001b[39;49mpartition(kth, axis\u001b[39m=\u001b[39;49maxis, kind\u001b[39m=\u001b[39;49mkind, order\u001b[39m=\u001b[39;49morder)\n\u001b[1;32m    759\u001b[0m \u001b[39mreturn\u001b[39;00m a\n",
      "\u001b[0;31mKeyboardInterrupt\u001b[0m: "
     ]
    }
   ],
   "source": [
    "from scipy.stats import randint, levene\n",
    "import scipy\n",
    "alpha = 0.1\n",
    "\n",
    "arr_sign_test = np.empty(\n",
    "    [3, 3, 14, 3], dtype=int # dataset, model, xai methods, eval_criteria\n",
    ")\n",
    "random_sample = randint.rvs(0,15,size = 999999)\n",
    "\n",
    "\n",
    "for crit in range(3):\n",
    "    for modality in range(2):\n",
    "        for method in range(14):\n",
    "            for model in range(3):\n",
    "                for dataset in range(3):\n",
    "                    metric_sample = [arr_ranking[dataset, model, method, :10], arr_ranking[dataset, model, method, 10:17], arr_ranking[dataset, model, method, 17:20]][crit]\n",
    "\n",
    "                    if metric_sample.var() > 16.25:\n",
    "                        arr_sign_test[dataset, model, method, crit] = 0\n",
    "                    else:\n",
    "                        test_pvalue = levene(random_sample, metric_sample, center = \"median\").pvalue\n",
    "                        arr_sign_test[dataset, model, method, crit] = 1 if test_pvalue < alpha else 0"
   ]
  },
  {
   "cell_type": "code",
   "execution_count": 5,
   "metadata": {},
   "outputs": [
    {
     "name": "stderr",
     "output_type": "stream",
     "text": [
      "/tmp/ipykernel_105717/1940978779.py:11: FutureWarning: The frame.append method is deprecated and will be removed from pandas in a future version. Use pandas.concat instead.\n",
      "  table_sign_test = table_sign_test.append(pd.DataFrame(np.round(np.average(table_sign_test, axis=0, weights=[0.5, 0.35, 0.15]), 2).reshape(1,-1)), ignore_index=True)\n"
     ]
    },
    {
     "data": {
      "text/html": [
       "<div>\n",
       "<style scoped>\n",
       "    .dataframe tbody tr th:only-of-type {\n",
       "        vertical-align: middle;\n",
       "    }\n",
       "\n",
       "    .dataframe tbody tr th {\n",
       "        vertical-align: top;\n",
       "    }\n",
       "\n",
       "    .dataframe thead th {\n",
       "        text-align: right;\n",
       "    }\n",
       "</style>\n",
       "<table border=\"1\" class=\"dataframe\">\n",
       "  <thead>\n",
       "    <tr style=\"text-align: right;\">\n",
       "      <th></th>\n",
       "      <th>OC</th>\n",
       "      <th>LI</th>\n",
       "      <th>KS</th>\n",
       "      <th>VG</th>\n",
       "      <th>IxG</th>\n",
       "      <th>GB</th>\n",
       "      <th>GC</th>\n",
       "      <th>SC</th>\n",
       "      <th>C+</th>\n",
       "      <th>IG</th>\n",
       "      <th>EG</th>\n",
       "      <th>DL</th>\n",
       "      <th>DLS</th>\n",
       "      <th>LRP</th>\n",
       "      <th>Average</th>\n",
       "    </tr>\n",
       "  </thead>\n",
       "  <tbody>\n",
       "    <tr>\n",
       "      <th>Faithfulness</th>\n",
       "      <td>0.00</td>\n",
       "      <td>0.56</td>\n",
       "      <td>0.78</td>\n",
       "      <td>0.67</td>\n",
       "      <td>0.22</td>\n",
       "      <td>0.22</td>\n",
       "      <td>0.56</td>\n",
       "      <td>0.11</td>\n",
       "      <td>0.56</td>\n",
       "      <td>0.33</td>\n",
       "      <td>1.00</td>\n",
       "      <td>0.22</td>\n",
       "      <td>0.67</td>\n",
       "      <td>0.22</td>\n",
       "      <td>0.44</td>\n",
       "    </tr>\n",
       "    <tr>\n",
       "      <th>Robustness</th>\n",
       "      <td>0.33</td>\n",
       "      <td>0.56</td>\n",
       "      <td>1.00</td>\n",
       "      <td>0.56</td>\n",
       "      <td>0.00</td>\n",
       "      <td>0.56</td>\n",
       "      <td>0.44</td>\n",
       "      <td>0.22</td>\n",
       "      <td>0.33</td>\n",
       "      <td>0.11</td>\n",
       "      <td>0.33</td>\n",
       "      <td>0.00</td>\n",
       "      <td>0.89</td>\n",
       "      <td>0.33</td>\n",
       "      <td>0.40</td>\n",
       "    </tr>\n",
       "    <tr>\n",
       "      <th>Complexity</th>\n",
       "      <td>1.00</td>\n",
       "      <td>1.00</td>\n",
       "      <td>1.00</td>\n",
       "      <td>1.00</td>\n",
       "      <td>1.00</td>\n",
       "      <td>1.00</td>\n",
       "      <td>1.00</td>\n",
       "      <td>1.00</td>\n",
       "      <td>1.00</td>\n",
       "      <td>1.00</td>\n",
       "      <td>1.00</td>\n",
       "      <td>1.00</td>\n",
       "      <td>1.00</td>\n",
       "      <td>1.00</td>\n",
       "      <td>1.00</td>\n",
       "    </tr>\n",
       "    <tr>\n",
       "      <th>Weighted Average</th>\n",
       "      <td>0.27</td>\n",
       "      <td>0.63</td>\n",
       "      <td>0.89</td>\n",
       "      <td>0.68</td>\n",
       "      <td>0.26</td>\n",
       "      <td>0.46</td>\n",
       "      <td>0.58</td>\n",
       "      <td>0.28</td>\n",
       "      <td>0.55</td>\n",
       "      <td>0.35</td>\n",
       "      <td>0.77</td>\n",
       "      <td>0.26</td>\n",
       "      <td>0.80</td>\n",
       "      <td>0.38</td>\n",
       "      <td>0.51</td>\n",
       "    </tr>\n",
       "  </tbody>\n",
       "</table>\n",
       "</div>"
      ],
      "text/plain": [
       "                    OC    LI    KS    VG   IxG    GB    GC    SC    C+    IG  \\\n",
       "Faithfulness      0.00  0.56  0.78  0.67  0.22  0.22  0.56  0.11  0.56  0.33   \n",
       "Robustness        0.33  0.56  1.00  0.56  0.00  0.56  0.44  0.22  0.33  0.11   \n",
       "Complexity        1.00  1.00  1.00  1.00  1.00  1.00  1.00  1.00  1.00  1.00   \n",
       "Weighted Average  0.27  0.63  0.89  0.68  0.26  0.46  0.58  0.28  0.55  0.35   \n",
       "\n",
       "                    EG    DL   DLS   LRP  Average  \n",
       "Faithfulness      1.00  0.22  0.67  0.22     0.44  \n",
       "Robustness        0.33  0.00  0.89  0.33     0.40  \n",
       "Complexity        1.00  1.00  1.00  1.00     1.00  \n",
       "Weighted Average  0.77  0.26  0.80  0.38     0.51  "
      ]
     },
     "execution_count": 5,
     "metadata": {},
     "output_type": "execute_result"
    }
   ],
   "source": [
    "table_sign_test = np.empty(\n",
    "    [14, 3], dtype=float # xai methods, eval_criteria\n",
    ")\n",
    "\n",
    "for method in range(14):\n",
    "    for crit in range(3):\n",
    "        table_sign_test[method, crit] = np.round(arr_sign_test[:,:,method, crit].mean(),2)\n",
    "\n",
    "table_sign_test = pd.DataFrame(table_sign_test).transpose()\n",
    "\n",
    "table_sign_test = table_sign_test.append(pd.DataFrame(np.round(np.average(table_sign_test, axis=0, weights=[0.5, 0.35, 0.15]), 2).reshape(1,-1)), ignore_index=True)\n",
    "table_sign_test[\"mean\"] = np.round(table_sign_test.mean(axis=1), 2)\n",
    "\n",
    "table_sign_test.columns = [\n",
    "    \"OC\",\n",
    "    \"LI\",\n",
    "    \"KS\",\n",
    "    \"VG\",\n",
    "    \"IxG\",\n",
    "    \"GB\",\n",
    "    \"GC\",\n",
    "    \"SC\",\n",
    "    \"C+\",\n",
    "    \"IG\",\n",
    "    \"EG\",\n",
    "    \"DL\",\n",
    "    \"DLS\",\n",
    "    \"LRP\",\n",
    "    \"Average\"\n",
    "]\n",
    "\n",
    "table_sign_test.index = [\"Faithfulness\", \"Robustness\", \"Complexity\", \"Weighted Average\"]\n",
    "table_sign_test.to_csv(os.getcwd().split(\"src\")[0] + \"data/figures/variance_sign_test.csv\")\n",
    "table_sign_test"
   ]
  },
  {
   "cell_type": "markdown",
   "metadata": {},
   "source": [
    "### Metric differences Figure"
   ]
  },
  {
   "cell_type": "code",
   "execution_count": 13,
   "metadata": {},
   "outputs": [
    {
     "data": {
      "application/vnd.plotly.v1+json": {
       "config": {
        "plotlyServerURL": "https://plot.ly"
       },
       "data": [
        {
         "marker": {
          "color": "#3366CC",
          "size": 8
         },
         "mode": "lines+markers",
         "name": "LIME",
         "type": "scatter",
         "x": [
          "Faithfulness Corr.",
          "Faithfulness Est.",
          "Monotonicity Corr.",
          "Pixel Flipping",
          "Region Pert.",
          "Insertion",
          "Deletion",
          "IROF",
          "ROAD",
          "Sufficiency"
         ],
         "xaxis": "x",
         "y": [
          12,
          11,
          14,
          10,
          14,
          13,
          13,
          12,
          9,
          13
         ],
         "yaxis": "y"
        },
        {
         "marker": {
          "color": "#3366CC",
          "size": 8,
          "symbol": "square"
         },
         "mode": "markers+text",
         "showlegend": false,
         "text": [
          "12.1"
         ],
         "textposition": "middle left",
         "type": "scatter",
         "x": [
          "Average"
         ],
         "xaxis": "x",
         "y": [
          12.1
         ],
         "yaxis": "y"
        },
        {
         "marker": {
          "color": "#FF9900",
          "size": 8
         },
         "mode": "lines+markers",
         "name": "GC",
         "type": "scatter",
         "x": [
          "Faithfulness Corr.",
          "Faithfulness Est.",
          "Monotonicity Corr.",
          "Pixel Flipping",
          "Region Pert.",
          "Insertion",
          "Deletion",
          "IROF",
          "ROAD",
          "Sufficiency"
         ],
         "xaxis": "x",
         "y": [
          8,
          3,
          3,
          11,
          6,
          3,
          11,
          4,
          1,
          8
         ],
         "yaxis": "y"
        },
        {
         "marker": {
          "color": "#FF9900",
          "size": 8,
          "symbol": "square"
         },
         "mode": "markers+text",
         "showlegend": false,
         "text": [
          "5.8"
         ],
         "textposition": "middle left",
         "type": "scatter",
         "x": [
          "Average"
         ],
         "xaxis": "x",
         "y": [
          5.8
         ],
         "yaxis": "y"
        },
        {
         "marker": {
          "color": "#109618",
          "size": 8
         },
         "mode": "lines+markers",
         "name": "IG",
         "type": "scatter",
         "x": [
          "Faithfulness Corr.",
          "Faithfulness Est.",
          "Monotonicity Corr.",
          "Pixel Flipping",
          "Region Pert.",
          "Insertion",
          "Deletion",
          "IROF",
          "ROAD",
          "Sufficiency"
         ],
         "xaxis": "x",
         "y": [
          13,
          12,
          5,
          5,
          11,
          6,
          3,
          2,
          6,
          5
         ],
         "yaxis": "y"
        },
        {
         "marker": {
          "color": "#109618",
          "size": 8,
          "symbol": "square"
         },
         "mode": "markers+text",
         "showlegend": false,
         "text": [
          "6.8"
         ],
         "textposition": "middle left",
         "type": "scatter",
         "x": [
          "Average"
         ],
         "xaxis": "x",
         "y": [
          6.8
         ],
         "yaxis": "y"
        },
        {
         "marker": {
          "color": "#990099",
          "size": 8
         },
         "mode": "lines+markers",
         "name": "DLS",
         "type": "scatter",
         "x": [
          "Faithfulness Corr.",
          "Faithfulness Est.",
          "Monotonicity Corr.",
          "Pixel Flipping",
          "Region Pert.",
          "Insertion",
          "Deletion",
          "IROF",
          "ROAD",
          "Sufficiency"
         ],
         "xaxis": "x",
         "y": [
          2,
          2,
          8,
          1,
          3,
          1,
          1,
          10,
          5,
          2
         ],
         "yaxis": "y"
        },
        {
         "marker": {
          "color": "#990099",
          "size": 8,
          "symbol": "square"
         },
         "mode": "markers+text",
         "showlegend": false,
         "text": [
          "3.5"
         ],
         "textposition": "middle left",
         "type": "scatter",
         "x": [
          "Average"
         ],
         "xaxis": "x",
         "y": [
          3.5
         ],
         "yaxis": "y"
        },
        {
         "marker": {
          "color": "#3366CC",
          "size": 8
         },
         "mode": "lines+markers",
         "showlegend": false,
         "type": "scatter",
         "x": [
          "Local Lipschitz Est.",
          "Max Sensitivity",
          "Continuity",
          "Rel. Input Stab.",
          "Rel. Output Stab.",
          "Rel. Repr. Stab.",
          "Infidelity"
         ],
         "xaxis": "x2",
         "y": [
          14,
          14,
          6,
          11,
          14,
          13,
          8
         ],
         "yaxis": "y2"
        },
        {
         "marker": {
          "color": "#3366CC",
          "size": 8,
          "symbol": "square"
         },
         "mode": "markers+text",
         "showlegend": false,
         "text": [
          "11.4"
         ],
         "textposition": "middle left",
         "type": "scatter",
         "x": [
          "Average"
         ],
         "xaxis": "x2",
         "y": [
          11.428571428571429,
          1
         ],
         "yaxis": "y2"
        },
        {
         "marker": {
          "color": "#FF9900",
          "size": 8
         },
         "mode": "lines+markers",
         "showlegend": false,
         "type": "scatter",
         "x": [
          "Local Lipschitz Est.",
          "Max Sensitivity",
          "Continuity",
          "Rel. Input Stab.",
          "Rel. Output Stab.",
          "Rel. Repr. Stab.",
          "Infidelity"
         ],
         "xaxis": "x2",
         "y": [
          8,
          10,
          1,
          3,
          3,
          2,
          11
         ],
         "yaxis": "y2"
        },
        {
         "marker": {
          "color": "#FF9900",
          "size": 8,
          "symbol": "square"
         },
         "mode": "markers+text",
         "showlegend": false,
         "text": [
          "5.4"
         ],
         "textposition": "middle left",
         "type": "scatter",
         "x": [
          "Average"
         ],
         "xaxis": "x2",
         "y": [
          5.428571428571429,
          1
         ],
         "yaxis": "y2"
        },
        {
         "marker": {
          "color": "#109618",
          "size": 8
         },
         "mode": "lines+markers",
         "showlegend": false,
         "type": "scatter",
         "x": [
          "Local Lipschitz Est.",
          "Max Sensitivity",
          "Continuity",
          "Rel. Input Stab.",
          "Rel. Output Stab.",
          "Rel. Repr. Stab.",
          "Infidelity"
         ],
         "xaxis": "x2",
         "y": [
          3,
          4,
          14,
          10,
          9,
          9,
          12
         ],
         "yaxis": "y2"
        },
        {
         "marker": {
          "color": "#109618",
          "size": 8,
          "symbol": "square"
         },
         "mode": "markers+text",
         "showlegend": false,
         "text": [
          "8.7"
         ],
         "textposition": "middle left",
         "type": "scatter",
         "x": [
          "Average"
         ],
         "xaxis": "x2",
         "y": [
          8.714285714285714,
          1
         ],
         "yaxis": "y2"
        },
        {
         "marker": {
          "color": "#990099",
          "size": 8
         },
         "mode": "lines+markers",
         "showlegend": false,
         "type": "scatter",
         "x": [
          "Local Lipschitz Est.",
          "Max Sensitivity",
          "Continuity",
          "Rel. Input Stab.",
          "Rel. Output Stab.",
          "Rel. Repr. Stab.",
          "Infidelity"
         ],
         "xaxis": "x2",
         "y": [
          4,
          3,
          12,
          6,
          6,
          7,
          6
         ],
         "yaxis": "y2"
        },
        {
         "marker": {
          "color": "#990099",
          "size": 8,
          "symbol": "square"
         },
         "mode": "markers+text",
         "showlegend": false,
         "text": [
          "6.3"
         ],
         "textposition": "middle left",
         "type": "scatter",
         "x": [
          "Average"
         ],
         "xaxis": "x2",
         "y": [
          6.285714285714286,
          1
         ],
         "yaxis": "y2"
        },
        {
         "marker": {
          "color": "#3366CC",
          "size": 8
         },
         "mode": "lines+markers",
         "showlegend": false,
         "type": "scatter",
         "x": [
          "Sparseness",
          "Complexity",
          "Eff. Complexity"
         ],
         "xaxis": "x3",
         "y": [
          6,
          6,
          6
         ],
         "yaxis": "y3"
        },
        {
         "marker": {
          "color": "#3366CC",
          "size": 8,
          "symbol": "square"
         },
         "mode": "markers+text",
         "showlegend": false,
         "text": [
          "6.0"
         ],
         "textposition": "middle left",
         "type": "scatter",
         "x": [
          "Average"
         ],
         "xaxis": "x3",
         "y": [
          6
         ],
         "yaxis": "y3"
        },
        {
         "marker": {
          "color": "#FF9900",
          "size": 8
         },
         "mode": "lines+markers",
         "showlegend": false,
         "type": "scatter",
         "x": [
          "Sparseness",
          "Complexity",
          "Eff. Complexity"
         ],
         "xaxis": "x3",
         "y": [
          11,
          11,
          11
         ],
         "yaxis": "y3"
        },
        {
         "marker": {
          "color": "#FF9900",
          "size": 8,
          "symbol": "square"
         },
         "mode": "markers+text",
         "showlegend": false,
         "text": [
          "11.0"
         ],
         "textposition": "middle left",
         "type": "scatter",
         "x": [
          "Average"
         ],
         "xaxis": "x3",
         "y": [
          11
         ],
         "yaxis": "y3"
        },
        {
         "marker": {
          "color": "#109618",
          "size": 8
         },
         "mode": "lines+markers",
         "showlegend": false,
         "type": "scatter",
         "x": [
          "Sparseness",
          "Complexity",
          "Eff. Complexity"
         ],
         "xaxis": "x3",
         "y": [
          5,
          5,
          5
         ],
         "yaxis": "y3"
        },
        {
         "marker": {
          "color": "#109618",
          "size": 8,
          "symbol": "square"
         },
         "mode": "markers+text",
         "showlegend": false,
         "text": [
          "5.0"
         ],
         "textposition": "middle left",
         "type": "scatter",
         "x": [
          "Average"
         ],
         "xaxis": "x3",
         "y": [
          5
         ],
         "yaxis": "y3"
        },
        {
         "marker": {
          "color": "#990099",
          "size": 8
         },
         "mode": "lines+markers",
         "showlegend": false,
         "type": "scatter",
         "x": [
          "Sparseness",
          "Complexity",
          "Eff. Complexity"
         ],
         "xaxis": "x3",
         "y": [
          10,
          10,
          10
         ],
         "yaxis": "y3"
        },
        {
         "marker": {
          "color": "#990099",
          "size": 8,
          "symbol": "square"
         },
         "mode": "markers+text",
         "showlegend": false,
         "text": [
          "10.0"
         ],
         "textposition": "middle left",
         "type": "scatter",
         "x": [
          "Average"
         ],
         "xaxis": "x3",
         "y": [
          10
         ],
         "yaxis": "y3"
        }
       ],
       "layout": {
        "annotations": [
         {
          "font": {
           "size": 16
          },
          "showarrow": false,
          "text": "Faithfulness Metrics",
          "x": 0,
          "xanchor": "left",
          "xref": "paper",
          "y": 1,
          "yanchor": "bottom",
          "yref": "paper"
         },
         {
          "font": {
           "size": 16
          },
          "showarrow": false,
          "text": "Robustness Metrics",
          "x": 0.5,
          "xanchor": "left",
          "xref": "paper",
          "y": 1,
          "yanchor": "bottom",
          "yref": "paper"
         },
         {
          "font": {
           "size": 16
          },
          "showarrow": false,
          "text": "Complexity Metrics",
          "x": 0.87,
          "xanchor": "left",
          "xref": "paper",
          "y": 1,
          "yanchor": "bottom",
          "yref": "paper"
         }
        ],
        "font": {
         "color": "#000000",
         "family": "Helvetica",
         "size": 12
        },
        "height": 400,
        "legend": {
         "title": {
          "text": "XAI Method"
         }
        },
        "template": {
         "data": {
          "bar": [
           {
            "error_x": {
             "color": "#2a3f5f"
            },
            "error_y": {
             "color": "#2a3f5f"
            },
            "marker": {
             "line": {
              "color": "white",
              "width": 0.5
             },
             "pattern": {
              "fillmode": "overlay",
              "size": 10,
              "solidity": 0.2
             }
            },
            "type": "bar"
           }
          ],
          "barpolar": [
           {
            "marker": {
             "line": {
              "color": "white",
              "width": 0.5
             },
             "pattern": {
              "fillmode": "overlay",
              "size": 10,
              "solidity": 0.2
             }
            },
            "type": "barpolar"
           }
          ],
          "carpet": [
           {
            "aaxis": {
             "endlinecolor": "#2a3f5f",
             "gridcolor": "#C8D4E3",
             "linecolor": "#C8D4E3",
             "minorgridcolor": "#C8D4E3",
             "startlinecolor": "#2a3f5f"
            },
            "baxis": {
             "endlinecolor": "#2a3f5f",
             "gridcolor": "#C8D4E3",
             "linecolor": "#C8D4E3",
             "minorgridcolor": "#C8D4E3",
             "startlinecolor": "#2a3f5f"
            },
            "type": "carpet"
           }
          ],
          "choropleth": [
           {
            "colorbar": {
             "outlinewidth": 0,
             "ticks": ""
            },
            "type": "choropleth"
           }
          ],
          "contour": [
           {
            "colorbar": {
             "outlinewidth": 0,
             "ticks": ""
            },
            "colorscale": [
             [
              0,
              "#0d0887"
             ],
             [
              0.1111111111111111,
              "#46039f"
             ],
             [
              0.2222222222222222,
              "#7201a8"
             ],
             [
              0.3333333333333333,
              "#9c179e"
             ],
             [
              0.4444444444444444,
              "#bd3786"
             ],
             [
              0.5555555555555556,
              "#d8576b"
             ],
             [
              0.6666666666666666,
              "#ed7953"
             ],
             [
              0.7777777777777778,
              "#fb9f3a"
             ],
             [
              0.8888888888888888,
              "#fdca26"
             ],
             [
              1,
              "#f0f921"
             ]
            ],
            "type": "contour"
           }
          ],
          "contourcarpet": [
           {
            "colorbar": {
             "outlinewidth": 0,
             "ticks": ""
            },
            "type": "contourcarpet"
           }
          ],
          "heatmap": [
           {
            "colorbar": {
             "outlinewidth": 0,
             "ticks": ""
            },
            "colorscale": [
             [
              0,
              "#0d0887"
             ],
             [
              0.1111111111111111,
              "#46039f"
             ],
             [
              0.2222222222222222,
              "#7201a8"
             ],
             [
              0.3333333333333333,
              "#9c179e"
             ],
             [
              0.4444444444444444,
              "#bd3786"
             ],
             [
              0.5555555555555556,
              "#d8576b"
             ],
             [
              0.6666666666666666,
              "#ed7953"
             ],
             [
              0.7777777777777778,
              "#fb9f3a"
             ],
             [
              0.8888888888888888,
              "#fdca26"
             ],
             [
              1,
              "#f0f921"
             ]
            ],
            "type": "heatmap"
           }
          ],
          "heatmapgl": [
           {
            "colorbar": {
             "outlinewidth": 0,
             "ticks": ""
            },
            "colorscale": [
             [
              0,
              "#0d0887"
             ],
             [
              0.1111111111111111,
              "#46039f"
             ],
             [
              0.2222222222222222,
              "#7201a8"
             ],
             [
              0.3333333333333333,
              "#9c179e"
             ],
             [
              0.4444444444444444,
              "#bd3786"
             ],
             [
              0.5555555555555556,
              "#d8576b"
             ],
             [
              0.6666666666666666,
              "#ed7953"
             ],
             [
              0.7777777777777778,
              "#fb9f3a"
             ],
             [
              0.8888888888888888,
              "#fdca26"
             ],
             [
              1,
              "#f0f921"
             ]
            ],
            "type": "heatmapgl"
           }
          ],
          "histogram": [
           {
            "marker": {
             "pattern": {
              "fillmode": "overlay",
              "size": 10,
              "solidity": 0.2
             }
            },
            "type": "histogram"
           }
          ],
          "histogram2d": [
           {
            "colorbar": {
             "outlinewidth": 0,
             "ticks": ""
            },
            "colorscale": [
             [
              0,
              "#0d0887"
             ],
             [
              0.1111111111111111,
              "#46039f"
             ],
             [
              0.2222222222222222,
              "#7201a8"
             ],
             [
              0.3333333333333333,
              "#9c179e"
             ],
             [
              0.4444444444444444,
              "#bd3786"
             ],
             [
              0.5555555555555556,
              "#d8576b"
             ],
             [
              0.6666666666666666,
              "#ed7953"
             ],
             [
              0.7777777777777778,
              "#fb9f3a"
             ],
             [
              0.8888888888888888,
              "#fdca26"
             ],
             [
              1,
              "#f0f921"
             ]
            ],
            "type": "histogram2d"
           }
          ],
          "histogram2dcontour": [
           {
            "colorbar": {
             "outlinewidth": 0,
             "ticks": ""
            },
            "colorscale": [
             [
              0,
              "#0d0887"
             ],
             [
              0.1111111111111111,
              "#46039f"
             ],
             [
              0.2222222222222222,
              "#7201a8"
             ],
             [
              0.3333333333333333,
              "#9c179e"
             ],
             [
              0.4444444444444444,
              "#bd3786"
             ],
             [
              0.5555555555555556,
              "#d8576b"
             ],
             [
              0.6666666666666666,
              "#ed7953"
             ],
             [
              0.7777777777777778,
              "#fb9f3a"
             ],
             [
              0.8888888888888888,
              "#fdca26"
             ],
             [
              1,
              "#f0f921"
             ]
            ],
            "type": "histogram2dcontour"
           }
          ],
          "mesh3d": [
           {
            "colorbar": {
             "outlinewidth": 0,
             "ticks": ""
            },
            "type": "mesh3d"
           }
          ],
          "parcoords": [
           {
            "line": {
             "colorbar": {
              "outlinewidth": 0,
              "ticks": ""
             }
            },
            "type": "parcoords"
           }
          ],
          "pie": [
           {
            "automargin": true,
            "type": "pie"
           }
          ],
          "scatter": [
           {
            "fillpattern": {
             "fillmode": "overlay",
             "size": 10,
             "solidity": 0.2
            },
            "type": "scatter"
           }
          ],
          "scatter3d": [
           {
            "line": {
             "colorbar": {
              "outlinewidth": 0,
              "ticks": ""
             }
            },
            "marker": {
             "colorbar": {
              "outlinewidth": 0,
              "ticks": ""
             }
            },
            "type": "scatter3d"
           }
          ],
          "scattercarpet": [
           {
            "marker": {
             "colorbar": {
              "outlinewidth": 0,
              "ticks": ""
             }
            },
            "type": "scattercarpet"
           }
          ],
          "scattergeo": [
           {
            "marker": {
             "colorbar": {
              "outlinewidth": 0,
              "ticks": ""
             }
            },
            "type": "scattergeo"
           }
          ],
          "scattergl": [
           {
            "marker": {
             "colorbar": {
              "outlinewidth": 0,
              "ticks": ""
             }
            },
            "type": "scattergl"
           }
          ],
          "scattermapbox": [
           {
            "marker": {
             "colorbar": {
              "outlinewidth": 0,
              "ticks": ""
             }
            },
            "type": "scattermapbox"
           }
          ],
          "scatterpolar": [
           {
            "marker": {
             "colorbar": {
              "outlinewidth": 0,
              "ticks": ""
             }
            },
            "type": "scatterpolar"
           }
          ],
          "scatterpolargl": [
           {
            "marker": {
             "colorbar": {
              "outlinewidth": 0,
              "ticks": ""
             }
            },
            "type": "scatterpolargl"
           }
          ],
          "scatterternary": [
           {
            "marker": {
             "colorbar": {
              "outlinewidth": 0,
              "ticks": ""
             }
            },
            "type": "scatterternary"
           }
          ],
          "surface": [
           {
            "colorbar": {
             "outlinewidth": 0,
             "ticks": ""
            },
            "colorscale": [
             [
              0,
              "#0d0887"
             ],
             [
              0.1111111111111111,
              "#46039f"
             ],
             [
              0.2222222222222222,
              "#7201a8"
             ],
             [
              0.3333333333333333,
              "#9c179e"
             ],
             [
              0.4444444444444444,
              "#bd3786"
             ],
             [
              0.5555555555555556,
              "#d8576b"
             ],
             [
              0.6666666666666666,
              "#ed7953"
             ],
             [
              0.7777777777777778,
              "#fb9f3a"
             ],
             [
              0.8888888888888888,
              "#fdca26"
             ],
             [
              1,
              "#f0f921"
             ]
            ],
            "type": "surface"
           }
          ],
          "table": [
           {
            "cells": {
             "fill": {
              "color": "#EBF0F8"
             },
             "line": {
              "color": "white"
             }
            },
            "header": {
             "fill": {
              "color": "#C8D4E3"
             },
             "line": {
              "color": "white"
             }
            },
            "type": "table"
           }
          ]
         },
         "layout": {
          "annotationdefaults": {
           "arrowcolor": "#2a3f5f",
           "arrowhead": 0,
           "arrowwidth": 1
          },
          "autotypenumbers": "strict",
          "coloraxis": {
           "colorbar": {
            "outlinewidth": 0,
            "ticks": ""
           }
          },
          "colorscale": {
           "diverging": [
            [
             0,
             "#8e0152"
            ],
            [
             0.1,
             "#c51b7d"
            ],
            [
             0.2,
             "#de77ae"
            ],
            [
             0.3,
             "#f1b6da"
            ],
            [
             0.4,
             "#fde0ef"
            ],
            [
             0.5,
             "#f7f7f7"
            ],
            [
             0.6,
             "#e6f5d0"
            ],
            [
             0.7,
             "#b8e186"
            ],
            [
             0.8,
             "#7fbc41"
            ],
            [
             0.9,
             "#4d9221"
            ],
            [
             1,
             "#276419"
            ]
           ],
           "sequential": [
            [
             0,
             "#0d0887"
            ],
            [
             0.1111111111111111,
             "#46039f"
            ],
            [
             0.2222222222222222,
             "#7201a8"
            ],
            [
             0.3333333333333333,
             "#9c179e"
            ],
            [
             0.4444444444444444,
             "#bd3786"
            ],
            [
             0.5555555555555556,
             "#d8576b"
            ],
            [
             0.6666666666666666,
             "#ed7953"
            ],
            [
             0.7777777777777778,
             "#fb9f3a"
            ],
            [
             0.8888888888888888,
             "#fdca26"
            ],
            [
             1,
             "#f0f921"
            ]
           ],
           "sequentialminus": [
            [
             0,
             "#0d0887"
            ],
            [
             0.1111111111111111,
             "#46039f"
            ],
            [
             0.2222222222222222,
             "#7201a8"
            ],
            [
             0.3333333333333333,
             "#9c179e"
            ],
            [
             0.4444444444444444,
             "#bd3786"
            ],
            [
             0.5555555555555556,
             "#d8576b"
            ],
            [
             0.6666666666666666,
             "#ed7953"
            ],
            [
             0.7777777777777778,
             "#fb9f3a"
            ],
            [
             0.8888888888888888,
             "#fdca26"
            ],
            [
             1,
             "#f0f921"
            ]
           ]
          },
          "colorway": [
           "#636efa",
           "#EF553B",
           "#00cc96",
           "#ab63fa",
           "#FFA15A",
           "#19d3f3",
           "#FF6692",
           "#B6E880",
           "#FF97FF",
           "#FECB52"
          ],
          "font": {
           "color": "#2a3f5f"
          },
          "geo": {
           "bgcolor": "white",
           "lakecolor": "white",
           "landcolor": "white",
           "showlakes": true,
           "showland": true,
           "subunitcolor": "#C8D4E3"
          },
          "hoverlabel": {
           "align": "left"
          },
          "hovermode": "closest",
          "mapbox": {
           "style": "light"
          },
          "paper_bgcolor": "white",
          "plot_bgcolor": "white",
          "polar": {
           "angularaxis": {
            "gridcolor": "#EBF0F8",
            "linecolor": "#EBF0F8",
            "ticks": ""
           },
           "bgcolor": "white",
           "radialaxis": {
            "gridcolor": "#EBF0F8",
            "linecolor": "#EBF0F8",
            "ticks": ""
           }
          },
          "scene": {
           "xaxis": {
            "backgroundcolor": "white",
            "gridcolor": "#DFE8F3",
            "gridwidth": 2,
            "linecolor": "#EBF0F8",
            "showbackground": true,
            "ticks": "",
            "zerolinecolor": "#EBF0F8"
           },
           "yaxis": {
            "backgroundcolor": "white",
            "gridcolor": "#DFE8F3",
            "gridwidth": 2,
            "linecolor": "#EBF0F8",
            "showbackground": true,
            "ticks": "",
            "zerolinecolor": "#EBF0F8"
           },
           "zaxis": {
            "backgroundcolor": "white",
            "gridcolor": "#DFE8F3",
            "gridwidth": 2,
            "linecolor": "#EBF0F8",
            "showbackground": true,
            "ticks": "",
            "zerolinecolor": "#EBF0F8"
           }
          },
          "shapedefaults": {
           "line": {
            "color": "#2a3f5f"
           }
          },
          "ternary": {
           "aaxis": {
            "gridcolor": "#DFE8F3",
            "linecolor": "#A2B1C6",
            "ticks": ""
           },
           "baxis": {
            "gridcolor": "#DFE8F3",
            "linecolor": "#A2B1C6",
            "ticks": ""
           },
           "bgcolor": "white",
           "caxis": {
            "gridcolor": "#DFE8F3",
            "linecolor": "#A2B1C6",
            "ticks": ""
           }
          },
          "title": {
           "x": 0.05
          },
          "xaxis": {
           "automargin": true,
           "gridcolor": "#EBF0F8",
           "linecolor": "#EBF0F8",
           "ticks": "",
           "title": {
            "standoff": 15
           },
           "zerolinecolor": "#EBF0F8",
           "zerolinewidth": 2
          },
          "yaxis": {
           "automargin": true,
           "gridcolor": "#EBF0F8",
           "linecolor": "#EBF0F8",
           "ticks": "",
           "title": {
            "standoff": 15
           },
           "zerolinecolor": "#EBF0F8",
           "zerolinewidth": 2
          }
         }
        },
        "title": {
         "font": {
          "color": "#000000",
          "family": "Helvetica",
          "size": 12
         }
        },
        "width": 1500,
        "xaxis": {
         "anchor": "y",
         "domain": [
          0,
          0.43333333333333335
         ],
         "tickangle": 35
        },
        "xaxis2": {
         "anchor": "y2",
         "domain": [
          0.5,
          0.8033333333333333
         ],
         "tickangle": 35
        },
        "xaxis3": {
         "anchor": "y3",
         "domain": [
          0.87,
          1
         ],
         "tickangle": 35
        },
        "yaxis": {
         "anchor": "x",
         "autorange": "reversed",
         "domain": [
          0,
          1
         ],
         "range": [
          1,
          14
         ],
         "showticklabels": true,
         "tickvals": [
          1,
          5,
          10,
          14
         ],
         "title": {
          "text": "Rank"
         },
         "zeroline": false
        },
        "yaxis2": {
         "anchor": "x2",
         "autorange": "reversed",
         "domain": [
          0,
          1
         ],
         "matches": "y",
         "range": [
          1,
          14
         ],
         "showticklabels": true,
         "tickvals": [
          1,
          5,
          10,
          14
         ],
         "zeroline": false
        },
        "yaxis3": {
         "anchor": "x3",
         "autorange": "reversed",
         "domain": [
          0,
          1
         ],
         "matches": "y",
         "range": [
          1,
          14
         ],
         "showticklabels": true,
         "tickvals": [
          1,
          5,
          10,
          14
         ],
         "zeroline": false
        }
       }
      },
      "text/html": [
       "<div>                            <div id=\"e23c6579-f9bf-4684-87fc-2dcf0f40c5f6\" class=\"plotly-graph-div\" style=\"height:400px; width:1500px;\"></div>            <script type=\"text/javascript\">                require([\"plotly\"], function(Plotly) {                    window.PLOTLYENV=window.PLOTLYENV || {};                                    if (document.getElementById(\"e23c6579-f9bf-4684-87fc-2dcf0f40c5f6\")) {                    Plotly.newPlot(                        \"e23c6579-f9bf-4684-87fc-2dcf0f40c5f6\",                        [{\"marker\":{\"color\":\"#3366CC\",\"size\":8},\"mode\":\"lines+markers\",\"name\":\"LIME\",\"x\":[\"Faithfulness Corr.\",\"Faithfulness Est.\",\"Monotonicity Corr.\",\"Pixel Flipping\",\"Region Pert.\",\"Insertion\",\"Deletion\",\"IROF\",\"ROAD\",\"Sufficiency\"],\"y\":[12.0,11.0,14.0,10.0,14.0,13.0,13.0,12.0,9.0,13.0],\"type\":\"scatter\",\"xaxis\":\"x\",\"yaxis\":\"y\"},{\"marker\":{\"color\":\"#3366CC\",\"size\":8,\"symbol\":\"square\"},\"mode\":\"markers+text\",\"showlegend\":false,\"text\":[\"12.1\"],\"textposition\":\"middle left\",\"x\":[\"Average\"],\"y\":[12.1],\"type\":\"scatter\",\"xaxis\":\"x\",\"yaxis\":\"y\"},{\"marker\":{\"color\":\"#FF9900\",\"size\":8},\"mode\":\"lines+markers\",\"name\":\"GC\",\"x\":[\"Faithfulness Corr.\",\"Faithfulness Est.\",\"Monotonicity Corr.\",\"Pixel Flipping\",\"Region Pert.\",\"Insertion\",\"Deletion\",\"IROF\",\"ROAD\",\"Sufficiency\"],\"y\":[8.0,3.0,3.0,11.0,6.0,3.0,11.0,4.0,1.0,8.0],\"type\":\"scatter\",\"xaxis\":\"x\",\"yaxis\":\"y\"},{\"marker\":{\"color\":\"#FF9900\",\"size\":8,\"symbol\":\"square\"},\"mode\":\"markers+text\",\"showlegend\":false,\"text\":[\"5.8\"],\"textposition\":\"middle left\",\"x\":[\"Average\"],\"y\":[5.8],\"type\":\"scatter\",\"xaxis\":\"x\",\"yaxis\":\"y\"},{\"marker\":{\"color\":\"#109618\",\"size\":8},\"mode\":\"lines+markers\",\"name\":\"IG\",\"x\":[\"Faithfulness Corr.\",\"Faithfulness Est.\",\"Monotonicity Corr.\",\"Pixel Flipping\",\"Region Pert.\",\"Insertion\",\"Deletion\",\"IROF\",\"ROAD\",\"Sufficiency\"],\"y\":[13.0,12.0,5.0,5.0,11.0,6.0,3.0,2.0,6.0,5.0],\"type\":\"scatter\",\"xaxis\":\"x\",\"yaxis\":\"y\"},{\"marker\":{\"color\":\"#109618\",\"size\":8,\"symbol\":\"square\"},\"mode\":\"markers+text\",\"showlegend\":false,\"text\":[\"6.8\"],\"textposition\":\"middle left\",\"x\":[\"Average\"],\"y\":[6.8],\"type\":\"scatter\",\"xaxis\":\"x\",\"yaxis\":\"y\"},{\"marker\":{\"color\":\"#990099\",\"size\":8},\"mode\":\"lines+markers\",\"name\":\"DLS\",\"x\":[\"Faithfulness Corr.\",\"Faithfulness Est.\",\"Monotonicity Corr.\",\"Pixel Flipping\",\"Region Pert.\",\"Insertion\",\"Deletion\",\"IROF\",\"ROAD\",\"Sufficiency\"],\"y\":[2.0,2.0,8.0,1.0,3.0,1.0,1.0,10.0,5.0,2.0],\"type\":\"scatter\",\"xaxis\":\"x\",\"yaxis\":\"y\"},{\"marker\":{\"color\":\"#990099\",\"size\":8,\"symbol\":\"square\"},\"mode\":\"markers+text\",\"showlegend\":false,\"text\":[\"3.5\"],\"textposition\":\"middle left\",\"x\":[\"Average\"],\"y\":[3.5],\"type\":\"scatter\",\"xaxis\":\"x\",\"yaxis\":\"y\"},{\"marker\":{\"color\":\"#3366CC\",\"size\":8},\"mode\":\"lines+markers\",\"showlegend\":false,\"x\":[\"Local Lipschitz Est.\",\"Max Sensitivity\",\"Continuity\",\"Rel. Input Stab.\",\"Rel. Output Stab.\",\"Rel. Repr. Stab.\",\"Infidelity\"],\"y\":[14.0,14.0,6.0,11.0,14.0,13.0,8.0],\"type\":\"scatter\",\"xaxis\":\"x2\",\"yaxis\":\"y2\"},{\"marker\":{\"color\":\"#3366CC\",\"size\":8,\"symbol\":\"square\"},\"mode\":\"markers+text\",\"showlegend\":false,\"text\":[\"11.4\"],\"textposition\":\"middle left\",\"x\":[\"Average\"],\"y\":[11.428571428571429,1],\"type\":\"scatter\",\"xaxis\":\"x2\",\"yaxis\":\"y2\"},{\"marker\":{\"color\":\"#FF9900\",\"size\":8},\"mode\":\"lines+markers\",\"showlegend\":false,\"x\":[\"Local Lipschitz Est.\",\"Max Sensitivity\",\"Continuity\",\"Rel. Input Stab.\",\"Rel. Output Stab.\",\"Rel. Repr. Stab.\",\"Infidelity\"],\"y\":[8.0,10.0,1.0,3.0,3.0,2.0,11.0],\"type\":\"scatter\",\"xaxis\":\"x2\",\"yaxis\":\"y2\"},{\"marker\":{\"color\":\"#FF9900\",\"size\":8,\"symbol\":\"square\"},\"mode\":\"markers+text\",\"showlegend\":false,\"text\":[\"5.4\"],\"textposition\":\"middle left\",\"x\":[\"Average\"],\"y\":[5.428571428571429,1],\"type\":\"scatter\",\"xaxis\":\"x2\",\"yaxis\":\"y2\"},{\"marker\":{\"color\":\"#109618\",\"size\":8},\"mode\":\"lines+markers\",\"showlegend\":false,\"x\":[\"Local Lipschitz Est.\",\"Max Sensitivity\",\"Continuity\",\"Rel. Input Stab.\",\"Rel. Output Stab.\",\"Rel. Repr. Stab.\",\"Infidelity\"],\"y\":[3.0,4.0,14.0,10.0,9.0,9.0,12.0],\"type\":\"scatter\",\"xaxis\":\"x2\",\"yaxis\":\"y2\"},{\"marker\":{\"color\":\"#109618\",\"size\":8,\"symbol\":\"square\"},\"mode\":\"markers+text\",\"showlegend\":false,\"text\":[\"8.7\"],\"textposition\":\"middle left\",\"x\":[\"Average\"],\"y\":[8.714285714285714,1],\"type\":\"scatter\",\"xaxis\":\"x2\",\"yaxis\":\"y2\"},{\"marker\":{\"color\":\"#990099\",\"size\":8},\"mode\":\"lines+markers\",\"showlegend\":false,\"x\":[\"Local Lipschitz Est.\",\"Max Sensitivity\",\"Continuity\",\"Rel. Input Stab.\",\"Rel. Output Stab.\",\"Rel. Repr. Stab.\",\"Infidelity\"],\"y\":[4.0,3.0,12.0,6.0,6.0,7.0,6.0],\"type\":\"scatter\",\"xaxis\":\"x2\",\"yaxis\":\"y2\"},{\"marker\":{\"color\":\"#990099\",\"size\":8,\"symbol\":\"square\"},\"mode\":\"markers+text\",\"showlegend\":false,\"text\":[\"6.3\"],\"textposition\":\"middle left\",\"x\":[\"Average\"],\"y\":[6.285714285714286,1],\"type\":\"scatter\",\"xaxis\":\"x2\",\"yaxis\":\"y2\"},{\"marker\":{\"color\":\"#3366CC\",\"size\":8},\"mode\":\"lines+markers\",\"showlegend\":false,\"x\":[\"Sparseness\",\"Complexity\",\"Eff. Complexity\"],\"y\":[6.0,6.0,6.0],\"type\":\"scatter\",\"xaxis\":\"x3\",\"yaxis\":\"y3\"},{\"marker\":{\"color\":\"#3366CC\",\"size\":8,\"symbol\":\"square\"},\"mode\":\"markers+text\",\"showlegend\":false,\"text\":[\"6.0\"],\"textposition\":\"middle left\",\"x\":[\"Average\"],\"y\":[6.0],\"type\":\"scatter\",\"xaxis\":\"x3\",\"yaxis\":\"y3\"},{\"marker\":{\"color\":\"#FF9900\",\"size\":8},\"mode\":\"lines+markers\",\"showlegend\":false,\"x\":[\"Sparseness\",\"Complexity\",\"Eff. Complexity\"],\"y\":[11.0,11.0,11.0],\"type\":\"scatter\",\"xaxis\":\"x3\",\"yaxis\":\"y3\"},{\"marker\":{\"color\":\"#FF9900\",\"size\":8,\"symbol\":\"square\"},\"mode\":\"markers+text\",\"showlegend\":false,\"text\":[\"11.0\"],\"textposition\":\"middle left\",\"x\":[\"Average\"],\"y\":[11.0],\"type\":\"scatter\",\"xaxis\":\"x3\",\"yaxis\":\"y3\"},{\"marker\":{\"color\":\"#109618\",\"size\":8},\"mode\":\"lines+markers\",\"showlegend\":false,\"x\":[\"Sparseness\",\"Complexity\",\"Eff. Complexity\"],\"y\":[5.0,5.0,5.0],\"type\":\"scatter\",\"xaxis\":\"x3\",\"yaxis\":\"y3\"},{\"marker\":{\"color\":\"#109618\",\"size\":8,\"symbol\":\"square\"},\"mode\":\"markers+text\",\"showlegend\":false,\"text\":[\"5.0\"],\"textposition\":\"middle left\",\"x\":[\"Average\"],\"y\":[5.0],\"type\":\"scatter\",\"xaxis\":\"x3\",\"yaxis\":\"y3\"},{\"marker\":{\"color\":\"#990099\",\"size\":8},\"mode\":\"lines+markers\",\"showlegend\":false,\"x\":[\"Sparseness\",\"Complexity\",\"Eff. Complexity\"],\"y\":[10.0,10.0,10.0],\"type\":\"scatter\",\"xaxis\":\"x3\",\"yaxis\":\"y3\"},{\"marker\":{\"color\":\"#990099\",\"size\":8,\"symbol\":\"square\"},\"mode\":\"markers+text\",\"showlegend\":false,\"text\":[\"10.0\"],\"textposition\":\"middle left\",\"x\":[\"Average\"],\"y\":[10.0],\"type\":\"scatter\",\"xaxis\":\"x3\",\"yaxis\":\"y3\"}],                        {\"template\":{\"data\":{\"barpolar\":[{\"marker\":{\"line\":{\"color\":\"white\",\"width\":0.5},\"pattern\":{\"fillmode\":\"overlay\",\"size\":10,\"solidity\":0.2}},\"type\":\"barpolar\"}],\"bar\":[{\"error_x\":{\"color\":\"#2a3f5f\"},\"error_y\":{\"color\":\"#2a3f5f\"},\"marker\":{\"line\":{\"color\":\"white\",\"width\":0.5},\"pattern\":{\"fillmode\":\"overlay\",\"size\":10,\"solidity\":0.2}},\"type\":\"bar\"}],\"carpet\":[{\"aaxis\":{\"endlinecolor\":\"#2a3f5f\",\"gridcolor\":\"#C8D4E3\",\"linecolor\":\"#C8D4E3\",\"minorgridcolor\":\"#C8D4E3\",\"startlinecolor\":\"#2a3f5f\"},\"baxis\":{\"endlinecolor\":\"#2a3f5f\",\"gridcolor\":\"#C8D4E3\",\"linecolor\":\"#C8D4E3\",\"minorgridcolor\":\"#C8D4E3\",\"startlinecolor\":\"#2a3f5f\"},\"type\":\"carpet\"}],\"choropleth\":[{\"colorbar\":{\"outlinewidth\":0,\"ticks\":\"\"},\"type\":\"choropleth\"}],\"contourcarpet\":[{\"colorbar\":{\"outlinewidth\":0,\"ticks\":\"\"},\"type\":\"contourcarpet\"}],\"contour\":[{\"colorbar\":{\"outlinewidth\":0,\"ticks\":\"\"},\"colorscale\":[[0.0,\"#0d0887\"],[0.1111111111111111,\"#46039f\"],[0.2222222222222222,\"#7201a8\"],[0.3333333333333333,\"#9c179e\"],[0.4444444444444444,\"#bd3786\"],[0.5555555555555556,\"#d8576b\"],[0.6666666666666666,\"#ed7953\"],[0.7777777777777778,\"#fb9f3a\"],[0.8888888888888888,\"#fdca26\"],[1.0,\"#f0f921\"]],\"type\":\"contour\"}],\"heatmapgl\":[{\"colorbar\":{\"outlinewidth\":0,\"ticks\":\"\"},\"colorscale\":[[0.0,\"#0d0887\"],[0.1111111111111111,\"#46039f\"],[0.2222222222222222,\"#7201a8\"],[0.3333333333333333,\"#9c179e\"],[0.4444444444444444,\"#bd3786\"],[0.5555555555555556,\"#d8576b\"],[0.6666666666666666,\"#ed7953\"],[0.7777777777777778,\"#fb9f3a\"],[0.8888888888888888,\"#fdca26\"],[1.0,\"#f0f921\"]],\"type\":\"heatmapgl\"}],\"heatmap\":[{\"colorbar\":{\"outlinewidth\":0,\"ticks\":\"\"},\"colorscale\":[[0.0,\"#0d0887\"],[0.1111111111111111,\"#46039f\"],[0.2222222222222222,\"#7201a8\"],[0.3333333333333333,\"#9c179e\"],[0.4444444444444444,\"#bd3786\"],[0.5555555555555556,\"#d8576b\"],[0.6666666666666666,\"#ed7953\"],[0.7777777777777778,\"#fb9f3a\"],[0.8888888888888888,\"#fdca26\"],[1.0,\"#f0f921\"]],\"type\":\"heatmap\"}],\"histogram2dcontour\":[{\"colorbar\":{\"outlinewidth\":0,\"ticks\":\"\"},\"colorscale\":[[0.0,\"#0d0887\"],[0.1111111111111111,\"#46039f\"],[0.2222222222222222,\"#7201a8\"],[0.3333333333333333,\"#9c179e\"],[0.4444444444444444,\"#bd3786\"],[0.5555555555555556,\"#d8576b\"],[0.6666666666666666,\"#ed7953\"],[0.7777777777777778,\"#fb9f3a\"],[0.8888888888888888,\"#fdca26\"],[1.0,\"#f0f921\"]],\"type\":\"histogram2dcontour\"}],\"histogram2d\":[{\"colorbar\":{\"outlinewidth\":0,\"ticks\":\"\"},\"colorscale\":[[0.0,\"#0d0887\"],[0.1111111111111111,\"#46039f\"],[0.2222222222222222,\"#7201a8\"],[0.3333333333333333,\"#9c179e\"],[0.4444444444444444,\"#bd3786\"],[0.5555555555555556,\"#d8576b\"],[0.6666666666666666,\"#ed7953\"],[0.7777777777777778,\"#fb9f3a\"],[0.8888888888888888,\"#fdca26\"],[1.0,\"#f0f921\"]],\"type\":\"histogram2d\"}],\"histogram\":[{\"marker\":{\"pattern\":{\"fillmode\":\"overlay\",\"size\":10,\"solidity\":0.2}},\"type\":\"histogram\"}],\"mesh3d\":[{\"colorbar\":{\"outlinewidth\":0,\"ticks\":\"\"},\"type\":\"mesh3d\"}],\"parcoords\":[{\"line\":{\"colorbar\":{\"outlinewidth\":0,\"ticks\":\"\"}},\"type\":\"parcoords\"}],\"pie\":[{\"automargin\":true,\"type\":\"pie\"}],\"scatter3d\":[{\"line\":{\"colorbar\":{\"outlinewidth\":0,\"ticks\":\"\"}},\"marker\":{\"colorbar\":{\"outlinewidth\":0,\"ticks\":\"\"}},\"type\":\"scatter3d\"}],\"scattercarpet\":[{\"marker\":{\"colorbar\":{\"outlinewidth\":0,\"ticks\":\"\"}},\"type\":\"scattercarpet\"}],\"scattergeo\":[{\"marker\":{\"colorbar\":{\"outlinewidth\":0,\"ticks\":\"\"}},\"type\":\"scattergeo\"}],\"scattergl\":[{\"marker\":{\"colorbar\":{\"outlinewidth\":0,\"ticks\":\"\"}},\"type\":\"scattergl\"}],\"scattermapbox\":[{\"marker\":{\"colorbar\":{\"outlinewidth\":0,\"ticks\":\"\"}},\"type\":\"scattermapbox\"}],\"scatterpolargl\":[{\"marker\":{\"colorbar\":{\"outlinewidth\":0,\"ticks\":\"\"}},\"type\":\"scatterpolargl\"}],\"scatterpolar\":[{\"marker\":{\"colorbar\":{\"outlinewidth\":0,\"ticks\":\"\"}},\"type\":\"scatterpolar\"}],\"scatter\":[{\"fillpattern\":{\"fillmode\":\"overlay\",\"size\":10,\"solidity\":0.2},\"type\":\"scatter\"}],\"scatterternary\":[{\"marker\":{\"colorbar\":{\"outlinewidth\":0,\"ticks\":\"\"}},\"type\":\"scatterternary\"}],\"surface\":[{\"colorbar\":{\"outlinewidth\":0,\"ticks\":\"\"},\"colorscale\":[[0.0,\"#0d0887\"],[0.1111111111111111,\"#46039f\"],[0.2222222222222222,\"#7201a8\"],[0.3333333333333333,\"#9c179e\"],[0.4444444444444444,\"#bd3786\"],[0.5555555555555556,\"#d8576b\"],[0.6666666666666666,\"#ed7953\"],[0.7777777777777778,\"#fb9f3a\"],[0.8888888888888888,\"#fdca26\"],[1.0,\"#f0f921\"]],\"type\":\"surface\"}],\"table\":[{\"cells\":{\"fill\":{\"color\":\"#EBF0F8\"},\"line\":{\"color\":\"white\"}},\"header\":{\"fill\":{\"color\":\"#C8D4E3\"},\"line\":{\"color\":\"white\"}},\"type\":\"table\"}]},\"layout\":{\"annotationdefaults\":{\"arrowcolor\":\"#2a3f5f\",\"arrowhead\":0,\"arrowwidth\":1},\"autotypenumbers\":\"strict\",\"coloraxis\":{\"colorbar\":{\"outlinewidth\":0,\"ticks\":\"\"}},\"colorscale\":{\"diverging\":[[0,\"#8e0152\"],[0.1,\"#c51b7d\"],[0.2,\"#de77ae\"],[0.3,\"#f1b6da\"],[0.4,\"#fde0ef\"],[0.5,\"#f7f7f7\"],[0.6,\"#e6f5d0\"],[0.7,\"#b8e186\"],[0.8,\"#7fbc41\"],[0.9,\"#4d9221\"],[1,\"#276419\"]],\"sequential\":[[0.0,\"#0d0887\"],[0.1111111111111111,\"#46039f\"],[0.2222222222222222,\"#7201a8\"],[0.3333333333333333,\"#9c179e\"],[0.4444444444444444,\"#bd3786\"],[0.5555555555555556,\"#d8576b\"],[0.6666666666666666,\"#ed7953\"],[0.7777777777777778,\"#fb9f3a\"],[0.8888888888888888,\"#fdca26\"],[1.0,\"#f0f921\"]],\"sequentialminus\":[[0.0,\"#0d0887\"],[0.1111111111111111,\"#46039f\"],[0.2222222222222222,\"#7201a8\"],[0.3333333333333333,\"#9c179e\"],[0.4444444444444444,\"#bd3786\"],[0.5555555555555556,\"#d8576b\"],[0.6666666666666666,\"#ed7953\"],[0.7777777777777778,\"#fb9f3a\"],[0.8888888888888888,\"#fdca26\"],[1.0,\"#f0f921\"]]},\"colorway\":[\"#636efa\",\"#EF553B\",\"#00cc96\",\"#ab63fa\",\"#FFA15A\",\"#19d3f3\",\"#FF6692\",\"#B6E880\",\"#FF97FF\",\"#FECB52\"],\"font\":{\"color\":\"#2a3f5f\"},\"geo\":{\"bgcolor\":\"white\",\"lakecolor\":\"white\",\"landcolor\":\"white\",\"showlakes\":true,\"showland\":true,\"subunitcolor\":\"#C8D4E3\"},\"hoverlabel\":{\"align\":\"left\"},\"hovermode\":\"closest\",\"mapbox\":{\"style\":\"light\"},\"paper_bgcolor\":\"white\",\"plot_bgcolor\":\"white\",\"polar\":{\"angularaxis\":{\"gridcolor\":\"#EBF0F8\",\"linecolor\":\"#EBF0F8\",\"ticks\":\"\"},\"bgcolor\":\"white\",\"radialaxis\":{\"gridcolor\":\"#EBF0F8\",\"linecolor\":\"#EBF0F8\",\"ticks\":\"\"}},\"scene\":{\"xaxis\":{\"backgroundcolor\":\"white\",\"gridcolor\":\"#DFE8F3\",\"gridwidth\":2,\"linecolor\":\"#EBF0F8\",\"showbackground\":true,\"ticks\":\"\",\"zerolinecolor\":\"#EBF0F8\"},\"yaxis\":{\"backgroundcolor\":\"white\",\"gridcolor\":\"#DFE8F3\",\"gridwidth\":2,\"linecolor\":\"#EBF0F8\",\"showbackground\":true,\"ticks\":\"\",\"zerolinecolor\":\"#EBF0F8\"},\"zaxis\":{\"backgroundcolor\":\"white\",\"gridcolor\":\"#DFE8F3\",\"gridwidth\":2,\"linecolor\":\"#EBF0F8\",\"showbackground\":true,\"ticks\":\"\",\"zerolinecolor\":\"#EBF0F8\"}},\"shapedefaults\":{\"line\":{\"color\":\"#2a3f5f\"}},\"ternary\":{\"aaxis\":{\"gridcolor\":\"#DFE8F3\",\"linecolor\":\"#A2B1C6\",\"ticks\":\"\"},\"baxis\":{\"gridcolor\":\"#DFE8F3\",\"linecolor\":\"#A2B1C6\",\"ticks\":\"\"},\"bgcolor\":\"white\",\"caxis\":{\"gridcolor\":\"#DFE8F3\",\"linecolor\":\"#A2B1C6\",\"ticks\":\"\"}},\"title\":{\"x\":0.05},\"xaxis\":{\"automargin\":true,\"gridcolor\":\"#EBF0F8\",\"linecolor\":\"#EBF0F8\",\"ticks\":\"\",\"title\":{\"standoff\":15},\"zerolinecolor\":\"#EBF0F8\",\"zerolinewidth\":2},\"yaxis\":{\"automargin\":true,\"gridcolor\":\"#EBF0F8\",\"linecolor\":\"#EBF0F8\",\"ticks\":\"\",\"title\":{\"standoff\":15},\"zerolinecolor\":\"#EBF0F8\",\"zerolinewidth\":2}}},\"xaxis\":{\"anchor\":\"y\",\"domain\":[0.0,0.43333333333333335],\"tickangle\":35},\"yaxis\":{\"anchor\":\"x\",\"domain\":[0.0,1.0],\"autorange\":\"reversed\",\"range\":[1,14],\"tickvals\":[1,5,10,14],\"zeroline\":false,\"showticklabels\":true,\"title\":{\"text\":\"Rank\"}},\"xaxis2\":{\"anchor\":\"y2\",\"domain\":[0.5,0.8033333333333333],\"tickangle\":35},\"yaxis2\":{\"anchor\":\"x2\",\"domain\":[0.0,1.0],\"matches\":\"y\",\"showticklabels\":true,\"autorange\":\"reversed\",\"range\":[1,14],\"tickvals\":[1,5,10,14],\"zeroline\":false},\"xaxis3\":{\"anchor\":\"y3\",\"domain\":[0.87,1.0],\"tickangle\":35},\"yaxis3\":{\"anchor\":\"x3\",\"domain\":[0.0,1.0],\"matches\":\"y\",\"showticklabels\":true,\"autorange\":\"reversed\",\"range\":[1,14],\"tickvals\":[1,5,10,14],\"zeroline\":false},\"annotations\":[{\"font\":{\"size\":16},\"showarrow\":false,\"text\":\"Faithfulness Metrics\",\"x\":0.0,\"xanchor\":\"left\",\"xref\":\"paper\",\"y\":1.0,\"yanchor\":\"bottom\",\"yref\":\"paper\"},{\"font\":{\"size\":16},\"showarrow\":false,\"text\":\"Robustness Metrics\",\"x\":0.5,\"xanchor\":\"left\",\"xref\":\"paper\",\"y\":1.0,\"yanchor\":\"bottom\",\"yref\":\"paper\"},{\"font\":{\"size\":16},\"showarrow\":false,\"text\":\"Complexity Metrics\",\"x\":0.87,\"xanchor\":\"left\",\"xref\":\"paper\",\"y\":1.0,\"yanchor\":\"bottom\",\"yref\":\"paper\"}],\"legend\":{\"title\":{\"text\":\"XAI Method\"}},\"font\":{\"family\":\"Helvetica\",\"color\":\"#000000\",\"size\":12},\"title\":{\"font\":{\"family\":\"Helvetica\",\"color\":\"#000000\",\"size\":12}},\"height\":400,\"width\":1500},                        {\"responsive\": true}                    ).then(function(){\n",
       "                            \n",
       "var gd = document.getElementById('e23c6579-f9bf-4684-87fc-2dcf0f40c5f6');\n",
       "var x = new MutationObserver(function (mutations, observer) {{\n",
       "        var display = window.getComputedStyle(gd).display;\n",
       "        if (!display || display === 'none') {{\n",
       "            console.log([gd, 'removed!']);\n",
       "            Plotly.purge(gd);\n",
       "            observer.disconnect();\n",
       "        }}\n",
       "}});\n",
       "\n",
       "// Listen for the removal of the full notebook cells\n",
       "var notebookContainer = gd.closest('#notebook-container');\n",
       "if (notebookContainer) {{\n",
       "    x.observe(notebookContainer, {childList: true});\n",
       "}}\n",
       "\n",
       "// Listen for the clearing of the current output cell\n",
       "var outputEl = gd.closest('.output');\n",
       "if (outputEl) {{\n",
       "    x.observe(outputEl, {childList: true});\n",
       "}}\n",
       "\n",
       "                        })                };                });            </script>        </div>"
      ]
     },
     "metadata": {},
     "output_type": "display_data"
    }
   ],
   "source": [
    "import plotly.graph_objects as go\n",
    "import plotly.express as px\n",
    "from plotly.subplots import make_subplots\n",
    "\n",
    "colors = list(map(px.colors.qualitative.G10.__getitem__, [0,2,3,4]))\n",
    "metrics_faith = [\n",
    "    \"Faithfulness Corr.\",\n",
    "    \"Faithfulness Est.\",\n",
    "    \"Monotonicity Corr.\",\n",
    "    \"Pixel Flipping\",\n",
    "    \"Region Pert.\",\n",
    "    \"Insertion\",\n",
    "    \"Deletion\",\n",
    "    \"IROF\",\n",
    "    \"ROAD\",\n",
    "    \"Sufficiency\",\n",
    "]\n",
    "metrics_robust = [\n",
    "    \"Local Lipschitz Est.\",\n",
    "    \"Max Sensitivity\",\n",
    "    \"Continuity\",\n",
    "    \"Rel. Input Stab.\",\n",
    "    \"Rel. Output Stab.\",\n",
    "    \"Rel. Repr. Stab.\",\n",
    "    \"Infidelity\",\n",
    "]\n",
    "metrics_complex = [\"Sparseness\", \"Complexity\", \"Eff. Complexity\"]\n",
    "\n",
    "methods = [1, 6, 9, 12]\n",
    "\n",
    "fig = make_subplots(\n",
    "    rows=1,\n",
    "    cols=3,\n",
    "    subplot_titles=[\"Faithfulness Metrics\", \"Robustness Metrics\", \"Complexity Metrics\"],\n",
    "    column_widths=[0.5, 0.35, 0.15],\n",
    "    shared_yaxes=True,\n",
    ")\n",
    "\n",
    "df_table = pd.DataFrame(arr_ranking[0, 0, :, :10])\n",
    "df_table.index = [\n",
    "    \"OC\",\n",
    "    \"LIME\",\n",
    "    \"KS\",\n",
    "    \"VG\",\n",
    "    \"IxG\",\n",
    "    \"GB\",\n",
    "    \"GC\",\n",
    "    \"SC\",\n",
    "    \"C+\",\n",
    "    \"IG\",\n",
    "    \"EG\",\n",
    "    \"DL\",\n",
    "    \"DLS\",\n",
    "    \"LRP\",\n",
    "]\n",
    "\n",
    "faith = df_table.iloc[methods, :].transpose()\n",
    "\n",
    "df_table = pd.DataFrame(arr_ranking[0, 0, :, 10:17])\n",
    "robust = df_table.iloc[methods, :].transpose()\n",
    "\n",
    "df_table = pd.DataFrame(arr_ranking[0, 0, :, 17:20])\n",
    "complex = df_table.iloc[methods, :].transpose()\n",
    "\n",
    "\n",
    "for i in range(len(faith.columns)):\n",
    "    fig.add_trace(\n",
    "        go.Scatter(\n",
    "            x=metrics_faith,\n",
    "            y=faith.iloc[:, i],\n",
    "            mode=\"lines+markers\",\n",
    "            name=faith.columns[i],\n",
    "            marker=dict(color=colors[i], size=8),\n",
    "        ),\n",
    "        col=1,\n",
    "        row=1,\n",
    "    )\n",
    "\n",
    "    fig.add_trace(\n",
    "        go.Scatter(\n",
    "            x=[\"Average\"],\n",
    "            y=[np.mean(faith.iloc[:, i])],\n",
    "            mode=\"markers+text\",\n",
    "            text=[str(np.mean(faith.iloc[:, i]))],\n",
    "            textposition=\"middle left\",\n",
    "            showlegend=False,\n",
    "            marker=dict(color=colors[i], size=8, symbol=\"square\"),\n",
    "        ),\n",
    "        col=1,\n",
    "        row=1,\n",
    "    )\n",
    "\n",
    "for i in range(len(robust.columns)):\n",
    "    fig.add_trace(\n",
    "        go.Scatter(\n",
    "            x=metrics_robust,\n",
    "            y=robust.iloc[:, i],\n",
    "            mode=\"lines+markers\",\n",
    "            showlegend=False,\n",
    "            marker=dict(color=colors[i], size=8),\n",
    "        ),\n",
    "        col=2,\n",
    "        row=1,\n",
    "    )\n",
    "\n",
    "    fig.add_trace(\n",
    "        go.Scatter(\n",
    "            x=[\"Average\"],\n",
    "            y=[np.mean(robust.iloc[:, i]), 1],\n",
    "            mode=\"markers+text\",\n",
    "            text=[str(np.round(np.mean(robust.iloc[:, i]), 1))],\n",
    "            textposition=\"middle left\",\n",
    "            showlegend=False,\n",
    "            marker=dict(color=colors[i], size=8, symbol=\"square\"),\n",
    "        ),\n",
    "        col=2,\n",
    "        row=1,\n",
    "    )\n",
    "\n",
    "for i in range(len(complex.columns)):\n",
    "    fig.add_trace(\n",
    "        go.Scatter(\n",
    "            x=metrics_complex,\n",
    "            y=complex.iloc[:, i],\n",
    "            mode=\"lines+markers\",\n",
    "            showlegend=False,\n",
    "            marker=dict(color=colors[i], size=8),\n",
    "        ),\n",
    "        col=3,\n",
    "        row=1,\n",
    "    )\n",
    "\n",
    "    fig.add_trace(\n",
    "        go.Scatter(\n",
    "            x=[\"Average\"],\n",
    "            y=[np.mean(complex.iloc[:, i])],\n",
    "            mode=\"markers+text\",\n",
    "            text=[str(np.round(np.mean(complex.iloc[:, i])))],\n",
    "            textposition=\"middle left\",\n",
    "            showlegend=False,\n",
    "            marker=dict(color=colors[i], size=8, symbol=\"square\"),\n",
    "        ),\n",
    "        col=3,\n",
    "        row=1,\n",
    "    )\n",
    "\n",
    "fig.update_yaxes(\n",
    "    autorange=\"reversed\",\n",
    "    range=[1, 14],\n",
    "    tickvals=[1, 5, 10, 14],\n",
    "    zeroline=False,\n",
    "    showticklabels=True,\n",
    ")\n",
    "\n",
    "fig.update_yaxes(title=\"Rank\", col = 1, row = 1)\n",
    "\n",
    "fig.update_xaxes(tickangle=35)\n",
    "\n",
    "fig.update_layout(\n",
    "    height=400,\n",
    "    width=1500,\n",
    "    legend_title_text=\"XAI Method\",\n",
    "    template=\"plotly_white\",\n",
    "    font=dict(\n",
    "        family=\"Helvetica\",\n",
    "        color=\"#000000\",\n",
    "        size = 12,\n",
    "    ),\n",
    "    title_font=dict(\n",
    "        family=\"Helvetica\",\n",
    "        color=\"#000000\",\n",
    "        size = 12\n",
    "    ),\n",
    ")\n",
    "\n",
    "fig = left_align_facet_plot_titles(fig)\n",
    "fig.write_image(os.getcwd().split(\"src\")[0] + \"data/figures/meta_eval_example.png\", scale=2)\n",
    "fig.show()"
   ]
  },
  {
   "attachments": {},
   "cell_type": "markdown",
   "metadata": {},
   "source": [
    "### Average ranking disagreement"
   ]
  },
  {
   "cell_type": "code",
   "execution_count": 7,
   "metadata": {},
   "outputs": [],
   "source": [
    "from scipy.spatial import distance_matrix\n",
    "\n",
    "list = []\n",
    "\n",
    "for model in range(3):\n",
    "    for dataset in range(3):\n",
    "        for method in range(14):\n",
    "            list.append(\n",
    "                distance_matrix(\n",
    "                    np.expand_dims(arr_ranking[dataset, model, method, :10], 0).T,\n",
    "                    np.expand_dims(arr_ranking[dataset, model, method, :10], 0).T,\n",
    "                )\n",
    "            )\n",
    "\n",
    "dist_matrix = np.round(np.mean(np.array(list[:42]), 0), 2)\n",
    "dist_matrix = pd.DataFrame(dist_matrix)\n",
    "dist_faith_resnet50 = dist_matrix.where(np.tril(np.ones(dist_matrix.shape)).astype(bool))\n",
    "\n",
    "dist_matrix = np.round(np.mean(np.array(list[42:84]), 0), 2)\n",
    "dist_matrix = pd.DataFrame(dist_matrix)\n",
    "dist_faith_effnetb0 = dist_matrix.where(np.tril(np.ones(dist_matrix.shape)).astype(bool))\n",
    "\n",
    "dist_matrix = np.round(np.mean(np.array(list[84:]), 0), 2)\n",
    "dist_matrix = pd.DataFrame(dist_matrix)\n",
    "dist_faith_vit = dist_matrix.where(np.tril(np.ones(dist_matrix.shape)).astype(bool))\n",
    "\n",
    "list = []\n",
    "\n",
    "for model in range(3):\n",
    "    for dataset in range(3):\n",
    "        for method in range(14):\n",
    "            list.append(\n",
    "                distance_matrix(\n",
    "                    np.expand_dims(arr_ranking[dataset, model, method, 10:17], 0).T,\n",
    "                    np.expand_dims(arr_ranking[dataset, model, method, 10:17], 0).T,\n",
    "                )\n",
    "            )\n",
    "\n",
    "dist_matrix = np.round(np.mean(np.array(list[:42]), 0), 2)\n",
    "dist_matrix = pd.DataFrame(dist_matrix)\n",
    "dist_robust_resnet50 = dist_matrix.where(np.tril(np.ones(dist_matrix.shape)).astype(bool))\n",
    "\n",
    "dist_matrix = np.round(np.mean(np.array(list[42:84]), 0), 2)\n",
    "dist_matrix = pd.DataFrame(dist_matrix)\n",
    "dist_robust_effnetb0 = dist_matrix.where(np.tril(np.ones(dist_matrix.shape)).astype(bool))\n",
    "\n",
    "dist_matrix = np.round(np.mean(np.array(list[84:]), 0), 2)\n",
    "dist_matrix = pd.DataFrame(dist_matrix)\n",
    "dist_robust_vit = dist_matrix.where(np.tril(np.ones(dist_matrix.shape)).astype(bool))"
   ]
  },
  {
   "cell_type": "code",
   "execution_count": 12,
   "metadata": {},
   "outputs": [
    {
     "data": {
      "application/vnd.plotly.v1+json": {
       "config": {
        "plotlyServerURL": "https://plot.ly"
       },
       "data": [
        {
         "colorbar": {
          "thickness": 10,
          "ticks": "outside"
         },
         "colorscale": [
          [
           0,
           "rgb(165,0,38)"
          ],
          [
           0.1,
           "rgb(215,48,39)"
          ],
          [
           0.2,
           "rgb(244,109,67)"
          ],
          [
           0.3,
           "rgb(253,174,97)"
          ],
          [
           0.4,
           "rgb(254,224,139)"
          ],
          [
           0.5,
           "rgb(255,255,191)"
          ],
          [
           0.6,
           "rgb(217,239,139)"
          ],
          [
           0.7,
           "rgb(166,217,106)"
          ],
          [
           0.8,
           "rgb(102,189,99)"
          ],
          [
           0.9,
           "rgb(26,152,80)"
          ],
          [
           1,
           "rgb(0,104,55)"
          ]
         ],
         "reversescale": true,
         "texttemplate": "%{z}",
         "type": "heatmap",
         "x": [
          "Faithfulness Corr.",
          "Faithfulness Est.",
          "Monotonicity Corr.",
          "Pixel Flipping",
          "Region Pert.",
          "Insertion",
          "Deletion",
          "IROF",
          "ROAD",
          "Sufficiency"
         ],
         "xaxis": "x",
         "y": [
          "Faithfulness Corr.",
          "Faithfulness Est.",
          "Monotonicity Corr.",
          "Pixel Flipping",
          "Region Pert.",
          "Insertion",
          "Deletion",
          "IROF",
          "ROAD",
          "Sufficiency"
         ],
         "yaxis": "y",
         "z": [
          [
           0,
           null,
           null,
           null,
           null,
           null,
           null,
           null,
           null,
           null
          ],
          [
           1.9,
           0,
           null,
           null,
           null,
           null,
           null,
           null,
           null,
           null
          ],
          [
           5.38,
           4.76,
           0,
           null,
           null,
           null,
           null,
           null,
           null,
           null
          ],
          [
           4.95,
           4.9,
           4.19,
           0,
           null,
           null,
           null,
           null,
           null,
           null
          ],
          [
           3.95,
           3.14,
           3.76,
           4.29,
           0,
           null,
           null,
           null,
           null,
           null
          ],
          [
           4.67,
           4.14,
           2.67,
           3.43,
           2.57,
           0,
           null,
           null,
           null,
           null
          ],
          [
           4.62,
           4.57,
           4.14,
           2.33,
           4.48,
           3.24,
           0,
           null,
           null,
           null
          ],
          [
           4.38,
           3.62,
           4.48,
           5.14,
           3.05,
           4.24,
           5.14,
           0,
           null,
           null
          ],
          [
           4.1,
           4.05,
           4.05,
           5.43,
           3.76,
           4.24,
           6.05,
           3.67,
           0,
           null
          ],
          [
           4.33,
           4.43,
           3.24,
           4.1,
           4,
           3.48,
           3,
           4.43,
           5.33,
           0
          ]
         ],
         "zmax": 6.1,
         "zmin": 0.5
        },
        {
         "colorbar": {
          "thickness": 10,
          "ticks": "outside"
         },
         "colorscale": [
          [
           0,
           "rgb(165,0,38)"
          ],
          [
           0.1,
           "rgb(215,48,39)"
          ],
          [
           0.2,
           "rgb(244,109,67)"
          ],
          [
           0.3,
           "rgb(253,174,97)"
          ],
          [
           0.4,
           "rgb(254,224,139)"
          ],
          [
           0.5,
           "rgb(255,255,191)"
          ],
          [
           0.6,
           "rgb(217,239,139)"
          ],
          [
           0.7,
           "rgb(166,217,106)"
          ],
          [
           0.8,
           "rgb(102,189,99)"
          ],
          [
           0.9,
           "rgb(26,152,80)"
          ],
          [
           1,
           "rgb(0,104,55)"
          ]
         ],
         "reversescale": true,
         "texttemplate": "%{z}",
         "type": "heatmap",
         "x": [
          "Faithfulness Corr.",
          "Faithfulness Est.",
          "Monotonicity Corr.",
          "Pixel Flipping",
          "Region Pert.",
          "Insertion",
          "Deletion",
          "IROF",
          "ROAD",
          "Sufficiency"
         ],
         "xaxis": "x2",
         "y": [
          "Faithfulness Corr.",
          "Faithfulness Est.",
          "Monotonicity Corr.",
          "Pixel Flipping",
          "Region Pert.",
          "Insertion",
          "Deletion",
          "IROF",
          "ROAD",
          "Sufficiency"
         ],
         "yaxis": "y2",
         "z": [
          [
           0,
           null,
           null,
           null,
           null,
           null,
           null,
           null,
           null,
           null
          ],
          [
           2.14,
           0,
           null,
           null,
           null,
           null,
           null,
           null,
           null,
           null
          ],
          [
           5.71,
           5.29,
           0,
           null,
           null,
           null,
           null,
           null,
           null,
           null
          ],
          [
           4.24,
           3.48,
           4.1,
           0,
           null,
           null,
           null,
           null,
           null,
           null
          ],
          [
           3.29,
           3.29,
           4.48,
           4.81,
           0,
           null,
           null,
           null,
           null,
           null
          ],
          [
           5.24,
           4.57,
           3.24,
           3.76,
           3.86,
           0,
           null,
           null,
           null,
           null
          ],
          [
           5.14,
           4.9,
           2.81,
           3.81,
           4.48,
           1.71,
           0,
           null,
           null,
           null
          ],
          [
           4.52,
           4.38,
           3.86,
           4.76,
           2.29,
           3.38,
           3.95,
           0,
           null,
           null
          ],
          [
           3.76,
           3.24,
           4.71,
           4.57,
           2.14,
           4.29,
           4.9,
           2.67,
           0,
           null
          ],
          [
           5.19,
           5.24,
           3.52,
           4.57,
           4.48,
           3.48,
           3.19,
           4.14,
           4.71,
           0
          ]
         ],
         "zmax": 6.1,
         "zmin": 0.5
        },
        {
         "colorbar": {
          "thickness": 10,
          "ticks": "outside"
         },
         "colorscale": [
          [
           0,
           "rgb(165,0,38)"
          ],
          [
           0.1,
           "rgb(215,48,39)"
          ],
          [
           0.2,
           "rgb(244,109,67)"
          ],
          [
           0.3,
           "rgb(253,174,97)"
          ],
          [
           0.4,
           "rgb(254,224,139)"
          ],
          [
           0.5,
           "rgb(255,255,191)"
          ],
          [
           0.6,
           "rgb(217,239,139)"
          ],
          [
           0.7,
           "rgb(166,217,106)"
          ],
          [
           0.8,
           "rgb(102,189,99)"
          ],
          [
           0.9,
           "rgb(26,152,80)"
          ],
          [
           1,
           "rgb(0,104,55)"
          ]
         ],
         "reversescale": true,
         "texttemplate": "%{z}",
         "type": "heatmap",
         "x": [
          "Faithfulness Corr.",
          "Faithfulness Est.",
          "Monotonicity Corr.",
          "Pixel Flipping",
          "Region Pert.",
          "Insertion",
          "Deletion",
          "IROF",
          "ROAD",
          "Sufficiency"
         ],
         "xaxis": "x3",
         "y": [
          "Faithfulness Corr.",
          "Faithfulness Est.",
          "Monotonicity Corr.",
          "Pixel Flipping",
          "Region Pert.",
          "Insertion",
          "Deletion",
          "IROF",
          "ROAD",
          "Sufficiency"
         ],
         "yaxis": "y3",
         "z": [
          [
           0,
           null,
           null,
           null,
           null,
           null,
           null,
           null,
           null,
           null
          ],
          [
           1.62,
           0,
           null,
           null,
           null,
           null,
           null,
           null,
           null,
           null
          ],
          [
           4.71,
           4.81,
           0,
           null,
           null,
           null,
           null,
           null,
           null,
           null
          ],
          [
           2.52,
           2.76,
           4.19,
           0,
           null,
           null,
           null,
           null,
           null,
           null
          ],
          [
           4.29,
           4.29,
           4.9,
           3.67,
           0,
           null,
           null,
           null,
           null,
           null
          ],
          [
           3.76,
           3.62,
           2.9,
           2.9,
           3.67,
           0,
           null,
           null,
           null,
           null
          ],
          [
           3.43,
           3.14,
           3.38,
           1.52,
           3.9,
           2.1,
           0,
           null,
           null,
           null
          ],
          [
           5.86,
           5.95,
           4.67,
           4.9,
           4.29,
           5.29,
           5.29,
           0,
           null,
           null
          ],
          [
           5.29,
           5.62,
           3.95,
           5.19,
           3.29,
           4.86,
           5.38,
           4.05,
           0,
           null
          ],
          [
           4.86,
           5.1,
           4.19,
           4.05,
           5.05,
           4.24,
           4,
           4.81,
           5.1,
           0
          ]
         ],
         "zmax": 6.1,
         "zmin": 0.5
        },
        {
         "colorbar": {
          "thickness": 10,
          "ticks": "outside"
         },
         "colorscale": [
          [
           0,
           "rgb(165,0,38)"
          ],
          [
           0.1,
           "rgb(215,48,39)"
          ],
          [
           0.2,
           "rgb(244,109,67)"
          ],
          [
           0.3,
           "rgb(253,174,97)"
          ],
          [
           0.4,
           "rgb(254,224,139)"
          ],
          [
           0.5,
           "rgb(255,255,191)"
          ],
          [
           0.6,
           "rgb(217,239,139)"
          ],
          [
           0.7,
           "rgb(166,217,106)"
          ],
          [
           0.8,
           "rgb(102,189,99)"
          ],
          [
           0.9,
           "rgb(26,152,80)"
          ],
          [
           1,
           "rgb(0,104,55)"
          ]
         ],
         "reversescale": true,
         "texttemplate": "%{z}",
         "type": "heatmap",
         "x": [
          "Local Lipschitz Est.",
          "Max Sensitivity",
          "Continuity",
          "Rel. Input Stab.",
          "Rel. Output Stab.",
          "Rel. Repr. Stab.",
          "Infidelity"
         ],
         "xaxis": "x4",
         "y": [
          "Local Lipschitz Est.",
          "Max Sensitivity",
          "Continuity",
          "Rel. Input Stab.",
          "Rel. Output Stab.",
          "Rel. Repr. Stab.",
          "Infidelity"
         ],
         "yaxis": "y4",
         "z": [
          [
           0,
           null,
           null,
           null,
           null,
           null,
           null
          ],
          [
           1.62,
           0,
           null,
           null,
           null,
           null,
           null
          ],
          [
           5,
           5.76,
           0,
           null,
           null,
           null,
           null
          ],
          [
           4.76,
           5.29,
           4.67,
           0,
           null,
           null,
           null
          ],
          [
           4.52,
           5.05,
           4.71,
           0.38,
           0,
           null,
           null
          ],
          [
           4.62,
           5.14,
           4.67,
           0.67,
           0.52,
           0,
           null
          ],
          [
           4.14,
           3.67,
           5.19,
           4,
           3.9,
           3.95,
           0
          ]
         ],
         "zmax": 6.1,
         "zmin": 0.5
        },
        {
         "colorbar": {
          "thickness": 10,
          "ticks": "outside"
         },
         "colorscale": [
          [
           0,
           "rgb(165,0,38)"
          ],
          [
           0.1,
           "rgb(215,48,39)"
          ],
          [
           0.2,
           "rgb(244,109,67)"
          ],
          [
           0.3,
           "rgb(253,174,97)"
          ],
          [
           0.4,
           "rgb(254,224,139)"
          ],
          [
           0.5,
           "rgb(255,255,191)"
          ],
          [
           0.6,
           "rgb(217,239,139)"
          ],
          [
           0.7,
           "rgb(166,217,106)"
          ],
          [
           0.8,
           "rgb(102,189,99)"
          ],
          [
           0.9,
           "rgb(26,152,80)"
          ],
          [
           1,
           "rgb(0,104,55)"
          ]
         ],
         "reversescale": true,
         "texttemplate": "%{z}",
         "type": "heatmap",
         "x": [
          "Local Lipschitz Est.",
          "Max Sensitivity",
          "Continuity",
          "Rel. Input Stab.",
          "Rel. Output Stab.",
          "Rel. Repr. Stab.",
          "Infidelity"
         ],
         "xaxis": "x5",
         "y": [
          "Local Lipschitz Est.",
          "Max Sensitivity",
          "Continuity",
          "Rel. Input Stab.",
          "Rel. Output Stab.",
          "Rel. Repr. Stab.",
          "Infidelity"
         ],
         "yaxis": "y5",
         "z": [
          [
           0,
           null,
           null,
           null,
           null,
           null,
           null
          ],
          [
           2.19,
           0,
           null,
           null,
           null,
           null,
           null
          ],
          [
           4.86,
           4.67,
           0,
           null,
           null,
           null,
           null
          ],
          [
           4.76,
           4.62,
           4.33,
           0,
           null,
           null,
           null
          ],
          [
           4.76,
           4.48,
           4.24,
           0.38,
           0,
           null,
           null
          ],
          [
           4.57,
           5,
           4.48,
           1.48,
           1.48,
           0,
           null
          ],
          [
           3.71,
           4,
           4.67,
           5.1,
           5.1,
           4.76,
           0
          ]
         ],
         "zmax": 6.1,
         "zmin": 0.5
        },
        {
         "colorbar": {
          "thickness": 10,
          "ticks": "outside"
         },
         "colorscale": [
          [
           0,
           "rgb(165,0,38)"
          ],
          [
           0.1,
           "rgb(215,48,39)"
          ],
          [
           0.2,
           "rgb(244,109,67)"
          ],
          [
           0.3,
           "rgb(253,174,97)"
          ],
          [
           0.4,
           "rgb(254,224,139)"
          ],
          [
           0.5,
           "rgb(255,255,191)"
          ],
          [
           0.6,
           "rgb(217,239,139)"
          ],
          [
           0.7,
           "rgb(166,217,106)"
          ],
          [
           0.8,
           "rgb(102,189,99)"
          ],
          [
           0.9,
           "rgb(26,152,80)"
          ],
          [
           1,
           "rgb(0,104,55)"
          ]
         ],
         "reversescale": true,
         "texttemplate": "%{z}",
         "type": "heatmap",
         "x": [
          "Local Lipschitz Est.",
          "Max Sensitivity",
          "Continuity",
          "Rel. Input Stab.",
          "Rel. Output Stab.",
          "Rel. Repr. Stab.",
          "Infidelity"
         ],
         "xaxis": "x6",
         "y": [
          "Local Lipschitz Est.",
          "Max Sensitivity",
          "Continuity",
          "Rel. Input Stab.",
          "Rel. Output Stab.",
          "Rel. Repr. Stab.",
          "Infidelity"
         ],
         "yaxis": "y6",
         "z": [
          [
           0,
           null,
           null,
           null,
           null,
           null,
           null
          ],
          [
           1.38,
           0,
           null,
           null,
           null,
           null,
           null
          ],
          [
           4.38,
           3.86,
           0,
           null,
           null,
           null,
           null
          ],
          [
           4.52,
           4.67,
           4.71,
           0,
           null,
           null,
           null
          ],
          [
           4.52,
           4.71,
           4.57,
           0.48,
           0,
           null,
           null
          ],
          [
           4.38,
           4.62,
           4.52,
           0.43,
           0.57,
           0,
           null
          ],
          [
           4.43,
           4.81,
           3.81,
           3.81,
           3.76,
           3.9,
           0
          ]
         ],
         "zmax": 6.1,
         "zmin": 0.5
        }
       ],
       "layout": {
        "annotations": [
         {
          "font": {
           "size": 16
          },
          "showarrow": false,
          "text": "ResNet50",
          "x": 0,
          "xanchor": "left",
          "xref": "paper",
          "y": 1,
          "yanchor": "bottom",
          "yref": "paper"
         },
         {
          "font": {
           "size": 16
          },
          "showarrow": false,
          "text": "EfficientNetb0",
          "x": 0.35555555555555557,
          "xanchor": "left",
          "xref": "paper",
          "y": 1,
          "yanchor": "bottom",
          "yref": "paper"
         },
         {
          "font": {
           "size": 16
          },
          "showarrow": false,
          "text": "DeiT ViT",
          "x": 0.7111111111111111,
          "xanchor": "left",
          "xref": "paper",
          "y": 1,
          "yanchor": "bottom",
          "yref": "paper"
         },
         {
          "font": {
           "size": 16
          },
          "showarrow": false,
          "text": "ResNet50",
          "x": 0,
          "xanchor": "left",
          "xref": "paper",
          "y": 0.375,
          "yanchor": "bottom",
          "yref": "paper"
         },
         {
          "font": {
           "size": 16
          },
          "showarrow": false,
          "text": "EfficientNetb0",
          "x": 0.35555555555555557,
          "xanchor": "left",
          "xref": "paper",
          "y": 0.375,
          "yanchor": "bottom",
          "yref": "paper"
         },
         {
          "font": {
           "size": 16
          },
          "showarrow": false,
          "text": "DeiT ViT",
          "x": 0.7111111111111111,
          "xanchor": "left",
          "xref": "paper",
          "y": 0.375,
          "yanchor": "bottom",
          "yref": "paper"
         }
        ],
        "font": {
         "color": "#000000",
         "family": "Helvetica",
         "size": 13
        },
        "height": 800,
        "template": {
         "data": {
          "bar": [
           {
            "error_x": {
             "color": "#2a3f5f"
            },
            "error_y": {
             "color": "#2a3f5f"
            },
            "marker": {
             "line": {
              "color": "white",
              "width": 0.5
             },
             "pattern": {
              "fillmode": "overlay",
              "size": 10,
              "solidity": 0.2
             }
            },
            "type": "bar"
           }
          ],
          "barpolar": [
           {
            "marker": {
             "line": {
              "color": "white",
              "width": 0.5
             },
             "pattern": {
              "fillmode": "overlay",
              "size": 10,
              "solidity": 0.2
             }
            },
            "type": "barpolar"
           }
          ],
          "carpet": [
           {
            "aaxis": {
             "endlinecolor": "#2a3f5f",
             "gridcolor": "#C8D4E3",
             "linecolor": "#C8D4E3",
             "minorgridcolor": "#C8D4E3",
             "startlinecolor": "#2a3f5f"
            },
            "baxis": {
             "endlinecolor": "#2a3f5f",
             "gridcolor": "#C8D4E3",
             "linecolor": "#C8D4E3",
             "minorgridcolor": "#C8D4E3",
             "startlinecolor": "#2a3f5f"
            },
            "type": "carpet"
           }
          ],
          "choropleth": [
           {
            "colorbar": {
             "outlinewidth": 0,
             "ticks": ""
            },
            "type": "choropleth"
           }
          ],
          "contour": [
           {
            "colorbar": {
             "outlinewidth": 0,
             "ticks": ""
            },
            "colorscale": [
             [
              0,
              "#0d0887"
             ],
             [
              0.1111111111111111,
              "#46039f"
             ],
             [
              0.2222222222222222,
              "#7201a8"
             ],
             [
              0.3333333333333333,
              "#9c179e"
             ],
             [
              0.4444444444444444,
              "#bd3786"
             ],
             [
              0.5555555555555556,
              "#d8576b"
             ],
             [
              0.6666666666666666,
              "#ed7953"
             ],
             [
              0.7777777777777778,
              "#fb9f3a"
             ],
             [
              0.8888888888888888,
              "#fdca26"
             ],
             [
              1,
              "#f0f921"
             ]
            ],
            "type": "contour"
           }
          ],
          "contourcarpet": [
           {
            "colorbar": {
             "outlinewidth": 0,
             "ticks": ""
            },
            "type": "contourcarpet"
           }
          ],
          "heatmap": [
           {
            "colorbar": {
             "outlinewidth": 0,
             "ticks": ""
            },
            "colorscale": [
             [
              0,
              "#0d0887"
             ],
             [
              0.1111111111111111,
              "#46039f"
             ],
             [
              0.2222222222222222,
              "#7201a8"
             ],
             [
              0.3333333333333333,
              "#9c179e"
             ],
             [
              0.4444444444444444,
              "#bd3786"
             ],
             [
              0.5555555555555556,
              "#d8576b"
             ],
             [
              0.6666666666666666,
              "#ed7953"
             ],
             [
              0.7777777777777778,
              "#fb9f3a"
             ],
             [
              0.8888888888888888,
              "#fdca26"
             ],
             [
              1,
              "#f0f921"
             ]
            ],
            "type": "heatmap"
           }
          ],
          "heatmapgl": [
           {
            "colorbar": {
             "outlinewidth": 0,
             "ticks": ""
            },
            "colorscale": [
             [
              0,
              "#0d0887"
             ],
             [
              0.1111111111111111,
              "#46039f"
             ],
             [
              0.2222222222222222,
              "#7201a8"
             ],
             [
              0.3333333333333333,
              "#9c179e"
             ],
             [
              0.4444444444444444,
              "#bd3786"
             ],
             [
              0.5555555555555556,
              "#d8576b"
             ],
             [
              0.6666666666666666,
              "#ed7953"
             ],
             [
              0.7777777777777778,
              "#fb9f3a"
             ],
             [
              0.8888888888888888,
              "#fdca26"
             ],
             [
              1,
              "#f0f921"
             ]
            ],
            "type": "heatmapgl"
           }
          ],
          "histogram": [
           {
            "marker": {
             "pattern": {
              "fillmode": "overlay",
              "size": 10,
              "solidity": 0.2
             }
            },
            "type": "histogram"
           }
          ],
          "histogram2d": [
           {
            "colorbar": {
             "outlinewidth": 0,
             "ticks": ""
            },
            "colorscale": [
             [
              0,
              "#0d0887"
             ],
             [
              0.1111111111111111,
              "#46039f"
             ],
             [
              0.2222222222222222,
              "#7201a8"
             ],
             [
              0.3333333333333333,
              "#9c179e"
             ],
             [
              0.4444444444444444,
              "#bd3786"
             ],
             [
              0.5555555555555556,
              "#d8576b"
             ],
             [
              0.6666666666666666,
              "#ed7953"
             ],
             [
              0.7777777777777778,
              "#fb9f3a"
             ],
             [
              0.8888888888888888,
              "#fdca26"
             ],
             [
              1,
              "#f0f921"
             ]
            ],
            "type": "histogram2d"
           }
          ],
          "histogram2dcontour": [
           {
            "colorbar": {
             "outlinewidth": 0,
             "ticks": ""
            },
            "colorscale": [
             [
              0,
              "#0d0887"
             ],
             [
              0.1111111111111111,
              "#46039f"
             ],
             [
              0.2222222222222222,
              "#7201a8"
             ],
             [
              0.3333333333333333,
              "#9c179e"
             ],
             [
              0.4444444444444444,
              "#bd3786"
             ],
             [
              0.5555555555555556,
              "#d8576b"
             ],
             [
              0.6666666666666666,
              "#ed7953"
             ],
             [
              0.7777777777777778,
              "#fb9f3a"
             ],
             [
              0.8888888888888888,
              "#fdca26"
             ],
             [
              1,
              "#f0f921"
             ]
            ],
            "type": "histogram2dcontour"
           }
          ],
          "mesh3d": [
           {
            "colorbar": {
             "outlinewidth": 0,
             "ticks": ""
            },
            "type": "mesh3d"
           }
          ],
          "parcoords": [
           {
            "line": {
             "colorbar": {
              "outlinewidth": 0,
              "ticks": ""
             }
            },
            "type": "parcoords"
           }
          ],
          "pie": [
           {
            "automargin": true,
            "type": "pie"
           }
          ],
          "scatter": [
           {
            "fillpattern": {
             "fillmode": "overlay",
             "size": 10,
             "solidity": 0.2
            },
            "type": "scatter"
           }
          ],
          "scatter3d": [
           {
            "line": {
             "colorbar": {
              "outlinewidth": 0,
              "ticks": ""
             }
            },
            "marker": {
             "colorbar": {
              "outlinewidth": 0,
              "ticks": ""
             }
            },
            "type": "scatter3d"
           }
          ],
          "scattercarpet": [
           {
            "marker": {
             "colorbar": {
              "outlinewidth": 0,
              "ticks": ""
             }
            },
            "type": "scattercarpet"
           }
          ],
          "scattergeo": [
           {
            "marker": {
             "colorbar": {
              "outlinewidth": 0,
              "ticks": ""
             }
            },
            "type": "scattergeo"
           }
          ],
          "scattergl": [
           {
            "marker": {
             "colorbar": {
              "outlinewidth": 0,
              "ticks": ""
             }
            },
            "type": "scattergl"
           }
          ],
          "scattermapbox": [
           {
            "marker": {
             "colorbar": {
              "outlinewidth": 0,
              "ticks": ""
             }
            },
            "type": "scattermapbox"
           }
          ],
          "scatterpolar": [
           {
            "marker": {
             "colorbar": {
              "outlinewidth": 0,
              "ticks": ""
             }
            },
            "type": "scatterpolar"
           }
          ],
          "scatterpolargl": [
           {
            "marker": {
             "colorbar": {
              "outlinewidth": 0,
              "ticks": ""
             }
            },
            "type": "scatterpolargl"
           }
          ],
          "scatterternary": [
           {
            "marker": {
             "colorbar": {
              "outlinewidth": 0,
              "ticks": ""
             }
            },
            "type": "scatterternary"
           }
          ],
          "surface": [
           {
            "colorbar": {
             "outlinewidth": 0,
             "ticks": ""
            },
            "colorscale": [
             [
              0,
              "#0d0887"
             ],
             [
              0.1111111111111111,
              "#46039f"
             ],
             [
              0.2222222222222222,
              "#7201a8"
             ],
             [
              0.3333333333333333,
              "#9c179e"
             ],
             [
              0.4444444444444444,
              "#bd3786"
             ],
             [
              0.5555555555555556,
              "#d8576b"
             ],
             [
              0.6666666666666666,
              "#ed7953"
             ],
             [
              0.7777777777777778,
              "#fb9f3a"
             ],
             [
              0.8888888888888888,
              "#fdca26"
             ],
             [
              1,
              "#f0f921"
             ]
            ],
            "type": "surface"
           }
          ],
          "table": [
           {
            "cells": {
             "fill": {
              "color": "#EBF0F8"
             },
             "line": {
              "color": "white"
             }
            },
            "header": {
             "fill": {
              "color": "#C8D4E3"
             },
             "line": {
              "color": "white"
             }
            },
            "type": "table"
           }
          ]
         },
         "layout": {
          "annotationdefaults": {
           "arrowcolor": "#2a3f5f",
           "arrowhead": 0,
           "arrowwidth": 1
          },
          "autotypenumbers": "strict",
          "coloraxis": {
           "colorbar": {
            "outlinewidth": 0,
            "ticks": ""
           }
          },
          "colorscale": {
           "diverging": [
            [
             0,
             "#8e0152"
            ],
            [
             0.1,
             "#c51b7d"
            ],
            [
             0.2,
             "#de77ae"
            ],
            [
             0.3,
             "#f1b6da"
            ],
            [
             0.4,
             "#fde0ef"
            ],
            [
             0.5,
             "#f7f7f7"
            ],
            [
             0.6,
             "#e6f5d0"
            ],
            [
             0.7,
             "#b8e186"
            ],
            [
             0.8,
             "#7fbc41"
            ],
            [
             0.9,
             "#4d9221"
            ],
            [
             1,
             "#276419"
            ]
           ],
           "sequential": [
            [
             0,
             "#0d0887"
            ],
            [
             0.1111111111111111,
             "#46039f"
            ],
            [
             0.2222222222222222,
             "#7201a8"
            ],
            [
             0.3333333333333333,
             "#9c179e"
            ],
            [
             0.4444444444444444,
             "#bd3786"
            ],
            [
             0.5555555555555556,
             "#d8576b"
            ],
            [
             0.6666666666666666,
             "#ed7953"
            ],
            [
             0.7777777777777778,
             "#fb9f3a"
            ],
            [
             0.8888888888888888,
             "#fdca26"
            ],
            [
             1,
             "#f0f921"
            ]
           ],
           "sequentialminus": [
            [
             0,
             "#0d0887"
            ],
            [
             0.1111111111111111,
             "#46039f"
            ],
            [
             0.2222222222222222,
             "#7201a8"
            ],
            [
             0.3333333333333333,
             "#9c179e"
            ],
            [
             0.4444444444444444,
             "#bd3786"
            ],
            [
             0.5555555555555556,
             "#d8576b"
            ],
            [
             0.6666666666666666,
             "#ed7953"
            ],
            [
             0.7777777777777778,
             "#fb9f3a"
            ],
            [
             0.8888888888888888,
             "#fdca26"
            ],
            [
             1,
             "#f0f921"
            ]
           ]
          },
          "colorway": [
           "#636efa",
           "#EF553B",
           "#00cc96",
           "#ab63fa",
           "#FFA15A",
           "#19d3f3",
           "#FF6692",
           "#B6E880",
           "#FF97FF",
           "#FECB52"
          ],
          "font": {
           "color": "#2a3f5f"
          },
          "geo": {
           "bgcolor": "white",
           "lakecolor": "white",
           "landcolor": "white",
           "showlakes": true,
           "showland": true,
           "subunitcolor": "#C8D4E3"
          },
          "hoverlabel": {
           "align": "left"
          },
          "hovermode": "closest",
          "mapbox": {
           "style": "light"
          },
          "paper_bgcolor": "white",
          "plot_bgcolor": "white",
          "polar": {
           "angularaxis": {
            "gridcolor": "#EBF0F8",
            "linecolor": "#EBF0F8",
            "ticks": ""
           },
           "bgcolor": "white",
           "radialaxis": {
            "gridcolor": "#EBF0F8",
            "linecolor": "#EBF0F8",
            "ticks": ""
           }
          },
          "scene": {
           "xaxis": {
            "backgroundcolor": "white",
            "gridcolor": "#DFE8F3",
            "gridwidth": 2,
            "linecolor": "#EBF0F8",
            "showbackground": true,
            "ticks": "",
            "zerolinecolor": "#EBF0F8"
           },
           "yaxis": {
            "backgroundcolor": "white",
            "gridcolor": "#DFE8F3",
            "gridwidth": 2,
            "linecolor": "#EBF0F8",
            "showbackground": true,
            "ticks": "",
            "zerolinecolor": "#EBF0F8"
           },
           "zaxis": {
            "backgroundcolor": "white",
            "gridcolor": "#DFE8F3",
            "gridwidth": 2,
            "linecolor": "#EBF0F8",
            "showbackground": true,
            "ticks": "",
            "zerolinecolor": "#EBF0F8"
           }
          },
          "shapedefaults": {
           "line": {
            "color": "#2a3f5f"
           }
          },
          "ternary": {
           "aaxis": {
            "gridcolor": "#DFE8F3",
            "linecolor": "#A2B1C6",
            "ticks": ""
           },
           "baxis": {
            "gridcolor": "#DFE8F3",
            "linecolor": "#A2B1C6",
            "ticks": ""
           },
           "bgcolor": "white",
           "caxis": {
            "gridcolor": "#DFE8F3",
            "linecolor": "#A2B1C6",
            "ticks": ""
           }
          },
          "title": {
           "x": 0.05
          },
          "xaxis": {
           "automargin": true,
           "gridcolor": "#EBF0F8",
           "linecolor": "#EBF0F8",
           "ticks": "",
           "title": {
            "standoff": 15
           },
           "zerolinecolor": "#EBF0F8",
           "zerolinewidth": 2
          },
          "yaxis": {
           "automargin": true,
           "gridcolor": "#EBF0F8",
           "linecolor": "#EBF0F8",
           "ticks": "",
           "title": {
            "standoff": 15
           },
           "zerolinecolor": "#EBF0F8",
           "zerolinewidth": 2
          }
         }
        },
        "title": {
         "font": {
          "color": "#000000",
          "family": "Helvetica",
          "size": 14
         }
        },
        "width": 1600,
        "xaxis": {
         "anchor": "y",
         "domain": [
          0,
          0.2888888888888889
         ]
        },
        "xaxis2": {
         "anchor": "y2",
         "domain": [
          0.35555555555555557,
          0.6444444444444445
         ]
        },
        "xaxis3": {
         "anchor": "y3",
         "domain": [
          0.7111111111111111,
          1
         ]
        },
        "xaxis4": {
         "anchor": "y4",
         "domain": [
          0,
          0.2888888888888889
         ]
        },
        "xaxis5": {
         "anchor": "y5",
         "domain": [
          0.35555555555555557,
          0.6444444444444445
         ]
        },
        "xaxis6": {
         "anchor": "y6",
         "domain": [
          0.7111111111111111,
          1
         ]
        },
        "yaxis": {
         "anchor": "x",
         "domain": [
          0.625,
          1
         ],
         "showgrid": false,
         "title": {
          "text": "Faithfulness Metrics"
         }
        },
        "yaxis2": {
         "anchor": "x2",
         "domain": [
          0.625,
          1
         ],
         "showgrid": false
        },
        "yaxis3": {
         "anchor": "x3",
         "domain": [
          0.625,
          1
         ],
         "showgrid": false
        },
        "yaxis4": {
         "anchor": "x4",
         "domain": [
          0,
          0.375
         ],
         "showgrid": false,
         "title": {
          "text": "Robustness Metrics"
         }
        },
        "yaxis5": {
         "anchor": "x5",
         "domain": [
          0,
          0.375
         ],
         "showgrid": false
        },
        "yaxis6": {
         "anchor": "x6",
         "domain": [
          0,
          0.375
         ],
         "showgrid": false
        }
       }
      }
     },
     "metadata": {},
     "output_type": "display_data"
    }
   ],
   "source": [
    "import plotly.graph_objects as go\n",
    "import plotly.express as px\n",
    "\n",
    "colors = px.colors.qualitative.G10\n",
    "\n",
    "fig = make_subplots(\n",
    "    rows=2,\n",
    "    cols=3,\n",
    "    subplot_titles=[\"ResNet50\",\"EfficientNetb0\",\"DeiT ViT\", \"ResNet50\",\"EfficientNetb0\",\"DeiT ViT\"],\n",
    "    #column_widths=[0.7, 0.3],\n",
    ")\n",
    "\n",
    "for i in range(3):\n",
    "    fig.add_trace(\n",
    "        go.Heatmap(\n",
    "            z=[dist_faith_resnet50,dist_faith_effnetb0,dist_faith_vit][i],\n",
    "            x=metrics_faith,\n",
    "            y=metrics_faith,\n",
    "            texttemplate=\"%{z}\",\n",
    "            colorscale=\"RdYlGn\",\n",
    "            reversescale=True,\n",
    "            zmin=0.5,\n",
    "            zmax=6.1,\n",
    "            colorbar=dict(ticks=\"outside\", thickness=10),\n",
    "        ),\n",
    "        col = i + 1,\n",
    "        row = 1\n",
    "\n",
    "    )\n",
    "\n",
    "for i in range(3):\n",
    "    fig.add_trace(\n",
    "        go.Heatmap(\n",
    "            z=[dist_robust_resnet50,dist_robust_effnetb0,dist_robust_vit][i],\n",
    "            x=metrics_robust,\n",
    "            y=metrics_robust,\n",
    "            texttemplate=\"%{z}\",\n",
    "            colorscale=\"RdYlGn\",\n",
    "            reversescale=True,\n",
    "            zmin=0.5,\n",
    "            zmax=6.1,\n",
    "            colorbar=dict(ticks=\"outside\", thickness=10),\n",
    "        ),\n",
    "        col = i + 1,\n",
    "        row = 2\n",
    "\n",
    "    )\n",
    "\n",
    "fig.update_yaxes(showgrid=False)\n",
    "fig.update_yaxes(title =\"Faithfulness Metrics\",row = 1, col = 1)\n",
    "fig.update_yaxes(title =\"Robustness Metrics\",row = 2, col = 1)\n",
    "\n",
    "fig.update_layout(\n",
    "    font=dict(family=\"Helvetica\", color=\"#000000\", size=13),\n",
    "    template=\"plotly_white\",\n",
    "    height=800,\n",
    "    width=1600,\n",
    "    title_font=dict(\n",
    "        family=\"Helvetica\",\n",
    "        color=\"#000000\",\n",
    "        size= 14\n",
    "    ),\n",
    ")\n",
    "\n",
    "fig = left_align_facet_plot_titles(fig)\n",
    "\n",
    "fig.write_image(os.getcwd().split(\"src\")[0] + \"data/figures/meta_eval_dist.png\", scale=3)\n",
    "fig.show()"
   ]
  }
 ],
 "metadata": {
  "kernelspec": {
   "display_name": "xai-eval",
   "language": "python",
   "name": "python3"
  },
  "language_info": {
   "codemirror_mode": {
    "name": "ipython",
    "version": 3
   },
   "file_extension": ".py",
   "mimetype": "text/x-python",
   "name": "python",
   "nbconvert_exporter": "python",
   "pygments_lexer": "ipython3",
   "version": "3.9.16"
  }
 },
 "nbformat": 4,
 "nbformat_minor": 2
}
